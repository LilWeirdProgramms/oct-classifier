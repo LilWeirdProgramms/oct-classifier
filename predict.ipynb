{
 "cells": [
  {
   "cell_type": "code",
   "execution_count": 54,
   "outputs": [
    {
     "name": "stdout",
     "output_type": "stream",
     "text": [
      "WARNING:tensorflow:AutoGraph could not transform <function BinaryReader.create_dataset.<locals>.<lambda> at 0x7f54486b73a0> and will run it as-is.\n",
      "Please report this to the TensorFlow team. When filing the bug, set the verbosity to 10 (on Linux, `export AUTOGRAPH_VERBOSITY=10`) and attach the full output.\n",
      "Cause: module 'gast' has no attribute 'Index'\n",
      "To silence this warning, decorate the function with @tf.autograph.experimental.do_not_convert\n",
      "WARNING: AutoGraph could not transform <function BinaryReader.create_dataset.<locals>.<lambda> at 0x7f54486b73a0> and will run it as-is.\n",
      "Please report this to the TensorFlow team. When filing the bug, set the verbosity to 10 (on Linux, `export AUTOGRAPH_VERBOSITY=10`) and attach the full output.\n",
      "Cause: module 'gast' has no attribute 'Index'\n",
      "To silence this warning, decorate the function with @tf.autograph.experimental.do_not_convert\n"
     ]
    },
    {
     "data": {
      "text/plain": "('/mnt/p_Zeiss/Projects/UWF OCTA/Clinical data/MOON1/D108/rechts/raw_1536x2048x2045x2_20962.bin',\n 1)"
     },
     "execution_count": 54,
     "metadata": {},
     "output_type": "execute_result"
    }
   ],
   "source": [
    "import matplotlib.pyplot as plt\n",
    "import numpy as np\n",
    "\n",
    "import InputList\n",
    "import BinaryReader\n",
    "import Preprocessor\n",
    "import tensorflow as tf\n",
    "import models\n",
    "from importlib import reload\n",
    "\n",
    "prediction_file = InputList.diabetic_training_files[2]\n",
    "\n",
    "reload(InputList)\n",
    "reader = BinaryReader.BinaryReader()\n",
    "test_dataset = reader.create_test_dataset([prediction_file])\n",
    "preprocessor = Preprocessor.Preprocessor(test_dataset)\n",
    "print(prediction_file)\n",
    "for sample in test_dataset.take(3):\n",
    "    print(sample[1])"
   ],
   "metadata": {
    "collapsed": false,
    "pycharm": {
     "name": "#%%\n"
    }
   }
  },
  {
   "cell_type": "code",
   "execution_count": 57,
   "outputs": [
    {
     "name": "stdout",
     "output_type": "stream",
     "text": [
      "100/100 [==============================] - 384s 4s/step\n"
     ]
    }
   ],
   "source": [
    "with tf.device('/gpu:0'):\n",
    "    model = tf.keras.models.load_model(\"savedModels/first_with_all_data\")\n",
    "    output_test_diabetic_4 = model.predict(\n",
    "        test_dataset.batch(4),\n",
    "        verbose = 1,\n",
    "        use_multiprocessing=True\n",
    "    )"
   ],
   "metadata": {
    "collapsed": false,
    "pycharm": {
     "name": "#%%\n"
    }
   }
  },
  {
   "cell_type": "code",
   "execution_count": null,
   "outputs": [],
   "source": [
    "with tf.device('/gpu:0'):\n",
    "    normalization_layer = preprocessor.normalize_layer()\n",
    "    model = models.RawClassifier().model()(test_dataset.element_spec[0].shape, normalization_layer, reconstruction=False)\n",
    "\n",
    "    model.load_weights('checkpoints/best_model')\n",
    "    output_test = model.predict(\n",
    "        test_dataset.batch(4),\n",
    "        verbose = 1,\n",
    "        use_multiprocessing=True\n",
    "    )"
   ],
   "metadata": {
    "collapsed": false,
    "pycharm": {
     "name": "#%%\n"
    }
   }
  },
  {
   "cell_type": "code",
   "execution_count": 70,
   "outputs": [
    {
     "data": {
      "text/plain": "<matplotlib.image.AxesImage at 0x7f53d863bd60>"
     },
     "execution_count": 70,
     "metadata": {},
     "output_type": "execute_result"
    },
    {
     "data": {
      "text/plain": "<Figure size 1440x720 with 1 Axes>",
      "image/png": "[encoded data removed]"
     },
     "metadata": {
      "needs_background": "light"
     },
     "output_type": "display_data"
    }
   ],
   "source": [
    "fig = plt.figure(figsize=(20, 10))\n",
    "plt.imshow(output_test_diabetic_4.reshape((20, 20)), cmap=\"plasma\")"
   ],
   "metadata": {
    "collapsed": false,
    "pycharm": {
     "name": "#%%\n"
    }
   }
  },
  {
   "cell_type": "code",
   "execution_count": 69,
   "outputs": [],
   "source": [
    "import Visualization\n",
    "reload(Visualization)\n",
    "vsz = Visualization.ImageVisualizer(output_test_diabetic_4, instance_size=(102, 102, 20, 20), background_image_path=\n",
    "                                Visualization.ImageVisualizer.raw_path_to_image(prediction_file[0]))\n",
    "vsz.plot_results_map(name=\"diabetic_test_full_data\")"
   ],
   "metadata": {
    "collapsed": false,
    "pycharm": {
     "name": "#%%\n"
    }
   }
  },
  {
   "cell_type": "code",
   "execution_count": 75,
   "outputs": [
    {
     "data": {
      "text/plain": "[<matplotlib.lines.Line2D at 0x7f5468027d00>]"
     },
     "execution_count": 75,
     "metadata": {},
     "output_type": "execute_result"
    },
    {
     "data": {
      "text/plain": "<Figure size 432x288 with 1 Axes>",
      "image/png": "[encoded data removed]"
     },
     "metadata": {
      "needs_background": "light"
     },
     "output_type": "display_data"
    }
   ],
   "source": [
    "import matplotlib.pyplot as plt\n",
    "plt.plot(model.layers[-1].get_weights()[0].flatten())"
   ],
   "metadata": {
    "collapsed": false,
    "pycharm": {
     "name": "#%%\n"
    }
   }
  },
  {
   "cell_type": "code",
   "execution_count": null,
   "outputs": [],
   "source": [],
   "metadata": {
    "collapsed": false,
    "pycharm": {
     "name": "#%%\n"
    }
   }
  }
 ],
 "metadata": {
  "kernelspec": {
   "display_name": "Python 3",
   "language": "python",
   "name": "python3"
  },
  "language_info": {
   "codemirror_mode": {
    "name": "ipython",
    "version": 2
   },
   "file_extension": ".py",
   "mimetype": "text/x-python",
   "name": "python",
   "nbconvert_exporter": "python",
   "pygments_lexer": "ipython2",
   "version": "2.7.6"
  }
 },
 "nbformat": 4,
 "nbformat_minor": 0
}