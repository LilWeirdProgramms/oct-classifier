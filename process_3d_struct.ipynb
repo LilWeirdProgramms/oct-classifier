{
 "cells": [
  {
   "cell_type": "code",
   "execution_count": null,
   "metadata": {
    "collapsed": true
   },
   "outputs": [],
   "source": [
    "path = \"/mnt/p_Zeiss/Projects/UWF OCTA/Clinical data/MOON1/H11/rechts/struc_1536x2048x2044x2_7313.bin\"\n",
    "import numpy as np\n",
    "import os\n",
    "import matplotlib.pyplot as plt"
   ]
  },
  {
   "cell_type": "code",
   "execution_count": null,
   "outputs": [],
   "source": [
    "b_scan = np.zeros((1536, 2044))\n",
    "i = 1000\n",
    "with open(path, \"rb\") as f:\n",
    "    index = (i * 2048 * 1536)\n",
    "    f.seek(index, os.SEEK_SET)\n",
    "    for b_index in range(2048):  # TODO: Make 2 explicit\n",
    "        read_from_file = np.fromfile(f, dtype=np.dtype('<u1'), count=1536)\n",
    "        b_scan[:, b_index] = read_from_file\n",
    "plt.figure(figsize=(18, 18))\n",
    "plt.imshow(b_scan, cmap=\"Greys\")"
   ],
   "metadata": {
    "collapsed": false,
    "pycharm": {
     "name": "#%%\n"
    }
   }
  },
  {
   "cell_type": "code",
   "execution_count": null,
   "outputs": [],
   "source": [
    "b_scan = np.zeros((1536, 2048, num := 5))\n",
    "i = 990\n",
    "with open(path, \"rb\") as f:\n",
    "    index = (i * 2048 * 1536)\n",
    "    f.seek(index, os.SEEK_SET)\n",
    "    for num_b_scan in range(num):\n",
    "        for b_index in range(2048):  # TODO: Make 2 explicit\n",
    "            read_from_file = np.fromfile(f, dtype=np.dtype('<u1'), count=1536)\n",
    "            b_scan[:, b_index, num_b_scan] = read_from_file\n",
    "b_scan_ave = np.mean(b_scan, axis=2)\n",
    "plt.figure(figsize=(18, 18))\n",
    "plt.imshow(b_scan_ave, cmap=\"Greys\")"
   ],
   "metadata": {
    "collapsed": false,
    "pycharm": {
     "name": "#%%\n"
    }
   }
  },
  {
   "cell_type": "code",
   "execution_count": null,
   "outputs": [],
   "source": [
    "image = np.zeros((2048, 2044))\n",
    "i = 1018\n",
    "with open(path, \"rb\") as f:\n",
    "    for c_index in range(2044):\n",
    "        for b_index in range(2048):  # TODO: Make 2 explicit\n",
    "            read_from_file = np.fromfile(f, dtype=np.dtype('<u1'), count=1536)\n",
    "            image[b_index, c_index] = np.mean(read_from_file)\n",
    "plt.figure(figsize=(18, 18))\n",
    "plt.imshow(image, cmap=\"Greys\")"
   ],
   "metadata": {
    "collapsed": false,
    "pycharm": {
     "name": "#%%\n"
    }
   }
  }
 ],
 "metadata": {
  "kernelspec": {
   "display_name": "Python 3",
   "language": "python",
   "name": "python3"
  },
  "language_info": {
   "codemirror_mode": {
    "name": "ipython",
    "version": 2
   },
   "file_extension": ".py",
   "mimetype": "text/x-python",
   "name": "python",
   "nbconvert_exporter": "python",
   "pygments_lexer": "ipython2",
   "version": "2.7.6"
  }
 },
 "nbformat": 4,
 "nbformat_minor": 0
}