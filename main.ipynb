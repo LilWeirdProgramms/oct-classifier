{
 "cells": [
  {
   "cell_type": "code",
   "execution_count": 2,
   "metadata": {
    "collapsed": true,
    "pycharm": {
     "name": "#%%\n"
    }
   },
   "outputs": [
    {
     "name": "stderr",
     "output_type": "stream",
     "text": [
      "2022-02-14 10:37:32.221924: I tensorflow/stream_executor/platform/default/dso_loader.cc:49] Successfully opened dynamic library libcudart.so.10.1\n",
      "2022-02-14 10:37:33.721823: I tensorflow/core/profiler/lib/profiler_session.cc:136] Profiler session initializing.\n",
      "2022-02-14 10:37:33.721841: I tensorflow/core/profiler/lib/profiler_session.cc:155] Profiler session started.\n",
      "2022-02-14 10:37:33.722137: W tensorflow/stream_executor/platform/default/dso_loader.cc:60] Could not load dynamic library 'libcuda.so.1'; dlerror: libcuda.so.1: cannot open shared object file: No such file or directory\n",
      "2022-02-14 10:37:33.722160: I tensorflow/core/profiler/lib/profiler_session.cc:172] Profiler session tear down.\n",
      "2022-02-14 10:37:33.722518: I tensorflow/core/profiler/lib/profiler_session.cc:136] Profiler session initializing.\n",
      "2022-02-14 10:37:33.722525: I tensorflow/core/profiler/lib/profiler_session.cc:155] Profiler session started.\n",
      "2022-02-14 10:37:33.722535: I tensorflow/core/profiler/lib/profiler_session.cc:172] Profiler session tear down.\n"
     ]
    }
   ],
   "source": [
    "import numpy\n",
    "import numpy as np\n",
    "import tensorflow.keras as keras\n",
    "import tensorflow as tf\n",
    "from importlib import reload\n",
    "import InputList\n",
    "import BinaryReader\n",
    "import Preprocessor\n",
    "import models\n",
    "import Callbacks"
   ]
  },
  {
   "cell_type": "code",
   "execution_count": 71,
   "outputs": [
    {
     "data": {
      "text/plain": "<module 'BinaryReader' from '/home/julius/dataspellprojects/oct-classifier/BinaryReader.py'>"
     },
     "execution_count": 71,
     "metadata": {},
     "output_type": "execute_result"
    }
   ],
   "source": [
    "reload(BinaryReader)"
   ],
   "metadata": {
    "collapsed": false,
    "pycharm": {
     "name": "#%%\n"
    }
   }
  },
  {
   "cell_type": "code",
   "execution_count": 46,
   "outputs": [],
   "source": [
    "import InputListUtils\n",
    "InputListUtils.generate_diabetic_files_list()"
   ],
   "metadata": {
    "collapsed": false,
    "pycharm": {
     "name": "#%%\n"
    }
   }
  },
  {
   "cell_type": "code",
   "execution_count": 47,
   "outputs": [
    {
     "data": {
      "text/plain": "[('/mnt/p_Zeiss/Projects/UWF OCTA/Clinical data/MOON1/D111/rechts/raw_1536x2048x2045x2_11353.bin',\n  0),\n ('/mnt/p_Zeiss/Projects/UWF OCTA/Clinical data/MOON1/D112/links/raw_1536x2048x2045x2_6055.bin',\n  0),\n ('/mnt/p_Zeiss/Projects/UWF OCTA/Clinical data/MOON1/D112/links/raw_1536x2048x2045x2_6656.bin',\n  0),\n ('/mnt/p_Zeiss/Projects/UWF OCTA/Clinical data/MOON1/D112/rechts/raw_1536x2048x2045x2_6316.bin',\n  0),\n ('/mnt/p_Zeiss/Projects/UWF OCTA/Clinical data/MOON1/D113/links/raw_1536x2048x2045x2_30720.bin',\n  0),\n ('/mnt/p_Zeiss/Projects/UWF OCTA/Clinical data/MOON1/D113/links/raw_1536x2048x2045x2_30984.bin',\n  0),\n ('/mnt/p_Zeiss/Projects/UWF OCTA/Clinical data/MOON1/D113/rechts/raw_1536x2048x2045x2_29881.bin',\n  0),\n ('/mnt/p_Zeiss/Projects/UWF OCTA/Clinical data/MOON1/D113/rechts/raw_1536x2048x2045x2_30093.bin',\n  0),\n ('/mnt/p_Zeiss/Projects/UWF OCTA/Clinical data/MOON1/D114/links/raw_1536x2048x2045x2_7489.bin',\n  0),\n ('/mnt/p_Zeiss/Projects/UWF OCTA/Clinical data/MOON1/D114/links/raw_1536x2048x2045x2_7698.bin',\n  0)]"
     },
     "execution_count": 47,
     "metadata": {},
     "output_type": "execute_result"
    }
   ],
   "source": [],
   "metadata": {
    "collapsed": false,
    "pycharm": {
     "name": "#%%\n"
    }
   }
  },
  {
   "cell_type": "markdown",
   "source": [
    "## Make this such that it can be used for prediction and training pipeline"
   ],
   "metadata": {
    "collapsed": false,
    "pycharm": {
     "name": "#%% md\n"
    }
   }
  },
  {
   "cell_type": "code",
   "execution_count": 3,
   "outputs": [
    {
     "name": "stdout",
     "output_type": "stream",
     "text": [
      "Num GPUs Available:  0\n"
     ]
    },
    {
     "name": "stderr",
     "output_type": "stream",
     "text": [
      "2022-02-14 10:37:35.167474: I tensorflow/compiler/jit/xla_cpu_device.cc:41] Not creating XLA devices, tf_xla_enable_xla_devices not set\n",
      "2022-02-14 10:37:35.167506: W tensorflow/stream_executor/cuda/cuda_driver.cc:326] failed call to cuInit: UNKNOWN ERROR (303)\n",
      "2022-02-14 10:37:35.167755: I tensorflow/stream_executor/cuda/cuda_diagnostics.cc:156] kernel driver does not appear to be running on this host (zeissstudent1): /proc/driver/nvidia/version does not exist\n"
     ]
    },
    {
     "name": "stdout",
     "output_type": "stream",
     "text": [
      "[('/mnt/p_Zeiss/Projects/UWF OCTA/Clinical data/MOON1/H3/raw_1536x2048x2045x2_9201.bin', 0), ('/mnt/p_Zeiss/Projects/UWF OCTA/Clinical data/MOON1/H7/rechts/raw_1536x2048x2045x2_9772.bin', 0), ('/mnt/p_Zeiss/Projects/UWF OCTA/Clinical data/MOON1/D93/rechts besser/raw_1536x2048x2045x2_7592.bin', 1), ('/mnt/p_Zeiss/Projects/UWF OCTA/Clinical data/MOON1/D88/links/raw_1536x2048x2045x2_19064.bin', 1)]\n"
     ]
    },
    {
     "name": "stderr",
     "output_type": "stream",
     "text": [
      "2022-02-14 10:37:35.530424: I tensorflow/core/platform/cpu_feature_guard.cc:142] This TensorFlow binary is optimized with oneAPI Deep Neural Network Library (oneDNN) to use the following CPU instructions in performance-critical operations:  SSE4.1 SSE4.2 AVX AVX2 FMA\n",
      "To enable them in other operations, rebuild TensorFlow with the appropriate compiler flags.\n",
      "2022-02-14 10:37:35.532937: I tensorflow/compiler/jit/xla_gpu_device.cc:99] Not creating XLA devices, tf_xla_enable_xla_devices not set\n"
     ]
    }
   ],
   "source": [
    "print(\"Num GPUs Available: \", len(tf.config.list_physical_devices('GPU')))\n",
    "reader = BinaryReader.BinaryReader()  # TODO: Normalizer\n",
    "training_dataset, validation_dataset = reader.create_training_datasets(InputList.training_files)\n",
    "preprocesser = Preprocessor.Preprocessor(training_dataset)"
   ],
   "metadata": {
    "collapsed": false,
    "pycharm": {
     "name": "#%%\n"
    }
   }
  },
  {
   "cell_type": "code",
   "execution_count": 4,
   "outputs": [
    {
     "data": {
      "text/plain": "<PrefetchDataset shapes: ((1536, 23, 28, 1), ()), types: (tf.uint16, tf.uint8)>"
     },
     "execution_count": 4,
     "metadata": {},
     "output_type": "execute_result"
    }
   ],
   "source": [],
   "metadata": {
    "collapsed": false,
    "pycharm": {
     "name": "#%%\n"
    }
   }
  },
  {
   "cell_type": "code",
   "execution_count": 7,
   "outputs": [
    {
     "name": "stdout",
     "output_type": "stream",
     "text": [
      "Creating Normalization Layer:\n"
     ]
    },
    {
     "name": "stderr",
     "output_type": "stream",
     "text": [
      "2022-02-11 21:34:00.858518: I tensorflow/compiler/mlir/mlir_graph_optimization_pass.cc:116] None of the MLIR optimization passes are enabled (registered 2)\n",
      "2022-02-11 21:34:00.881023: I tensorflow/core/platform/profile_utils/cpu_utils.cc:112] CPU Frequency: 2399655000 Hz\n"
     ]
    }
   ],
   "source": [
    "print(\"Creating Normalization Layer:\")\n",
    "normalization_layer = preprocesser.normalize_layer()"
   ],
   "metadata": {
    "collapsed": false,
    "pycharm": {
     "name": "#%%\n"
    }
   }
  },
  {
   "cell_type": "code",
   "execution_count": 8,
   "outputs": [
    {
     "name": "stdout",
     "output_type": "stream",
     "text": [
      "After[32762.3, 4103221.0, 9891840]\n"
     ]
    }
   ],
   "source": [
    "#normalization_weights = normalization_layer.get_weights()\n",
    "#print(\"Before:\" + str(normalization_weights))\n",
    "normalization_weights_path = \"results/normalization.npy\"\n",
    "#np.save(normalization_weights_path, normalization_weights)\n",
    "normalization_layer.set_weights(np.load(normalization_weights_path))\n",
    "print(\"After\" + str(normalization_layer.get_weights()))"
   ],
   "metadata": {
    "collapsed": false,
    "pycharm": {
     "name": "#%%\n"
    }
   }
  },
  {
   "cell_type": "code",
   "execution_count": 52,
   "outputs": [],
   "source": [
    "normalization_layer.set_weights(np.array([32743.002, 5470130.0, 25706913792]))"
   ],
   "metadata": {
    "collapsed": false,
    "pycharm": {
     "name": "#%%\n"
    }
   }
  },
  {
   "cell_type": "code",
   "execution_count": 17,
   "outputs": [
    {
     "name": "stdout",
     "output_type": "stream",
     "text": [
      "Model: \"model_1\"\n",
      "_________________________________________________________________\n",
      "Layer (type)                 Output Shape              Param #   \n",
      "=================================================================\n",
      "input_2 (InputLayer)         [(None, 1536, 102, 102, 1 0         \n",
      "_________________________________________________________________\n",
      "normalization (Normalization (None, 1536, 102, 102, 1) 3         \n",
      "_________________________________________________________________\n",
      "conv3d_4 (Conv3D)            (None, 1536, 102, 102, 64 1792      \n",
      "_________________________________________________________________\n",
      "max_pooling3d_4 (MaxPooling3 (None, 768, 51, 51, 64)   0         \n",
      "_________________________________________________________________\n",
      "conv3d_5 (Conv3D)            (None, 768, 51, 51, 128)  221312    \n",
      "_________________________________________________________________\n",
      "max_pooling3d_5 (MaxPooling3 (None, 384, 25, 25, 128)  0         \n",
      "_________________________________________________________________\n",
      "conv3d_6 (Conv3D)            (None, 384, 25, 25, 192)  663744    \n",
      "_________________________________________________________________\n",
      "max_pooling3d_6 (MaxPooling3 (None, 192, 12, 12, 192)  0         \n",
      "_________________________________________________________________\n",
      "conv3d_7 (Conv3D)            (None, 192, 12, 12, 256)  1327360   \n",
      "_________________________________________________________________\n",
      "max_pooling3d_7 (MaxPooling3 (None, 96, 6, 6, 256)     0         \n",
      "_________________________________________________________________\n",
      "flatten_1 (Flatten)          (None, 884736)            0         \n",
      "_________________________________________________________________\n",
      "dense_1 (Dense)              (None, 1)                 884737    \n",
      "=================================================================\n",
      "Total params: 3,098,948\n",
      "Trainable params: 3,098,945\n",
      "Non-trainable params: 3\n",
      "_________________________________________________________________\n"
     ]
    }
   ],
   "source": [
    "model = models.RawClassifier().model()(training_dataset.element_spec[0].shape, normalization_layer, reconstruction=False)"
   ],
   "metadata": {
    "collapsed": false,
    "pycharm": {
     "name": "#%%\n"
    }
   }
  },
  {
   "cell_type": "code",
   "execution_count": null,
   "outputs": [],
   "source": [
    "models.RawClassifier().model()(normalization_layer)"
   ],
   "metadata": {
    "collapsed": false,
    "pycharm": {
     "name": "#%%\n"
    }
   }
  },
  {
   "cell_type": "code",
   "execution_count": 19,
   "outputs": [
    {
     "name": "stderr",
     "output_type": "stream",
     "text": [
      "2022-02-14 09:07:19.282261: W tensorflow/python/util/util.cc:348] Sets are not currently considered sequences, but this may change in the future, so consider avoiding using them.\n"
     ]
    },
    {
     "name": "stdout",
     "output_type": "stream",
     "text": [
      "INFO:tensorflow:Assets written to: savedModels/second/assets\n"
     ]
    }
   ],
   "source": [
    "model.save('savedModels/second')"
   ],
   "metadata": {
    "collapsed": false,
    "pycharm": {
     "name": "#%%\n"
    }
   }
  },
  {
   "cell_type": "code",
   "execution_count": 18,
   "outputs": [
    {
     "data": {
      "text/plain": "<Figure size 720x576 with 1 Axes>",
      "image/png": "[encoded data removed]"
     },
     "metadata": {
      "needs_background": "light"
     },
     "output_type": "display_data"
    },
    {
     "name": "stdout",
     "output_type": "stream",
     "text": [
      "Epoch 8/30\n",
      "    4/12800 [..............................] - ETA: 9:33:02 - loss: 1.0112 "
     ]
    },
    {
     "name": "stderr",
     "output_type": "stream",
     "text": [
      "2022-02-12 23:21:34.806809: W tensorflow/core/framework/op_kernel.cc:1751] Invalid argument: ValueError: could not broadcast input array from shape (0,) into shape (1536,)\n",
      "Traceback (most recent call last):\n",
      "\n",
      "  File \"/home/juliusmlcaesar/miniconda3/envs/octClassifier/lib/python3.9/site-packages/tensorflow/python/ops/script_ops.py\", line 249, in __call__\n",
      "    ret = func(*args)\n",
      "\n",
      "  File \"/home/juliusmlcaesar/miniconda3/envs/octClassifier/lib/python3.9/site-packages/tensorflow/python/autograph/impl/api.py\", line 620, in wrapper\n",
      "    return func(*args, **kwargs)\n",
      "\n",
      "  File \"/home/juliusmlcaesar/miniconda3/envs/octClassifier/lib/python3.9/site-packages/tensorflow/python/data/ops/dataset_ops.py\", line 891, in generator_py_func\n",
      "    values = next(generator_state.get_iterator(iterator_id))\n",
      "\n",
      "  File \"/home/juliusmlcaesar/PycharmProjects/oct-classifier/BinaryReader.py\", line 72, in instance_from_binaries_generator\n",
      "    yield self._create_instance(f, instance_size), float(label)\n",
      "\n",
      "  File \"/home/juliusmlcaesar/PycharmProjects/oct-classifier/BinaryReader.py\", line 124, in _create_instance\n",
      "    instance[:, b_index, c_index, 0] = np.fromfile(file, dtype=self.data_type, count=instance_size.asize)\n",
      "\n",
      "ValueError: could not broadcast input array from shape (0,) into shape (1536,)\n",
      "\n",
      "\n",
      "2022-02-12 23:21:34.807601: W tensorflow/core/framework/op_kernel.cc:1751] Invalid argument: ValueError: could not broadcast input array from shape (0,) into shape (1536,)\n",
      "Traceback (most recent call last):\n",
      "\n",
      "  File \"/home/juliusmlcaesar/miniconda3/envs/octClassifier/lib/python3.9/site-packages/tensorflow/python/ops/script_ops.py\", line 249, in __call__\n",
      "    ret = func(*args)\n",
      "\n",
      "  File \"/home/juliusmlcaesar/miniconda3/envs/octClassifier/lib/python3.9/site-packages/tensorflow/python/autograph/impl/api.py\", line 620, in wrapper\n",
      "    return func(*args, **kwargs)\n",
      "\n",
      "  File \"/home/juliusmlcaesar/miniconda3/envs/octClassifier/lib/python3.9/site-packages/tensorflow/python/data/ops/dataset_ops.py\", line 891, in generator_py_func\n",
      "    values = next(generator_state.get_iterator(iterator_id))\n",
      "\n",
      "  File \"/home/juliusmlcaesar/PycharmProjects/oct-classifier/BinaryReader.py\", line 72, in instance_from_binaries_generator\n",
      "    yield self._create_instance(f, instance_size), float(label)\n",
      "\n",
      "  File \"/home/juliusmlcaesar/PycharmProjects/oct-classifier/BinaryReader.py\", line 124, in _create_instance\n",
      "    instance[:, b_index, c_index, 0] = np.fromfile(file, dtype=self.data_type, count=instance_size.asize)\n",
      "\n",
      "ValueError: could not broadcast input array from shape (0,) into shape (1536,)\n",
      "\n",
      "\n"
     ]
    },
    {
     "name": "stdout",
     "output_type": "stream",
     "text": [
      "    6/12800 [..............................] - ETA: 10:07:36 - loss: 1.0111"
     ]
    },
    {
     "ename": "InvalidArgumentError",
     "evalue": "2 root error(s) found.\n  (0) Invalid argument:  ValueError: could not broadcast input array from shape (0,) into shape (1536,)\nTraceback (most recent call last):\n\n  File \"/home/juliusmlcaesar/miniconda3/envs/octClassifier/lib/python3.9/site-packages/tensorflow/python/ops/script_ops.py\", line 249, in __call__\n    ret = func(*args)\n\n  File \"/home/juliusmlcaesar/miniconda3/envs/octClassifier/lib/python3.9/site-packages/tensorflow/python/autograph/impl/api.py\", line 620, in wrapper\n    return func(*args, **kwargs)\n\n  File \"/home/juliusmlcaesar/miniconda3/envs/octClassifier/lib/python3.9/site-packages/tensorflow/python/data/ops/dataset_ops.py\", line 891, in generator_py_func\n    values = next(generator_state.get_iterator(iterator_id))\n\n  File \"/home/juliusmlcaesar/PycharmProjects/oct-classifier/BinaryReader.py\", line 72, in instance_from_binaries_generator\n    yield self._create_instance(f, instance_size), float(label)\n\n  File \"/home/juliusmlcaesar/PycharmProjects/oct-classifier/BinaryReader.py\", line 124, in _create_instance\n    instance[:, b_index, c_index, 0] = np.fromfile(file, dtype=self.data_type, count=instance_size.asize)\n\nValueError: could not broadcast input array from shape (0,) into shape (1536,)\n\n\n\t [[{{node PyFunc}}]]\n\t [[IteratorGetNext]]\n  (1) Invalid argument:  ValueError: could not broadcast input array from shape (0,) into shape (1536,)\nTraceback (most recent call last):\n\n  File \"/home/juliusmlcaesar/miniconda3/envs/octClassifier/lib/python3.9/site-packages/tensorflow/python/ops/script_ops.py\", line 249, in __call__\n    ret = func(*args)\n\n  File \"/home/juliusmlcaesar/miniconda3/envs/octClassifier/lib/python3.9/site-packages/tensorflow/python/autograph/impl/api.py\", line 620, in wrapper\n    return func(*args, **kwargs)\n\n  File \"/home/juliusmlcaesar/miniconda3/envs/octClassifier/lib/python3.9/site-packages/tensorflow/python/data/ops/dataset_ops.py\", line 891, in generator_py_func\n    values = next(generator_state.get_iterator(iterator_id))\n\n  File \"/home/juliusmlcaesar/PycharmProjects/oct-classifier/BinaryReader.py\", line 72, in instance_from_binaries_generator\n    yield self._create_instance(f, instance_size), float(label)\n\n  File \"/home/juliusmlcaesar/PycharmProjects/oct-classifier/BinaryReader.py\", line 124, in _create_instance\n    instance[:, b_index, c_index, 0] = np.fromfile(file, dtype=self.data_type, count=instance_size.asize)\n\nValueError: could not broadcast input array from shape (0,) into shape (1536,)\n\n\n\t [[{{node PyFunc}}]]\n\t [[IteratorGetNext]]\n\t [[IteratorGetNext/_4]]\n0 successful operations.\n0 derived errors ignored. [Op:__inference_train_function_2246]\n\nFunction call stack:\ntrain_function -> train_function\n",
     "output_type": "error",
     "traceback": [
      "\u001B[0;31m---------------------------------------------------------------------------\u001B[0m",
      "\u001B[0;31mInvalidArgumentError\u001B[0m                      Traceback (most recent call last)",
      "\u001B[0;32m/tmp/ipykernel_4711/2511773691.py\u001B[0m in \u001B[0;36m<module>\u001B[0;34m\u001B[0m\n\u001B[0;32m----> 1\u001B[0;31m history = model.fit(\n\u001B[0m\u001B[1;32m      2\u001B[0m     \u001B[0mpreprocesser\u001B[0m\u001B[0;34m.\u001B[0m\u001B[0mbatch\u001B[0m\u001B[0;34m(\u001B[0m\u001B[0;36m1\u001B[0m\u001B[0;34m)\u001B[0m\u001B[0;34m,\u001B[0m\u001B[0;34m\u001B[0m\u001B[0;34m\u001B[0m\u001B[0m\n\u001B[1;32m      3\u001B[0m     \u001B[0mepochs\u001B[0m\u001B[0;34m=\u001B[0m\u001B[0;36m30\u001B[0m\u001B[0;34m,\u001B[0m\u001B[0;34m\u001B[0m\u001B[0;34m\u001B[0m\u001B[0m\n\u001B[1;32m      4\u001B[0m     \u001B[0mvalidation_data\u001B[0m\u001B[0;34m=\u001B[0m\u001B[0mPreprocessor\u001B[0m\u001B[0;34m.\u001B[0m\u001B[0mPreprocessor\u001B[0m\u001B[0;34m(\u001B[0m\u001B[0mvalidation_dataset\u001B[0m\u001B[0;34m)\u001B[0m\u001B[0;34m.\u001B[0m\u001B[0mbatch\u001B[0m\u001B[0;34m(\u001B[0m\u001B[0;36m1\u001B[0m\u001B[0;34m)\u001B[0m\u001B[0;34m,\u001B[0m\u001B[0;34m\u001B[0m\u001B[0;34m\u001B[0m\u001B[0m\n\u001B[1;32m      5\u001B[0m     \u001B[0mcallbacks\u001B[0m\u001B[0;34m=\u001B[0m\u001B[0mCallbacks\u001B[0m\u001B[0;34m.\u001B[0m\u001B[0mmy_callbacks\u001B[0m\u001B[0;34m\u001B[0m\u001B[0;34m\u001B[0m\u001B[0m\n",
      "\u001B[0;32m~/miniconda3/envs/octClassifier/lib/python3.9/site-packages/tensorflow/python/keras/engine/training.py\u001B[0m in \u001B[0;36mfit\u001B[0;34m(self, x, y, batch_size, epochs, verbose, callbacks, validation_split, validation_data, shuffle, class_weight, sample_weight, initial_epoch, steps_per_epoch, validation_steps, validation_batch_size, validation_freq, max_queue_size, workers, use_multiprocessing)\u001B[0m\n\u001B[1;32m   1098\u001B[0m                 _r=1):\n\u001B[1;32m   1099\u001B[0m               \u001B[0mcallbacks\u001B[0m\u001B[0;34m.\u001B[0m\u001B[0mon_train_batch_begin\u001B[0m\u001B[0;34m(\u001B[0m\u001B[0mstep\u001B[0m\u001B[0;34m)\u001B[0m\u001B[0;34m\u001B[0m\u001B[0;34m\u001B[0m\u001B[0m\n\u001B[0;32m-> 1100\u001B[0;31m               \u001B[0mtmp_logs\u001B[0m \u001B[0;34m=\u001B[0m \u001B[0mself\u001B[0m\u001B[0;34m.\u001B[0m\u001B[0mtrain_function\u001B[0m\u001B[0;34m(\u001B[0m\u001B[0miterator\u001B[0m\u001B[0;34m)\u001B[0m\u001B[0;34m\u001B[0m\u001B[0;34m\u001B[0m\u001B[0m\n\u001B[0m\u001B[1;32m   1101\u001B[0m               \u001B[0;32mif\u001B[0m \u001B[0mdata_handler\u001B[0m\u001B[0;34m.\u001B[0m\u001B[0mshould_sync\u001B[0m\u001B[0;34m:\u001B[0m\u001B[0;34m\u001B[0m\u001B[0;34m\u001B[0m\u001B[0m\n\u001B[1;32m   1102\u001B[0m                 \u001B[0mcontext\u001B[0m\u001B[0;34m.\u001B[0m\u001B[0masync_wait\u001B[0m\u001B[0;34m(\u001B[0m\u001B[0;34m)\u001B[0m\u001B[0;34m\u001B[0m\u001B[0;34m\u001B[0m\u001B[0m\n",
      "\u001B[0;32m~/miniconda3/envs/octClassifier/lib/python3.9/site-packages/tensorflow/python/eager/def_function.py\u001B[0m in \u001B[0;36m__call__\u001B[0;34m(self, *args, **kwds)\u001B[0m\n\u001B[1;32m    826\u001B[0m     \u001B[0mtracing_count\u001B[0m \u001B[0;34m=\u001B[0m \u001B[0mself\u001B[0m\u001B[0;34m.\u001B[0m\u001B[0mexperimental_get_tracing_count\u001B[0m\u001B[0;34m(\u001B[0m\u001B[0;34m)\u001B[0m\u001B[0;34m\u001B[0m\u001B[0;34m\u001B[0m\u001B[0m\n\u001B[1;32m    827\u001B[0m     \u001B[0;32mwith\u001B[0m \u001B[0mtrace\u001B[0m\u001B[0;34m.\u001B[0m\u001B[0mTrace\u001B[0m\u001B[0;34m(\u001B[0m\u001B[0mself\u001B[0m\u001B[0;34m.\u001B[0m\u001B[0m_name\u001B[0m\u001B[0;34m)\u001B[0m \u001B[0;32mas\u001B[0m \u001B[0mtm\u001B[0m\u001B[0;34m:\u001B[0m\u001B[0;34m\u001B[0m\u001B[0;34m\u001B[0m\u001B[0m\n\u001B[0;32m--> 828\u001B[0;31m       \u001B[0mresult\u001B[0m \u001B[0;34m=\u001B[0m \u001B[0mself\u001B[0m\u001B[0;34m.\u001B[0m\u001B[0m_call\u001B[0m\u001B[0;34m(\u001B[0m\u001B[0;34m*\u001B[0m\u001B[0margs\u001B[0m\u001B[0;34m,\u001B[0m \u001B[0;34m**\u001B[0m\u001B[0mkwds\u001B[0m\u001B[0;34m)\u001B[0m\u001B[0;34m\u001B[0m\u001B[0;34m\u001B[0m\u001B[0m\n\u001B[0m\u001B[1;32m    829\u001B[0m       \u001B[0mcompiler\u001B[0m \u001B[0;34m=\u001B[0m \u001B[0;34m\"xla\"\u001B[0m \u001B[0;32mif\u001B[0m \u001B[0mself\u001B[0m\u001B[0;34m.\u001B[0m\u001B[0m_experimental_compile\u001B[0m \u001B[0;32melse\u001B[0m \u001B[0;34m\"nonXla\"\u001B[0m\u001B[0;34m\u001B[0m\u001B[0;34m\u001B[0m\u001B[0m\n\u001B[1;32m    830\u001B[0m       \u001B[0mnew_tracing_count\u001B[0m \u001B[0;34m=\u001B[0m \u001B[0mself\u001B[0m\u001B[0;34m.\u001B[0m\u001B[0mexperimental_get_tracing_count\u001B[0m\u001B[0;34m(\u001B[0m\u001B[0;34m)\u001B[0m\u001B[0;34m\u001B[0m\u001B[0;34m\u001B[0m\u001B[0m\n",
      "\u001B[0;32m~/miniconda3/envs/octClassifier/lib/python3.9/site-packages/tensorflow/python/eager/def_function.py\u001B[0m in \u001B[0;36m_call\u001B[0;34m(self, *args, **kwds)\u001B[0m\n\u001B[1;32m    853\u001B[0m       \u001B[0;31m# In this case we have created variables on the first call, so we run the\u001B[0m\u001B[0;34m\u001B[0m\u001B[0;34m\u001B[0m\u001B[0m\n\u001B[1;32m    854\u001B[0m       \u001B[0;31m# defunned version which is guaranteed to never create variables.\u001B[0m\u001B[0;34m\u001B[0m\u001B[0;34m\u001B[0m\u001B[0m\n\u001B[0;32m--> 855\u001B[0;31m       \u001B[0;32mreturn\u001B[0m \u001B[0mself\u001B[0m\u001B[0;34m.\u001B[0m\u001B[0m_stateless_fn\u001B[0m\u001B[0;34m(\u001B[0m\u001B[0;34m*\u001B[0m\u001B[0margs\u001B[0m\u001B[0;34m,\u001B[0m \u001B[0;34m**\u001B[0m\u001B[0mkwds\u001B[0m\u001B[0;34m)\u001B[0m  \u001B[0;31m# pylint: disable=not-callable\u001B[0m\u001B[0;34m\u001B[0m\u001B[0;34m\u001B[0m\u001B[0m\n\u001B[0m\u001B[1;32m    856\u001B[0m     \u001B[0;32melif\u001B[0m \u001B[0mself\u001B[0m\u001B[0;34m.\u001B[0m\u001B[0m_stateful_fn\u001B[0m \u001B[0;32mis\u001B[0m \u001B[0;32mnot\u001B[0m \u001B[0;32mNone\u001B[0m\u001B[0;34m:\u001B[0m\u001B[0;34m\u001B[0m\u001B[0;34m\u001B[0m\u001B[0m\n\u001B[1;32m    857\u001B[0m       \u001B[0;31m# Release the lock early so that multiple threads can perform the call\u001B[0m\u001B[0;34m\u001B[0m\u001B[0;34m\u001B[0m\u001B[0m\n",
      "\u001B[0;32m~/miniconda3/envs/octClassifier/lib/python3.9/site-packages/tensorflow/python/eager/function.py\u001B[0m in \u001B[0;36m__call__\u001B[0;34m(self, *args, **kwargs)\u001B[0m\n\u001B[1;32m   2940\u001B[0m       (graph_function,\n\u001B[1;32m   2941\u001B[0m        filtered_flat_args) = self._maybe_define_function(args, kwargs)\n\u001B[0;32m-> 2942\u001B[0;31m     return graph_function._call_flat(\n\u001B[0m\u001B[1;32m   2943\u001B[0m         filtered_flat_args, captured_inputs=graph_function.captured_inputs)  # pylint: disable=protected-access\n\u001B[1;32m   2944\u001B[0m \u001B[0;34m\u001B[0m\u001B[0m\n",
      "\u001B[0;32m~/miniconda3/envs/octClassifier/lib/python3.9/site-packages/tensorflow/python/eager/function.py\u001B[0m in \u001B[0;36m_call_flat\u001B[0;34m(self, args, captured_inputs, cancellation_manager)\u001B[0m\n\u001B[1;32m   1916\u001B[0m         and executing_eagerly):\n\u001B[1;32m   1917\u001B[0m       \u001B[0;31m# No tape is watching; skip to running the function.\u001B[0m\u001B[0;34m\u001B[0m\u001B[0;34m\u001B[0m\u001B[0m\n\u001B[0;32m-> 1918\u001B[0;31m       return self._build_call_outputs(self._inference_function.call(\n\u001B[0m\u001B[1;32m   1919\u001B[0m           ctx, args, cancellation_manager=cancellation_manager))\n\u001B[1;32m   1920\u001B[0m     forward_backward = self._select_forward_and_backward_functions(\n",
      "\u001B[0;32m~/miniconda3/envs/octClassifier/lib/python3.9/site-packages/tensorflow/python/eager/function.py\u001B[0m in \u001B[0;36mcall\u001B[0;34m(self, ctx, args, cancellation_manager)\u001B[0m\n\u001B[1;32m    553\u001B[0m       \u001B[0;32mwith\u001B[0m \u001B[0m_InterpolateFunctionError\u001B[0m\u001B[0;34m(\u001B[0m\u001B[0mself\u001B[0m\u001B[0;34m)\u001B[0m\u001B[0;34m:\u001B[0m\u001B[0;34m\u001B[0m\u001B[0;34m\u001B[0m\u001B[0m\n\u001B[1;32m    554\u001B[0m         \u001B[0;32mif\u001B[0m \u001B[0mcancellation_manager\u001B[0m \u001B[0;32mis\u001B[0m \u001B[0;32mNone\u001B[0m\u001B[0;34m:\u001B[0m\u001B[0;34m\u001B[0m\u001B[0;34m\u001B[0m\u001B[0m\n\u001B[0;32m--> 555\u001B[0;31m           outputs = execute.execute(\n\u001B[0m\u001B[1;32m    556\u001B[0m               \u001B[0mstr\u001B[0m\u001B[0;34m(\u001B[0m\u001B[0mself\u001B[0m\u001B[0;34m.\u001B[0m\u001B[0msignature\u001B[0m\u001B[0;34m.\u001B[0m\u001B[0mname\u001B[0m\u001B[0;34m)\u001B[0m\u001B[0;34m,\u001B[0m\u001B[0;34m\u001B[0m\u001B[0;34m\u001B[0m\u001B[0m\n\u001B[1;32m    557\u001B[0m               \u001B[0mnum_outputs\u001B[0m\u001B[0;34m=\u001B[0m\u001B[0mself\u001B[0m\u001B[0;34m.\u001B[0m\u001B[0m_num_outputs\u001B[0m\u001B[0;34m,\u001B[0m\u001B[0;34m\u001B[0m\u001B[0;34m\u001B[0m\u001B[0m\n",
      "\u001B[0;32m~/miniconda3/envs/octClassifier/lib/python3.9/site-packages/tensorflow/python/eager/execute.py\u001B[0m in \u001B[0;36mquick_execute\u001B[0;34m(op_name, num_outputs, inputs, attrs, ctx, name)\u001B[0m\n\u001B[1;32m     57\u001B[0m   \u001B[0;32mtry\u001B[0m\u001B[0;34m:\u001B[0m\u001B[0;34m\u001B[0m\u001B[0;34m\u001B[0m\u001B[0m\n\u001B[1;32m     58\u001B[0m     \u001B[0mctx\u001B[0m\u001B[0;34m.\u001B[0m\u001B[0mensure_initialized\u001B[0m\u001B[0;34m(\u001B[0m\u001B[0;34m)\u001B[0m\u001B[0;34m\u001B[0m\u001B[0;34m\u001B[0m\u001B[0m\n\u001B[0;32m---> 59\u001B[0;31m     tensors = pywrap_tfe.TFE_Py_Execute(ctx._handle, device_name, op_name,\n\u001B[0m\u001B[1;32m     60\u001B[0m                                         inputs, attrs, num_outputs)\n\u001B[1;32m     61\u001B[0m   \u001B[0;32mexcept\u001B[0m \u001B[0mcore\u001B[0m\u001B[0;34m.\u001B[0m\u001B[0m_NotOkStatusException\u001B[0m \u001B[0;32mas\u001B[0m \u001B[0me\u001B[0m\u001B[0;34m:\u001B[0m\u001B[0;34m\u001B[0m\u001B[0;34m\u001B[0m\u001B[0m\n",
      "\u001B[0;31mInvalidArgumentError\u001B[0m: 2 root error(s) found.\n  (0) Invalid argument:  ValueError: could not broadcast input array from shape (0,) into shape (1536,)\nTraceback (most recent call last):\n\n  File \"/home/juliusmlcaesar/miniconda3/envs/octClassifier/lib/python3.9/site-packages/tensorflow/python/ops/script_ops.py\", line 249, in __call__\n    ret = func(*args)\n\n  File \"/home/juliusmlcaesar/miniconda3/envs/octClassifier/lib/python3.9/site-packages/tensorflow/python/autograph/impl/api.py\", line 620, in wrapper\n    return func(*args, **kwargs)\n\n  File \"/home/juliusmlcaesar/miniconda3/envs/octClassifier/lib/python3.9/site-packages/tensorflow/python/data/ops/dataset_ops.py\", line 891, in generator_py_func\n    values = next(generator_state.get_iterator(iterator_id))\n\n  File \"/home/juliusmlcaesar/PycharmProjects/oct-classifier/BinaryReader.py\", line 72, in instance_from_binaries_generator\n    yield self._create_instance(f, instance_size), float(label)\n\n  File \"/home/juliusmlcaesar/PycharmProjects/oct-classifier/BinaryReader.py\", line 124, in _create_instance\n    instance[:, b_index, c_index, 0] = np.fromfile(file, dtype=self.data_type, count=instance_size.asize)\n\nValueError: could not broadcast input array from shape (0,) into shape (1536,)\n\n\n\t [[{{node PyFunc}}]]\n\t [[IteratorGetNext]]\n  (1) Invalid argument:  ValueError: could not broadcast input array from shape (0,) into shape (1536,)\nTraceback (most recent call last):\n\n  File \"/home/juliusmlcaesar/miniconda3/envs/octClassifier/lib/python3.9/site-packages/tensorflow/python/ops/script_ops.py\", line 249, in __call__\n    ret = func(*args)\n\n  File \"/home/juliusmlcaesar/miniconda3/envs/octClassifier/lib/python3.9/site-packages/tensorflow/python/autograph/impl/api.py\", line 620, in wrapper\n    return func(*args, **kwargs)\n\n  File \"/home/juliusmlcaesar/miniconda3/envs/octClassifier/lib/python3.9/site-packages/tensorflow/python/data/ops/dataset_ops.py\", line 891, in generator_py_func\n    values = next(generator_state.get_iterator(iterator_id))\n\n  File \"/home/juliusmlcaesar/PycharmProjects/oct-classifier/BinaryReader.py\", line 72, in instance_from_binaries_generator\n    yield self._create_instance(f, instance_size), float(label)\n\n  File \"/home/juliusmlcaesar/PycharmProjects/oct-classifier/BinaryReader.py\", line 124, in _create_instance\n    instance[:, b_index, c_index, 0] = np.fromfile(file, dtype=self.data_type, count=instance_size.asize)\n\nValueError: could not broadcast input array from shape (0,) into shape (1536,)\n\n\n\t [[{{node PyFunc}}]]\n\t [[IteratorGetNext]]\n\t [[IteratorGetNext/_4]]\n0 successful operations.\n0 derived errors ignored. [Op:__inference_train_function_2246]\n\nFunction call stack:\ntrain_function -> train_function\n"
     ]
    }
   ],
   "source": [
    "history = model.fit(\n",
    "    preprocesser.batch(1),\n",
    "    epochs=30,\n",
    "    validation_data=Preprocessor.Preprocessor(validation_dataset).batch(1),\n",
    "    callbacks=Callbacks.my_callbacks\n",
    ")\n",
    "model.save('savedModels/first')"
   ],
   "metadata": {
    "collapsed": false,
    "pycharm": {
     "name": "#%%\n"
    }
   }
  },
  {
   "cell_type": "code",
   "execution_count": 69,
   "outputs": [
    {
     "data": {
      "text/plain": "<tensorflow.python.keras.engine.functional.Functional at 0x7f96782079d0>"
     },
     "execution_count": 69,
     "metadata": {},
     "output_type": "execute_result"
    }
   ],
   "source": [
    "reader.create_test_dataset([(\"/mnt/NewHDD/train_data/raw_1536x2048x2045x2_9201.bin\", 0)])"
   ],
   "metadata": {
    "collapsed": false,
    "pycharm": {
     "name": "#%%\n"
    }
   }
  },
  {
   "cell_type": "code",
   "execution_count": 4,
   "outputs": [],
   "source": [
    "new_model = tf.keras.models.load_model('savedModels/second')"
   ],
   "metadata": {
    "collapsed": false,
    "pycharm": {
     "name": "#%%\n"
    }
   }
  },
  {
   "cell_type": "code",
   "execution_count": null,
   "outputs": [
    {
     "name": "stdout",
     "output_type": "stream",
     "text": [
      "WARNING:tensorflow:AutoGraph could not transform <function BinaryReader.create_dataset.<locals>.<lambda> at 0x7fc1ec1a35e0> and will run it as-is.\n",
      "Cause: could not parse the source code of <function BinaryReader.create_dataset.<locals>.<lambda> at 0x7fc1ec1a35e0>: no matching AST found\n",
      "To silence this warning, decorate the function with @tf.autograph.experimental.do_not_convert\n",
      "WARNING: AutoGraph could not transform <function BinaryReader.create_dataset.<locals>.<lambda> at 0x7fc1ec1a35e0> and will run it as-is.\n",
      "Cause: could not parse the source code of <function BinaryReader.create_dataset.<locals>.<lambda> at 0x7fc1ec1a35e0>: no matching AST found\n",
      "To silence this warning, decorate the function with @tf.autograph.experimental.do_not_convert\n"
     ]
    }
   ],
   "source": [
    "wrong_healthy_file = reader.create_test_dataset([InputList.healthy_training_files[0]])\n",
    "output_healthy = new_model.predict(wrong_healthy_file.batch(2))"
   ],
   "metadata": {
    "collapsed": false,
    "pycharm": {
     "name": "#%%\n",
     "is_executing": true
    }
   }
  },
  {
   "cell_type": "code",
   "execution_count": 44,
   "outputs": [
    {
     "data": {
      "text/plain": "array([[10.267875 ],\n       [10.267875 ],\n       [10.384956 ],\n       [10.384956 ],\n       [10.637013 ],\n       [10.637013 ],\n       [10.932584 ],\n       [10.932584 ],\n       [10.280084 ],\n       [10.280084 ],\n       [11.147074 ],\n       [11.147074 ],\n       [10.868604 ],\n       [10.868604 ],\n       [11.568986 ],\n       [11.568986 ],\n       [10.530014 ],\n       [10.530014 ],\n       [11.258928 ],\n       [11.258928 ],\n       [10.46459  ],\n       [10.46459  ],\n       [10.925874 ],\n       [10.925874 ],\n       [10.61441  ],\n       [10.61441  ],\n       [11.452877 ],\n       [11.452877 ],\n       [11.004479 ],\n       [11.004479 ],\n       [11.437254 ],\n       [11.437254 ],\n       [10.570957 ],\n       [10.570957 ],\n       [10.738581 ],\n       [10.738581 ],\n       [10.360428 ],\n       [10.360428 ],\n       [10.786953 ],\n       [10.786953 ],\n       [11.025751 ],\n       [11.025751 ],\n       [11.665013 ],\n       [11.665013 ],\n       [10.663699 ],\n       [10.663699 ],\n       [11.076247 ],\n       [11.076247 ],\n       [10.485097 ],\n       [10.485097 ],\n       [11.120703 ],\n       [11.120703 ],\n       [ 9.598963 ],\n       [ 9.598963 ],\n       [10.268817 ],\n       [10.268817 ],\n       [10.495578 ],\n       [10.495578 ],\n       [11.321932 ],\n       [11.321932 ],\n       [10.638926 ],\n       [10.638926 ],\n       [11.181169 ],\n       [11.181169 ],\n       [10.335467 ],\n       [10.335467 ],\n       [10.671172 ],\n       [10.671172 ],\n       [ 9.557828 ],\n       [ 9.557828 ],\n       [10.90925  ],\n       [10.90925  ],\n       [10.57268  ],\n       [10.57268  ],\n       [11.2301   ],\n       [11.2301   ],\n       [10.4535265],\n       [10.4535265],\n       [11.200148 ],\n       [11.200148 ],\n       [10.291639 ],\n       [10.291639 ],\n       [11.001877 ],\n       [11.001877 ],\n       [10.177695 ],\n       [10.177695 ],\n       [10.81871  ],\n       [10.81871  ],\n       [10.151613 ],\n       [10.151613 ],\n       [10.801856 ],\n       [10.801856 ],\n       [10.237477 ],\n       [10.237477 ],\n       [10.113542 ],\n       [10.113542 ],\n       [ 9.9885645],\n       [ 9.9885645],\n       [11.361734 ],\n       [11.361734 ],\n       [11.157802 ],\n       [11.157802 ],\n       [11.526838 ],\n       [11.526838 ],\n       [10.815919 ],\n       [10.815919 ],\n       [11.475953 ],\n       [11.475953 ],\n       [10.494054 ],\n       [10.494054 ],\n       [10.608295 ],\n       [10.608295 ],\n       [ 9.914994 ],\n       [ 9.914994 ],\n       [10.558527 ],\n       [10.558527 ],\n       [10.25527  ],\n       [10.25527  ],\n       [11.51297  ],\n       [11.51297  ],\n       [10.136554 ],\n       [10.136554 ],\n       [11.030442 ],\n       [11.030442 ],\n       [10.331231 ],\n       [10.331231 ],\n       [11.137581 ],\n       [11.137581 ],\n       [10.367453 ],\n       [10.367453 ],\n       [11.028831 ],\n       [11.028831 ],\n       [10.311149 ],\n       [10.311149 ],\n       [11.192144 ],\n       [11.192144 ],\n       [10.848889 ],\n       [10.848889 ],\n       [10.774665 ],\n       [10.774665 ],\n       [10.699956 ],\n       [10.699956 ],\n       [10.6370945],\n       [10.6370945],\n       [ 9.724892 ],\n       [ 9.724892 ],\n       [10.4189   ],\n       [10.4189   ],\n       [10.049262 ],\n       [10.049262 ],\n       [11.028794 ],\n       [11.028794 ],\n       [10.649758 ],\n       [10.649758 ],\n       [11.362465 ],\n       [11.362465 ],\n       [10.383545 ],\n       [10.383545 ],\n       [ 9.590389 ],\n       [ 9.590389 ],\n       [10.114887 ],\n       [10.114887 ],\n       [10.56099  ],\n       [10.56099  ],\n       [ 9.921899 ],\n       [ 9.921899 ],\n       [10.956596 ],\n       [10.956596 ],\n       [10.680798 ],\n       [10.680798 ],\n       [11.83681  ],\n       [11.83681  ],\n       [10.6068735],\n       [10.6068735],\n       [10.944001 ],\n       [10.944001 ],\n       [10.137804 ],\n       [10.137804 ],\n       [11.18801  ],\n       [11.18801  ],\n       [10.7574   ],\n       [10.7574   ],\n       [10.950969 ],\n       [10.950969 ],\n       [ 9.921407 ],\n       [ 9.921407 ],\n       [10.302625 ],\n       [10.302625 ],\n       [10.2471695],\n       [10.2471695],\n       [11.275729 ],\n       [11.275729 ],\n       [10.713398 ],\n       [10.713398 ],\n       [11.539429 ],\n       [11.539429 ],\n       [10.565227 ],\n       [10.565227 ],\n       [10.8520355],\n       [10.8520355],\n       [11.038036 ],\n       [11.038036 ],\n       [11.352811 ],\n       [11.352811 ],\n       [10.548729 ],\n       [10.548729 ],\n       [11.361989 ],\n       [11.361989 ],\n       [10.641431 ],\n       [10.641431 ],\n       [11.297119 ],\n       [11.297119 ],\n       [ 9.945011 ],\n       [ 9.945011 ],\n       [10.238699 ],\n       [10.238699 ],\n       [ 8.706688 ],\n       [ 8.706688 ],\n       [10.690269 ],\n       [10.690269 ],\n       [10.779095 ],\n       [10.779095 ],\n       [11.386524 ],\n       [11.386524 ],\n       [10.150116 ],\n       [10.150116 ],\n       [10.973224 ],\n       [10.973224 ],\n       [10.299364 ],\n       [10.299364 ],\n       [11.4086685],\n       [11.4086685],\n       [10.833671 ],\n       [10.833671 ],\n       [11.758657 ],\n       [11.758657 ],\n       [ 9.981119 ],\n       [ 9.981119 ],\n       [11.07786  ],\n       [11.07786  ],\n       [10.535637 ],\n       [10.535637 ],\n       [10.688356 ],\n       [10.688356 ],\n       [ 9.898058 ],\n       [ 9.898058 ],\n       [10.169015 ],\n       [10.169015 ],\n       [10.0087   ],\n       [10.0087   ],\n       [10.857676 ],\n       [10.857676 ],\n       [10.350299 ],\n       [10.350299 ],\n       [11.05983  ],\n       [11.05983  ],\n       [10.338336 ],\n       [10.338336 ],\n       [10.502205 ],\n       [10.502205 ],\n       [10.153636 ],\n       [10.153636 ],\n       [10.88232  ],\n       [10.88232  ],\n       [10.360951 ],\n       [10.360951 ],\n       [10.46953  ],\n       [10.46953  ],\n       [10.320558 ],\n       [10.320558 ],\n       [11.078252 ],\n       [11.078252 ],\n       [10.402446 ],\n       [10.402446 ],\n       [11.700905 ],\n       [11.700905 ],\n       [ 9.910749 ],\n       [ 9.910749 ],\n       [10.981012 ],\n       [10.981012 ],\n       [10.452651 ],\n       [10.452651 ],\n       [10.34033  ],\n       [10.34033  ],\n       [10.001422 ],\n       [10.001422 ],\n       [10.633889 ],\n       [10.633889 ],\n       [10.190699 ],\n       [10.190699 ],\n       [10.89738  ],\n       [10.89738  ],\n       [10.184057 ],\n       [10.184057 ],\n       [10.5993595],\n       [10.5993595],\n       [ 9.999432 ],\n       [ 9.999432 ],\n       [10.740232 ],\n       [10.740232 ],\n       [10.206774 ],\n       [10.206774 ],\n       [10.737768 ],\n       [10.737768 ],\n       [10.210808 ],\n       [10.210808 ],\n       [11.359099 ],\n       [11.359099 ],\n       [10.248131 ],\n       [10.248131 ],\n       [10.650197 ],\n       [10.650197 ],\n       [10.223897 ],\n       [10.223897 ],\n       [10.827284 ],\n       [10.827284 ],\n       [ 9.902274 ],\n       [ 9.902274 ],\n       [10.674836 ],\n       [10.674836 ],\n       [ 9.750517 ],\n       [ 9.750517 ],\n       [10.502986 ],\n       [10.502986 ],\n       [ 9.675109 ],\n       [ 9.675109 ],\n       [10.59288  ],\n       [10.59288  ],\n       [10.241441 ],\n       [10.241441 ],\n       [11.482305 ],\n       [11.482305 ],\n       [10.618579 ],\n       [10.618579 ],\n       [10.51033  ],\n       [10.51033  ],\n       [ 9.874575 ],\n       [ 9.874575 ],\n       [10.411131 ],\n       [10.411131 ],\n       [ 9.495751 ],\n       [ 9.495751 ],\n       [10.109706 ],\n       [10.109706 ],\n       [ 9.487952 ],\n       [ 9.487952 ],\n       [10.757702 ],\n       [10.757702 ],\n       [10.297866 ],\n       [10.297866 ],\n       [10.743567 ],\n       [10.743567 ],\n       [ 9.467222 ],\n       [ 9.467222 ],\n       [10.416293 ],\n       [10.416293 ],\n       [10.176164 ],\n       [10.176164 ],\n       [10.830776 ],\n       [10.830776 ],\n       [10.035925 ],\n       [10.035925 ],\n       [10.300606 ],\n       [10.300606 ],\n       [ 9.444073 ],\n       [ 9.444073 ],\n       [10.147448 ],\n       [10.147448 ],\n       [ 9.444732 ],\n       [ 9.444732 ],\n       [10.787121 ],\n       [10.787121 ],\n       [10.120092 ],\n       [10.120092 ],\n       [10.521983 ],\n       [10.521983 ],\n       [10.008554 ],\n       [10.008554 ],\n       [10.902183 ],\n       [10.902183 ],\n       [10.577706 ],\n       [10.577706 ],\n       [11.070331 ],\n       [11.070331 ],\n       [ 9.99676  ],\n       [ 9.99676  ],\n       [10.155092 ],\n       [10.155092 ],\n       [ 9.252544 ],\n       [ 9.252544 ],\n       [11.002937 ],\n       [11.002937 ],\n       [10.371014 ],\n       [10.371014 ],\n       [10.844702 ],\n       [10.844702 ],\n       [10.123742 ],\n       [10.123742 ],\n       [10.709842 ],\n       [10.709842 ],\n       [ 9.476844 ],\n       [ 9.476844 ],\n       [10.380518 ],\n       [10.380518 ],\n       [ 9.571294 ],\n       [ 9.571294 ],\n       [10.2233715],\n       [10.2233715],\n       [ 9.667763 ],\n       [ 9.667763 ],\n       [10.804464 ],\n       [10.804464 ],\n       [10.473109 ],\n       [10.473109 ],\n       [10.185287 ],\n       [10.185287 ],\n       [ 9.732949 ],\n       [ 9.732949 ],\n       [10.945    ],\n       [10.945    ],\n       [10.39819  ],\n       [10.39819  ],\n       [11.179192 ],\n       [11.179192 ],\n       [ 9.844443 ],\n       [ 9.844443 ],\n       [10.37727  ],\n       [10.37727  ],\n       [ 9.841331 ],\n       [ 9.841331 ],\n       [10.09045  ],\n       [10.09045  ],\n       [ 9.839804 ],\n       [ 9.839804 ],\n       [11.150751 ],\n       [11.150751 ],\n       [10.467923 ],\n       [10.467923 ],\n       [10.846456 ],\n       [10.846456 ],\n       [ 9.550707 ],\n       [ 9.550707 ],\n       [10.429836 ],\n       [10.429836 ],\n       [10.412751 ],\n       [10.412751 ],\n       [10.745339 ],\n       [10.745339 ],\n       [10.124375 ],\n       [10.124375 ],\n       [10.980341 ],\n       [10.980341 ],\n       [10.032652 ],\n       [10.032652 ],\n       [10.138629 ],\n       [10.138629 ],\n       [ 9.411742 ],\n       [ 9.411742 ],\n       [10.168067 ],\n       [10.168067 ],\n       [ 9.812399 ],\n       [ 9.812399 ],\n       [10.918352 ],\n       [10.918352 ],\n       [ 9.650089 ],\n       [ 9.650089 ],\n       [ 9.09364  ],\n       [ 9.09364  ],\n       [ 8.739914 ],\n       [ 8.739914 ],\n       [10.673665 ],\n       [10.673665 ],\n       [10.215575 ],\n       [10.215575 ],\n       [10.616377 ],\n       [10.616377 ],\n       [ 9.193539 ],\n       [ 9.193539 ],\n       [10.237859 ],\n       [10.237859 ],\n       [ 9.337158 ],\n       [ 9.337158 ],\n       [10.428529 ],\n       [10.428529 ],\n       [10.337592 ],\n       [10.337592 ],\n       [11.496287 ],\n       [11.496287 ],\n       [10.950644 ],\n       [10.950644 ],\n       [10.893761 ],\n       [10.893761 ],\n       [ 9.857026 ],\n       [ 9.857026 ],\n       [ 9.741176 ],\n       [ 9.741176 ],\n       [10.162031 ],\n       [10.162031 ],\n       [11.119773 ],\n       [11.119773 ],\n       [10.436068 ],\n       [10.436068 ],\n       [10.952583 ],\n       [10.952583 ],\n       [10.026188 ],\n       [10.026188 ],\n       [10.729834 ],\n       [10.729834 ],\n       [10.056215 ],\n       [10.056215 ],\n       [10.288919 ],\n       [10.288919 ],\n       [ 9.302089 ],\n       [ 9.302089 ],\n       [ 9.535041 ],\n       [ 9.535041 ],\n       [ 9.30799  ],\n       [ 9.30799  ],\n       [10.91845  ],\n       [10.91845  ],\n       [ 9.990162 ],\n       [ 9.990162 ],\n       [10.884843 ],\n       [10.884843 ],\n       [10.605062 ],\n       [10.605062 ],\n       [11.012647 ],\n       [11.012647 ],\n       [10.054787 ],\n       [10.054787 ],\n       [ 9.896902 ],\n       [ 9.896902 ],\n       [ 9.322199 ],\n       [ 9.322199 ],\n       [10.771622 ],\n       [10.771622 ],\n       [ 9.731569 ],\n       [ 9.731569 ],\n       [10.597769 ],\n       [10.597769 ],\n       [ 9.792426 ],\n       [ 9.792426 ],\n       [10.375333 ],\n       [10.375333 ],\n       [ 9.7117815],\n       [ 9.7117815],\n       [10.311748 ],\n       [10.311748 ],\n       [ 9.533401 ],\n       [ 9.533401 ],\n       [10.266962 ],\n       [10.266962 ],\n       [ 9.363953 ],\n       [ 9.363953 ],\n       [10.462136 ],\n       [10.462136 ],\n       [10.116048 ],\n       [10.116048 ],\n       [10.69734  ],\n       [10.69734  ],\n       [10.262049 ],\n       [10.262049 ],\n       [10.288912 ],\n       [10.288912 ],\n       [10.161617 ],\n       [10.161617 ],\n       [10.696926 ],\n       [10.696926 ],\n       [10.090012 ],\n       [10.090012 ],\n       [10.693954 ],\n       [10.693954 ],\n       [10.78243  ],\n       [10.78243  ],\n       [11.116461 ],\n       [11.116461 ],\n       [10.151778 ],\n       [10.151778 ],\n       [11.18905  ],\n       [11.18905  ],\n       [ 9.91741  ],\n       [ 9.91741  ],\n       [10.63142  ],\n       [10.63142  ],\n       [ 9.962164 ],\n       [ 9.962164 ],\n       [10.850057 ],\n       [10.850057 ],\n       [10.218038 ],\n       [10.218038 ],\n       [11.291888 ],\n       [11.291888 ],\n       [10.206912 ],\n       [10.206912 ],\n       [11.273917 ],\n       [11.273917 ],\n       [10.313673 ],\n       [10.313673 ],\n       [11.377431 ],\n       [11.377431 ],\n       [10.294038 ],\n       [10.294038 ],\n       [10.327379 ],\n       [10.327379 ],\n       [ 9.777287 ],\n       [ 9.777287 ],\n       [10.842366 ],\n       [10.842366 ],\n       [10.593116 ],\n       [10.593116 ],\n       [10.627727 ],\n       [10.627727 ],\n       [ 9.838701 ],\n       [ 9.838701 ],\n       [10.076128 ],\n       [10.076128 ],\n       [10.240836 ],\n       [10.240836 ],\n       [10.989639 ],\n       [10.989639 ],\n       [10.803364 ],\n       [10.803364 ],\n       [11.167389 ],\n       [11.167389 ],\n       [10.446005 ],\n       [10.446005 ],\n       [10.6394415],\n       [10.6394415],\n       [10.216563 ],\n       [10.216563 ],\n       [10.972005 ],\n       [10.972005 ],\n       [10.545542 ],\n       [10.545542 ],\n       [11.184108 ],\n       [11.184108 ],\n       [10.332202 ],\n       [10.332202 ],\n       [11.119589 ],\n       [11.119589 ],\n       [10.526702 ],\n       [10.526702 ],\n       [10.874667 ],\n       [10.874667 ],\n       [10.214359 ],\n       [10.214359 ],\n       [10.43919  ],\n       [10.43919  ],\n       [10.223064 ],\n       [10.223064 ],\n       [10.922441 ],\n       [10.922441 ],\n       [10.462192 ],\n       [10.462192 ],\n       [10.770464 ],\n       [10.770464 ],\n       [10.287727 ],\n       [10.287727 ],\n       [11.046078 ],\n       [11.046078 ],\n       [10.173042 ],\n       [10.173042 ],\n       [10.867872 ],\n       [10.867872 ],\n       [10.421398 ],\n       [10.421398 ],\n       [11.348982 ],\n       [11.348982 ],\n       [10.755524 ],\n       [10.755524 ],\n       [10.64815  ],\n       [10.64815  ],\n       [10.307127 ],\n       [10.307127 ],\n       [11.732508 ],\n       [11.732508 ],\n       [10.226478 ],\n       [10.226478 ],\n       [10.855239 ],\n       [10.855239 ],\n       [10.311506 ],\n       [10.311506 ],\n       [10.931843 ],\n       [10.931843 ],\n       [10.337709 ],\n       [10.337709 ],\n       [11.227524 ],\n       [11.227524 ],\n       [10.190867 ],\n       [10.190867 ],\n       [10.401504 ],\n       [10.401504 ],\n       [ 9.856392 ],\n       [ 9.856392 ],\n       [10.824295 ],\n       [10.824295 ],\n       [10.204814 ],\n       [10.204814 ],\n       [10.662942 ],\n       [10.662942 ],\n       [10.370841 ],\n       [10.370841 ],\n       [11.077354 ],\n       [11.077354 ],\n       [11.116251 ],\n       [11.116251 ],\n       [11.74633  ],\n       [11.74633  ],\n       [10.690646 ],\n       [10.690646 ],\n       [11.355952 ],\n       [11.355952 ],\n       [ 9.939098 ],\n       [ 9.939098 ],\n       [11.202515 ],\n       [11.202515 ],\n       [10.715092 ],\n       [10.715092 ],\n       [11.163056 ],\n       [11.163056 ],\n       [10.117192 ],\n       [10.117192 ],\n       [11.130508 ],\n       [11.130508 ],\n       [10.240774 ],\n       [10.240774 ],\n       [11.052954 ],\n       [11.052954 ],\n       [10.600567 ],\n       [10.600567 ],\n       [11.366482 ],\n       [11.366482 ],\n       [10.391902 ],\n       [10.391902 ],\n       [11.143949 ],\n       [11.143949 ],\n       [10.563917 ],\n       [10.563917 ],\n       [11.189243 ],\n       [11.189243 ],\n       [10.474336 ],\n       [10.474336 ],\n       [10.711353 ],\n       [10.711353 ],\n       [ 9.476685 ],\n       [ 9.476685 ],\n       [ 9.922964 ],\n       [ 9.922964 ],\n       [10.178267 ],\n       [10.178267 ],\n       [10.915078 ],\n       [10.915078 ],\n       [10.000088 ],\n       [10.000088 ],\n       [11.366838 ],\n       [11.366838 ],\n       [10.274366 ],\n       [10.274366 ],\n       [10.742826 ],\n       [10.742826 ],\n       [10.307966 ],\n       [10.307966 ],\n       [10.697362 ],\n       [10.697362 ],\n       [10.204192 ],\n       [10.204192 ],\n       [11.570453 ],\n       [11.570453 ],\n       [10.788329 ],\n       [10.788329 ],\n       [11.329356 ],\n       [11.329356 ],\n       [10.889342 ],\n       [10.889342 ],\n       [11.753844 ],\n       [11.753844 ],\n       [11.13483  ],\n       [11.13483  ],\n       [11.216652 ],\n       [11.216652 ],\n       [10.473295 ],\n       [10.473295 ],\n       [10.746411 ],\n       [10.746411 ],\n       [10.56974  ],\n       [10.56974  ],\n       [11.053828 ],\n       [11.053828 ],\n       [10.52634  ],\n       [10.52634  ],\n       [10.398999 ],\n       [10.398999 ],\n       [10.344217 ],\n       [10.344217 ],\n       [11.562412 ],\n       [11.562412 ],\n       [11.326439 ],\n       [11.326439 ],\n       [11.747653 ],\n       [11.747653 ]], dtype=float32)"
     },
     "execution_count": 44,
     "metadata": {},
     "output_type": "execute_result"
    }
   ],
   "source": [
    "output"
   ],
   "metadata": {
    "collapsed": false,
    "pycharm": {
     "name": "#%%\n"
    }
   }
  },
  {
   "cell_type": "code",
   "execution_count": 17,
   "outputs": [],
   "source": [
    "test_dataset = reader.create_test_dataset([InputList.diabetic_testing_files[0]])\n",
    "output_test = new_model.predict(test_dataset.batch(2))"
   ],
   "metadata": {
    "collapsed": false,
    "pycharm": {
     "name": "#%%\n"
    }
   }
  },
  {
   "cell_type": "code",
   "execution_count": 45,
   "outputs": [
    {
     "ename": "NameError",
     "evalue": "name 'output_healthy_val' is not defined",
     "output_type": "error",
     "traceback": [
      "\u001B[0;31m---------------------------------------------------------------------------\u001B[0m",
      "\u001B[0;31mNameError\u001B[0m                                 Traceback (most recent call last)",
      "\u001B[0;32m/tmp/ipykernel_168859/1149275253.py\u001B[0m in \u001B[0;36m<module>\u001B[0;34m\u001B[0m\n\u001B[0;32m----> 1\u001B[0;31m \u001B[0moutput_healthy_val\u001B[0m\u001B[0;34m\u001B[0m\u001B[0;34m\u001B[0m\u001B[0m\n\u001B[0m",
      "\u001B[0;31mNameError\u001B[0m: name 'output_healthy_val' is not defined"
     ]
    }
   ],
   "source": [
    "output_healthy_val"
   ],
   "metadata": {
    "collapsed": false,
    "pycharm": {
     "name": "#%%\n"
    }
   }
  },
  {
   "cell_type": "code",
   "execution_count": 42,
   "outputs": [
    {
     "data": {
      "text/plain": "[<matplotlib.lines.Line2D at 0x7f44903323a0>]"
     },
     "execution_count": 42,
     "metadata": {},
     "output_type": "execute_result"
    },
    {
     "data": {
      "text/plain": "<Figure size 432x288 with 1 Axes>",
      "image/png": "[encoded data removed]"
     },
     "metadata": {
      "needs_background": "light"
     },
     "output_type": "display_data"
    }
   ],
   "source": [
    "import matplotlib.pyplot as plt\n",
    "plt.plot(new_model.layers[-4].get_weights()[0].flatten())"
   ],
   "metadata": {
    "collapsed": false,
    "pycharm": {
     "name": "#%%\n"
    }
   }
  },
  {
   "cell_type": "code",
   "execution_count": null,
   "outputs": [],
   "source": [
    "a = (20, 1536, 102, 102, 64)"
   ],
   "metadata": {
    "collapsed": false,
    "pycharm": {
     "name": "#%%\n"
    }
   }
  },
  {
   "cell_type": "code",
   "execution_count": 37,
   "outputs": [],
   "source": [
    "test_dataset = reader.create_test_dataset([InputList.healthy_training_files[4]])\n",
    "output_healthy_val = new_model.predict(test_dataset.batch(20), callbacks=Callbacks.tboard_callback)"
   ],
   "metadata": {
    "collapsed": false,
    "pycharm": {
     "name": "#%%\n"
    }
   }
  },
  {
   "cell_type": "code",
   "execution_count": 39,
   "outputs": [
    {
     "ename": "KeyboardInterrupt",
     "evalue": "",
     "output_type": "error",
     "traceback": [
      "\u001B[0;31m---------------------------------------------------------------------------\u001B[0m",
      "\u001B[0;31mKeyboardInterrupt\u001B[0m                         Traceback (most recent call last)",
      "\u001B[0;32m/tmp/ipykernel_124730/516759943.py\u001B[0m in \u001B[0;36m<module>\u001B[0;34m\u001B[0m\n\u001B[1;32m      1\u001B[0m \u001B[0mtest_dataset\u001B[0m \u001B[0;34m=\u001B[0m \u001B[0mreader\u001B[0m\u001B[0;34m.\u001B[0m\u001B[0mcreate_test_dataset\u001B[0m\u001B[0;34m(\u001B[0m\u001B[0;34m[\u001B[0m\u001B[0;34m(\u001B[0m\u001B[0;34m\"/mnt/NewHDD/train_data/raw_1536x2048x2045x2_9201.bin\"\u001B[0m\u001B[0;34m,\u001B[0m \u001B[0;36m0\u001B[0m\u001B[0;34m)\u001B[0m\u001B[0;34m]\u001B[0m\u001B[0;34m)\u001B[0m\u001B[0;34m\u001B[0m\u001B[0;34m\u001B[0m\u001B[0m\n\u001B[0;32m----> 2\u001B[0;31m \u001B[0moutput_some_file\u001B[0m \u001B[0;34m=\u001B[0m \u001B[0mnew_model\u001B[0m\u001B[0;34m.\u001B[0m\u001B[0mpredict\u001B[0m\u001B[0;34m(\u001B[0m\u001B[0mtest_dataset\u001B[0m\u001B[0;34m.\u001B[0m\u001B[0mbatch\u001B[0m\u001B[0;34m(\u001B[0m\u001B[0;36m20\u001B[0m\u001B[0;34m)\u001B[0m\u001B[0;34m,\u001B[0m \u001B[0mcallbacks\u001B[0m\u001B[0;34m=\u001B[0m\u001B[0mCallbacks\u001B[0m\u001B[0;34m.\u001B[0m\u001B[0mtboard_callback\u001B[0m\u001B[0;34m)\u001B[0m\u001B[0;34m\u001B[0m\u001B[0;34m\u001B[0m\u001B[0m\n\u001B[0m",
      "\u001B[0;32m~/miniconda3/envs/octClassifier/lib/python3.9/site-packages/tensorflow/python/keras/engine/training.py\u001B[0m in \u001B[0;36mpredict\u001B[0;34m(self, x, batch_size, verbose, steps, callbacks, max_queue_size, workers, use_multiprocessing)\u001B[0m\n\u001B[1;32m   1627\u001B[0m           \u001B[0;32mfor\u001B[0m \u001B[0mstep\u001B[0m \u001B[0;32min\u001B[0m \u001B[0mdata_handler\u001B[0m\u001B[0;34m.\u001B[0m\u001B[0msteps\u001B[0m\u001B[0;34m(\u001B[0m\u001B[0;34m)\u001B[0m\u001B[0;34m:\u001B[0m\u001B[0;34m\u001B[0m\u001B[0;34m\u001B[0m\u001B[0m\n\u001B[1;32m   1628\u001B[0m             \u001B[0mcallbacks\u001B[0m\u001B[0;34m.\u001B[0m\u001B[0mon_predict_batch_begin\u001B[0m\u001B[0;34m(\u001B[0m\u001B[0mstep\u001B[0m\u001B[0;34m)\u001B[0m\u001B[0;34m\u001B[0m\u001B[0;34m\u001B[0m\u001B[0m\n\u001B[0;32m-> 1629\u001B[0;31m             \u001B[0mtmp_batch_outputs\u001B[0m \u001B[0;34m=\u001B[0m \u001B[0mself\u001B[0m\u001B[0;34m.\u001B[0m\u001B[0mpredict_function\u001B[0m\u001B[0;34m(\u001B[0m\u001B[0miterator\u001B[0m\u001B[0;34m)\u001B[0m\u001B[0;34m\u001B[0m\u001B[0;34m\u001B[0m\u001B[0m\n\u001B[0m\u001B[1;32m   1630\u001B[0m             \u001B[0;32mif\u001B[0m \u001B[0mdata_handler\u001B[0m\u001B[0;34m.\u001B[0m\u001B[0mshould_sync\u001B[0m\u001B[0;34m:\u001B[0m\u001B[0;34m\u001B[0m\u001B[0;34m\u001B[0m\u001B[0m\n\u001B[1;32m   1631\u001B[0m               \u001B[0mcontext\u001B[0m\u001B[0;34m.\u001B[0m\u001B[0masync_wait\u001B[0m\u001B[0;34m(\u001B[0m\u001B[0;34m)\u001B[0m\u001B[0;34m\u001B[0m\u001B[0;34m\u001B[0m\u001B[0m\n",
      "\u001B[0;32m~/miniconda3/envs/octClassifier/lib/python3.9/site-packages/tensorflow/python/eager/def_function.py\u001B[0m in \u001B[0;36m__call__\u001B[0;34m(self, *args, **kwds)\u001B[0m\n\u001B[1;32m    826\u001B[0m     \u001B[0mtracing_count\u001B[0m \u001B[0;34m=\u001B[0m \u001B[0mself\u001B[0m\u001B[0;34m.\u001B[0m\u001B[0mexperimental_get_tracing_count\u001B[0m\u001B[0;34m(\u001B[0m\u001B[0;34m)\u001B[0m\u001B[0;34m\u001B[0m\u001B[0;34m\u001B[0m\u001B[0m\n\u001B[1;32m    827\u001B[0m     \u001B[0;32mwith\u001B[0m \u001B[0mtrace\u001B[0m\u001B[0;34m.\u001B[0m\u001B[0mTrace\u001B[0m\u001B[0;34m(\u001B[0m\u001B[0mself\u001B[0m\u001B[0;34m.\u001B[0m\u001B[0m_name\u001B[0m\u001B[0;34m)\u001B[0m \u001B[0;32mas\u001B[0m \u001B[0mtm\u001B[0m\u001B[0;34m:\u001B[0m\u001B[0;34m\u001B[0m\u001B[0;34m\u001B[0m\u001B[0m\n\u001B[0;32m--> 828\u001B[0;31m       \u001B[0mresult\u001B[0m \u001B[0;34m=\u001B[0m \u001B[0mself\u001B[0m\u001B[0;34m.\u001B[0m\u001B[0m_call\u001B[0m\u001B[0;34m(\u001B[0m\u001B[0;34m*\u001B[0m\u001B[0margs\u001B[0m\u001B[0;34m,\u001B[0m \u001B[0;34m**\u001B[0m\u001B[0mkwds\u001B[0m\u001B[0;34m)\u001B[0m\u001B[0;34m\u001B[0m\u001B[0;34m\u001B[0m\u001B[0m\n\u001B[0m\u001B[1;32m    829\u001B[0m       \u001B[0mcompiler\u001B[0m \u001B[0;34m=\u001B[0m \u001B[0;34m\"xla\"\u001B[0m \u001B[0;32mif\u001B[0m \u001B[0mself\u001B[0m\u001B[0;34m.\u001B[0m\u001B[0m_experimental_compile\u001B[0m \u001B[0;32melse\u001B[0m \u001B[0;34m\"nonXla\"\u001B[0m\u001B[0;34m\u001B[0m\u001B[0;34m\u001B[0m\u001B[0m\n\u001B[1;32m    830\u001B[0m       \u001B[0mnew_tracing_count\u001B[0m \u001B[0;34m=\u001B[0m \u001B[0mself\u001B[0m\u001B[0;34m.\u001B[0m\u001B[0mexperimental_get_tracing_count\u001B[0m\u001B[0;34m(\u001B[0m\u001B[0;34m)\u001B[0m\u001B[0;34m\u001B[0m\u001B[0;34m\u001B[0m\u001B[0m\n",
      "\u001B[0;32m~/miniconda3/envs/octClassifier/lib/python3.9/site-packages/tensorflow/python/eager/def_function.py\u001B[0m in \u001B[0;36m_call\u001B[0;34m(self, *args, **kwds)\u001B[0m\n\u001B[1;32m    860\u001B[0m       \u001B[0;31m# In this case we have not created variables on the first call. So we can\u001B[0m\u001B[0;34m\u001B[0m\u001B[0;34m\u001B[0m\u001B[0m\n\u001B[1;32m    861\u001B[0m       \u001B[0;31m# run the first trace but we should fail if variables are created.\u001B[0m\u001B[0;34m\u001B[0m\u001B[0;34m\u001B[0m\u001B[0m\n\u001B[0;32m--> 862\u001B[0;31m       \u001B[0mresults\u001B[0m \u001B[0;34m=\u001B[0m \u001B[0mself\u001B[0m\u001B[0;34m.\u001B[0m\u001B[0m_stateful_fn\u001B[0m\u001B[0;34m(\u001B[0m\u001B[0;34m*\u001B[0m\u001B[0margs\u001B[0m\u001B[0;34m,\u001B[0m \u001B[0;34m**\u001B[0m\u001B[0mkwds\u001B[0m\u001B[0;34m)\u001B[0m\u001B[0;34m\u001B[0m\u001B[0;34m\u001B[0m\u001B[0m\n\u001B[0m\u001B[1;32m    863\u001B[0m       \u001B[0;32mif\u001B[0m \u001B[0mself\u001B[0m\u001B[0;34m.\u001B[0m\u001B[0m_created_variables\u001B[0m\u001B[0;34m:\u001B[0m\u001B[0;34m\u001B[0m\u001B[0;34m\u001B[0m\u001B[0m\n\u001B[1;32m    864\u001B[0m         raise ValueError(\"Creating variables on a non-first call to a function\"\n",
      "\u001B[0;32m~/miniconda3/envs/octClassifier/lib/python3.9/site-packages/tensorflow/python/eager/function.py\u001B[0m in \u001B[0;36m__call__\u001B[0;34m(self, *args, **kwargs)\u001B[0m\n\u001B[1;32m   2940\u001B[0m       (graph_function,\n\u001B[1;32m   2941\u001B[0m        filtered_flat_args) = self._maybe_define_function(args, kwargs)\n\u001B[0;32m-> 2942\u001B[0;31m     return graph_function._call_flat(\n\u001B[0m\u001B[1;32m   2943\u001B[0m         filtered_flat_args, captured_inputs=graph_function.captured_inputs)  # pylint: disable=protected-access\n\u001B[1;32m   2944\u001B[0m \u001B[0;34m\u001B[0m\u001B[0m\n",
      "\u001B[0;32m~/miniconda3/envs/octClassifier/lib/python3.9/site-packages/tensorflow/python/eager/function.py\u001B[0m in \u001B[0;36m_call_flat\u001B[0;34m(self, args, captured_inputs, cancellation_manager)\u001B[0m\n\u001B[1;32m   1916\u001B[0m         and executing_eagerly):\n\u001B[1;32m   1917\u001B[0m       \u001B[0;31m# No tape is watching; skip to running the function.\u001B[0m\u001B[0;34m\u001B[0m\u001B[0;34m\u001B[0m\u001B[0m\n\u001B[0;32m-> 1918\u001B[0;31m       return self._build_call_outputs(self._inference_function.call(\n\u001B[0m\u001B[1;32m   1919\u001B[0m           ctx, args, cancellation_manager=cancellation_manager))\n\u001B[1;32m   1920\u001B[0m     forward_backward = self._select_forward_and_backward_functions(\n",
      "\u001B[0;32m~/miniconda3/envs/octClassifier/lib/python3.9/site-packages/tensorflow/python/eager/function.py\u001B[0m in \u001B[0;36mcall\u001B[0;34m(self, ctx, args, cancellation_manager)\u001B[0m\n\u001B[1;32m    553\u001B[0m       \u001B[0;32mwith\u001B[0m \u001B[0m_InterpolateFunctionError\u001B[0m\u001B[0;34m(\u001B[0m\u001B[0mself\u001B[0m\u001B[0;34m)\u001B[0m\u001B[0;34m:\u001B[0m\u001B[0;34m\u001B[0m\u001B[0;34m\u001B[0m\u001B[0m\n\u001B[1;32m    554\u001B[0m         \u001B[0;32mif\u001B[0m \u001B[0mcancellation_manager\u001B[0m \u001B[0;32mis\u001B[0m \u001B[0;32mNone\u001B[0m\u001B[0;34m:\u001B[0m\u001B[0;34m\u001B[0m\u001B[0;34m\u001B[0m\u001B[0m\n\u001B[0;32m--> 555\u001B[0;31m           outputs = execute.execute(\n\u001B[0m\u001B[1;32m    556\u001B[0m               \u001B[0mstr\u001B[0m\u001B[0;34m(\u001B[0m\u001B[0mself\u001B[0m\u001B[0;34m.\u001B[0m\u001B[0msignature\u001B[0m\u001B[0;34m.\u001B[0m\u001B[0mname\u001B[0m\u001B[0;34m)\u001B[0m\u001B[0;34m,\u001B[0m\u001B[0;34m\u001B[0m\u001B[0;34m\u001B[0m\u001B[0m\n\u001B[1;32m    557\u001B[0m               \u001B[0mnum_outputs\u001B[0m\u001B[0;34m=\u001B[0m\u001B[0mself\u001B[0m\u001B[0;34m.\u001B[0m\u001B[0m_num_outputs\u001B[0m\u001B[0;34m,\u001B[0m\u001B[0;34m\u001B[0m\u001B[0;34m\u001B[0m\u001B[0m\n",
      "\u001B[0;32m~/miniconda3/envs/octClassifier/lib/python3.9/site-packages/tensorflow/python/eager/execute.py\u001B[0m in \u001B[0;36mquick_execute\u001B[0;34m(op_name, num_outputs, inputs, attrs, ctx, name)\u001B[0m\n\u001B[1;32m     57\u001B[0m   \u001B[0;32mtry\u001B[0m\u001B[0;34m:\u001B[0m\u001B[0;34m\u001B[0m\u001B[0;34m\u001B[0m\u001B[0m\n\u001B[1;32m     58\u001B[0m     \u001B[0mctx\u001B[0m\u001B[0;34m.\u001B[0m\u001B[0mensure_initialized\u001B[0m\u001B[0;34m(\u001B[0m\u001B[0;34m)\u001B[0m\u001B[0;34m\u001B[0m\u001B[0;34m\u001B[0m\u001B[0m\n\u001B[0;32m---> 59\u001B[0;31m     tensors = pywrap_tfe.TFE_Py_Execute(ctx._handle, device_name, op_name,\n\u001B[0m\u001B[1;32m     60\u001B[0m                                         inputs, attrs, num_outputs)\n\u001B[1;32m     61\u001B[0m   \u001B[0;32mexcept\u001B[0m \u001B[0mcore\u001B[0m\u001B[0;34m.\u001B[0m\u001B[0m_NotOkStatusException\u001B[0m \u001B[0;32mas\u001B[0m \u001B[0me\u001B[0m\u001B[0;34m:\u001B[0m\u001B[0;34m\u001B[0m\u001B[0;34m\u001B[0m\u001B[0m\n",
      "\u001B[0;31mKeyboardInterrupt\u001B[0m: "
     ]
    }
   ],
   "source": [
    "test_dataset = reader.create_test_dataset([(\"/mnt/NewHDD/train_data/raw_1536x2048x2045x2_9201.bin\", 0)])\n",
    "output_some_file = new_model.predict(test_dataset.batch(20), callbacks=Callbacks.tboard_callback)"
   ],
   "metadata": {
    "collapsed": false,
    "pycharm": {
     "name": "#%%\n"
    }
   }
  },
  {
   "cell_type": "code",
   "execution_count": 28,
   "outputs": [],
   "source": [
    "test_dataset = reader.create_test_dataset([InputList.healthy_testing_files[0]])\n",
    "output_healthy_test = new_model.predict(test_dataset.batch(20))"
   ],
   "metadata": {
    "collapsed": false,
    "pycharm": {
     "name": "#%%\n"
    }
   }
  },
  {
   "cell_type": "code",
   "execution_count": 6,
   "outputs": [
    {
     "name": "stderr",
     "output_type": "stream",
     "text": [
      "2022-02-10 09:57:10.869736: I tensorflow/compiler/mlir/mlir_graph_optimization_pass.cc:116] None of the MLIR optimization passes are enabled (registered 2)\n",
      "2022-02-10 09:57:10.886408: I tensorflow/core/platform/profile_utils/cpu_utils.cc:112] CPU Frequency: 2899885000 Hz\n",
      "2022-02-10 09:57:12.287878: W tensorflow/core/framework/cpu_allocator_impl.cc:80] Allocation of 5064622080 exceeds 10% of free system memory.\n",
      "2022-02-10 09:57:17.295475: W tensorflow/core/framework/cpu_allocator_impl.cc:80] Allocation of 5064622080 exceeds 10% of free system memory.\n",
      "2022-02-10 09:57:22.651924: W tensorflow/core/framework/cpu_allocator_impl.cc:80] Allocation of 5064622080 exceeds 10% of free system memory.\n",
      "2022-02-10 09:57:28.308051: W tensorflow/core/framework/cpu_allocator_impl.cc:80] Allocation of 5064622080 exceeds 10% of free system memory.\n",
      "2022-02-10 09:57:33.802789: W tensorflow/core/framework/cpu_allocator_impl.cc:80] Allocation of 5064622080 exceeds 10% of free system memory.\n"
     ]
    }
   ],
   "source": [
    "test_dataset = reader.create_test_dataset([InputList.diabetic_testing_files[0]])\n",
    "output_diabetic_test = new_model.predict(test_dataset.batch(20))"
   ],
   "metadata": {
    "collapsed": false,
    "pycharm": {
     "name": "#%%\n"
    }
   }
  },
  {
   "cell_type": "code",
   "execution_count": 32,
   "outputs": [
    {
     "data": {
      "text/plain": "3.9775429"
     },
     "execution_count": 32,
     "metadata": {},
     "output_type": "execute_result"
    }
   ],
   "source": [
    "np.max(output_test)"
   ],
   "metadata": {
    "collapsed": false,
    "pycharm": {
     "name": "#%%\n"
    }
   }
  },
  {
   "cell_type": "code",
   "execution_count": 9,
   "outputs": [],
   "source": [
    "with open(\"instance_test/output_buffer.npy\", \"wb\") as f:\n",
    "    np.save(f, output_diabetic_test)"
   ],
   "metadata": {
    "collapsed": false,
    "pycharm": {
     "name": "#%%\n"
    }
   }
  },
  {
   "cell_type": "code",
   "execution_count": 10,
   "outputs": [],
   "source": [
    "with open(\"instance_test/output_buffer.npy\", \"rb\") as f:\n",
    "    buffi = np.load(f)"
   ],
   "metadata": {
    "collapsed": false,
    "pycharm": {
     "name": "#%%\n"
    }
   }
  },
  {
   "cell_type": "code",
   "execution_count": 11,
   "outputs": [
    {
     "data": {
      "text/plain": "array([[6.119612 ],\n       [6.305094 ],\n       [7.2212224],\n       ...,\n       [6.104448 ],\n       [6.5245843],\n       [6.7683864]], dtype=float32)"
     },
     "execution_count": 11,
     "metadata": {},
     "output_type": "execute_result"
    }
   ],
   "source": [
    "buffi"
   ],
   "metadata": {
    "collapsed": false,
    "pycharm": {
     "name": "#%%\n"
    }
   }
  },
  {
   "cell_type": "code",
   "execution_count": 33,
   "outputs": [],
   "source": [
    "import Visualization\n",
    "reload(Visualization)\n",
    "testing_diabetic_image = Visualization.ImageVisualizer(output_test,\n",
    "                                                       info_map=None,\n",
    "                                                       background_image_path=\n",
    "                                                       \"/mnt/p_Zeiss/Projects/UWF OCTA/Clinical data/MOON1/D71/rechts/retina_1536x2048x2045x2_2375.png\"\n",
    "                                                       , instance_size=(102, 102, 20, 20))\n",
    "testing_diabetic_image.plot_results_map(\"diabetic_test\")"
   ],
   "metadata": {
    "collapsed": false,
    "pycharm": {
     "name": "#%%\n"
    }
   }
  },
  {
   "cell_type": "code",
   "execution_count": 49,
   "outputs": [],
   "source": [
    "testing_healthy_image = Visualization.ImageVisualizer(output_healthy_test,\n",
    "                                                       info_map=None,\n",
    "                                                       background_image_path=\n",
    "                                                       \"/mnt/p_Zeiss/Projects/UWF OCTA/Clinical data/MOON1/D71/rechts/retina_1536x2048x2045x2_2375.png\")\n",
    "testing_healthy_image.plot_results_map(\"healthy_test\")"
   ],
   "metadata": {
    "collapsed": false,
    "pycharm": {
     "name": "#%%\n"
    }
   }
  },
  {
   "cell_type": "code",
   "execution_count": null,
   "outputs": [],
   "source": [
    "output_healthy_val"
   ],
   "metadata": {
    "collapsed": false,
    "pycharm": {
     "name": "#%%\n"
    }
   }
  },
  {
   "cell_type": "code",
   "execution_count": null,
   "outputs": [],
   "source": [
    "i = 1"
   ],
   "metadata": {
    "collapsed": false,
    "pycharm": {
     "name": "#%%\n"
    }
   }
  },
  {
   "cell_type": "code",
   "execution_count": 1,
   "outputs": [
    {
     "ename": "NameError",
     "evalue": "name 'np' is not defined",
     "output_type": "error",
     "traceback": [
      "\u001B[0;31m---------------------------------------------------------------------------\u001B[0m",
      "\u001B[0;31mNameError\u001B[0m                                 Traceback (most recent call last)",
      "\u001B[0;32m/tmp/ipykernel_124730/3559668553.py\u001B[0m in \u001B[0;36m<module>\u001B[0;34m\u001B[0m\n\u001B[0;32m----> 1\u001B[0;31m \u001B[0mnp\u001B[0m\u001B[0;34m.\u001B[0m\u001B[0margmax\u001B[0m\u001B[0;34m(\u001B[0m\u001B[0moutput_diabetic_test\u001B[0m\u001B[0;34m)\u001B[0m\u001B[0;34m\u001B[0m\u001B[0;34m\u001B[0m\u001B[0m\n\u001B[0m",
      "\u001B[0;31mNameError\u001B[0m: name 'np' is not defined"
     ]
    }
   ],
   "source": [
    "np.argmax(output_diabetic_test)"
   ],
   "metadata": {
    "collapsed": false,
    "pycharm": {
     "name": "#%%\n"
    }
   }
  },
  {
   "cell_type": "code",
   "execution_count": null,
   "outputs": [],
   "source": [
    "reload(models)\n",
    "model = models.classiRaw3D(training_dataset.element_spec[0].shape, normalization_layer, reconstruction=False)"
   ],
   "metadata": {
    "collapsed": false,
    "pycharm": {
     "name": "#%%\n"
    }
   }
  },
  {
   "cell_type": "code",
   "execution_count": 224,
   "outputs": [
    {
     "data": {
      "text/plain": "<PrefetchDataset shapes: ((1536, 23, 28, 1), ()), types: (tf.uint16, tf.uint8)>"
     },
     "execution_count": 224,
     "metadata": {},
     "output_type": "execute_result"
    }
   ],
   "source": [
    "training_dataset"
   ],
   "metadata": {
    "collapsed": false,
    "pycharm": {
     "name": "#%%\n"
    }
   }
  },
  {
   "cell_type": "code",
   "execution_count": 8,
   "outputs": [
    {
     "name": "stdout",
     "output_type": "stream",
     "text": [
      "Num GPUs Available:  0\n"
     ]
    }
   ],
   "source": [
    "import tensorflow as tf\n",
    "tf.debugging.set_log_device_placement(True)"
   ],
   "metadata": {
    "collapsed": false,
    "pycharm": {
     "name": "#%%\n"
    }
   }
  },
  {
   "cell_type": "code",
   "execution_count": 18,
   "outputs": [
    {
     "data": {
      "text/plain": "<tensorflow.python.training.tracking.util.CheckpointLoadStatus at 0x7f969874a730>"
     },
     "execution_count": 18,
     "metadata": {},
     "output_type": "execute_result"
    }
   ],
   "source": [
    "model.load_weights(\"checkpoints/best_model\")"
   ],
   "metadata": {
    "collapsed": false,
    "pycharm": {
     "name": "#%%\n"
    }
   }
  },
  {
   "cell_type": "code",
   "execution_count": 12,
   "outputs": [
    {
     "name": "stdout",
     "output_type": "stream",
     "text": [
      "<_io.TextIOWrapper name='checkpoints/best_model.data-00000-of-00001' mode='r' encoding='UTF-8'>\n"
     ]
    }
   ],
   "source": [
    "with open(\"checkpoints/best_model.data-00000-of-00001\") as testi:\n",
    "    print(testi)"
   ],
   "metadata": {
    "collapsed": false,
    "pycharm": {
     "name": "#%%\n"
    }
   }
  },
  {
   "cell_type": "markdown",
   "source": [
    "print_function(Bag Number, dataset)\n",
    "\n",
    "-> In einem Bag sind 7000 Instanzen"
   ],
   "metadata": {
    "collapsed": false,
    "pycharm": {
     "name": "#%% md\n"
    }
   }
  },
  {
   "cell_type": "markdown",
   "source": [
    "# Bag Level Model:\n",
    "\n",
    "Ich hab ganz viele Softmaxes und von denen nehm ich einfach den Max Wert"
   ],
   "metadata": {
    "collapsed": false,
    "pycharm": {
     "name": "#%% md\n"
    }
   }
  },
  {
   "cell_type": "code",
   "execution_count": 68,
   "outputs": [
    {
     "name": "stderr",
     "output_type": "stream",
     "text": [
      "2022-02-08 18:00:53.002220: W tensorflow/core/framework/cpu_allocator_impl.cc:80] Allocation of 5064622080 exceeds 10% of free system memory.\n",
      "2022-02-08 18:00:57.834422: W tensorflow/core/framework/cpu_allocator_impl.cc:80] Allocation of 5064622080 exceeds 10% of free system memory.\n",
      "2022-02-08 18:01:03.134897: W tensorflow/core/framework/cpu_allocator_impl.cc:80] Allocation of 5064622080 exceeds 10% of free system memory.\n",
      "2022-02-08 18:01:08.671641: W tensorflow/core/framework/cpu_allocator_impl.cc:80] Allocation of 5064622080 exceeds 10% of free system memory.\n",
      "2022-02-08 18:01:14.168709: W tensorflow/core/framework/cpu_allocator_impl.cc:80] Allocation of 5064622080 exceeds 10% of free system memory.\n"
     ]
    }
   ],
   "source": [
    "test_dataset = reader.create_test_dataset([InputList.diabetic_training_files[4]])\n",
    "output = model.predict(test_dataset.batch(20))"
   ],
   "metadata": {
    "collapsed": false,
    "pycharm": {
     "name": "#%%\n"
    }
   }
  },
  {
   "cell_type": "code",
   "execution_count": 83,
   "outputs": [],
   "source": [],
   "metadata": {
    "collapsed": false,
    "pycharm": {
     "name": "#%%\n"
    }
   }
  },
  {
   "cell_type": "code",
   "execution_count": null,
   "outputs": [],
   "source": [],
   "metadata": {
    "collapsed": false,
    "pycharm": {
     "name": "#%%\n"
    }
   }
  }
 ],
 "metadata": {
  "kernelspec": {
   "display_name": "Python 3",
   "language": "python",
   "name": "python3"
  },
  "language_info": {
   "codemirror_mode": {
    "name": "ipython",
    "version": 2
   },
   "file_extension": ".py",
   "mimetype": "text/x-python",
   "name": "python",
   "nbconvert_exporter": "python",
   "pygments_lexer": "ipython2",
   "version": "2.7.6"
  }
 },
 "nbformat": 4,
 "nbformat_minor": 0
}