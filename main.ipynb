{
 "cells": [
  {
   "cell_type": "code",
   "execution_count": 25,
   "metadata": {
    "collapsed": true,
    "pycharm": {
     "name": "#%%\n"
    }
   },
   "outputs": [],
   "source": [
    "import numpy as np\n",
    "\n",
    "from BinaryReader import BinaryReader\n",
    "import Preprocessor\n",
    "from models import classiRaw3D\n",
    "import importlib"
   ]
  },
  {
   "cell_type": "code",
   "execution_count": 29,
   "outputs": [
    {
     "data": {
      "text/plain": "<module 'Preprocessor' from '/home/julius/dataspellprojects/oct-classifier/Preprocessor.py'>"
     },
     "execution_count": 29,
     "metadata": {},
     "output_type": "execute_result"
    }
   ],
   "source": [
    "importlib.reload(Preprocessor)"
   ],
   "metadata": {
    "collapsed": false,
    "pycharm": {
     "name": "#%%\n"
    }
   }
  },
  {
   "cell_type": "code",
   "execution_count": 35,
   "outputs": [],
   "source": [
    "reader = BinaryReader()  # TODO: Normalizer\n",
    "dataset = reader.create_training_datasets()\n",
    "preprocesser = Preprocessor.Preprocessor(dataset)"
   ],
   "metadata": {
    "collapsed": false,
    "pycharm": {
     "name": "#%%\n"
    }
   }
  },
  {
   "cell_type": "code",
   "execution_count": 50,
   "outputs": [
    {
     "name": "stdout",
     "output_type": "stream",
     "text": [
      "Calculating Mean and Standard Deviation of whole Dataset. This could take a while\n",
      "15.726354266820328 15.157980211665121\n",
      "Calculating Mean and Standard Deviation of whole Dataset. This could take a while\n",
      "-4.057625793914698e-08 1.0000000221005987\n"
     ]
    }
   ],
   "source": [
    "preprocesser.standardize()\n",
    "print(preprocesser.mean, preprocesser.std)\n",
    "preprocesser.calc_moments()\n",
    "print(preprocesser.mean, preprocesser.std)"
   ],
   "metadata": {
    "collapsed": false,
    "pycharm": {
     "name": "#%%\n"
    }
   }
  },
  {
   "cell_type": "code",
   "execution_count": null,
   "outputs": [],
   "source": [
    "model = classiRaw3D(dataset.element_spec[0].shape)\n",
    "model.save('savedModels/first')"
   ],
   "metadata": {
    "collapsed": false,
    "pycharm": {
     "name": "#%%\n"
    }
   }
  }
 ],
 "metadata": {
  "kernelspec": {
   "display_name": "Python 3",
   "language": "python",
   "name": "python3"
  },
  "language_info": {
   "codemirror_mode": {
    "name": "ipython",
    "version": 2
   },
   "file_extension": ".py",
   "mimetype": "text/x-python",
   "name": "python",
   "nbconvert_exporter": "python",
   "pygments_lexer": "ipython2",
   "version": "2.7.6"
  }
 },
 "nbformat": 4,
 "nbformat_minor": 0
}