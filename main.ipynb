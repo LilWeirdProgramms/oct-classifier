{
 "cells": [
  {
   "cell_type": "code",
   "execution_count": 10,
   "metadata": {
    "collapsed": true,
    "pycharm": {
     "name": "#%%\n"
    }
   },
   "outputs": [],
   "source": [
    "import numpy\n",
    "import numpy as np\n",
    "import tensorflow.keras as keras\n",
    "import tensorflow as tf\n",
    "from importlib import reload\n",
    "import InputList\n",
    "import BinaryReader\n",
    "import Preprocessor\n",
    "import models\n",
    "import Callbacks\n",
    "import TFRecordsHandler\n",
    "import os"
   ]
  },
  {
   "cell_type": "code",
   "execution_count": 195,
   "outputs": [
    {
     "data": {
      "text/plain": "<module 'BinaryReader' from '/home/julius/dataspellprojects/oct-classifier/BinaryReader.py'>"
     },
     "execution_count": 195,
     "metadata": {},
     "output_type": "execute_result"
    }
   ],
   "source": [
    "reload(BinaryReader)"
   ],
   "metadata": {
    "collapsed": false,
    "pycharm": {
     "name": "#%%\n"
    }
   }
  },
  {
   "cell_type": "code",
   "execution_count": 11,
   "outputs": [],
   "source": [
    "data_location = \"/mnt/NewHDD/tfrecords\"\n",
    "all_input_files = []\n",
    "for path, subdirs, files in os.walk(data_location):\n",
    "    for file in files:\n",
    "        all_input_files.append(os.path.join(path, file))"
   ],
   "metadata": {
    "collapsed": false,
    "pycharm": {
     "name": "#%%\n"
    }
   }
  },
  {
   "cell_type": "code",
   "execution_count": 3,
   "outputs": [
    {
     "data": {
      "text/plain": "'/mnt/NewHDD/tfrecords/0_24012/b6_c0.tfrecords'"
     },
     "execution_count": 3,
     "metadata": {},
     "output_type": "execute_result"
    }
   ],
   "source": [
    "all_input_files[0]"
   ],
   "metadata": {
    "collapsed": false,
    "pycharm": {
     "name": "#%%\n"
    }
   }
  },
  {
   "cell_type": "code",
   "execution_count": 107,
   "outputs": [],
   "source": [
    "def tfrecords_reader(list_of_files, deterministic=False):\n",
    "    dataset = tf.data.Dataset.from_tensor_slices(list_of_files)\n",
    "    if not deterministic:\n",
    "        dataset = dataset.shuffle(len(list_of_files))\n",
    "    dataset = dataset.interleave(lambda x: tf.data.TFRecordDataset(x),\n",
    "                                 num_parallel_calls=tf.data.AUTOTUNE,\n",
    "                                 deterministic=deterministic) \\\n",
    "                      .prefetch(tf.data.AUTOTUNE)\n",
    "    # pass every single feature through our mapping function\n",
    "    dataset = dataset.map(\n",
    "      TFRecordsHandler.parse_tfr_element\n",
    "    )\n",
    "    return dataset"
   ],
   "metadata": {
    "collapsed": false,
    "pycharm": {
     "name": "#%%\n"
    }
   }
  },
  {
   "cell_type": "code",
   "execution_count": 196,
   "outputs": [
    {
     "name": "stdout",
     "output_type": "stream",
     "text": [
      "Num GPUs Available:  1\n"
     ]
    }
   ],
   "source": [
    "print(\"Num GPUs Available: \", len(tf.config.list_physical_devices('GPU')))\n",
    "reader = BinaryReader.BinaryReader()  # TODO: Normalizer"
   ],
   "metadata": {
    "collapsed": false,
    "pycharm": {
     "name": "#%%\n"
    }
   }
  },
  {
   "cell_type": "code",
   "execution_count": null,
   "outputs": [],
   "source": [
    "training_files, validation_files = reader.split_file_list_for_validation(all_input_files)"
   ],
   "metadata": {
    "collapsed": false,
    "pycharm": {
     "name": "#%%\n"
    }
   }
  },
  {
   "cell_type": "code",
   "execution_count": 124,
   "outputs": [],
   "source": [
    "training_dataset = tfrecords_reader(training_files)\n",
    "validation_dataset = tfrecords_reader(validation_files, deterministic=True)"
   ],
   "metadata": {
    "collapsed": false,
    "pycharm": {
     "name": "#%%\n"
    }
   }
  },
  {
   "cell_type": "code",
   "execution_count": 100,
   "outputs": [],
   "source": [
    "preproc = Preprocessor.Preprocessor(training_dataset)\n",
    "normalization_layer = preproc.normalize_layer()"
   ],
   "metadata": {
    "collapsed": false,
    "pycharm": {
     "name": "#%%\n"
    }
   }
  },
  {
   "cell_type": "code",
   "execution_count": 6,
   "outputs": [
    {
     "data": {
      "text/plain": "{0: 2.5, 1: 0.625}"
     },
     "execution_count": 6,
     "metadata": {},
     "output_type": "execute_result"
    }
   ],
   "source": [
    "a = len(training_files)\n",
    "b = len(validation_files)\n",
    "class_weights = {0: (1/b) * (a+b)/2, 1:(1/a) * (a+b)/2}\n",
    "class_weights"
   ],
   "metadata": {
    "collapsed": false,
    "pycharm": {
     "name": "#%%\n"
    }
   }
  },
  {
   "cell_type": "code",
   "execution_count": 99,
   "outputs": [
    {
     "ename": "NameError",
     "evalue": "name 'normalization_layer' is not defined",
     "output_type": "error",
     "traceback": [
      "\u001B[0;31m---------------------------------------------------------------------------\u001B[0m",
      "\u001B[0;31mNameError\u001B[0m                                 Traceback (most recent call last)",
      "Input \u001B[0;32mIn [99]\u001B[0m, in \u001B[0;36m<module>\u001B[0;34m\u001B[0m\n\u001B[0;32m----> 1\u001B[0m \u001B[43mnormalization_layer\u001B[49m\n",
      "\u001B[0;31mNameError\u001B[0m: name 'normalization_layer' is not defined"
     ]
    }
   ],
   "source": [
    "normalization_layer\n",
    "conv = Conv3D(16, 3, activation=\"relu\", padding=\"same\", kernel_initializer=init,\n",
    "              bias_initializer=binit, kernel_regularizer=keras.regularizers.l1(l1=0.01))(conv)\n"
   ],
   "metadata": {
    "collapsed": false,
    "pycharm": {
     "name": "#%%\n"
    }
   }
  },
  {
   "cell_type": "code",
   "execution_count": 117,
   "outputs": [
    {
     "name": "stdout",
     "output_type": "stream",
     "text": [
      "Model: \"model_6\"\n",
      "_________________________________________________________________\n",
      " Layer (type)                Output Shape              Param #   \n",
      "=================================================================\n",
      " input_7 (InputLayer)        [(None, 1536, 102, 102,   0         \n",
      "                             1)]                                 \n",
      "                                                                 \n",
      " normalization (Normalizatio  (None, 1536, 102, 102, 1  3        \n",
      " n)                          )                                   \n",
      "                                                                 \n",
      " conv3d_36 (Conv3D)          (None, 1536, 102, 102, 1  448       \n",
      "                             6)                                  \n",
      "                                                                 \n",
      " conv3d_37 (Conv3D)          (None, 1536, 102, 102, 1  6928      \n",
      "                             6)                                  \n",
      "                                                                 \n",
      " max_pooling3d_19 (MaxPoolin  (None, 768, 51, 51, 16)  0         \n",
      " g3D)                                                            \n",
      "                                                                 \n",
      " conv3d_38 (Conv3D)          (None, 768, 51, 51, 32)   13856     \n",
      "                                                                 \n",
      " conv3d_39 (Conv3D)          (None, 768, 51, 51, 32)   27680     \n",
      "                                                                 \n",
      " max_pooling3d_20 (MaxPoolin  (None, 384, 25, 25, 32)  0         \n",
      " g3D)                                                            \n",
      "                                                                 \n",
      " dropout_4 (Dropout)         (None, 384, 25, 25, 32)   0         \n",
      "                                                                 \n",
      " conv3d_40 (Conv3D)          (None, 384, 25, 25, 64)   55360     \n",
      "                                                                 \n",
      " conv3d_41 (Conv3D)          (None, 384, 25, 25, 64)   110656    \n",
      "                                                                 \n",
      " max_pooling3d_21 (MaxPoolin  (None, 96, 6, 6, 64)     0         \n",
      " g3D)                                                            \n",
      "                                                                 \n",
      " flatten_6 (Flatten)         (None, 221184)            0         \n",
      "                                                                 \n",
      " dense_6 (Dense)             (None, 1)                 221185    \n",
      "                                                                 \n",
      "=================================================================\n",
      "Total params: 436,116\n",
      "Trainable params: 436,113\n",
      "Non-trainable params: 3\n",
      "_________________________________________________________________\n"
     ]
    }
   ],
   "source": [
    "# TODO: steps per epoch\n",
    "BATCH_SIZE = 1\n",
    "NUM_SAMPLES_TRAIN = len(training_files)\n",
    "NUM_SAMPLES_VAL = len(validation_files)\n",
    "CHECKPOINTS = 30\n",
    "NUM_WALKTHROUGH = 10\n",
    "\n",
    "model = models.RawClassifier().model()((1536, 102, 102, 1), normalization_layer, reconstruction=False)"
   ],
   "metadata": {
    "collapsed": false,
    "pycharm": {
     "name": "#%%\n"
    }
   }
  },
  {
   "cell_type": "code",
   "execution_count": 118,
   "outputs": [
    {
     "data": {
      "text/plain": "2.794"
     },
     "execution_count": 118,
     "metadata": {},
     "output_type": "execute_result"
    }
   ],
   "source": [
    "models.get_model_memory_usage(1, model)"
   ],
   "metadata": {
    "collapsed": false,
    "pycharm": {
     "name": "#%%\n"
    }
   }
  },
  {
   "cell_type": "code",
   "execution_count": 119,
   "outputs": [
    {
     "name": "stdout",
     "output_type": "stream",
     "text": [
      "3840 960\n"
     ]
    }
   ],
   "source": [
    "train_steps=int(NUM_SAMPLES_TRAIN * NUM_WALKTHROUGH / (BATCH_SIZE * CHECKPOINTS))\n",
    "val_steps=int(NUM_SAMPLES_VAL * NUM_WALKTHROUGH / (BATCH_SIZE * CHECKPOINTS))\n",
    "print(train_steps, val_steps)"
   ],
   "metadata": {
    "collapsed": false,
    "pycharm": {
     "name": "#%%\n"
    }
   }
  },
  {
   "cell_type": "code",
   "execution_count": 120,
   "outputs": [
    {
     "data": {
      "text/plain": "<Figure size 720x576 with 1 Axes>",
      "image/png": "[encoded data removed]"
     },
     "metadata": {
      "needs_background": "light"
     },
     "output_type": "display_data"
    },
    {
     "name": "stdout",
     "output_type": "stream",
     "text": [
      "3840/3840 [==============================] - 2069s 539ms/step - loss: 0.1545 - val_loss: 0.1309\n",
      "INFO:tensorflow:Assets written to: savedModels/first/assets\n"
     ]
    }
   ],
   "source": [
    "history = model.fit(\n",
    "    training_dataset.batch(BATCH_SIZE).repeat(),\n",
    "    epochs=CHECKPOINTS,\n",
    "    validation_data=validation_dataset.batch(BATCH_SIZE).repeat(),\n",
    "    callbacks=Callbacks.my_callbacks,\n",
    "    class_weight=class_weights,\n",
    "    use_multiprocessing=True,\n",
    "    steps_per_epoch= train_steps,\n",
    "    validation_steps=val_steps\n",
    ")\n",
    "model.save('savedModels/first')"
   ],
   "metadata": {
    "collapsed": false,
    "pycharm": {
     "name": "#%%\n"
    }
   }
  },
  {
   "cell_type": "code",
   "execution_count": null,
   "outputs": [],
   "source": [
    "expected = 26133\n",
    "expected_time = 26133 * 4 # sekunden -> 30 Stunden pro Epoche :("
   ],
   "metadata": {
    "collapsed": false,
    "pycharm": {
     "name": "#%%\n"
    }
   }
  },
  {
   "cell_type": "code",
   "execution_count": 7,
   "outputs": [],
   "source": [
    "#normalization_weights = normalization_layer.get_weights()\n",
    "#print(\"Before:\" + str(normalization_weights))\n",
    "# normalization_weights_path = \"results/normalization.npy\"\n",
    "# #np.save(normalization_weights_path, normalization_weights)\n",
    "# normalization_layer.set_weights(np.load(normalization_weights_path))\n",
    "# print(\"After\" + str(normalization_layer.get_weights()))"
   ],
   "metadata": {
    "collapsed": false,
    "pycharm": {
     "name": "#%%\n"
    }
   }
  },
  {
   "cell_type": "code",
   "execution_count": 8,
   "outputs": [
    {
     "name": "stderr",
     "output_type": "stream",
     "text": [
      "2022-02-18 09:26:48.837202: W tensorflow/python/util/util.cc:348] Sets are not currently considered sequences, but this may change in the future, so consider avoiding using them.\n"
     ]
    },
    {
     "name": "stdout",
     "output_type": "stream",
     "text": [
      "INFO:tensorflow:Reduce to /job:localhost/replica:0/task:0/device:CPU:0 then broadcast to ('/job:localhost/replica:0/task:0/device:CPU:0',).\n",
      "INFO:tensorflow:Reduce to /job:localhost/replica:0/task:0/device:CPU:0 then broadcast to ('/job:localhost/replica:0/task:0/device:CPU:0',).\n",
      "INFO:tensorflow:Assets written to: savedModels/first_with_all_data/assets\n"
     ]
    }
   ],
   "source": [
    "model.save('savedModels/first_with_all_data')"
   ],
   "metadata": {
    "collapsed": false,
    "pycharm": {
     "name": "#%%\n"
    }
   }
  },
  {
   "cell_type": "code",
   "execution_count": 18,
   "outputs": [],
   "source": [
    "trained_model = keras.models.load_model('savedModels/first')"
   ],
   "metadata": {
    "collapsed": false,
    "pycharm": {
     "name": "#%%\n"
    }
   }
  },
  {
   "cell_type": "code",
   "execution_count": 149,
   "outputs": [
    {
     "name": "stdout",
     "output_type": "stream",
     "text": [
      "(3, 3, 3, 16)\n"
     ]
    },
    {
     "data": {
      "text/plain": "[<matplotlib.lines.Line2D at 0x7f8e3835e470>]"
     },
     "execution_count": 149,
     "metadata": {},
     "output_type": "execute_result"
    },
    {
     "data": {
      "text/plain": "<Figure size 432x288 with 1 Axes>",
      "image/png": "[encoded data removed]"
     },
     "metadata": {
      "needs_background": "light"
     },
     "output_type": "display_data"
    },
    {
     "data": {
      "text/plain": "<Figure size 432x288 with 1 Axes>",
      "image/png": "[encoded data removed]"
     },
     "metadata": {
      "needs_background": "light"
     },
     "output_type": "display_data"
    }
   ],
   "source": [
    "import matplotlib.pyplot as plt\n",
    "weights_to_plot = model.layers[2].get_weights()[0][:,:,:,0,:]\n",
    "print(weights_to_plot.shape)\n",
    "plt.imshow(weights_to_plot[:, :, 0, 0], cmap=\"Greys\")\n",
    "fig = plt.figure()\n",
    "plt.plot(weights_to_plot.flatten())"
   ],
   "metadata": {
    "collapsed": false,
    "pycharm": {
     "name": "#%%\n"
    }
   }
  },
  {
   "cell_type": "code",
   "execution_count": 153,
   "outputs": [
    {
     "name": "stdout",
     "output_type": "stream",
     "text": [
      "-0.006858311\n"
     ]
    }
   ],
   "source": [
    "for elem in validation_dataset.take(1):\n",
    "    print(np.mean(normalization_layer(elem[0])))"
   ],
   "metadata": {
    "collapsed": false,
    "pycharm": {
     "name": "#%%\n"
    }
   }
  },
  {
   "cell_type": "code",
   "execution_count": 220,
   "outputs": [
    {
     "data": {
      "text/plain": "('/mnt/p_Zeiss/Projects/UWF OCTA/Clinical data/MOON1/H3/raw_1536x2048x2045x2_9579.bin',\n 0)"
     },
     "execution_count": 220,
     "metadata": {},
     "output_type": "execute_result"
    }
   ],
   "source": [
    "InputList.healthy_training_files[5]"
   ],
   "metadata": {
    "collapsed": false,
    "pycharm": {
     "name": "#%%\n"
    }
   }
  },
  {
   "cell_type": "code",
   "execution_count": 221,
   "outputs": [],
   "source": [
    "test_dataset = reader.create_test_dataset([InputList.healthy_training_files[5]])"
   ],
   "metadata": {
    "collapsed": false,
    "pycharm": {
     "name": "#%%\n"
    }
   }
  },
  {
   "cell_type": "code",
   "execution_count": 252,
   "outputs": [
    {
     "name": "stdout",
     "output_type": "stream",
     "text": [
      "116\n",
      "133\n",
      "249\n",
      "369\n",
      "438\n",
      "570\n",
      "775\n",
      "1042\n",
      "2609\n"
     ]
    }
   ],
   "source": [
    "val = []\n",
    "train = []\n",
    "i = 0\n",
    "for file in validation_files:\n",
    "    if file.find(\"30720\") != -1:\n",
    "        if file.find(\"b1_\") != -1:\n",
    "            val.append(file)\n",
    "            print(i)\n",
    "    i += 1\n",
    "for file in training_files:\n",
    "    if file.find(\"30720\") != -1:\n",
    "        if file.find(\"b1_\") != -1:\n",
    "            train.append(file)"
   ],
   "metadata": {
    "collapsed": false,
    "pycharm": {
     "name": "#%%\n"
    }
   }
  },
  {
   "cell_type": "code",
   "execution_count": 253,
   "outputs": [
    {
     "data": {
      "text/plain": "['/mnt/NewHDD/tfrecords/1_30720/b1_c6.tfrecords',\n '/mnt/NewHDD/tfrecords/1_30720/b1_c7.tfrecords',\n '/mnt/NewHDD/tfrecords/1_30720/b1_c19.tfrecords',\n '/mnt/NewHDD/tfrecords/1_30720/b1_c3.tfrecords',\n '/mnt/NewHDD/tfrecords/1_30720/b1_c11.tfrecords',\n '/mnt/NewHDD/tfrecords/1_30720/b1_c2.tfrecords',\n '/mnt/NewHDD/tfrecords/1_30720/b1_c0.tfrecords',\n '/mnt/NewHDD/tfrecords/1_30720/b1_c16.tfrecords',\n '/mnt/NewHDD/tfrecords/1_30720/b1_c10.tfrecords']"
     },
     "execution_count": 253,
     "metadata": {},
     "output_type": "execute_result"
    }
   ],
   "source": [
    "val"
   ],
   "metadata": {
    "collapsed": false,
    "pycharm": {
     "name": "#%%\n"
    }
   }
  },
  {
   "cell_type": "code",
   "execution_count": null,
   "outputs": [],
   "source": [],
   "metadata": {
    "collapsed": false,
    "pycharm": {
     "name": "#%%\n"
    }
   }
  },
  {
   "cell_type": "code",
   "execution_count": null,
   "outputs": [],
   "source": [
    "test_dataset"
   ],
   "metadata": {
    "collapsed": false,
    "pycharm": {
     "name": "#%%\n"
    }
   }
  },
  {
   "cell_type": "code",
   "execution_count": 247,
   "outputs": [],
   "source": [
    "test_dataset = tfrecords_reader(['/mnt/NewHDD/tfrecords/1_30720/b1_c0.tfrecords'])"
   ],
   "metadata": {
    "collapsed": false,
    "pycharm": {
     "name": "#%%\n"
    }
   }
  },
  {
   "cell_type": "code",
   "execution_count": 249,
   "outputs": [
    {
     "name": "stdout",
     "output_type": "stream",
     "text": [
      "tf.Tensor([0], shape=(1,), dtype=int64)\n"
     ]
    }
   ],
   "source": [
    "for elem in test_dataset:\n",
    "    print(elem[1])"
   ],
   "metadata": {
    "collapsed": false,
    "pycharm": {
     "name": "#%%\n"
    }
   }
  },
  {
   "cell_type": "code",
   "execution_count": 229,
   "outputs": [],
   "source": [
    "check_set = tfrecords_reader(validation_files, True)"
   ],
   "metadata": {
    "collapsed": false,
    "pycharm": {
     "name": "#%%\n"
    }
   }
  },
  {
   "cell_type": "code",
   "execution_count": 230,
   "outputs": [
    {
     "name": "stdout",
     "output_type": "stream",
     "text": [
      "2880/2880 [==============================] - 643s 223ms/step\n"
     ]
    }
   ],
   "source": [
    "output_test5 = model.predict(\n",
    "    check_set.batch(1),\n",
    "    verbose = 1,\n",
    "    use_multiprocessing=True\n",
    ")"
   ],
   "metadata": {
    "collapsed": false,
    "pycharm": {
     "name": "#%%\n"
    }
   }
  },
  {
   "cell_type": "code",
   "execution_count": 231,
   "outputs": [
    {
     "data": {
      "text/plain": "array([[-13.660425 ],\n       [-12.056449 ],\n       [-12.290262 ],\n       ...,\n       [  2.02107  ],\n       [-10.346645 ],\n       [  2.1178906]], dtype=float32)"
     },
     "execution_count": 231,
     "metadata": {},
     "output_type": "execute_result"
    }
   ],
   "source": [
    "output_test5"
   ],
   "metadata": {
    "collapsed": false,
    "pycharm": {
     "name": "#%%\n"
    }
   }
  },
  {
   "cell_type": "code",
   "execution_count": 250,
   "outputs": [
    {
     "name": "stdout",
     "output_type": "stream",
     "text": [
      "1/1 [==============================] - 0s 292ms/step\n"
     ]
    }
   ],
   "source": [
    "test_dataset_healthy = reader.create_test_dataset([InputList.healthy_training_files[-1]])\n",
    "output_test_healthy = model.predict(\n",
    "    test_dataset.batch(1),\n",
    "    verbose = 1,\n",
    "    use_multiprocessing=True\n",
    ")"
   ],
   "metadata": {
    "collapsed": false,
    "pycharm": {
     "name": "#%%\n"
    }
   }
  },
  {
   "cell_type": "code",
   "execution_count": 251,
   "outputs": [
    {
     "data": {
      "text/plain": "array([[2.0919182]], dtype=float32)"
     },
     "execution_count": 251,
     "metadata": {},
     "output_type": "execute_result"
    }
   ],
   "source": [
    "output_test_healthy"
   ],
   "metadata": {
    "collapsed": false,
    "pycharm": {
     "name": "#%%\n"
    }
   }
  },
  {
   "cell_type": "code",
   "execution_count": 78,
   "outputs": [],
   "source": [
    "reshaped_test = np.zeros((20,20))\n",
    "for file, output in zip(all_input_files[400:800], output_test):\n",
    "    b_and_c_dim = file.split(\".\")[0].split(\"/\")[-1].split(\"_\")\n",
    "    b_dim = b_and_c_dim[0][1:]\n",
    "    c_dim = b_and_c_dim[1][1:]\n",
    "    reshaped_test[int(b_dim), int(c_dim)] = output"
   ],
   "metadata": {
    "collapsed": false,
    "pycharm": {
     "name": "#%%\n"
    }
   }
  },
  {
   "cell_type": "code",
   "execution_count": 98,
   "outputs": [
    {
     "data": {
      "text/plain": "(2880, 1)"
     },
     "execution_count": 98,
     "metadata": {},
     "output_type": "execute_result"
    }
   ],
   "source": [
    "output_test.shape"
   ],
   "metadata": {
    "collapsed": false,
    "pycharm": {
     "name": "#%%\n"
    }
   }
  },
  {
   "cell_type": "code",
   "execution_count": 236,
   "outputs": [
    {
     "data": {
      "text/plain": "array([[-13.660425 ],\n       [-12.056449 ],\n       [-12.290262 ],\n       [  2.0876215],\n       [-10.84602  ],\n       [  2.1266456],\n       [  2.0506701],\n       [  2.05468  ],\n       [  2.014648 ],\n       [-11.384293 ]], dtype=float32)"
     },
     "execution_count": 236,
     "metadata": {},
     "output_type": "execute_result"
    }
   ],
   "source": [
    "output_test5[:10]"
   ],
   "metadata": {
    "collapsed": false,
    "pycharm": {
     "name": "#%%\n"
    }
   }
  },
  {
   "cell_type": "code",
   "execution_count": 241,
   "outputs": [
    {
     "data": {
      "text/plain": "(2880,)"
     },
     "execution_count": 241,
     "metadata": {},
     "output_type": "execute_result"
    }
   ],
   "source": [
    "output_test5[:,0].shape"
   ],
   "metadata": {
    "collapsed": false,
    "pycharm": {
     "name": "#%%\n"
    }
   }
  },
  {
   "cell_type": "code",
   "execution_count": 254,
   "outputs": [
    {
     "ename": "KeyboardInterrupt",
     "evalue": "",
     "output_type": "error",
     "traceback": [
      "\u001B[0;31m---------------------------------------------------------------------------\u001B[0m",
      "\u001B[0;31mKeyboardInterrupt\u001B[0m                         Traceback (most recent call last)",
      "Input \u001B[0;32mIn [254]\u001B[0m, in \u001B[0;36m<module>\u001B[0;34m\u001B[0m\n\u001B[1;32m      2\u001B[0m reload(Postprocessor)\n\u001B[1;32m      3\u001B[0m labels \u001B[38;5;241m=\u001B[39m []\n\u001B[0;32m----> 4\u001B[0m \u001B[38;5;28;01mfor\u001B[39;00m elem \u001B[38;5;129;01min\u001B[39;00m validation_dataset:\n\u001B[1;32m      5\u001B[0m     labels\u001B[38;5;241m.\u001B[39mappend(elem[\u001B[38;5;241m1\u001B[39m])\n\u001B[1;32m      6\u001B[0m \u001B[38;5;66;03m# for file, output in zip(validation_files, output_test5):\u001B[39;00m\n\u001B[1;32m      7\u001B[0m \u001B[38;5;66;03m#     labels.append(int(file.split(\"/\")[4][0]))\u001B[39;00m\n",
      "File \u001B[0;32m~/miniconda3/envs/tf-test/lib/python3.10/site-packages/tensorflow/python/data/ops/iterator_ops.py:800\u001B[0m, in \u001B[0;36mOwnedIterator.__next__\u001B[0;34m(self)\u001B[0m\n\u001B[1;32m    798\u001B[0m \u001B[38;5;28;01mdef\u001B[39;00m \u001B[38;5;21m__next__\u001B[39m(\u001B[38;5;28mself\u001B[39m):\n\u001B[1;32m    799\u001B[0m   \u001B[38;5;28;01mtry\u001B[39;00m:\n\u001B[0;32m--> 800\u001B[0m     \u001B[38;5;28;01mreturn\u001B[39;00m \u001B[38;5;28;43mself\u001B[39;49m\u001B[38;5;241;43m.\u001B[39;49m\u001B[43m_next_internal\u001B[49m\u001B[43m(\u001B[49m\u001B[43m)\u001B[49m\n\u001B[1;32m    801\u001B[0m   \u001B[38;5;28;01mexcept\u001B[39;00m errors\u001B[38;5;241m.\u001B[39mOutOfRangeError:\n\u001B[1;32m    802\u001B[0m     \u001B[38;5;28;01mraise\u001B[39;00m \u001B[38;5;167;01mStopIteration\u001B[39;00m\n",
      "File \u001B[0;32m~/miniconda3/envs/tf-test/lib/python3.10/site-packages/tensorflow/python/data/ops/iterator_ops.py:783\u001B[0m, in \u001B[0;36mOwnedIterator._next_internal\u001B[0;34m(self)\u001B[0m\n\u001B[1;32m    780\u001B[0m \u001B[38;5;66;03m# TODO(b/77291417): This runs in sync mode as iterators use an error status\u001B[39;00m\n\u001B[1;32m    781\u001B[0m \u001B[38;5;66;03m# to communicate that there is no more data to iterate over.\u001B[39;00m\n\u001B[1;32m    782\u001B[0m \u001B[38;5;28;01mwith\u001B[39;00m context\u001B[38;5;241m.\u001B[39mexecution_mode(context\u001B[38;5;241m.\u001B[39mSYNC):\n\u001B[0;32m--> 783\u001B[0m   ret \u001B[38;5;241m=\u001B[39m \u001B[43mgen_dataset_ops\u001B[49m\u001B[38;5;241;43m.\u001B[39;49m\u001B[43miterator_get_next\u001B[49m\u001B[43m(\u001B[49m\n\u001B[1;32m    784\u001B[0m \u001B[43m      \u001B[49m\u001B[38;5;28;43mself\u001B[39;49m\u001B[38;5;241;43m.\u001B[39;49m\u001B[43m_iterator_resource\u001B[49m\u001B[43m,\u001B[49m\n\u001B[1;32m    785\u001B[0m \u001B[43m      \u001B[49m\u001B[43moutput_types\u001B[49m\u001B[38;5;241;43m=\u001B[39;49m\u001B[38;5;28;43mself\u001B[39;49m\u001B[38;5;241;43m.\u001B[39;49m\u001B[43m_flat_output_types\u001B[49m\u001B[43m,\u001B[49m\n\u001B[1;32m    786\u001B[0m \u001B[43m      \u001B[49m\u001B[43moutput_shapes\u001B[49m\u001B[38;5;241;43m=\u001B[39;49m\u001B[38;5;28;43mself\u001B[39;49m\u001B[38;5;241;43m.\u001B[39;49m\u001B[43m_flat_output_shapes\u001B[49m\u001B[43m)\u001B[49m\n\u001B[1;32m    788\u001B[0m   \u001B[38;5;28;01mtry\u001B[39;00m:\n\u001B[1;32m    789\u001B[0m     \u001B[38;5;66;03m# Fast path for the case `self._structure` is not a nested structure.\u001B[39;00m\n\u001B[1;32m    790\u001B[0m     \u001B[38;5;28;01mreturn\u001B[39;00m \u001B[38;5;28mself\u001B[39m\u001B[38;5;241m.\u001B[39m_element_spec\u001B[38;5;241m.\u001B[39m_from_compatible_tensor_list(ret)  \u001B[38;5;66;03m# pylint: disable=protected-access\u001B[39;00m\n",
      "File \u001B[0;32m~/miniconda3/envs/tf-test/lib/python3.10/site-packages/tensorflow/python/ops/gen_dataset_ops.py:2840\u001B[0m, in \u001B[0;36miterator_get_next\u001B[0;34m(iterator, output_types, output_shapes, name)\u001B[0m\n\u001B[1;32m   2838\u001B[0m \u001B[38;5;28;01mif\u001B[39;00m tld\u001B[38;5;241m.\u001B[39mis_eager:\n\u001B[1;32m   2839\u001B[0m   \u001B[38;5;28;01mtry\u001B[39;00m:\n\u001B[0;32m-> 2840\u001B[0m     _result \u001B[38;5;241m=\u001B[39m \u001B[43mpywrap_tfe\u001B[49m\u001B[38;5;241;43m.\u001B[39;49m\u001B[43mTFE_Py_FastPathExecute\u001B[49m\u001B[43m(\u001B[49m\n\u001B[1;32m   2841\u001B[0m \u001B[43m      \u001B[49m\u001B[43m_ctx\u001B[49m\u001B[43m,\u001B[49m\u001B[43m \u001B[49m\u001B[38;5;124;43m\"\u001B[39;49m\u001B[38;5;124;43mIteratorGetNext\u001B[39;49m\u001B[38;5;124;43m\"\u001B[39;49m\u001B[43m,\u001B[49m\u001B[43m \u001B[49m\u001B[43mname\u001B[49m\u001B[43m,\u001B[49m\u001B[43m \u001B[49m\u001B[43miterator\u001B[49m\u001B[43m,\u001B[49m\u001B[43m \u001B[49m\u001B[38;5;124;43m\"\u001B[39;49m\u001B[38;5;124;43moutput_types\u001B[39;49m\u001B[38;5;124;43m\"\u001B[39;49m\u001B[43m,\u001B[49m\u001B[43m \u001B[49m\u001B[43moutput_types\u001B[49m\u001B[43m,\u001B[49m\n\u001B[1;32m   2842\u001B[0m \u001B[43m      \u001B[49m\u001B[38;5;124;43m\"\u001B[39;49m\u001B[38;5;124;43moutput_shapes\u001B[39;49m\u001B[38;5;124;43m\"\u001B[39;49m\u001B[43m,\u001B[49m\u001B[43m \u001B[49m\u001B[43moutput_shapes\u001B[49m\u001B[43m)\u001B[49m\n\u001B[1;32m   2843\u001B[0m     \u001B[38;5;28;01mreturn\u001B[39;00m _result\n\u001B[1;32m   2844\u001B[0m   \u001B[38;5;28;01mexcept\u001B[39;00m _core\u001B[38;5;241m.\u001B[39m_NotOkStatusException \u001B[38;5;28;01mas\u001B[39;00m e:\n",
      "\u001B[0;31mKeyboardInterrupt\u001B[0m: "
     ]
    }
   ],
   "source": [
    "import Postprocessor\n",
    "labels = []\n",
    "for elem in validation_dataset:\n",
    "    labels.append(elem[1])\n",
    "# for file, output in zip(validation_files, output_test5):\n",
    "#     labels.append(int(file.split(\"/\")[4][0]))\n",
    "pp = Postprocessor.Postprocessing(output_test5[:,0], labels)\n",
    "pp.binary_confusion_matrix()"
   ],
   "metadata": {
    "collapsed": false,
    "pycharm": {
     "name": "#%%\n"
    }
   }
  },
  {
   "cell_type": "code",
   "execution_count": 260,
   "outputs": [
    {
     "ename": "AttributeError",
     "evalue": "'numpy.ndarray' object has no attribute 'numpy'",
     "output_type": "error",
     "traceback": [
      "\u001B[0;31m---------------------------------------------------------------------------\u001B[0m",
      "\u001B[0;31mAttributeError\u001B[0m                            Traceback (most recent call last)",
      "Input \u001B[0;32mIn [260]\u001B[0m, in \u001B[0;36m<module>\u001B[0;34m\u001B[0m\n\u001B[0;32m----> 1\u001B[0m labels \u001B[38;5;241m=\u001B[39m [label\u001B[38;5;241m.\u001B[39mnumpy() \u001B[38;5;28;01mfor\u001B[39;00m label \u001B[38;5;129;01min\u001B[39;00m labels]\n\u001B[1;32m      2\u001B[0m labels\n",
      "Input \u001B[0;32mIn [260]\u001B[0m, in \u001B[0;36m<listcomp>\u001B[0;34m(.0)\u001B[0m\n\u001B[0;32m----> 1\u001B[0m labels \u001B[38;5;241m=\u001B[39m [\u001B[43mlabel\u001B[49m\u001B[38;5;241;43m.\u001B[39;49m\u001B[43mnumpy\u001B[49m() \u001B[38;5;28;01mfor\u001B[39;00m label \u001B[38;5;129;01min\u001B[39;00m labels]\n\u001B[1;32m      2\u001B[0m labels\n",
      "\u001B[0;31mAttributeError\u001B[0m: 'numpy.ndarray' object has no attribute 'numpy'"
     ]
    }
   ],
   "source": [
    "labels = [label.numpy() for label in labels]\n",
    "labels"
   ],
   "metadata": {
    "collapsed": false,
    "pycharm": {
     "name": "#%%\n"
    }
   }
  },
  {
   "cell_type": "code",
   "execution_count": 266,
   "outputs": [
    {
     "name": "stdout",
     "output_type": "stream",
     "text": [
      "[[772  24]\n",
      " [  0 904]]\n"
     ]
    },
    {
     "data": {
      "text/plain": "<Figure size 720x720 with 2 Axes>",
      "image/png": "[encoded data removed]"
     },
     "metadata": {
      "needs_background": "light"
     },
     "output_type": "display_data"
    }
   ],
   "source": [
    "reload(Postprocessor)\n",
    "pp = Postprocessor.Postprocessing(output_test5[:1700,0], labels[:1700])\n",
    "pp.binary_confusion_matrix()"
   ],
   "metadata": {
    "collapsed": false,
    "pycharm": {
     "name": "#%%\n"
    }
   }
  },
  {
   "cell_type": "code",
   "execution_count": 75,
   "outputs": [],
   "source": [
    "b_and_c_dim = file.split(\".\")[0].split(\"/\")[-1].split(\"_\")\n",
    "b_dim = b_and_c_dim[0][1:]\n",
    "c_dim = b_and_c_dim[1][1:]"
   ],
   "metadata": {
    "collapsed": false,
    "pycharm": {
     "name": "#%%\n"
    }
   }
  },
  {
   "cell_type": "code",
   "execution_count": 77,
   "outputs": [
    {
     "data": {
      "text/plain": "('6', '0')"
     },
     "execution_count": 77,
     "metadata": {},
     "output_type": "execute_result"
    }
   ],
   "source": [
    "b_dim, c_dim"
   ],
   "metadata": {
    "collapsed": false,
    "pycharm": {
     "name": "#%%\n"
    }
   }
  },
  {
   "cell_type": "code",
   "execution_count": 206,
   "outputs": [
    {
     "data": {
      "text/plain": "<matplotlib.image.AxesImage at 0x7f8e105996f0>"
     },
     "execution_count": 206,
     "metadata": {},
     "output_type": "execute_result"
    },
    {
     "data": {
      "text/plain": "<Figure size 1440x720 with 1 Axes>",
      "image/png": "[encoded data removed]"
     },
     "metadata": {
      "needs_background": "light"
     },
     "output_type": "display_data"
    }
   ],
   "source": [
    "fig = plt.figure(figsize=(20, 10))\n",
    "plt.imshow(output_test.reshape((20, 20)), cmap=\"plasma\")"
   ],
   "metadata": {
    "collapsed": false,
    "pycharm": {
     "name": "#%%\n"
    }
   }
  },
  {
   "cell_type": "code",
   "execution_count": 165,
   "outputs": [],
   "source": [
    "import Visualization\n",
    "reload(Visualization)\n",
    "vsz = Visualization.ImageVisualizer(output_ensure.reshape((400,1)), instance_size=(102, 102, 20, 20), background_image_path=\"/mnt/p_Zeiss/Projects/UWF OCTA/Clinical data/MOON1/D113/links/retina_1536x2048x2045x2_30720.png\")\n",
    "vsz.plot_results_map(name=\"healthy_test2\")"
   ],
   "metadata": {
    "collapsed": false,
    "pycharm": {
     "name": "#%%\n"
    }
   }
  },
  {
   "cell_type": "code",
   "execution_count": null,
   "outputs": [],
   "source": [],
   "metadata": {
    "collapsed": false,
    "pycharm": {
     "name": "#%%\n"
    }
   }
  }
 ],
 "metadata": {
  "kernelspec": {
   "display_name": "Python 3",
   "language": "python",
   "name": "python3"
  },
  "language_info": {
   "codemirror_mode": {
    "name": "ipython",
    "version": 2
   },
   "file_extension": ".py",
   "mimetype": "text/x-python",
   "name": "python",
   "nbconvert_exporter": "python",
   "pygments_lexer": "ipython2",
   "version": "2.7.6"
  }
 },
 "nbformat": 4,
 "nbformat_minor": 0
}