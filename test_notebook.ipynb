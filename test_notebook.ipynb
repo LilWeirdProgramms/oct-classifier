{
 "cells": [
  {
   "cell_type": "code",
   "execution_count": 45,
   "outputs": [
    {
     "name": "stdout",
     "output_type": "stream",
     "text": [
      "Epoch 1/20\n",
      "  7/782 [..............................] - ETA: 15s - loss: 2.1828 - sparse_categorical_accuracy: 0.2583"
     ]
    },
    {
     "name": "stderr",
     "output_type": "stream",
     "text": [
      "2022-02-10 11:22:04.687320: I tensorflow/core/profiler/lib/profiler_session.cc:136] Profiler session initializing.\n",
      "2022-02-10 11:22:04.687471: I tensorflow/core/profiler/lib/profiler_session.cc:155] Profiler session started.\n",
      "2022-02-10 11:22:04.845391: I tensorflow/core/profiler/lib/profiler_session.cc:71] Profiler session collecting data.\n",
      "2022-02-10 11:22:04.855988: I tensorflow/core/profiler/lib/profiler_session.cc:172] Profiler session tear down.\n",
      "2022-02-10 11:22:04.866670: I tensorflow/core/profiler/rpc/client/save_profile.cc:137] Creating directory: logs/20220210-112142/train/plugins/profile/2022_02_10_11_22_04\n",
      "2022-02-10 11:22:04.872642: I tensorflow/core/profiler/rpc/client/save_profile.cc:143] Dumped gzipped tool data for trace.json.gz to logs/20220210-112142/train/plugins/profile/2022_02_10_11_22_04/zeissstudent1.trace.json.gz\n",
      "2022-02-10 11:22:04.876620: I tensorflow/core/profiler/rpc/client/save_profile.cc:137] Creating directory: logs/20220210-112142/train/plugins/profile/2022_02_10_11_22_04\n",
      "2022-02-10 11:22:04.876922: I tensorflow/core/profiler/rpc/client/save_profile.cc:143] Dumped gzipped tool data for memory_profile.json.gz to logs/20220210-112142/train/plugins/profile/2022_02_10_11_22_04/zeissstudent1.memory_profile.json.gz\n",
      "2022-02-10 11:22:04.877527: I tensorflow/core/profiler/rpc/client/capture_profile.cc:251] Creating directory: logs/20220210-112142/train/plugins/profile/2022_02_10_11_22_04Dumped tool data for xplane.pb to logs/20220210-112142/train/plugins/profile/2022_02_10_11_22_04/zeissstudent1.xplane.pb\n",
      "Dumped tool data for overview_page.pb to logs/20220210-112142/train/plugins/profile/2022_02_10_11_22_04/zeissstudent1.overview_page.pb\n",
      "Dumped tool data for input_pipeline.pb to logs/20220210-112142/train/plugins/profile/2022_02_10_11_22_04/zeissstudent1.input_pipeline.pb\n",
      "Dumped tool data for tensorflow_stats.pb to logs/20220210-112142/train/plugins/profile/2022_02_10_11_22_04/zeissstudent1.tensorflow_stats.pb\n",
      "Dumped tool data for kernel_stats.pb to logs/20220210-112142/train/plugins/profile/2022_02_10_11_22_04/zeissstudent1.kernel_stats.pb\n",
      "\n"
     ]
    },
    {
     "name": "stdout",
     "output_type": "stream",
     "text": [
      "782/782 [==============================] - 2s 3ms/step - loss: 0.5788 - sparse_categorical_accuracy: 0.8405\n",
      "Epoch 2/20\n",
      "782/782 [==============================] - 2s 3ms/step - loss: 0.1786 - sparse_categorical_accuracy: 0.9485\n",
      "Epoch 3/20\n",
      "782/782 [==============================] - 3s 4ms/step - loss: 0.1265 - sparse_categorical_accuracy: 0.9633\n",
      "Epoch 4/20\n",
      "782/782 [==============================] - 2s 2ms/step - loss: 0.1008 - sparse_categorical_accuracy: 0.9696\n",
      "Epoch 5/20\n",
      "782/782 [==============================] - 3s 4ms/step - loss: 0.0834 - sparse_categorical_accuracy: 0.9759\n",
      "Epoch 6/20\n",
      "782/782 [==============================] - 3s 4ms/step - loss: 0.0699 - sparse_categorical_accuracy: 0.9796\n",
      "Epoch 7/20\n",
      "782/782 [==============================] - 3s 4ms/step - loss: 0.0608 - sparse_categorical_accuracy: 0.9814\n",
      "Epoch 8/20\n",
      "782/782 [==============================] - 2s 3ms/step - loss: 0.0533 - sparse_categorical_accuracy: 0.9837\n",
      "Epoch 9/20\n",
      "782/782 [==============================] - 3s 4ms/step - loss: 0.0460 - sparse_categorical_accuracy: 0.9860\n",
      "Epoch 10/20\n",
      "782/782 [==============================] - 3s 4ms/step - loss: 0.0416 - sparse_categorical_accuracy: 0.9871\n",
      "Epoch 11/20\n",
      "782/782 [==============================] - 3s 4ms/step - loss: 0.0359 - sparse_categorical_accuracy: 0.9892\n",
      "Epoch 12/20\n",
      "782/782 [==============================] - 3s 4ms/step - loss: 0.0317 - sparse_categorical_accuracy: 0.9902\n",
      "Epoch 13/20\n",
      "782/782 [==============================] - 3s 4ms/step - loss: 0.0296 - sparse_categorical_accuracy: 0.9908\n",
      "Epoch 14/20\n",
      "782/782 [==============================] - 2s 2ms/step - loss: 0.0260 - sparse_categorical_accuracy: 0.9925\n",
      "Epoch 15/20\n",
      "782/782 [==============================] - 3s 4ms/step - loss: 0.0217 - sparse_categorical_accuracy: 0.9934\n",
      "Epoch 16/20\n",
      "782/782 [==============================] - 2s 3ms/step - loss: 0.0213 - sparse_categorical_accuracy: 0.9935\n",
      "Epoch 17/20\n",
      "782/782 [==============================] - 3s 4ms/step - loss: 0.0189 - sparse_categorical_accuracy: 0.9941\n",
      "Epoch 18/20\n",
      "782/782 [==============================] - 3s 4ms/step - loss: 0.0153 - sparse_categorical_accuracy: 0.9954\n",
      "Epoch 19/20\n",
      "782/782 [==============================] - 2s 3ms/step - loss: 0.0154 - sparse_categorical_accuracy: 0.9951\n",
      "Epoch 20/20\n",
      "782/782 [==============================] - 3s 4ms/step - loss: 0.0132 - sparse_categorical_accuracy: 0.9961\n"
     ]
    },
    {
     "data": {
      "text/plain": "<tensorflow.python.keras.callbacks.History at 0x7fe4e42c6340>"
     },
     "execution_count": 45,
     "metadata": {},
     "output_type": "execute_result"
    }
   ],
   "source": [
    "import numpy as np\n",
    "import tensorflow as tf\n",
    "from tensorflow import keras\n",
    "from tensorflow.keras import layers\n",
    "import Callbacks\n",
    "\n",
    "(x_train, y_train), (x_test, y_test) = keras.datasets.mnist.load_data()\n",
    "\n",
    "# Preprocess the data (these are NumPy arrays)\n",
    "x_train = x_train.reshape(60000, 784).astype(\"float32\") / 255\n",
    "x_test = x_test.reshape(10000, 784).astype(\"float32\") / 255\n",
    "\n",
    "y_train = y_train.astype(\"float32\")\n",
    "y_test = y_test.astype(\"float32\")\n",
    "\n",
    "# Reserve 10,000 samples for validation\n",
    "x_val = x_train[-10000:]\n",
    "y_val = y_train[-10000:]\n",
    "x_train = x_train[:-10000]\n",
    "y_train = y_train[:-10000]\n",
    "\n",
    "def get_uncompiled_model():\n",
    "    inputs = keras.Input(shape=(784,), name=\"digits\")\n",
    "    x = layers.Dense(64, activation=\"relu\", name=\"dense_1\")(inputs)\n",
    "    x = layers.Dense(64, activation=\"relu\", name=\"dense_2\")(x)\n",
    "    outputs = layers.Dense(10, activation=\"softmax\", name=\"predictions\")(x)\n",
    "    model = keras.Model(inputs=inputs, outputs=outputs)\n",
    "    return model\n",
    "\n",
    "def get_compiled_model():\n",
    "    model = get_uncompiled_model()\n",
    "    model.compile(\n",
    "        optimizer=\"rmsprop\",\n",
    "        loss=\"sparse_categorical_crossentropy\",\n",
    "        metrics=[\"sparse_categorical_accuracy\"],\n",
    "    )\n",
    "    return model\n",
    "\n",
    "\n",
    "model = get_compiled_model()\n",
    "\n",
    "# Prepare the training dataset\n",
    "train_dataset = tf.data.Dataset.from_tensor_slices((x_train, y_train))\n",
    "train_dataset = train_dataset.shuffle(buffer_size=1024).batch(64)\n",
    "\n",
    "# Only use the 100 batches per epoch (that's 64 * 100 samples)\n",
    "model.fit(train_dataset, epochs=20, callbacks=[Callbacks.tboard_callback])"
   ],
   "metadata": {
    "collapsed": false,
    "pycharm": {
     "name": "#%%\n"
    }
   }
  },
  {
   "cell_type": "code",
   "execution_count": 58,
   "outputs": [],
   "source": [
    "import numpy as np\n",
    "import tensorflow as tf\n",
    "from tensorflow import keras\n",
    "from tensorflow.keras import layers\n",
    "\n",
    "(x_train, y_train), (x_test, y_test) = keras.datasets.mnist.load_data()\n",
    "\n",
    "# Preprocess the data (these are NumPy arrays)\n",
    "x_train = x_train.reshape(60000, 784).astype(\"float32\") / 255\n",
    "x_test = x_test.reshape(10000, 784).astype(\"float32\") / 255\n",
    "\n",
    "y_train = y_train.astype(\"float32\")\n",
    "y_test = y_test.astype(\"float32\")\n",
    "\n",
    "# Only take one and zeros\n",
    "x_val = x_train[-10000:]\n",
    "y_val = y_train[-10000:]\n",
    "x_train = x_train[:-10000]\n",
    "y_train = y_train[:-10000]"
   ],
   "metadata": {
    "collapsed": false,
    "pycharm": {
     "name": "#%%\n"
    }
   }
  },
  {
   "cell_type": "code",
   "execution_count": 60,
   "outputs": [
    {
     "data": {
      "text/plain": "(55000,)"
     },
     "execution_count": 60,
     "metadata": {},
     "output_type": "execute_result"
    }
   ],
   "source": [
    "import models\n",
    "model = models.classiRaw3D(training_dataset.element_spec[0].shape, None, reconstruction=False)"
   ],
   "metadata": {
    "collapsed": false,
    "pycharm": {
     "name": "#%%\n"
    }
   }
  },
  {
   "cell_type": "code",
   "execution_count": 23,
   "outputs": [
    {
     "name": "stdout",
     "output_type": "stream",
     "text": [
      "Total Size: 12853456896\n",
      "Last Element Begin: 12680491008\n",
      "Differenz: 3144192\n",
      "Should be: 1 bscan vor Ende: 3144192\n"
     ]
    }
   ],
   "source": [
    "total_size = 1536 * 2047 * 2044 * 2\n",
    "print(\"Total Size: \" + str(total_size))\n",
    "\n",
    "last_element_begin = (88 * 23 + 2 * 72 * 28 * 2047) * 1536\n",
    "print(\"Last Element Begin: \" + str(last_element_begin))\n",
    "\n",
    "last_bscan_last_element = 2 * 1536 * 2047 * 27 + last_element_begin + 1536 * 23\n",
    "print(\"Differenz: \" + str(total_size - last_bscan_last_element))\n",
    "print(\"Should be: 1 bscan vor Ende: 3144192\")"
   ],
   "metadata": {
    "collapsed": false,
    "pycharm": {
     "name": "#%%\n"
    }
   }
  },
  {
   "cell_type": "code",
   "execution_count": 62,
   "outputs": [
    {
     "ename": "TypeError",
     "evalue": "int() argument must be a string, a bytes-like object or a number, not 'list'",
     "output_type": "error",
     "traceback": [
      "\u001B[0;31m---------------------------------------------------------------------------\u001B[0m",
      "\u001B[0;31mTypeError\u001B[0m                                 Traceback (most recent call last)",
      "\u001B[0;32m/tmp/ipykernel_6093/2137323335.py\u001B[0m in \u001B[0;36m<module>\u001B[0;34m\u001B[0m\n\u001B[0;32m----> 1\u001B[0;31m \u001B[0mint\u001B[0m\u001B[0;34m(\u001B[0m\u001B[0;34m[\u001B[0m\u001B[0;34m\"1\"\u001B[0m\u001B[0;34m,\u001B[0m \u001B[0;34m\"2\"\u001B[0m\u001B[0;34m]\u001B[0m\u001B[0;34m)\u001B[0m\u001B[0;34m\u001B[0m\u001B[0;34m\u001B[0m\u001B[0m\n\u001B[0m",
      "\u001B[0;31mTypeError\u001B[0m: int() argument must be a string, a bytes-like object or a number, not 'list'"
     ]
    }
   ],
   "source": [
    "int([\"1\", \"2\"])"
   ],
   "metadata": {
    "collapsed": false,
    "pycharm": {
     "name": "#%%\n"
    }
   }
  },
  {
   "cell_type": "code",
   "execution_count": 43,
   "outputs": [
    {
     "name": "stdout",
     "output_type": "stream",
     "text": [
      "Execution time: 6.725447240984067\n",
      "Execution time: 19.533383095054887\n"
     ]
    }
   ],
   "source": [
    "import InputList\n",
    "import BinaryReader\n",
    "import time\n",
    "import tensorflow as tf\n",
    "\n",
    "def benchmark(benchmark_dataset, num_epochs=2):\n",
    "    start_time = time.perf_counter()\n",
    "    for epoch_num in range(num_epochs):\n",
    "        for sample in benchmark_dataset:\n",
    "            pass\n",
    "            # Performing a training step\n",
    "            #time.sleep(0.01)\n",
    "\n",
    "    print(\"Execution time:\", time.perf_counter() - start_time)\n",
    "\n",
    "reader = BinaryReader.BinaryReader()\n",
    "ds = reader.create_test_dataset(InputList.diabetic_training_files[0:2]).batch(10).take(50)\n",
    "\n",
    "# THIS IS ONLY GOOD WITH GPU\n",
    "optimized_ds = tf.data.Dataset.range(2)\\\n",
    "    .interleave(lambda _: ds,\n",
    "                num_parallel_calls=tf.data.AUTOTUNE)\\\n",
    "    .prefetch(\n",
    "        tf.data.AUTOTUNE\n",
    "    )\n",
    "\n",
    "benchmark(ds)\n",
    "benchmark(optimized_ds)"
   ],
   "metadata": {
    "collapsed": false,
    "pycharm": {
     "name": "#%%\n"
    }
   }
  },
  {
   "cell_type": "code",
   "execution_count": 15,
   "outputs": [],
   "source": [
    "import numpy as np\n",
    "a = np.array([[1,2,0], [1,0,0], [0,1,0]])"
   ],
   "metadata": {
    "collapsed": false,
    "pycharm": {
     "name": "#%%\n"
    }
   }
  },
  {
   "cell_type": "code",
   "execution_count": 23,
   "outputs": [
    {
     "data": {
      "text/plain": "array([[1, 0],\n       [1, 0],\n       [0, 0]])"
     },
     "execution_count": 23,
     "metadata": {},
     "output_type": "execute_result"
    }
   ],
   "source": [
    "b = ((a == 0) | (a == 1)).all(axis=0)\n",
    "a[:, b]"
   ],
   "metadata": {
    "collapsed": false,
    "pycharm": {
     "name": "#%%\n"
    }
   }
  },
  {
   "cell_type": "code",
   "execution_count": 25,
   "outputs": [
    {
     "data": {
      "text/plain": "array([ True, False,  True])"
     },
     "execution_count": 25,
     "metadata": {},
     "output_type": "execute_result"
    }
   ],
   "source": [
    "b"
   ],
   "metadata": {
    "collapsed": false,
    "pycharm": {
     "name": "#%%\n"
    }
   }
  },
  {
   "cell_type": "code",
   "execution_count": null,
   "outputs": [],
   "source": [
    "import matplotlib.pyplot as plt\n",
    "\n",
    "plt.imshow(elem[0][0,:].numpy().reshape(28, 28), cmap=\"Greys\")"
   ],
   "metadata": {
    "collapsed": false,
    "pycharm": {
     "name": "#%%\n"
    }
   }
  },
  {
   "cell_type": "code",
   "execution_count": null,
   "outputs": [],
   "source": [
    "def print_bag():\n",
    "    model.evaluate(x_test, y_test)"
   ],
   "metadata": {
    "collapsed": false,
    "pycharm": {
     "name": "#%%\n"
    }
   }
  },
  {
   "cell_type": "code",
   "execution_count": null,
   "outputs": [],
   "source": [
    "tensorboard_callback = tf.keras.callbacks.TensorBoard(log_dir=\"./logs\")\n",
    "model.fit(x_train, y_train, epochs=3, callbacks=[tensorboard_callback])"
   ],
   "metadata": {
    "collapsed": false,
    "pycharm": {
     "name": "#%%\n"
    }
   }
  },
  {
   "cell_type": "code",
   "execution_count": null,
   "outputs": [],
   "source": [
    "class LossAndErrorPrintingCallback(keras.callbacks.Callback):\n",
    "\n",
    "    def on_train_begin(self, logs=None):\n",
    "        plt.figure()\n",
    "        self.loss_history = []\n",
    "\n",
    "    def on_train_batch_end(self, batch, logs=None):\n",
    "    #     print(\n",
    "    #         \"Up to batch {}, the average loss is {:7.2f}.\".format(batch, logs[\"loss\"])\n",
    "    #     )\n",
    "        self.loss_history.append(logs[\"loss\"])\n",
    "        plt.plot(self.loss_history)\n",
    "\n",
    "    def on_test_batch_end(self, batch, logs=None):\n",
    "        print(\n",
    "            \"Up to batch {}, the average loss is {:7.2f}.\".format(batch, logs[\"loss\"])\n",
    "        )"
   ],
   "metadata": {
    "collapsed": false,
    "pycharm": {
     "name": "#%%\n"
    }
   }
  },
  {
   "cell_type": "markdown",
   "source": [],
   "metadata": {
    "collapsed": false
   }
  },
  {
   "cell_type": "code",
   "execution_count": 26,
   "outputs": [
    {
     "data": {
      "text/plain": "2"
     },
     "execution_count": 26,
     "metadata": {},
     "output_type": "execute_result"
    }
   ],
   "source": [
    "import numpy as np\n",
    "a = [1, 2, 3, 3, 3]\n",
    "np.argmax(a)"
   ],
   "metadata": {
    "collapsed": false,
    "pycharm": {
     "name": "#%%\n"
    }
   }
  },
  {
   "cell_type": "code",
   "execution_count": null,
   "outputs": [],
   "source": [
    "from IPython.display import clear_output\n",
    "\n",
    "class CustomCallback(keras.callbacks.Callback):\n",
    "\n",
    "    def on_train_begin(self, logs={}):\n",
    "        self.x = []\n",
    "        self.loss = []\n",
    "        self.val_loss = []\n",
    "\n",
    "\n",
    "    def on_test_batch_begin(self, epoch, logs={}):\n",
    "        pass\n",
    "\n",
    "    def on_epoch_end(self, epoch, logs={}):\n",
    "        self.x.append(epoch)\n",
    "        self.loss.append(logs[\"loss\"])\n",
    "\n",
    "        clear_output(wait=True)\n",
    "        tf.print(logs)\n",
    "        self.val_loss.append(logs[\"val_loss\"])\n",
    "        plt.figure(figsize=(10, 8))\n",
    "        ax1 = plt.subplot2grid((1,1), (0,0), colspan=1, rowspan=1)\n",
    "        ax1.plot(self.x, self.loss, lw=4, label=\"Training\")\n",
    "        ax1.plot(self.x, self.val_loss, lw=4, label=\"Validation\")\n",
    "        ax1.legend(fontsize=16)\n",
    "        ax1.set_xlabel(\"Epoche\", fontsize=16)\n",
    "        ax1.set_ylabel(\"Loss\", fontsize=16)\n",
    "\n",
    "        plt.tight_layout()\n",
    "        plt.show()\n",
    "\n",
    "\n",
    "custom_callback = CustomCallback()"
   ],
   "metadata": {
    "collapsed": false,
    "pycharm": {
     "name": "#%%\n"
    }
   }
  },
  {
   "cell_type": "code",
   "execution_count": null,
   "outputs": [],
   "source": [
    "model.fit(x_train, y_train, validation_split=0.1 ,epochs=3, callbacks=[custom_callback], steps_per_epoch=100)"
   ],
   "metadata": {
    "collapsed": false,
    "pycharm": {
     "name": "#%%\n"
    }
   }
  },
  {
   "cell_type": "code",
   "execution_count": null,
   "outputs": [],
   "source": [
    "dataset = tf.data.Dataset.from_tensor_slices((x_train, y_train))"
   ],
   "metadata": {
    "collapsed": false,
    "pycharm": {
     "name": "#%%\n"
    }
   }
  },
  {
   "cell_type": "code",
   "execution_count": null,
   "outputs": [],
   "source": [
    "for i in a.take(1):\n",
    "    print(i)"
   ],
   "metadata": {
    "collapsed": false,
    "pycharm": {
     "name": "#%%\n"
    }
   }
  },
  {
   "cell_type": "code",
   "execution_count": null,
   "outputs": [],
   "source": [
    "a = dataset.map(lambda pic, label: {\"digits\": pic, \"label\": label, \"thingy\": 1})"
   ],
   "metadata": {
    "collapsed": false,
    "pycharm": {
     "name": "#%%\n"
    }
   }
  },
  {
   "cell_type": "code",
   "execution_count": null,
   "outputs": [],
   "source": [
    "for i in a.take(1):\n",
    "    print(a[\"label\"])"
   ],
   "metadata": {
    "collapsed": false,
    "pycharm": {
     "name": "#%%\n"
    }
   }
  },
  {
   "cell_type": "code",
   "execution_count": null,
   "outputs": [],
   "source": [
    "model.fit(a)"
   ],
   "metadata": {
    "collapsed": false,
    "pycharm": {
     "name": "#%%\n"
    }
   }
  },
  {
   "cell_type": "code",
   "execution_count": null,
   "outputs": [],
   "source": [
    "from PIL import Image\n",
    "from PIL import ImageDraw\n",
    "from PIL import ImageFont"
   ],
   "metadata": {
    "collapsed": false,
    "pycharm": {
     "name": "#%%\n"
    }
   }
  },
  {
   "cell_type": "code",
   "execution_count": null,
   "outputs": [],
   "source": [
    "background = Image.open(\"test_image.png\")"
   ],
   "metadata": {
    "collapsed": false,
    "pycharm": {
     "name": "#%%\n"
    }
   }
  },
  {
   "cell_type": "code",
   "execution_count": null,
   "outputs": [],
   "source": [
    "background.convert(\"RGB\")"
   ],
   "metadata": {
    "collapsed": false,
    "pycharm": {
     "name": "#%%\n"
    }
   }
  },
  {
   "cell_type": "code",
   "execution_count": null,
   "outputs": [],
   "source": [
    "x_spacing = 23\n",
    "y_spacing = 28"
   ],
   "metadata": {
    "collapsed": false,
    "pycharm": {
     "name": "#%%\n"
    }
   }
  },
  {
   "cell_type": "code",
   "execution_count": null,
   "outputs": [],
   "source": [
    "import numpy as np\n",
    "\n",
    "im = np.zeros((225,225,3), dtype=np.uint8)\n",
    "# Draw grid\n",
    "im[:, y_spacing:-1:y_spacing] = [255,0,0]    # red horizontal lines\n",
    "im[x_spacing:-1:x_spacing, :] = [255,0,0]    # blue vertical lines\n",
    "new_ima = Image.fromarray(im).convert(\"RGB\")"
   ],
   "metadata": {
    "collapsed": false,
    "pycharm": {
     "name": "#%%\n"
    }
   }
  },
  {
   "cell_type": "code",
   "execution_count": null,
   "outputs": [],
   "source": [
    "new_img = Image.blend(background.convert(\"RGB\"), new_ima, 0.5)"
   ],
   "metadata": {
    "collapsed": false,
    "pycharm": {
     "name": "#%%\n"
    }
   }
  },
  {
   "cell_type": "code",
   "execution_count": null,
   "outputs": [],
   "source": [
    "new_img.show()"
   ],
   "metadata": {
    "collapsed": false,
    "pycharm": {
     "name": "#%%\n"
    }
   }
  },
  {
   "cell_type": "code",
   "execution_count": null,
   "outputs": [],
   "source": [
    "new_img = Image.blend(background.convert(\"RGB\"), new_ima, 0.5)\n",
    "ImageDraw.Draw(new_img).text(\n",
    "    (0 * y_spacing + 2, 0 * x_spacing),  # Coordinates\n",
    "    '1',\n",
    "    (255, 0,0) # Color\n",
    ")\n",
    "new_img.save(\"saved_test.png\")"
   ],
   "metadata": {
    "collapsed": false,
    "pycharm": {
     "name": "#%%\n"
    }
   }
  },
  {
   "cell_type": "code",
   "execution_count": null,
   "outputs": [],
   "source": [
    "loss_wert = 0.8\n",
    "if loss_wert > 0.5:\n",
    "    color = (255,0,0)\n",
    "\n",
    "font = ImageFont.load_default()"
   ],
   "metadata": {
    "collapsed": false,
    "pycharm": {
     "name": "#%%\n"
    }
   }
  },
  {
   "cell_type": "code",
   "execution_count": null,
   "outputs": [],
   "source": [
    "font"
   ],
   "metadata": {
    "collapsed": false,
    "pycharm": {
     "name": "#%%\n"
    }
   }
  },
  {
   "cell_type": "code",
   "execution_count": null,
   "outputs": [],
   "source": [
    "font = ImageFont.truetype(\"/root/pyscripts/arial.ttf\", 12)"
   ],
   "metadata": {
    "collapsed": false,
    "pycharm": {
     "name": "#%%\n"
    }
   }
  },
  {
   "cell_type": "code",
   "execution_count": null,
   "outputs": [],
   "source": [],
   "metadata": {
    "collapsed": false,
    "pycharm": {
     "name": "#%%\n"
    }
   }
  }
 ],
 "metadata": {
  "kernelspec": {
   "display_name": "Python 3",
   "language": "python",
   "name": "python3"
  },
  "language_info": {
   "codemirror_mode": {
    "name": "ipython",
    "version": 2
   },
   "file_extension": ".py",
   "mimetype": "text/x-python",
   "name": "python",
   "nbconvert_exporter": "python",
   "pygments_lexer": "ipython2",
   "version": "2.7.6"
  }
 },
 "nbformat": 4,
 "nbformat_minor": 0
}