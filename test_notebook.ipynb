{
 "cells": [
  {
   "cell_type": "code",
   "execution_count": 121,
   "outputs": [
    {
     "name": "stdout",
     "output_type": "stream",
     "text": [
      "Epoch 1/3\n",
      "100/100 [==============================] - 0s 764us/step - loss: 1.2804 - sparse_categorical_accuracy: 0.6396\n",
      "Epoch 2/3\n",
      "100/100 [==============================] - 0s 714us/step - loss: 0.4064 - sparse_categorical_accuracy: 0.8854\n",
      "Epoch 3/3\n",
      "100/100 [==============================] - 0s 726us/step - loss: 0.3550 - sparse_categorical_accuracy: 0.8937\n"
     ]
    },
    {
     "data": {
      "text/plain": "<tensorflow.python.keras.callbacks.History at 0x7f7f5ad90ca0>"
     },
     "execution_count": 121,
     "metadata": {},
     "output_type": "execute_result"
    }
   ],
   "source": [
    "import numpy as np\n",
    "import tensorflow as tf\n",
    "from tensorflow import keras\n",
    "from tensorflow.keras import layers\n",
    "\n",
    "(x_train, y_train), (x_test, y_test) = keras.datasets.mnist.load_data()\n",
    "\n",
    "# Preprocess the data (these are NumPy arrays)\n",
    "x_train = x_train.reshape(60000, 784).astype(\"float32\") / 255\n",
    "x_test = x_test.reshape(10000, 784).astype(\"float32\") / 255\n",
    "\n",
    "y_train = y_train.astype(\"float32\")\n",
    "y_test = y_test.astype(\"float32\")\n",
    "\n",
    "# Reserve 10,000 samples for validation\n",
    "x_val = x_train[-10000:]\n",
    "y_val = y_train[-10000:]\n",
    "x_train = x_train[:-10000]\n",
    "y_train = y_train[:-10000]\n",
    "\n",
    "def get_uncompiled_model():\n",
    "    inputs = keras.Input(shape=(784,), name=\"digits\")\n",
    "    x = layers.Dense(64, activation=\"relu\", name=\"dense_1\")(inputs)\n",
    "    x = layers.Dense(64, activation=\"relu\", name=\"dense_2\")(x)\n",
    "    outputs = layers.Dense(10, activation=\"softmax\", name=\"predictions\")(x)\n",
    "    model = keras.Model(inputs=inputs, outputs=outputs)\n",
    "    return model\n",
    "\n",
    "def get_compiled_model():\n",
    "    model = get_uncompiled_model()\n",
    "    model.compile(\n",
    "        optimizer=\"rmsprop\",\n",
    "        loss=\"sparse_categorical_crossentropy\",\n",
    "        metrics=[\"sparse_categorical_accuracy\"],\n",
    "    )\n",
    "    return model\n",
    "\n",
    "\n",
    "model = get_compiled_model()\n",
    "\n",
    "# Prepare the training dataset\n",
    "train_dataset = tf.data.Dataset.from_tensor_slices((x_train, y_train))\n",
    "train_dataset = train_dataset.shuffle(buffer_size=1024).batch(64)\n",
    "\n",
    "# Only use the 100 batches per epoch (that's 64 * 100 samples)\n",
    "model.fit(train_dataset, epochs=3, steps_per_epoch=100)"
   ],
   "metadata": {
    "collapsed": false,
    "pycharm": {
     "name": "#%%\n"
    }
   }
  },
  {
   "cell_type": "code",
   "execution_count": 124,
   "outputs": [
    {
     "name": "stdout",
     "output_type": "stream",
     "text": [
      "782/782 [==============================] - 0s 385us/step - loss: 0.2736 - sparse_categorical_accuracy: 0.9220\n"
     ]
    }
   ],
   "source": [
    "train_dataset = tf.data.Dataset.from_tensor_slices((x_train, y_train))\n",
    "thingy = model.evaluate(train_dataset.batch(64))"
   ],
   "metadata": {
    "collapsed": false,
    "pycharm": {
     "name": "#%%\n"
    }
   }
  },
  {
   "cell_type": "code",
   "execution_count": 133,
   "outputs": [],
   "source": [
    "predictions = model.predict(train_dataset.batch(20))"
   ],
   "metadata": {
    "collapsed": false,
    "pycharm": {
     "name": "#%%\n"
    }
   }
  },
  {
   "cell_type": "code",
   "execution_count": null,
   "outputs": [],
   "source": [
    "predictions[0]"
   ],
   "metadata": {
    "collapsed": false,
    "pycharm": {
     "name": "#%%\n"
    }
   }
  },
  {
   "cell_type": "code",
   "execution_count": null,
   "outputs": [],
   "source": [
    "train_dataset.cardinality()"
   ],
   "metadata": {
    "collapsed": false,
    "pycharm": {
     "name": "#%%\n"
    }
   }
  },
  {
   "cell_type": "code",
   "execution_count": null,
   "outputs": [],
   "source": [
    "for thing in train_dataset.take(1):\n",
    "    print(thing)"
   ],
   "metadata": {
    "collapsed": false,
    "pycharm": {
     "name": "#%%\n"
    }
   }
  },
  {
   "cell_type": "code",
   "execution_count": 129,
   "outputs": [
    {
     "data": {
      "text/plain": "(50000,)"
     },
     "execution_count": 129,
     "metadata": {},
     "output_type": "execute_result"
    }
   ],
   "source": [
    "y_train.shape"
   ],
   "metadata": {
    "collapsed": false,
    "pycharm": {
     "name": "#%%\n"
    }
   }
  },
  {
   "cell_type": "code",
   "execution_count": 130,
   "outputs": [
    {
     "data": {
      "text/plain": "(50000, 10)"
     },
     "execution_count": 130,
     "metadata": {},
     "output_type": "execute_result"
    }
   ],
   "source": [
    "predictions.shape"
   ],
   "metadata": {
    "collapsed": false,
    "pycharm": {
     "name": "#%%\n"
    }
   }
  },
  {
   "cell_type": "code",
   "execution_count": 134,
   "outputs": [],
   "source": [
    "predictions2 = [np.argmax(element) for element in predictions]"
   ],
   "metadata": {
    "collapsed": false,
    "pycharm": {
     "name": "#%%\n"
    }
   }
  },
  {
   "cell_type": "code",
   "execution_count": 135,
   "outputs": [
    {
     "data": {
      "text/plain": "[5,\n 0,\n 4,\n 1,\n 9,\n 2,\n 1,\n 3,\n 1,\n 4,\n 3,\n 5,\n 3,\n 6,\n 1,\n 7,\n 2,\n 8,\n 6,\n 9,\n 4,\n 0,\n 9,\n 1,\n 5,\n 2,\n 4,\n 3,\n 7,\n 7,\n 3,\n 8,\n 6,\n 7,\n 0,\n 5,\n 6,\n 0,\n 7,\n 6,\n 1,\n 8,\n 7,\n 9,\n 3,\n 9,\n 8,\n 5,\n 5,\n 3,\n 3,\n 0,\n 7,\n 4,\n 9,\n 8,\n 0,\n 9,\n 4,\n 1,\n 4,\n 4,\n 6,\n 0,\n 4,\n 5,\n 6,\n 1,\n 0,\n 0,\n 1,\n 7,\n 1,\n 6,\n 3,\n 0,\n 2,\n 1,\n 1,\n 7,\n 0,\n 0,\n 2,\n 6,\n 7,\n 8,\n 3,\n 9,\n 0,\n 4,\n 6,\n 7,\n 4,\n 6,\n 8,\n 0,\n 7,\n 8,\n 3,\n 1,\n 5,\n 7,\n 1,\n 7,\n 1,\n 1,\n 6,\n 3,\n 0,\n 2,\n 9,\n 3,\n 1,\n 1,\n 0,\n 4,\n 9,\n 2,\n 0,\n 0,\n 7,\n 0,\n 2,\n 7,\n 1,\n 8,\n 6,\n 4,\n 1,\n 6,\n 3,\n 4,\n 1,\n 9,\n 3,\n 3,\n 3,\n 8,\n 5,\n 4,\n 7,\n 7,\n 4,\n 2,\n 8,\n 5,\n 8,\n 6,\n 2,\n 3,\n 4,\n 6,\n 1,\n 9,\n 9,\n 6,\n 0,\n 3,\n 9,\n 2,\n 8,\n 2,\n 9,\n 4,\n 4,\n 6,\n 4,\n 9,\n 7,\n 0,\n 9,\n 2,\n 7,\n 1,\n 1,\n 5,\n 9,\n 1,\n 0,\n 3,\n 1,\n 3,\n 5,\n 9,\n 1,\n 7,\n 6,\n 2,\n 8,\n 2,\n 2,\n 5,\n 0,\n 7,\n 4,\n 9,\n 7,\n 8,\n 3,\n 2,\n 1,\n 1,\n 8,\n 3,\n 6,\n 1,\n 0,\n 3,\n 1,\n 0,\n 0,\n 1,\n 1,\n 2,\n 7,\n 3,\n 0,\n 4,\n 6,\n 5,\n 2,\n 6,\n 4,\n 7,\n 8,\n 8,\n 9,\n 9,\n 5,\n 0,\n 7,\n 1,\n 6,\n 2,\n 0,\n 3,\n 5,\n 4,\n 6,\n 5,\n 1,\n 6,\n 3,\n 7,\n 5,\n 8,\n 5,\n 9,\n 1,\n 0,\n 7,\n 1,\n 2,\n 2,\n 3,\n 3,\n 6,\n 4,\n 7,\n 5,\n 0,\n 6,\n 0,\n 7,\n 4,\n 8,\n 5,\n 9,\n 7,\n 1,\n 1,\n 4,\n 4,\n 5,\n 6,\n 4,\n 1,\n 2,\n 6,\n 3,\n 9,\n 3,\n 9,\n 0,\n 3,\n 9,\n 6,\n 5,\n 7,\n 4,\n 1,\n 3,\n 4,\n 0,\n 4,\n 8,\n 0,\n 4,\n 3,\n 6,\n 8,\n 7,\n 6,\n 0,\n 7,\n 7,\n 5,\n 7,\n 2,\n 1,\n 1,\n 6,\n 8,\n 9,\n 4,\n 1,\n 5,\n 2,\n 2,\n 9,\n 0,\n 3,\n 9,\n 6,\n 7,\n 2,\n 0,\n 3,\n 5,\n 4,\n 3,\n 6,\n 5,\n 8,\n 9,\n 5,\n 4,\n 7,\n 4,\n 2,\n 9,\n 3,\n 4,\n 8,\n 9,\n 1,\n 8,\n 2,\n 8,\n 7,\n 9,\n 1,\n 8,\n 7,\n 4,\n 1,\n 3,\n 1,\n 1,\n 0,\n 2,\n 3,\n 9,\n 4,\n 9,\n 2,\n 1,\n 6,\n 8,\n 4,\n 1,\n 7,\n 4,\n 4,\n 9,\n 2,\n 5,\n 7,\n 2,\n 4,\n 4,\n 2,\n 1,\n 9,\n 7,\n 2,\n 8,\n 7,\n 6,\n 9,\n 2,\n 3,\n 3,\n 8,\n 1,\n 6,\n 5,\n 1,\n 1,\n 0,\n 2,\n 6,\n 4,\n 5,\n 3,\n 3,\n 1,\n 5,\n 1,\n 9,\n 2,\n 7,\n 4,\n 4,\n 6,\n 8,\n 1,\n 5,\n 5,\n 9,\n 9,\n 6,\n 7,\n 9,\n 9,\n 3,\n 7,\n 0,\n 9,\n 0,\n 6,\n 6,\n 2,\n 3,\n 9,\n 0,\n 7,\n 5,\n 4,\n 8,\n 0,\n 9,\n 4,\n 1,\n 1,\n 8,\n 7,\n 1,\n 2,\n 6,\n 1,\n 0,\n 3,\n 0,\n 1,\n 1,\n 8,\n 2,\n 0,\n 9,\n 9,\n 4,\n 0,\n 5,\n 0,\n 6,\n 1,\n 7,\n 7,\n 8,\n 8,\n 9,\n 1,\n 0,\n 5,\n 1,\n 2,\n 2,\n 7,\n 3,\n 5,\n 4,\n 9,\n 7,\n 1,\n 8,\n 3,\n 9,\n 6,\n 0,\n 3,\n 1,\n 1,\n 2,\n 0,\n 3,\n 5,\n 7,\n 6,\n 8,\n 7,\n 9,\n 5,\n 8,\n 3,\n 7,\n 6,\n 1,\n 1,\n 8,\n 1,\n 7,\n 5,\n 5,\n 5,\n 2,\n 5,\n 8,\n 7,\n 0,\n 9,\n 7,\n 7,\n 5,\n 0,\n 9,\n 0,\n 0,\n 8,\n 9,\n 2,\n 4,\n 8,\n 1,\n 6,\n 1,\n 6,\n 5,\n 1,\n 8,\n 3,\n 4,\n 0,\n 5,\n 3,\n 8,\n 3,\n 4,\n 2,\n 3,\n 9,\n 2,\n 1,\n 1,\n 5,\n 2,\n 1,\n 3,\n 2,\n 8,\n 7,\n 3,\n 7,\n 2,\n 4,\n 6,\n 9,\n 7,\n 2,\n 4,\n 2,\n 8,\n 1,\n 1,\n 3,\n 8,\n 4,\n 0,\n 6,\n 5,\n 9,\n 3,\n 0,\n 9,\n 6,\n 4,\n 7,\n 1,\n 1,\n 9,\n 4,\n 2,\n 6,\n 1,\n 8,\n 7,\n 0,\n 6,\n 6,\n 7,\n 9,\n 9,\n 3,\n 0,\n 1,\n 4,\n 4,\n 6,\n 7,\n 1,\n 5,\n 7,\n 0,\n 9,\n 5,\n 8,\n 4,\n 7,\n 1,\n 2,\n 5,\n 9,\n 5,\n 6,\n 7,\n 5,\n 4,\n 8,\n 8,\n 3,\n 6,\n 8,\n 7,\n 0,\n 7,\n 2,\n 7,\n 1,\n 1,\n 0,\n 7,\n 9,\n 2,\n 3,\n 1,\n 3,\n 2,\n 4,\n 1,\n 6,\n 2,\n 7,\n 5,\n 5,\n 7,\n 4,\n 0,\n 2,\n 6,\n 2,\n 6,\n 4,\n 0,\n 4,\n 7,\n 6,\n 0,\n 0,\n 0,\n 0,\n 2,\n 1,\n 6,\n 2,\n 1,\n 3,\n 1,\n 4,\n 1,\n 5,\n 4,\n 6,\n 4,\n 7,\n 2,\n 8,\n 7,\n 9,\n 2,\n 0,\n 5,\n 1,\n 4,\n 2,\n 8,\n 3,\n 2,\n 4,\n 1,\n 5,\n 4,\n 6,\n 0,\n 7,\n 9,\n 8,\n 4,\n 9,\n 8,\n 0,\n 1,\n 1,\n 0,\n 2,\n 2,\n 3,\n 2,\n 4,\n 4,\n 5,\n 1,\n 6,\n 5,\n 7,\n 7,\n 8,\n 8,\n 9,\n 7,\n 4,\n 7,\n 3,\n 2,\n 0,\n 8,\n 6,\n 8,\n 6,\n 1,\n 6,\n 5,\n 9,\n 4,\n 0,\n 7,\n 0,\n 8,\n 1,\n 5,\n 9,\n 7,\n 5,\n 3,\n 7,\n 4,\n 9,\n 8,\n 5,\n 8,\n 6,\n 3,\n 8,\n 6,\n 9,\n 9,\n 1,\n 8,\n 3,\n 5,\n 8,\n 6,\n 5,\n 9,\n 7,\n 2,\n 5,\n 0,\n 8,\n 4,\n 1,\n 1,\n 0,\n 9,\n 1,\n 8,\n 6,\n 7,\n 0,\n 8,\n 3,\n 0,\n 8,\n 8,\n 9,\n 6,\n 7,\n 8,\n 4,\n 7,\n 5,\n 9,\n 2,\n 6,\n 7,\n 4,\n 5,\n 9,\n 2,\n 3,\n 1,\n 6,\n 3,\n 9,\n 2,\n 2,\n 5,\n 6,\n 8,\n 0,\n 7,\n 7,\n 1,\n 9,\n 8,\n 7,\n 0,\n 9,\n 9,\n 4,\n 6,\n 2,\n 8,\n 3,\n 1,\n 4,\n 1,\n 5,\n 5,\n 1,\n 7,\n 3,\n 6,\n 4,\n 3,\n 2,\n 5,\n 8,\n 4,\n 4,\n 0,\n 6,\n 4,\n 6,\n 7,\n 9,\n 4,\n 3,\n 3,\n 8,\n 0,\n 0,\n 3,\n 2,\n 2,\n 7,\n 8,\n 3,\n 3,\n 7,\n 0,\n 1,\n 1,\n 0,\n 2,\n 3,\n 3,\n 8,\n 4,\n 3,\n 5,\n 7,\n 6,\n 4,\n 7,\n 2,\n 8,\n 5,\n 9,\n 7,\n 0,\n 3,\n 1,\n 1,\n 2,\n 4,\n 3,\n 8,\n 4,\n 7,\n 5,\n 9,\n 6,\n 0,\n 0,\n 7,\n 1,\n 4,\n 2,\n 7,\n 3,\n 6,\n 7,\n 5,\n 8,\n 4,\n 5,\n 8,\n 2,\n 7,\n 1,\n 1,\n 5,\n 6,\n 8,\n 5,\n 8,\n 4,\n 0,\n 7,\n 9,\n 9,\n 2,\n 9,\n 7,\n 7,\n 8,\n 7,\n 4,\n 2,\n 6,\n 9,\n 1,\n 7,\n 0,\n 6,\n 4,\n 8,\n 5,\n 7,\n 0,\n 7,\n 1,\n 0,\n 3,\n 7,\n 6,\n 5,\n 0,\n 6,\n 1,\n 5,\n 1,\n 7,\n 8,\n 5,\n 0,\n 6,\n 4,\n 7,\n 7,\n 5,\n 7,\n 8,\n 6,\n 8,\n 3,\n 8,\n 6,\n 1,\n 0,\n 9,\n 7,\n 1,\n 3,\n 0,\n 5,\n 6,\n 4,\n 4,\n 2,\n 4,\n 9,\n 3,\n 1,\n 7,\n 4,\n 6,\n 0,\n 3,\n 6,\n ...]"
     },
     "execution_count": 135,
     "metadata": {},
     "output_type": "execute_result"
    }
   ],
   "source": [
    "predictions2"
   ],
   "metadata": {
    "collapsed": false,
    "pycharm": {
     "name": "#%%\n"
    }
   }
  },
  {
   "cell_type": "code",
   "execution_count": 142,
   "outputs": [
    {
     "data": {
      "text/plain": "<Figure size 720x720 with 2 Axes>",
      "image/png": "[encoded data removed]"
     },
     "metadata": {
      "needs_background": "light"
     },
     "output_type": "display_data"
    }
   ],
   "source": [
    "import matplotlib.pyplot as plt\n",
    "from sklearn.metrics import confusion_matrix, ConfusionMatrixDisplay\n",
    "\n",
    "cm = confusion_matrix(y_train, predictions2, labels=(0,1,2,3,4,5,6,7,8,9))\n",
    "disp = ConfusionMatrixDisplay(confusion_matrix=cm,\n",
    "                              display_labels=(0,1,2,3,4,5,6,7,8,9))\n",
    "\n",
    "fig, ax = plt.subplots(figsize=(10,10))\n",
    "disp.plot(ax=ax)\n",
    "plt.savefig(\"Hello_World.png\")"
   ],
   "metadata": {
    "collapsed": false,
    "pycharm": {
     "name": "#%%\n"
    }
   }
  },
  {
   "cell_type": "code",
   "execution_count": 146,
   "outputs": [
    {
     "data": {
      "text/plain": "6436163068"
     },
     "execution_count": 146,
     "metadata": {},
     "output_type": "execute_result"
    }
   ],
   "source": [
    "73 * 28 + 89 * 23 * 2047 * 1536"
   ],
   "metadata": {
    "collapsed": false,
    "pycharm": {
     "name": "#%%\n"
    }
   }
  },
  {
   "cell_type": "code",
   "execution_count": 15,
   "outputs": [
    {
     "data": {
      "text/plain": "3144192"
     },
     "execution_count": 15,
     "metadata": {},
     "output_type": "execute_result"
    }
   ],
   "source": [
    "1536 * 2047"
   ],
   "metadata": {
    "collapsed": false,
    "pycharm": {
     "name": "#%%\n"
    }
   }
  },
  {
   "cell_type": "code",
   "execution_count": 23,
   "outputs": [
    {
     "name": "stdout",
     "output_type": "stream",
     "text": [
      "Total Size: 12853456896\n",
      "Last Element Begin: 12680491008\n",
      "Differenz: 3144192\n",
      "Should be: 1 bscan vor Ende: 3144192\n"
     ]
    }
   ],
   "source": [
    "total_size = 1536 * 2047 * 2044 * 2\n",
    "print(\"Total Size: \" + str(total_size))\n",
    "\n",
    "last_element_begin = (88 * 23 + 2 * 72 * 28 * 2047) * 1536\n",
    "print(\"Last Element Begin: \" + str(last_element_begin))\n",
    "\n",
    "last_bscan_last_element = 2 * 1536 * 2047 * 27 + last_element_begin + 1536 * 23\n",
    "print(\"Differenz: \" + str(total_size - last_bscan_last_element))\n",
    "print(\"Should be: 1 bscan vor Ende: 3144192\")"
   ],
   "metadata": {
    "collapsed": false,
    "pycharm": {
     "name": "#%%\n"
    }
   }
  },
  {
   "cell_type": "code",
   "execution_count": 18,
   "outputs": [
    {
     "data": {
      "text/plain": "166.66666666666666"
     },
     "execution_count": 18,
     "metadata": {},
     "output_type": "execute_result"
    }
   ],
   "source": [],
   "metadata": {
    "collapsed": false,
    "pycharm": {
     "name": "#%%\n"
    }
   }
  },
  {
   "cell_type": "code",
   "execution_count": null,
   "outputs": [],
   "source": [
    "import matplotlib.pyplot as plt\n",
    "\n",
    "plt.imshow(elem[0][0,:].numpy().reshape(28, 28), cmap=\"Greys\")"
   ],
   "metadata": {
    "collapsed": false,
    "pycharm": {
     "name": "#%%\n"
    }
   }
  },
  {
   "cell_type": "code",
   "execution_count": null,
   "outputs": [],
   "source": [
    "def print_bag():\n",
    "    model.evaluate(x_test, y_test)"
   ],
   "metadata": {
    "collapsed": false,
    "pycharm": {
     "name": "#%%\n"
    }
   }
  },
  {
   "cell_type": "code",
   "execution_count": null,
   "outputs": [],
   "source": [
    "tensorboard_callback = tf.keras.callbacks.TensorBoard(log_dir=\"./logs\")\n",
    "model.fit(x_train, y_train, epochs=3, callbacks=[tensorboard_callback])"
   ],
   "metadata": {
    "collapsed": false,
    "pycharm": {
     "name": "#%%\n"
    }
   }
  },
  {
   "cell_type": "code",
   "execution_count": null,
   "outputs": [],
   "source": [
    "class LossAndErrorPrintingCallback(keras.callbacks.Callback):\n",
    "\n",
    "    def on_train_begin(self, logs=None):\n",
    "        plt.figure()\n",
    "        self.loss_history = []\n",
    "\n",
    "    def on_train_batch_end(self, batch, logs=None):\n",
    "    #     print(\n",
    "    #         \"Up to batch {}, the average loss is {:7.2f}.\".format(batch, logs[\"loss\"])\n",
    "    #     )\n",
    "        self.loss_history.append(logs[\"loss\"])\n",
    "        plt.plot(self.loss_history)\n",
    "\n",
    "    def on_test_batch_end(self, batch, logs=None):\n",
    "        print(\n",
    "            \"Up to batch {}, the average loss is {:7.2f}.\".format(batch, logs[\"loss\"])\n",
    "        )"
   ],
   "metadata": {
    "collapsed": false,
    "pycharm": {
     "name": "#%%\n"
    }
   }
  },
  {
   "cell_type": "markdown",
   "source": [],
   "metadata": {
    "collapsed": false
   }
  },
  {
   "cell_type": "code",
   "execution_count": 26,
   "outputs": [
    {
     "data": {
      "text/plain": "2"
     },
     "execution_count": 26,
     "metadata": {},
     "output_type": "execute_result"
    }
   ],
   "source": [
    "import numpy as np\n",
    "a = [1, 2, 3, 3, 3]\n",
    "np.argmax(a)"
   ],
   "metadata": {
    "collapsed": false,
    "pycharm": {
     "name": "#%%\n"
    }
   }
  },
  {
   "cell_type": "code",
   "execution_count": null,
   "outputs": [],
   "source": [
    "from IPython.display import clear_output\n",
    "\n",
    "class CustomCallback(keras.callbacks.Callback):\n",
    "\n",
    "    def on_train_begin(self, logs={}):\n",
    "        self.x = []\n",
    "        self.loss = []\n",
    "        self.val_loss = []\n",
    "\n",
    "\n",
    "    def on_test_batch_begin(self, epoch, logs={}):\n",
    "        pass\n",
    "\n",
    "    def on_epoch_end(self, epoch, logs={}):\n",
    "        self.x.append(epoch)\n",
    "        self.loss.append(logs[\"loss\"])\n",
    "\n",
    "        clear_output(wait=True)\n",
    "        tf.print(logs)\n",
    "        self.val_loss.append(logs[\"val_loss\"])\n",
    "        plt.figure(figsize=(10, 8))\n",
    "        ax1 = plt.subplot2grid((1,1), (0,0), colspan=1, rowspan=1)\n",
    "        ax1.plot(self.x, self.loss, lw=4, label=\"Training\")\n",
    "        ax1.plot(self.x, self.val_loss, lw=4, label=\"Validation\")\n",
    "        ax1.legend(fontsize=16)\n",
    "        ax1.set_xlabel(\"Epoche\", fontsize=16)\n",
    "        ax1.set_ylabel(\"Loss\", fontsize=16)\n",
    "\n",
    "        plt.tight_layout()\n",
    "        plt.show()\n",
    "\n",
    "\n",
    "custom_callback = CustomCallback()"
   ],
   "metadata": {
    "collapsed": false,
    "pycharm": {
     "name": "#%%\n"
    }
   }
  },
  {
   "cell_type": "code",
   "execution_count": null,
   "outputs": [],
   "source": [
    "model.fit(x_train, y_train, validation_split=0.1 ,epochs=3, callbacks=[custom_callback], steps_per_epoch=100)"
   ],
   "metadata": {
    "collapsed": false,
    "pycharm": {
     "name": "#%%\n"
    }
   }
  },
  {
   "cell_type": "code",
   "execution_count": null,
   "outputs": [],
   "source": [
    "dataset = tf.data.Dataset.from_tensor_slices((x_train, y_train))"
   ],
   "metadata": {
    "collapsed": false,
    "pycharm": {
     "name": "#%%\n"
    }
   }
  },
  {
   "cell_type": "code",
   "execution_count": null,
   "outputs": [],
   "source": [
    "for i in a.take(1):\n",
    "    print(i)"
   ],
   "metadata": {
    "collapsed": false,
    "pycharm": {
     "name": "#%%\n"
    }
   }
  },
  {
   "cell_type": "code",
   "execution_count": null,
   "outputs": [],
   "source": [
    "a = dataset.map(lambda pic, label: {\"digits\": pic, \"label\": label, \"thingy\": 1})"
   ],
   "metadata": {
    "collapsed": false,
    "pycharm": {
     "name": "#%%\n"
    }
   }
  },
  {
   "cell_type": "code",
   "execution_count": null,
   "outputs": [],
   "source": [
    "for i in a.take(1):\n",
    "    print(a[\"label\"])"
   ],
   "metadata": {
    "collapsed": false,
    "pycharm": {
     "name": "#%%\n"
    }
   }
  },
  {
   "cell_type": "code",
   "execution_count": null,
   "outputs": [],
   "source": [
    "model.fit(a)"
   ],
   "metadata": {
    "collapsed": false,
    "pycharm": {
     "name": "#%%\n"
    }
   }
  },
  {
   "cell_type": "code",
   "execution_count": null,
   "outputs": [],
   "source": [
    "from PIL import Image\n",
    "from PIL import ImageDraw\n",
    "from PIL import ImageFont"
   ],
   "metadata": {
    "collapsed": false,
    "pycharm": {
     "name": "#%%\n"
    }
   }
  },
  {
   "cell_type": "code",
   "execution_count": null,
   "outputs": [],
   "source": [
    "background = Image.open(\"test_image.png\")"
   ],
   "metadata": {
    "collapsed": false,
    "pycharm": {
     "name": "#%%\n"
    }
   }
  },
  {
   "cell_type": "code",
   "execution_count": null,
   "outputs": [],
   "source": [
    "background.convert(\"RGB\")"
   ],
   "metadata": {
    "collapsed": false,
    "pycharm": {
     "name": "#%%\n"
    }
   }
  },
  {
   "cell_type": "code",
   "execution_count": null,
   "outputs": [],
   "source": [
    "x_spacing = 23\n",
    "y_spacing = 28"
   ],
   "metadata": {
    "collapsed": false,
    "pycharm": {
     "name": "#%%\n"
    }
   }
  },
  {
   "cell_type": "code",
   "execution_count": null,
   "outputs": [],
   "source": [
    "import numpy as np\n",
    "\n",
    "im = np.zeros((225,225,3), dtype=np.uint8)\n",
    "# Draw grid\n",
    "im[:, y_spacing:-1:y_spacing] = [255,0,0]    # red horizontal lines\n",
    "im[x_spacing:-1:x_spacing, :] = [255,0,0]    # blue vertical lines\n",
    "new_ima = Image.fromarray(im).convert(\"RGB\")"
   ],
   "metadata": {
    "collapsed": false,
    "pycharm": {
     "name": "#%%\n"
    }
   }
  },
  {
   "cell_type": "code",
   "execution_count": null,
   "outputs": [],
   "source": [
    "new_img = Image.blend(background.convert(\"RGB\"), new_ima, 0.5)"
   ],
   "metadata": {
    "collapsed": false,
    "pycharm": {
     "name": "#%%\n"
    }
   }
  },
  {
   "cell_type": "code",
   "execution_count": null,
   "outputs": [],
   "source": [
    "new_img.show()"
   ],
   "metadata": {
    "collapsed": false,
    "pycharm": {
     "name": "#%%\n"
    }
   }
  },
  {
   "cell_type": "code",
   "execution_count": null,
   "outputs": [],
   "source": [
    "new_img = Image.blend(background.convert(\"RGB\"), new_ima, 0.5)\n",
    "ImageDraw.Draw(new_img).text(\n",
    "    (0 * y_spacing + 2, 0 * x_spacing),  # Coordinates\n",
    "    '1',\n",
    "    (255, 0,0) # Color\n",
    ")\n",
    "new_img.save(\"saved_test.png\")"
   ],
   "metadata": {
    "collapsed": false,
    "pycharm": {
     "name": "#%%\n"
    }
   }
  },
  {
   "cell_type": "code",
   "execution_count": null,
   "outputs": [],
   "source": [
    "loss_wert = 0.8\n",
    "if loss_wert > 0.5:\n",
    "    color = (255,0,0)\n",
    "\n",
    "font = ImageFont.load_default()"
   ],
   "metadata": {
    "collapsed": false,
    "pycharm": {
     "name": "#%%\n"
    }
   }
  },
  {
   "cell_type": "code",
   "execution_count": null,
   "outputs": [],
   "source": [
    "font"
   ],
   "metadata": {
    "collapsed": false,
    "pycharm": {
     "name": "#%%\n"
    }
   }
  },
  {
   "cell_type": "code",
   "execution_count": null,
   "outputs": [],
   "source": [
    "font = ImageFont.truetype(\"/root/pyscripts/arial.ttf\", 12)"
   ],
   "metadata": {
    "collapsed": false,
    "pycharm": {
     "name": "#%%\n"
    }
   }
  },
  {
   "cell_type": "code",
   "execution_count": null,
   "outputs": [],
   "source": [],
   "metadata": {
    "collapsed": false,
    "pycharm": {
     "name": "#%%\n"
    }
   }
  }
 ],
 "metadata": {
  "kernelspec": {
   "display_name": "Python 3",
   "language": "python",
   "name": "python3"
  },
  "language_info": {
   "codemirror_mode": {
    "name": "ipython",
    "version": 2
   },
   "file_extension": ".py",
   "mimetype": "text/x-python",
   "name": "python",
   "nbconvert_exporter": "python",
   "pygments_lexer": "ipython2",
   "version": "2.7.6"
  }
 },
 "nbformat": 4,
 "nbformat_minor": 0
}