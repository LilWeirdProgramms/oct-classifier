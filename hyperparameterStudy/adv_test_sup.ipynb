{
 "cells": [
  {
   "cell_type": "code",
   "execution_count": 1,
   "metadata": {
    "collapsed": true
   },
   "outputs": [],
   "source": [
    "import os\n",
    "os.chdir(\"../\")"
   ]
  },
  {
   "cell_type": "code",
   "execution_count": 36,
   "outputs": [],
   "source": [
    "import matplotlib.pyplot as plt\n",
    "\n",
    "from hyperparameterStudy.mil_postprocessing import MilPostprocessor\n",
    "from PreprocessMILImageData import PreprocessMILImageData\n",
    "from PreprocessData import PreprocessData\n",
    "from PreprocessImageData import PreprocessImageData\n",
    "import tensorflow.keras as k\n",
    "import tensorflow as tf\n",
    "import matplotlib.pyplot as plt\n",
    "\n",
    "data_type = \"test\"\n",
    "model_name = \"ave_pool_selu_lay4_little_drop_little_l2_global_ave_pooling_n32_zeros_afalse_no_noise_fft_denoise5_residual_supervised_cfalse_nfalse_images_lfalse\"\n",
    "model_path = \"results/hyperparameter_study/supervised/models\"\n",
    "file_list = PreprocessData.load_file_list(data_type, angio_or_structure=\"images\")\n",
    "pid = PreprocessImageData(input_file_list=file_list, rgb=False, crop=False, data_type=data_type)\n",
    "pid.preprocess_data_and_save()\n",
    "ds = pid.create_dataset_for_calculation()\n",
    "\n",
    "# visualize_file_list = PreprocessMILImageData.load_file_list(\"test\", angio_or_structure=\"images\")\n",
    "# visualize_file_list = sorted(visualize_file_list, key=lambda file: (int(file[1]),\n",
    "#                                                                     int(file[0].split(\"_\")[-1][:-4])))\n",
    "pretrained_model = k.models.load_model(os.path.join(model_path, model_name))\n",
    "ds_norm = ds.batch(1)\n",
    "#image_probs = pretrained_model.predict(ds_norm, verbose=1)\n",
    "\n",
    "loss_object = k.losses.BinaryCrossentropy()\n",
    "\n",
    "\n",
    "# for elem in ds.skip(4).take(1):\n",
    "#   plt.figure()\n",
    "#   plt.imshow(elem[0], \"gray\")\n",
    "#   plt.show()\n",
    "\n",
    "#ds = ds.batch(1).map(create_adversarial_pattern)\n",
    "# ds_adv = ds.batch(1).map(create_adversarial_pattern)\n",
    "# image_probs_adv = pretrained_model.predict(ds_adv, verbose=1)\n"
   ],
   "metadata": {
    "collapsed": false,
    "pycharm": {
     "name": "#%%\n"
    }
   }
  },
  {
   "cell_type": "code",
   "execution_count": 3,
   "outputs": [],
   "source": [
    "def create_adversarial_pattern(input_image, input_label):\n",
    "    with tf.GradientTape() as tape:\n",
    "      tape.watch(input_image)\n",
    "      prediction = pretrained_model(input_image)\n",
    "      loss = loss_object(input_label, prediction)\n",
    "\n",
    "    # Get the gradients of the loss w.r.t to the input image.\n",
    "    gradient = tape.gradient(loss, input_image)\n",
    "    # Get the sign of the gradients to create the perturbation\n",
    "    signed_grad = tf.sign(gradient)\n",
    "    #multiplier = input_image.max() - gradient.max()\n",
    "    eps = 0.1\n",
    "    adv_image = input_image + eps*signed_grad\n",
    "    return adv_image, input_label"
   ],
   "metadata": {
    "collapsed": false,
    "pycharm": {
     "name": "#%%\n"
    }
   }
  },
  {
   "cell_type": "code",
   "execution_count": 49,
   "outputs": [
    {
     "name": "stdout",
     "output_type": "stream",
     "text": [
      "30/30 [==============================] - 2s 77ms/step\n",
      "30/30 [==============================] - 847s 28s/step\n"
     ]
    }
   ],
   "source": [
    "image_probs = pretrained_model.predict(ds_norm, verbose=1)\n",
    "\n",
    "ds_adv = ds.batch(1).map(create_adversarial_pattern)\n",
    "image_probs_adv = pretrained_model.predict(ds_adv, verbose=1)"
   ],
   "metadata": {
    "collapsed": false,
    "pycharm": {
     "name": "#%%\n"
    }
   }
  },
  {
   "cell_type": "code",
   "execution_count": 50,
   "outputs": [],
   "source": [
    "label_list = []\n",
    "for elem in ds_norm:\n",
    "    label_list.append(elem[1].numpy())"
   ],
   "metadata": {
    "collapsed": false,
    "pycharm": {
     "name": "#%%\n"
    }
   }
  },
  {
   "cell_type": "code",
   "execution_count": 51,
   "outputs": [
    {
     "name": "stdout",
     "output_type": "stream",
     "text": [
      "0.9261363636363636\n"
     ]
    }
   ],
   "source": [
    "from sklearn import metrics\n",
    "auc = metrics.roc_auc_score(label_list, image_probs)\n",
    "print(auc)"
   ],
   "metadata": {
    "collapsed": false,
    "pycharm": {
     "name": "#%%\n"
    }
   }
  },
  {
   "cell_type": "code",
   "execution_count": 52,
   "outputs": [
    {
     "name": "stdout",
     "output_type": "stream",
     "text": [
      "0.5284090909090909\n"
     ]
    }
   ],
   "source": [
    "from sklearn import metrics\n",
    "auc = metrics.roc_auc_score(label_list, image_probs_adv)\n",
    "print(auc)"
   ],
   "metadata": {
    "collapsed": false,
    "pycharm": {
     "name": "#%%\n"
    }
   }
  },
  {
   "cell_type": "code",
   "execution_count": 53,
   "outputs": [
    {
     "data": {
      "text/plain": "array([[ True],\n       [ True],\n       [ True],\n       [False],\n       [False],\n       [ True],\n       [ True],\n       [ True],\n       [ True],\n       [ True],\n       [False],\n       [ True],\n       [ True],\n       [False],\n       [False],\n       [ True],\n       [ True],\n       [False],\n       [ True],\n       [ True],\n       [ True],\n       [ True],\n       [ True],\n       [False],\n       [False],\n       [False],\n       [ True],\n       [ True],\n       [False],\n       [ True]])"
     },
     "execution_count": 53,
     "metadata": {},
     "output_type": "execute_result"
    }
   ],
   "source": [
    "image_probs_adv == image_probs"
   ],
   "metadata": {
    "collapsed": false,
    "pycharm": {
     "name": "#%%\n"
    }
   }
  },
  {
   "cell_type": "code",
   "execution_count": 7,
   "outputs": [
    {
     "name": "stdout",
     "output_type": "stream",
     "text": [
      "INFO:tensorflow:Mixed precision compatibility check (mixed_float16): OK\n",
      "Your GPU will likely run quickly with dtype policy mixed_float16 as it has compute capability of at least 7.0. Your GPU: NVIDIA GeForce RTX 3080 Ti, compute capability 8.6\n"
     ]
    },
    {
     "name": "stderr",
     "output_type": "stream",
     "text": [
      "2022-07-19 00:19:34.780236: I tensorflow/stream_executor/cuda/cuda_gpu_executor.cc:939] successful NUMA node read from SysFS had negative value (-1), but there must be at least one NUMA node, so returning NUMA node zero\n"
     ]
    },
    {
     "name": "stdout",
     "output_type": "stream",
     "text": [
      "3000/3000 [==============================] - 4s 1ms/step\n",
      "3000/3000 [==============================] - 100290s 33s/step\n"
     ]
    }
   ],
   "source": [
    "data_type = \"test\"\n",
    "model_name = \"ave_pool_selu_lay5_no_drop_little_l2_global_ave_pooling_n32_zeros_afalse_no_noise_fft_denoise5_residual_mil_cfalse_nfalse_images_lfalse\"\n",
    "model_path = \"results/hyperparameter_study/mil/models\"\n",
    "file_list = PreprocessData.load_file_list(data_type, angio_or_structure=\"images\")\n",
    "pid = PreprocessMILImageData(input_file_list=file_list, rgb=False, crop=False, data_type=data_type)\n",
    "pid.preprocess_data_and_save()\n",
    "mil_ds = pid.create_dataset_for_calculation()\n",
    "pretrained_model = k.models.load_model(os.path.join(model_path, model_name))\n",
    "mil_ds_norm = mil_ds.batch(1)\n",
    "\n",
    "mil_probs = pretrained_model.predict(mil_ds_norm, verbose=1)\n",
    "\n",
    "mil_ds_adv = mil_ds.batch(1).map(create_adversarial_pattern)\n",
    "mil_probs_adv = pretrained_model.predict(mil_ds_adv, verbose=1)"
   ],
   "metadata": {
    "collapsed": false,
    "pycharm": {
     "name": "#%%\n"
    }
   }
  },
  {
   "cell_type": "code",
   "execution_count": 59,
   "outputs": [],
   "source": [
    "pid = PreprocessMILImageData(input_file_list=file_list, rgb=False, crop=False, data_type=data_type)\n",
    "pid.preprocess_data_and_save()\n",
    "mil_ds = pid.create_dataset_for_calculation()"
   ],
   "metadata": {
    "collapsed": false,
    "pycharm": {
     "name": "#%%\n"
    }
   }
  },
  {
   "cell_type": "code",
   "execution_count": 60,
   "outputs": [
    {
     "name": "stdout",
     "output_type": "stream",
     "text": [
      "30\n",
      "[0, 0, 0, 0, 0, 0, 0, 0, 1, 1, 1, 1, 1, 1, 1, 1, 1, 1, 1, 1, 1, 1, 1, 1, 1, 1, 1, 1, 1, 1]\n"
     ]
    }
   ],
   "source": [
    "mil_label_list = [label for file, label in pid.calculation_file_list]\n",
    "mil_image_label_list = mil_label_list[5::100]\n",
    "print(len(mil_image_label_list))\n",
    "print(mil_image_label_list)"
   ],
   "metadata": {
    "collapsed": false,
    "pycharm": {
     "name": "#%%\n"
    }
   }
  },
  {
   "cell_type": "code",
   "execution_count": 61,
   "outputs": [],
   "source": [
    "from mil_pooling import MilPooling\n",
    "mp = MilPooling(mil_probs)\n",
    "bag_props = mp.weighted_average()"
   ],
   "metadata": {
    "collapsed": false,
    "pycharm": {
     "name": "#%%\n"
    }
   }
  },
  {
   "cell_type": "code",
   "execution_count": 62,
   "outputs": [],
   "source": [
    "mp = MilPooling(mil_probs_adv)\n",
    "bag_props_adv = mp.weighted_average()"
   ],
   "metadata": {
    "collapsed": false,
    "pycharm": {
     "name": "#%%\n"
    }
   }
  },
  {
   "cell_type": "code",
   "execution_count": 63,
   "outputs": [
    {
     "name": "stdout",
     "output_type": "stream",
     "text": [
      "[-233.2  -214.2  -236.9  -191.5  -232.5  -271.   -297.8  -150.5   696.5\n",
      " -159.8    -8.42 -217.8   237.    135.9  -150.6   297.2   186.5   385.8\n",
      "  407.5   465.5   320.2   309.5  -184.1  -120.3  -138.2  -132.6  -178.6\n",
      "  -21.   -139.6  -163.1 ]\n",
      "[-202.4 -182.  -204.6 -148.4 -200.2 -238.9 -265.5 -116.1  729.  -169.2\n",
      "  -76.1 -190.4  226.1   65.1 -148.   313.8  135.6  383.   408.   478.8\n",
      "  301.2  277.  -151.9 -136.1 -167.9 -144.6 -157.9 -128.1 -123.4 -166.1]\n"
     ]
    }
   ],
   "source": [
    "print(bag_props)\n",
    "print(bag_props_adv)"
   ],
   "metadata": {
    "collapsed": false,
    "pycharm": {
     "name": "#%%\n"
    }
   }
  },
  {
   "cell_type": "code",
   "execution_count": 64,
   "outputs": [
    {
     "name": "stdout",
     "output_type": "stream",
     "text": [
      "MIL AUC\n",
      "0.8417576704545455\n"
     ]
    }
   ],
   "source": [
    "auc = metrics.roc_auc_score(mil_label_list, mil_probs)\n",
    "print(\"MIL AUC\")\n",
    "print(auc)"
   ],
   "metadata": {
    "collapsed": false,
    "pycharm": {
     "name": "#%%\n"
    }
   }
  },
  {
   "cell_type": "code",
   "execution_count": 65,
   "outputs": [
    {
     "name": "stdout",
     "output_type": "stream",
     "text": [
      "MIL AUC ADV\n",
      "0.7614272727272727\n"
     ]
    }
   ],
   "source": [
    "auc = metrics.roc_auc_score(mil_label_list, mil_probs_adv)\n",
    "print(\"MIL AUC ADV\")\n",
    "print(auc)"
   ],
   "metadata": {
    "collapsed": false,
    "pycharm": {
     "name": "#%%\n"
    }
   }
  },
  {
   "cell_type": "code",
   "execution_count": 66,
   "outputs": [
    {
     "name": "stdout",
     "output_type": "stream",
     "text": [
      "BAG AUC\n",
      "0.9545454545454546\n"
     ]
    }
   ],
   "source": [
    "auc = metrics.roc_auc_score(mil_image_label_list, bag_props)\n",
    "print(\"BAG AUC\")\n",
    "print(auc)"
   ],
   "metadata": {
    "collapsed": false,
    "pycharm": {
     "name": "#%%\n"
    }
   }
  },
  {
   "cell_type": "code",
   "execution_count": 67,
   "outputs": [
    {
     "name": "stdout",
     "output_type": "stream",
     "text": [
      "BAG AUC ADV\n",
      "0.9545454545454546\n"
     ]
    }
   ],
   "source": [
    "auc = metrics.roc_auc_score(mil_image_label_list, bag_props)\n",
    "print(\"BAG AUC ADV\")\n",
    "print(auc)"
   ],
   "metadata": {
    "collapsed": false,
    "pycharm": {
     "name": "#%%\n"
    }
   }
  },
  {
   "cell_type": "code",
   "execution_count": 11,
   "outputs": [
    {
     "data": {
      "text/plain": "array([[-2.389],\n       [-2.236],\n       [-1.136],\n       ...,\n       [-1.267],\n       [-1.239],\n       [-1.399]], dtype=float16)"
     },
     "execution_count": 11,
     "metadata": {},
     "output_type": "execute_result"
    }
   ],
   "source": [
    "mil_probs_adv"
   ],
   "metadata": {
    "collapsed": false,
    "pycharm": {
     "name": "#%%\n"
    }
   }
  },
  {
   "cell_type": "code",
   "execution_count": 13,
   "outputs": [
    {
     "data": {
      "text/plain": "array([0.2676], dtype=float16)"
     },
     "execution_count": 13,
     "metadata": {},
     "output_type": "execute_result"
    }
   ],
   "source": [
    "mil_probs[2864]"
   ],
   "metadata": {
    "collapsed": false,
    "pycharm": {
     "name": "#%%\n"
    }
   }
  },
  {
   "cell_type": "code",
   "execution_count": 10,
   "outputs": [
    {
     "data": {
      "text/plain": "array([[ True],\n       [ True],\n       [ True],\n       ...,\n       [ True],\n       [ True],\n       [ True]])"
     },
     "execution_count": 10,
     "metadata": {},
     "output_type": "execute_result"
    }
   ],
   "source": [
    "mil_probs == mil_probs_adv"
   ],
   "metadata": {
    "collapsed": false,
    "pycharm": {
     "name": "#%%\n"
    }
   }
  },
  {
   "cell_type": "markdown",
   "source": [],
   "metadata": {
    "collapsed": false
   }
  },
  {
   "cell_type": "code",
   "execution_count": null,
   "outputs": [],
   "source": [
    "for elem in ds.batch(1).skip(4).take(1):\n",
    "  print(elem[0].shape)\n",
    "  plt.figure(figsize=(12, 12))\n",
    "  plt.imshow(elem[0][0, :, :, 0], \"gray\")\n",
    "  plt.colorbar()"
   ],
   "metadata": {
    "collapsed": false,
    "pycharm": {
     "name": "#%%\n"
    }
   }
  },
  {
   "cell_type": "code",
   "execution_count": null,
   "outputs": [],
   "source": [
    "input_image = elem[0]\n",
    "input_label = elem[1]\n",
    "with tf.GradientTape() as tape:\n",
    "  tape.watch(input_image)\n",
    "  prediction = pretrained_model(input_image)\n",
    "  loss = loss_object(input_label, prediction)\n",
    "  # Get the gradients of the loss w.r.t to the input image.\n",
    "  gradient = tape.gradient(loss, input_image)\n"
   ],
   "metadata": {
    "collapsed": false,
    "pycharm": {
     "name": "#%%\n"
    }
   }
  },
  {
   "cell_type": "code",
   "execution_count": null,
   "outputs": [],
   "source": [
    "for elem in ds.batch(1).skip(4).take(1):\n",
    "  print(elem[0].shape)\n",
    "  plt.figure(figsize=(12, 12))\n",
    "  plt.imshow((elem[0] + gradient)[0, :, :, 0] , \"gray\")\n",
    "  plt.colorbar()"
   ],
   "metadata": {
    "collapsed": false,
    "pycharm": {
     "name": "#%%\n"
    }
   }
  },
  {
   "cell_type": "code",
   "execution_count": null,
   "outputs": [],
   "source": [
    "ins, adv, norm = 0, 0, 0\n",
    "for elem in zip(ds_norm, image_probs_adv, image_probs):\n",
    "  ins += 1\n",
    "  adv += (image_probs_adv > 0 and ds_norm[1] == 1.) or (image_probs_adv < 0 and ds_norm[1] == 0.)\n",
    "  norm += (image_probs > 0 and ds_norm[1] == 1.) or (image_probs < 0 and ds_norm[1] == 0.)\n",
    "\n",
    "print(adv/ins, norm/ins)\n",
    "\n",
    "# for elem in ds.skip(4).take(1):\n",
    "#   plt.figure()\n",
    "#   plt.imshow(elem[0][0], \"gray\")\n",
    "#   plt.show()\n",
    "\n",
    "\n",
    "# hp = MilPostprocessor(model_name, ds, visualize_file_list, crop=False)\n",
    "# hp.mil_postprocessing()"
   ],
   "metadata": {
    "collapsed": false,
    "pycharm": {
     "name": "#%%\n"
    }
   }
  }
 ],
 "metadata": {
  "kernelspec": {
   "display_name": "Python 3",
   "language": "python",
   "name": "python3"
  },
  "language_info": {
   "codemirror_mode": {
    "name": "ipython",
    "version": 2
   },
   "file_extension": ".py",
   "mimetype": "text/x-python",
   "name": "python",
   "nbconvert_exporter": "python",
   "pygments_lexer": "ipython2",
   "version": "2.7.6"
  }
 },
 "nbformat": 4,
 "nbformat_minor": 0
}