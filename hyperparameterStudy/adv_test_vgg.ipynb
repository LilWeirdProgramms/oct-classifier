{
 "cells": [
  {
   "cell_type": "code",
   "execution_count": null,
   "metadata": {
    "collapsed": true,
    "pycharm": {
     "is_executing": true
    }
   },
   "outputs": [],
   "source": [
    "import os\n",
    "\n",
    "import matplotlib.pyplot as plt\n",
    "\n",
    "from hyperparameterStudy.mil_postprocessing import MilPostprocessor\n",
    "from PreprocessMILImageData import PreprocessMILImageData\n",
    "from PreprocessData import PreprocessData\n",
    "from PreprocessImageData import PreprocessImageData\n",
    "import tensorflow.keras as k\n",
    "import tensorflow as tf\n",
    "import matplotlib.pyplot as plt\n",
    "\n",
    "data_type = \"test\"\n",
    "model_name = \"vgg3layers4\"\n",
    "model_path = \"results/vgg/models\"\n",
    "file_list = PreprocessData.load_file_list(data_type, angio_or_structure=\"images\")\n",
    "pid = PreprocessImageData(input_file_list=file_list, rgb=True, crop=False, data_type=data_type)\n",
    "#pid.preprocess_data_and_save()\n",
    "ds = pid.create_dataset_for_calculation()\n",
    "\n",
    "# visualize_file_list = PreprocessMILImageData.load_file_list(\"test\", angio_or_structure=\"images\")\n",
    "# visualize_file_list = sorted(visualize_file_list, key=lambda file: (int(file[1]),\n",
    "#                                                                     int(file[0].split(\"_\")[-1][:-4])))\n",
    "pretrained_model = k.models.load_model(os.path.join(model_path, model_name))\n",
    "ds = ds.map(lambda x, y: (tf.keras.applications.vgg16.preprocess_input(x), y))\n",
    "ds_norm = ds.batch(1)\n",
    "image_probs = pretrained_model.predict(ds_norm, verbose=1)\n",
    "\n",
    "loss_object = k.losses.BinaryCrossentropy()\n",
    "\n",
    "def create_adversarial_pattern(input_image, input_label):\n",
    "  with tf.GradientTape() as tape:\n",
    "    tape.watch(input_image)\n",
    "    prediction = pretrained_model(input_image)\n",
    "    loss = loss_object(input_label, prediction)\n",
    "\n",
    "  # Get the gradients of the loss w.r.t to the input image.\n",
    "  gradient = tape.gradient(loss, input_image)\n",
    "  print(gradient)\n",
    "  # Get the sign of the gradients to create the perturbation\n",
    "  signed_grad = tf.sign(gradient)\n",
    "  eps = 0.1\n",
    "  adv_image = input_image + eps*signed_grad\n",
    "  return adv_image, input_label\n",
    "\n",
    "\n",
    "# for elem in ds.skip(4).take(1):\n",
    "#   plt.figure()\n",
    "#   plt.imshow(elem[0], \"gray\")\n",
    "#   plt.show()\n",
    "\n",
    "#ds = ds.batch(1).map(create_adversarial_pattern)\n",
    "ds_adv = ds.batch(1).map(create_adversarial_pattern)\n",
    "image_probs_adv = pretrained_model.predict(ds_adv, verbose=1)\n",
    "\n",
    "ins, adv, norm = 0, 0, 0\n",
    "for elem in zip(ds_norm, image_probs_adv, image_probs):\n",
    "  ins += 1\n",
    "  adv += (image_probs_adv > 0 and ds_norm[1] == 1.) or (image_probs_adv < 0 and ds_norm[1] == 0.)\n",
    "  norm += (image_probs > 0 and ds_norm[1] == 1.) or (image_probs < 0 and ds_norm[1] == 0.)\n",
    "\n",
    "print(adv/ins, norm/ins)\n",
    "\n",
    "# for elem in ds.skip(4).take(1):\n",
    "#   plt.figure()\n",
    "#   plt.imshow(elem[0][0], \"gray\")\n",
    "#   plt.show()\n",
    "\n",
    "\n",
    "# hp = MilPostprocessor(model_name, ds, visualize_file_list, crop=False)\n",
    "# hp.mil_postprocessing()"
   ]
  },
  {
   "cell_type": "code",
   "execution_count": 2,
   "outputs": [
    {
     "data": {
      "text/plain": "array([[ -1.7241527],\n       [154.38939  ],\n       [ 15.361714 ],\n       [  5.8112235],\n       [  2.1922035],\n       [  1.3095139],\n       [  1.7684884],\n       [ 50.92004  ],\n       [  1.0036408],\n       [ 18.015242 ],\n       [  3.5638928],\n       [ 38.999714 ],\n       [  5.542387 ],\n       [  2.5210857],\n       [  4.3640547],\n       [ 25.55375  ],\n       [ 15.598219 ],\n       [  5.15884  ],\n       [139.61183  ],\n       [ 61.500935 ],\n       [ -5.476096 ],\n       [ -2.4961293],\n       [  4.680427 ],\n       [  9.9977455],\n       [ -3.851121 ],\n       [ -0.8688485],\n       [  9.115936 ],\n       [101.06952  ],\n       [  4.070837 ],\n       [  2.717279 ]], dtype=float32)"
     },
     "execution_count": 2,
     "metadata": {},
     "output_type": "execute_result"
    }
   ],
   "source": [
    "image_probs_adv"
   ],
   "metadata": {
    "collapsed": false,
    "pycharm": {
     "name": "#%%\n"
    }
   }
  },
  {
   "cell_type": "code",
   "execution_count": 3,
   "outputs": [
    {
     "data": {
      "text/plain": "array([[-1.7241527e+00],\n       [ 1.5438939e+02],\n       [ 1.5361714e+01],\n       [ 5.8112235e+00],\n       [ 2.1922035e+00],\n       [ 1.4332087e-01],\n       [ 1.7684884e+00],\n       [ 5.0920040e+01],\n       [ 1.0036408e+00],\n       [ 1.8015242e+01],\n       [ 3.5638928e+00],\n       [ 3.8999714e+01],\n       [ 5.5423870e+00],\n       [ 2.5210857e+00],\n       [ 4.3640547e+00],\n       [ 2.5553749e+01],\n       [ 1.5598219e+01],\n       [ 5.1588402e+00],\n       [ 1.3961183e+02],\n       [ 6.1500935e+01],\n       [-5.4760962e+00],\n       [-2.4961293e+00],\n       [ 4.6804271e+00],\n       [ 9.9977455e+00],\n       [-3.8511209e+00],\n       [ 1.3451441e-01],\n       [ 9.1159363e+00],\n       [ 1.0106952e+02],\n       [ 4.0708370e+00],\n       [ 2.7172790e+00]], dtype=float32)"
     },
     "execution_count": 3,
     "metadata": {},
     "output_type": "execute_result"
    }
   ],
   "source": [
    "image_probs"
   ],
   "metadata": {
    "collapsed": false,
    "pycharm": {
     "name": "#%%\n"
    }
   }
  },
  {
   "cell_type": "code",
   "execution_count": null,
   "outputs": [],
   "source": [],
   "metadata": {
    "collapsed": false,
    "pycharm": {
     "name": "#%%\n"
    }
   }
  }
 ],
 "metadata": {
  "kernelspec": {
   "display_name": "Python 3",
   "language": "python",
   "name": "python3"
  },
  "language_info": {
   "codemirror_mode": {
    "name": "ipython",
    "version": 2
   },
   "file_extension": ".py",
   "mimetype": "text/x-python",
   "name": "python",
   "nbconvert_exporter": "python",
   "pygments_lexer": "ipython2",
   "version": "2.7.6"
  }
 },
 "nbformat": 4,
 "nbformat_minor": 0
}