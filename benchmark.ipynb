{
 "cells": [
  {
   "cell_type": "code",
   "execution_count": 1,
   "metadata": {
    "collapsed": true
   },
   "outputs": [],
   "source": [
    "data_location = \"/mnt/NewHDD\""
   ]
  },
  {
   "cell_type": "code",
   "execution_count": 14,
   "outputs": [],
   "source": [
    "import tensorflow as tf\n",
    "import numpy as np\n",
    "import InputList\n",
    "import BinaryReader\n",
    "import TFRecordsHandler\n",
    "import time\n",
    "import logging\n",
    "import os\n",
    "from importlib import reload\n",
    "reload(TFRecordsHandler)\n",
    "logging.basicConfig(filename='benchmark.log', encoding='utf-8', level=logging.DEBUG)"
   ],
   "metadata": {
    "collapsed": false,
    "pycharm": {
     "name": "#%%\n"
    }
   }
  },
  {
   "cell_type": "code",
   "execution_count": 174,
   "outputs": [],
   "source": [
    "logging.info(\"Benchmark Start\")"
   ],
   "metadata": {
    "collapsed": false,
    "pycharm": {
     "name": "#%%\n"
    }
   }
  },
  {
   "cell_type": "code",
   "execution_count": 3,
   "outputs": [
    {
     "name": "stdout",
     "output_type": "stream",
     "text": [
      "WARNING:tensorflow:AutoGraph could not transform <function BinaryReader.create_dataset.<locals>.<lambda> at 0x7f69640c5dc0> and will run it as-is.\n",
      "Please report this to the TensorFlow team. When filing the bug, set the verbosity to 10 (on Linux, `export AUTOGRAPH_VERBOSITY=10`) and attach the full output.\n",
      "Cause: module 'gast' has no attribute 'Index'\n",
      "To silence this warning, decorate the function with @tf.autograph.experimental.do_not_convert\n",
      "WARNING: AutoGraph could not transform <function BinaryReader.create_dataset.<locals>.<lambda> at 0x7f69640c5dc0> and will run it as-is.\n",
      "Please report this to the TensorFlow team. When filing the bug, set the verbosity to 10 (on Linux, `export AUTOGRAPH_VERBOSITY=10`) and attach the full output.\n",
      "Cause: module 'gast' has no attribute 'Index'\n",
      "To silence this warning, decorate the function with @tf.autograph.experimental.do_not_convert\n"
     ]
    },
    {
     "name": "stderr",
     "output_type": "stream",
     "text": [
      "2022-02-22 17:16:50.811137: I tensorflow/compiler/jit/xla_cpu_device.cc:41] Not creating XLA devices, tf_xla_enable_xla_devices not set\n",
      "2022-02-22 17:16:50.811574: W tensorflow/stream_executor/platform/default/dso_loader.cc:60] Could not load dynamic library 'libcuda.so.1'; dlerror: libcuda.so.1: cannot open shared object file: No such file or directory\n",
      "2022-02-22 17:16:50.811582: W tensorflow/stream_executor/cuda/cuda_driver.cc:326] failed call to cuInit: UNKNOWN ERROR (303)\n",
      "2022-02-22 17:16:50.811592: I tensorflow/stream_executor/cuda/cuda_diagnostics.cc:156] kernel driver does not appear to be running on this host (zeissstudent1): /proc/driver/nvidia/version does not exist\n",
      "2022-02-22 17:16:50.812232: I tensorflow/core/platform/cpu_feature_guard.cc:142] This TensorFlow binary is optimized with oneAPI Deep Neural Network Library (oneDNN) to use the following CPU instructions in performance-critical operations:  SSE4.1 SSE4.2 AVX AVX2 FMA\n",
      "To enable them in other operations, rebuild TensorFlow with the appropriate compiler flags.\n",
      "2022-02-22 17:16:50.812762: I tensorflow/compiler/jit/xla_gpu_device.cc:99] Not creating XLA devices, tf_xla_enable_xla_devices not set\n"
     ]
    }
   ],
   "source": [
    "br = BinaryReader.BinaryReader()\n",
    "bag = br.create_test_dataset([InputList.diabetic_testing_files[0]])"
   ],
   "metadata": {
    "collapsed": false,
    "pycharm": {
     "name": "#%%\n"
    }
   }
  },
  {
   "cell_type": "code",
   "execution_count": 4,
   "outputs": [],
   "source": [
    "def timeing(func):\n",
    "    def inner(*args, **kwargs):\n",
    "        start = time.time()\n",
    "        logging.info(f\"Starting with {func.__name__}\")\n",
    "        func(*args, **kwargs)\n",
    "        end = time.time()\n",
    "        logging.info(f\"Finished with {func.__name__} in {end - start}\")\n",
    "    return inner\n",
    "\n",
    "def instance_to_file(tensor, filename):\n",
    "    with open(filename, 'wb') as f:\n",
    "        np.save(f, tensor[0].numpy())\n",
    "\n",
    "def file_to_instance(file):\n",
    "    with open(file, 'rb') as f:\n",
    "        a = np.load(f)\n",
    "    return a, int(os.path.basename(file).decode('ascii')[0])\n",
    "\n",
    "def numpy_instance_generator(instance_file_list):\n",
    "    for file in instance_file_list:\n",
    "        yield file_to_instance(file)"
   ],
   "metadata": {
    "collapsed": false,
    "pycharm": {
     "name": "#%%\n"
    }
   }
  },
  {
   "cell_type": "code",
   "execution_count": null,
   "outputs": [],
   "source": [
    "def tfrecords_real_writer():\n",
    "    br = BinaryReader.BinaryReader()\n",
    "    for file in file_list:\n",
    "        bag = br.create_test_dataset([file])\n",
    "        i = 0\n",
    "        dirname = os.path.join(data_location, \"tfrecords\")\n",
    "        if not os.path.exists(dirname):\n",
    "            os.mkdir(dirname)\n",
    "        for instance in bag:\n",
    "            filename = os.path.join(dirname, f\"{os.path.basename(file[0])}_{i}\")\n",
    "            TFRecordsHandler.write_images_to_tfr_short(*instance, filename=filename)\n",
    "            i += 1"
   ],
   "metadata": {
    "collapsed": false,
    "pycharm": {
     "name": "#%%\n"
    }
   }
  },
  {
   "cell_type": "code",
   "execution_count": 24,
   "outputs": [
    {
     "data": {
      "text/plain": "('/mnt/p_Zeiss/Projects/UWF OCTA/Clinical data/MOON1/D39/links',\n 'raw_1536x2048x2045x2_31711.bin')"
     },
     "execution_count": 24,
     "metadata": {},
     "output_type": "execute_result"
    }
   ],
   "source": [],
   "metadata": {
    "collapsed": false,
    "pycharm": {
     "name": "#%%\n"
    }
   }
  },
  {
   "cell_type": "code",
   "execution_count": 17,
   "outputs": [],
   "source": [
    "@timeing\n",
    "def tfrecords_writer():\n",
    "    i = 0\n",
    "    dirname = os.path.join(data_location, \"tfrecords\")\n",
    "    if not os.path.exists(dirname):\n",
    "        os.mkdir(dirname)\n",
    "    for instance in bag:\n",
    "        filename = os.path.join(dirname, f\"file_{i}\")\n",
    "        TFRecordsHandler.write_images_to_tfr_short(*instance, filename=filename)\n",
    "        i += 1\n",
    "\n",
    "@timeing\n",
    "def numpy_writer():\n",
    "    i = 0\n",
    "    dirname = os.path.join(data_location, \"numpy\")\n",
    "    if not os.path.exists(dirname):\n",
    "        os.mkdir(dirname)\n",
    "    for instance in bag:\n",
    "        filename = os.path.join(dirname, f\"{instance[1]}_file_{i}.npy\")\n",
    "        instance_to_file(instance, filename)\n",
    "        i += 1\n",
    "\n",
    "def tfrecords_reader():\n",
    "    dir_location = os.path.join(data_location, \"tfrecords\")\n",
    "    list_of_files = os.listdir(dir_location)\n",
    "    list_of_file_paths = list(map(lambda x: os.path.join(dir_location, x), list_of_files))\n",
    "    dataset = TFRecordsHandler.get_dataset_small(list_of_file_paths)\n",
    "    return dataset\n",
    "\n",
    "def numpy_reader():\n",
    "    dir_location = os.path.join(data_location, \"numpy\")\n",
    "    list_of_files = os.listdir(dir_location)\n",
    "    list_of_file_paths = list(map(lambda x: os.path.join(dir_location, x), list_of_files))\n",
    "    dataset = tf.data.Dataset.from_tensor_slices(list_of_file_paths) \\\n",
    "                .interleave(lambda x:\n",
    "        tf.data.Dataset.from_generator(numpy_instance_generator, args=[list_of_file_paths],\n",
    "                                             output_signature=(\n",
    "                                                tf.TensorSpec(\n",
    "                                                    shape=(1536, 102, 102, 1),\n",
    "                                                    dtype=np.dtype('u2')),\n",
    "                                                tf.TensorSpec(\n",
    "                                                    shape=(),\n",
    "                                                    dtype=np.dtype('u1')))\n",
    "                                             ),\n",
    "                            num_parallel_calls=tf.data.AUTOTUNE,\n",
    "                            deterministic=True)\\\n",
    "        .prefetch(tf.data.AUTOTUNE)\n",
    "    return dataset\n",
    "\n",
    "def classy_reader():\n",
    "    return br.create_dataset([InputList.diabetic_testing_files[0]], True)\n",
    "\n",
    "@timeing\n",
    "def tfrecords_iterator(dataset):\n",
    "    for sample in dataset:\n",
    "        garbage = sample[0]\n",
    "    print(garbage)\n",
    "\n",
    "@timeing\n",
    "def numpy_iterator(dataset):\n",
    "    garbage = 0\n",
    "    for sample in dataset:\n",
    "        garbage += sample[1]\n",
    "    print(garbage)\n",
    "\n",
    "@timeing\n",
    "def classy_iterator(dataset):\n",
    "    garbage = 0\n",
    "    for sample in dataset:\n",
    "        garbage += sample[1]\n",
    "    print(garbage)"
   ],
   "metadata": {
    "collapsed": false,
    "pycharm": {
     "name": "#%%\n"
    }
   }
  },
  {
   "cell_type": "code",
   "execution_count": 18,
   "outputs": [],
   "source": [
    "tfrecords_writer()\n",
    "#numpy_writer()"
   ],
   "metadata": {
    "collapsed": false,
    "pycharm": {
     "name": "#%%\n"
    }
   }
  },
  {
   "cell_type": "code",
   "execution_count": 8,
   "outputs": [
    {
     "name": "stdout",
     "output_type": "stream",
     "text": [
      "WARNING:tensorflow:AutoGraph could not transform <function parse_tfr_element at 0x7f68ff352a60> and will run it as-is.\n",
      "Please report this to the TensorFlow team. When filing the bug, set the verbosity to 10 (on Linux, `export AUTOGRAPH_VERBOSITY=10`) and attach the full output.\n",
      "Cause: module 'gast' has no attribute 'Index'\n",
      "To silence this warning, decorate the function with @tf.autograph.experimental.do_not_convert\n",
      "WARNING: AutoGraph could not transform <function parse_tfr_element at 0x7f68ff352a60> and will run it as-is.\n",
      "Please report this to the TensorFlow team. When filing the bug, set the verbosity to 10 (on Linux, `export AUTOGRAPH_VERBOSITY=10`) and attach the full output.\n",
      "Cause: module 'gast' has no attribute 'Index'\n",
      "To silence this warning, decorate the function with @tf.autograph.experimental.do_not_convert\n"
     ]
    }
   ],
   "source": [
    "tfdataset = tfrecords_reader()"
   ],
   "metadata": {
    "collapsed": false,
    "pycharm": {
     "name": "#%%\n"
    }
   }
  },
  {
   "cell_type": "code",
   "execution_count": 187,
   "outputs": [],
   "source": [
    "numpy_dataset = numpy_reader()"
   ],
   "metadata": {
    "collapsed": false,
    "pycharm": {
     "name": "#%%\n"
    }
   }
  },
  {
   "cell_type": "code",
   "execution_count": 160,
   "outputs": [
    {
     "name": "stdout",
     "output_type": "stream",
     "text": [
      "WARNING:tensorflow:AutoGraph could not transform <function BinaryReader.create_dataset.<locals>.<lambda> at 0x7f325c69d670> and will run it as-is.\n",
      "Please report this to the TensorFlow team. When filing the bug, set the verbosity to 10 (on Linux, `export AUTOGRAPH_VERBOSITY=10`) and attach the full output.\n",
      "Cause: expected an indented block (<unknown>, line 85)\n",
      "To silence this warning, decorate the function with @tf.autograph.experimental.do_not_convert\n",
      "WARNING: AutoGraph could not transform <function BinaryReader.create_dataset.<locals>.<lambda> at 0x7f325c69d670> and will run it as-is.\n",
      "Please report this to the TensorFlow team. When filing the bug, set the verbosity to 10 (on Linux, `export AUTOGRAPH_VERBOSITY=10`) and attach the full output.\n",
      "Cause: expected an indented block (<unknown>, line 85)\n",
      "To silence this warning, decorate the function with @tf.autograph.experimental.do_not_convert\n"
     ]
    }
   ],
   "source": [
    "classy_dataset = classy_reader()"
   ],
   "metadata": {
    "collapsed": false,
    "pycharm": {
     "name": "#%%\n"
    }
   }
  },
  {
   "cell_type": "code",
   "execution_count": 13,
   "outputs": [
    {
     "name": "stdout",
     "output_type": "stream",
     "text": [
      "tf.Tensor(\n",
      "[[[[38176]\n",
      "   [34560]\n",
      "   [31648]\n",
      "   ...\n",
      "   [36640]\n",
      "   [37088]\n",
      "   [32384]]\n",
      "\n",
      "  [[34432]\n",
      "   [32768]\n",
      "   [33632]\n",
      "   ...\n",
      "   [35616]\n",
      "   [33376]\n",
      "   [35616]]\n",
      "\n",
      "  [[37216]\n",
      "   [36064]\n",
      "   [33920]\n",
      "   ...\n",
      "   [34816]\n",
      "   [32416]\n",
      "   [31456]]\n",
      "\n",
      "  ...\n",
      "\n",
      "  [[34752]\n",
      "   [32224]\n",
      "   [31168]\n",
      "   ...\n",
      "   [33888]\n",
      "   [34304]\n",
      "   [33728]]\n",
      "\n",
      "  [[34272]\n",
      "   [36896]\n",
      "   [31232]\n",
      "   ...\n",
      "   [33568]\n",
      "   [39104]\n",
      "   [33344]]\n",
      "\n",
      "  [[34144]\n",
      "   [33088]\n",
      "   [34528]\n",
      "   ...\n",
      "   [35040]\n",
      "   [34080]\n",
      "   [36160]]]\n",
      "\n",
      "\n",
      " [[[34336]\n",
      "   [32640]\n",
      "   [30976]\n",
      "   ...\n",
      "   [35200]\n",
      "   [36224]\n",
      "   [33024]]\n",
      "\n",
      "  [[37696]\n",
      "   [34400]\n",
      "   [31904]\n",
      "   ...\n",
      "   [34720]\n",
      "   [34912]\n",
      "   [30784]]\n",
      "\n",
      "  [[37472]\n",
      "   [35232]\n",
      "   [33184]\n",
      "   ...\n",
      "   [34240]\n",
      "   [34816]\n",
      "   [34816]]\n",
      "\n",
      "  ...\n",
      "\n",
      "  [[37600]\n",
      "   [33664]\n",
      "   [28288]\n",
      "   ...\n",
      "   [35296]\n",
      "   [34944]\n",
      "   [31776]]\n",
      "\n",
      "  [[37216]\n",
      "   [36416]\n",
      "   [29440]\n",
      "   ...\n",
      "   [33504]\n",
      "   [35584]\n",
      "   [34624]]\n",
      "\n",
      "  [[33760]\n",
      "   [34016]\n",
      "   [32096]\n",
      "   ...\n",
      "   [33984]\n",
      "   [35648]\n",
      "   [33440]]]\n",
      "\n",
      "\n",
      " [[[34368]\n",
      "   [32256]\n",
      "   [32192]\n",
      "   ...\n",
      "   [36320]\n",
      "   [36800]\n",
      "   [34624]]\n",
      "\n",
      "  [[36672]\n",
      "   [30496]\n",
      "   [31296]\n",
      "   ...\n",
      "   [34976]\n",
      "   [35872]\n",
      "   [36128]]\n",
      "\n",
      "  [[36512]\n",
      "   [35104]\n",
      "   [31968]\n",
      "   ...\n",
      "   [38016]\n",
      "   [35328]\n",
      "   [34688]]\n",
      "\n",
      "  ...\n",
      "\n",
      "  [[35008]\n",
      "   [33952]\n",
      "   [28544]\n",
      "   ...\n",
      "   [32864]\n",
      "   [35808]\n",
      "   [30656]]\n",
      "\n",
      "  [[37824]\n",
      "   [35264]\n",
      "   [28288]\n",
      "   ...\n",
      "   [32608]\n",
      "   [37024]\n",
      "   [32992]]\n",
      "\n",
      "  [[36512]\n",
      "   [34784]\n",
      "   [30656]\n",
      "   ...\n",
      "   [34432]\n",
      "   [34144]\n",
      "   [32736]]]\n",
      "\n",
      "\n",
      " ...\n",
      "\n",
      "\n",
      " [[[32800]\n",
      "   [34880]\n",
      "   [33216]\n",
      "   ...\n",
      "   [34336]\n",
      "   [34688]\n",
      "   [36064]]\n",
      "\n",
      "  [[32480]\n",
      "   [30624]\n",
      "   [32640]\n",
      "   ...\n",
      "   [32800]\n",
      "   [30752]\n",
      "   [37664]]\n",
      "\n",
      "  [[34048]\n",
      "   [32128]\n",
      "   [37888]\n",
      "   ...\n",
      "   [33536]\n",
      "   [34848]\n",
      "   [32480]]\n",
      "\n",
      "  ...\n",
      "\n",
      "  [[34784]\n",
      "   [33952]\n",
      "   [32480]\n",
      "   ...\n",
      "   [30976]\n",
      "   [36192]\n",
      "   [33376]]\n",
      "\n",
      "  [[34624]\n",
      "   [26816]\n",
      "   [33280]\n",
      "   ...\n",
      "   [34336]\n",
      "   [32512]\n",
      "   [36448]]\n",
      "\n",
      "  [[33280]\n",
      "   [26784]\n",
      "   [34816]\n",
      "   ...\n",
      "   [34592]\n",
      "   [34176]\n",
      "   [34784]]]\n",
      "\n",
      "\n",
      " [[[31488]\n",
      "   [33312]\n",
      "   [32672]\n",
      "   ...\n",
      "   [33632]\n",
      "   [35552]\n",
      "   [35872]]\n",
      "\n",
      "  [[31808]\n",
      "   [34272]\n",
      "   [33632]\n",
      "   ...\n",
      "   [33728]\n",
      "   [30464]\n",
      "   [36736]]\n",
      "\n",
      "  [[32800]\n",
      "   [35648]\n",
      "   [37568]\n",
      "   ...\n",
      "   [34656]\n",
      "   [34912]\n",
      "   [35104]]\n",
      "\n",
      "  ...\n",
      "\n",
      "  [[33920]\n",
      "   [35584]\n",
      "   [30048]\n",
      "   ...\n",
      "   [31680]\n",
      "   [32736]\n",
      "   [34016]]\n",
      "\n",
      "  [[31744]\n",
      "   [31936]\n",
      "   [35200]\n",
      "   ...\n",
      "   [34176]\n",
      "   [34976]\n",
      "   [34944]]\n",
      "\n",
      "  [[31328]\n",
      "   [29856]\n",
      "   [31904]\n",
      "   ...\n",
      "   [30048]\n",
      "   [32032]\n",
      "   [33344]]]\n",
      "\n",
      "\n",
      " [[[31712]\n",
      "   [31552]\n",
      "   [32832]\n",
      "   ...\n",
      "   [33472]\n",
      "   [34080]\n",
      "   [34272]]\n",
      "\n",
      "  [[32128]\n",
      "   [32544]\n",
      "   [30816]\n",
      "   ...\n",
      "   [32576]\n",
      "   [30880]\n",
      "   [38016]]\n",
      "\n",
      "  [[33280]\n",
      "   [36480]\n",
      "   [37248]\n",
      "   ...\n",
      "   [34208]\n",
      "   [34208]\n",
      "   [34080]]\n",
      "\n",
      "  ...\n",
      "\n",
      "  [[32096]\n",
      "   [32800]\n",
      "   [32576]\n",
      "   ...\n",
      "   [33280]\n",
      "   [32480]\n",
      "   [33024]]\n",
      "\n",
      "  [[28576]\n",
      "   [35168]\n",
      "   [34592]\n",
      "   ...\n",
      "   [31840]\n",
      "   [34944]\n",
      "   [35232]]\n",
      "\n",
      "  [[29408]\n",
      "   [33024]\n",
      "   [31392]\n",
      "   ...\n",
      "   [33152]\n",
      "   [33952]\n",
      "   [35584]]]], shape=(1536, 102, 102, 1), dtype=uint16)\n"
     ]
    }
   ],
   "source": [
    "tfrecords_iterator(tfdataset)"
   ],
   "metadata": {
    "collapsed": false,
    "pycharm": {
     "name": "#%%\n"
    }
   }
  },
  {
   "cell_type": "code",
   "execution_count": 188,
   "outputs": [
    {
     "ename": "KeyboardInterrupt",
     "evalue": "",
     "output_type": "error",
     "traceback": [
      "\u001B[0;31m---------------------------------------------------------------------------\u001B[0m",
      "\u001B[0;31mKeyboardInterrupt\u001B[0m                         Traceback (most recent call last)",
      "\u001B[0;32m/tmp/ipykernel_30906/2929944375.py\u001B[0m in \u001B[0;36m<module>\u001B[0;34m\u001B[0m\n\u001B[0;32m----> 1\u001B[0;31m \u001B[0mnumpy_iterator\u001B[0m\u001B[0;34m(\u001B[0m\u001B[0mnumpy_dataset\u001B[0m\u001B[0;34m)\u001B[0m\u001B[0;34m\u001B[0m\u001B[0;34m\u001B[0m\u001B[0m\n\u001B[0m",
      "\u001B[0;32m/tmp/ipykernel_30906/2785579682.py\u001B[0m in \u001B[0;36minner\u001B[0;34m(*args, **kwargs)\u001B[0m\n\u001B[1;32m      3\u001B[0m         \u001B[0mstart\u001B[0m \u001B[0;34m=\u001B[0m \u001B[0mtime\u001B[0m\u001B[0;34m.\u001B[0m\u001B[0mtime\u001B[0m\u001B[0;34m(\u001B[0m\u001B[0;34m)\u001B[0m\u001B[0;34m\u001B[0m\u001B[0;34m\u001B[0m\u001B[0m\n\u001B[1;32m      4\u001B[0m         \u001B[0mlogging\u001B[0m\u001B[0;34m.\u001B[0m\u001B[0minfo\u001B[0m\u001B[0;34m(\u001B[0m\u001B[0;34mf\"Starting with {func.__name__}\"\u001B[0m\u001B[0;34m)\u001B[0m\u001B[0;34m\u001B[0m\u001B[0;34m\u001B[0m\u001B[0m\n\u001B[0;32m----> 5\u001B[0;31m         \u001B[0mfunc\u001B[0m\u001B[0;34m(\u001B[0m\u001B[0;34m*\u001B[0m\u001B[0margs\u001B[0m\u001B[0;34m,\u001B[0m \u001B[0;34m**\u001B[0m\u001B[0mkwargs\u001B[0m\u001B[0;34m)\u001B[0m\u001B[0;34m\u001B[0m\u001B[0;34m\u001B[0m\u001B[0m\n\u001B[0m\u001B[1;32m      6\u001B[0m         \u001B[0mend\u001B[0m \u001B[0;34m=\u001B[0m \u001B[0mtime\u001B[0m\u001B[0;34m.\u001B[0m\u001B[0mtime\u001B[0m\u001B[0;34m(\u001B[0m\u001B[0;34m)\u001B[0m\u001B[0;34m\u001B[0m\u001B[0;34m\u001B[0m\u001B[0m\n\u001B[1;32m      7\u001B[0m         \u001B[0mlogging\u001B[0m\u001B[0;34m.\u001B[0m\u001B[0minfo\u001B[0m\u001B[0;34m(\u001B[0m\u001B[0;34mf\"Finished with {func.__name__} in {end - start}\"\u001B[0m\u001B[0;34m)\u001B[0m\u001B[0;34m\u001B[0m\u001B[0;34m\u001B[0m\u001B[0m\n",
      "\u001B[0;32m/tmp/ipykernel_30906/3951334077.py\u001B[0m in \u001B[0;36mnumpy_iterator\u001B[0;34m(dataset)\u001B[0m\n\u001B[1;32m     58\u001B[0m \u001B[0;32mdef\u001B[0m \u001B[0mnumpy_iterator\u001B[0m\u001B[0;34m(\u001B[0m\u001B[0mdataset\u001B[0m\u001B[0;34m)\u001B[0m\u001B[0;34m:\u001B[0m\u001B[0;34m\u001B[0m\u001B[0;34m\u001B[0m\u001B[0m\n\u001B[1;32m     59\u001B[0m     \u001B[0mgarbage\u001B[0m \u001B[0;34m=\u001B[0m \u001B[0;36m0\u001B[0m\u001B[0;34m\u001B[0m\u001B[0;34m\u001B[0m\u001B[0m\n\u001B[0;32m---> 60\u001B[0;31m     \u001B[0;32mfor\u001B[0m \u001B[0msample\u001B[0m \u001B[0;32min\u001B[0m \u001B[0mdataset\u001B[0m\u001B[0;34m:\u001B[0m\u001B[0;34m\u001B[0m\u001B[0;34m\u001B[0m\u001B[0m\n\u001B[0m\u001B[1;32m     61\u001B[0m         \u001B[0mgarbage\u001B[0m \u001B[0;34m+=\u001B[0m \u001B[0msample\u001B[0m\u001B[0;34m[\u001B[0m\u001B[0;36m1\u001B[0m\u001B[0;34m]\u001B[0m\u001B[0;34m\u001B[0m\u001B[0;34m\u001B[0m\u001B[0m\n\u001B[1;32m     62\u001B[0m     \u001B[0mprint\u001B[0m\u001B[0;34m(\u001B[0m\u001B[0mgarbage\u001B[0m\u001B[0;34m)\u001B[0m\u001B[0;34m\u001B[0m\u001B[0;34m\u001B[0m\u001B[0m\n",
      "\u001B[0;32m~/miniconda3/envs/octClassifier/lib/python3.9/site-packages/tensorflow/python/data/ops/iterator_ops.py\u001B[0m in \u001B[0;36m__next__\u001B[0;34m(self)\u001B[0m\n\u001B[1;32m    745\u001B[0m   \u001B[0;32mdef\u001B[0m \u001B[0m__next__\u001B[0m\u001B[0;34m(\u001B[0m\u001B[0mself\u001B[0m\u001B[0;34m)\u001B[0m\u001B[0;34m:\u001B[0m\u001B[0;34m\u001B[0m\u001B[0;34m\u001B[0m\u001B[0m\n\u001B[1;32m    746\u001B[0m     \u001B[0;32mtry\u001B[0m\u001B[0;34m:\u001B[0m\u001B[0;34m\u001B[0m\u001B[0;34m\u001B[0m\u001B[0m\n\u001B[0;32m--> 747\u001B[0;31m       \u001B[0;32mreturn\u001B[0m \u001B[0mself\u001B[0m\u001B[0;34m.\u001B[0m\u001B[0m_next_internal\u001B[0m\u001B[0;34m(\u001B[0m\u001B[0;34m)\u001B[0m\u001B[0;34m\u001B[0m\u001B[0;34m\u001B[0m\u001B[0m\n\u001B[0m\u001B[1;32m    748\u001B[0m     \u001B[0;32mexcept\u001B[0m \u001B[0merrors\u001B[0m\u001B[0;34m.\u001B[0m\u001B[0mOutOfRangeError\u001B[0m\u001B[0;34m:\u001B[0m\u001B[0;34m\u001B[0m\u001B[0;34m\u001B[0m\u001B[0m\n\u001B[1;32m    749\u001B[0m       \u001B[0;32mraise\u001B[0m \u001B[0mStopIteration\u001B[0m\u001B[0;34m\u001B[0m\u001B[0;34m\u001B[0m\u001B[0m\n",
      "\u001B[0;32m~/miniconda3/envs/octClassifier/lib/python3.9/site-packages/tensorflow/python/data/ops/iterator_ops.py\u001B[0m in \u001B[0;36m_next_internal\u001B[0;34m(self)\u001B[0m\n\u001B[1;32m    728\u001B[0m     \u001B[0;31m# to communicate that there is no more data to iterate over.\u001B[0m\u001B[0;34m\u001B[0m\u001B[0;34m\u001B[0m\u001B[0m\n\u001B[1;32m    729\u001B[0m     \u001B[0;32mwith\u001B[0m \u001B[0mcontext\u001B[0m\u001B[0;34m.\u001B[0m\u001B[0mexecution_mode\u001B[0m\u001B[0;34m(\u001B[0m\u001B[0mcontext\u001B[0m\u001B[0;34m.\u001B[0m\u001B[0mSYNC\u001B[0m\u001B[0;34m)\u001B[0m\u001B[0;34m:\u001B[0m\u001B[0;34m\u001B[0m\u001B[0;34m\u001B[0m\u001B[0m\n\u001B[0;32m--> 730\u001B[0;31m       ret = gen_dataset_ops.iterator_get_next(\n\u001B[0m\u001B[1;32m    731\u001B[0m           \u001B[0mself\u001B[0m\u001B[0;34m.\u001B[0m\u001B[0m_iterator_resource\u001B[0m\u001B[0;34m,\u001B[0m\u001B[0;34m\u001B[0m\u001B[0;34m\u001B[0m\u001B[0m\n\u001B[1;32m    732\u001B[0m           \u001B[0moutput_types\u001B[0m\u001B[0;34m=\u001B[0m\u001B[0mself\u001B[0m\u001B[0;34m.\u001B[0m\u001B[0m_flat_output_types\u001B[0m\u001B[0;34m,\u001B[0m\u001B[0;34m\u001B[0m\u001B[0;34m\u001B[0m\u001B[0m\n",
      "\u001B[0;32m~/miniconda3/envs/octClassifier/lib/python3.9/site-packages/tensorflow/python/ops/gen_dataset_ops.py\u001B[0m in \u001B[0;36miterator_get_next\u001B[0;34m(iterator, output_types, output_shapes, name)\u001B[0m\n\u001B[1;32m   2572\u001B[0m   \u001B[0;32mif\u001B[0m \u001B[0mtld\u001B[0m\u001B[0;34m.\u001B[0m\u001B[0mis_eager\u001B[0m\u001B[0;34m:\u001B[0m\u001B[0;34m\u001B[0m\u001B[0;34m\u001B[0m\u001B[0m\n\u001B[1;32m   2573\u001B[0m     \u001B[0;32mtry\u001B[0m\u001B[0;34m:\u001B[0m\u001B[0;34m\u001B[0m\u001B[0;34m\u001B[0m\u001B[0m\n\u001B[0;32m-> 2574\u001B[0;31m       _result = pywrap_tfe.TFE_Py_FastPathExecute(\n\u001B[0m\u001B[1;32m   2575\u001B[0m         \u001B[0m_ctx\u001B[0m\u001B[0;34m,\u001B[0m \u001B[0;34m\"IteratorGetNext\"\u001B[0m\u001B[0;34m,\u001B[0m \u001B[0mname\u001B[0m\u001B[0;34m,\u001B[0m \u001B[0miterator\u001B[0m\u001B[0;34m,\u001B[0m \u001B[0;34m\"output_types\"\u001B[0m\u001B[0;34m,\u001B[0m \u001B[0moutput_types\u001B[0m\u001B[0;34m,\u001B[0m\u001B[0;34m\u001B[0m\u001B[0;34m\u001B[0m\u001B[0m\n\u001B[1;32m   2576\u001B[0m         \"output_shapes\", output_shapes)\n",
      "\u001B[0;31mKeyboardInterrupt\u001B[0m: "
     ]
    }
   ],
   "source": [
    "numpy_iterator(numpy_dataset)"
   ],
   "metadata": {
    "collapsed": false,
    "pycharm": {
     "name": "#%%\n"
    }
   }
  },
  {
   "cell_type": "code",
   "execution_count": 183,
   "outputs": [
    {
     "name": "stdout",
     "output_type": "stream",
     "text": [
      "tf.Tensor(135, shape=(), dtype=uint8)\n"
     ]
    }
   ],
   "source": [
    "classy_iterator(classy_dataset)"
   ],
   "metadata": {
    "collapsed": false,
    "pycharm": {
     "name": "#%%\n"
    }
   }
  },
  {
   "cell_type": "code",
   "execution_count": null,
   "outputs": [],
   "source": [
    "parsed_dataset = tf.data.TFRecordDataset([\"images.tfrecords\"])"
   ],
   "metadata": {
    "collapsed": false,
    "pycharm": {
     "name": "#%%\n"
    }
   }
  },
  {
   "cell_type": "code",
   "execution_count": null,
   "outputs": [],
   "source": [
    "for parsed_record in parsed_dataset.take(10):\n",
    "  print(repr(parsed_record))"
   ],
   "metadata": {
    "collapsed": false,
    "pycharm": {
     "name": "#%%\n"
    }
   }
  },
  {
   "cell_type": "code",
   "execution_count": null,
   "outputs": [],
   "source": [
    "from TFRecordsHandler import get_dataset_small"
   ],
   "metadata": {
    "collapsed": false,
    "pycharm": {
     "name": "#%%\n"
    }
   }
  },
  {
   "cell_type": "code",
   "execution_count": null,
   "outputs": [],
   "source": [
    "instance_to_file(sample)"
   ],
   "metadata": {
    "collapsed": false,
    "pycharm": {
     "name": "#%%\n"
    }
   }
  },
  {
   "cell_type": "code",
   "execution_count": null,
   "outputs": [],
   "source": [
    "file_list = [\"0_file.npy\"]\n",
    "dataset = tf.data.Dataset.from_generator(numpy_instance_generator, args=[file_list],\n",
    "                                         output_signature=(\n",
    "                                            tf.TensorSpec(\n",
    "                                                shape=(1536, 102, 102, 1),\n",
    "                                                dtype=np.dtype('u2')),\n",
    "                                            tf.TensorSpec(\n",
    "                                                shape=(),\n",
    "                                                dtype=np.dtype('u1')))\n",
    "                                         )"
   ],
   "metadata": {
    "collapsed": false,
    "pycharm": {
     "name": "#%%\n"
    }
   }
  },
  {
   "cell_type": "code",
   "execution_count": null,
   "outputs": [],
   "source": [
    "dataset"
   ],
   "metadata": {
    "collapsed": false,
    "pycharm": {
     "name": "#%%\n"
    }
   }
  },
  {
   "cell_type": "code",
   "execution_count": null,
   "outputs": [],
   "source": [],
   "metadata": {
    "collapsed": false,
    "pycharm": {
     "name": "#%%\n"
    }
   }
  }
 ],
 "metadata": {
  "kernelspec": {
   "display_name": "Python 3",
   "language": "python",
   "name": "python3"
  },
  "language_info": {
   "codemirror_mode": {
    "name": "ipython",
    "version": 2
   },
   "file_extension": ".py",
   "mimetype": "text/x-python",
   "name": "python",
   "nbconvert_exporter": "python",
   "pygments_lexer": "ipython2",
   "version": "2.7.6"
  }
 },
 "nbformat": 4,
 "nbformat_minor": 0
}