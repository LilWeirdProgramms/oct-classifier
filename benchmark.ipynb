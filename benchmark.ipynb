{
 "cells": [
  {
   "cell_type": "code",
   "execution_count": 1,
   "metadata": {
    "collapsed": true
   },
   "outputs": [],
   "source": [
    "data_location = \"/mnt/NewHDD\""
   ]
  },
  {
   "cell_type": "code",
   "execution_count": 2,
   "outputs": [],
   "source": [
    "import tensorflow as tf\n",
    "import numpy as np\n",
    "import InputList\n",
    "import BinaryReader\n",
    "import TFRecordsHandler\n",
    "import time\n",
    "import logging\n",
    "import os\n",
    "from importlib import reload\n",
    "# reload(TFRecordsHandler)\n",
    "# logging.basicConfig(filename='benchmark.log', encoding='utf-8', level=logging.DEBUG)"
   ],
   "metadata": {
    "collapsed": false,
    "pycharm": {
     "name": "#%%\n"
    }
   }
  },
  {
   "cell_type": "code",
   "execution_count": 174,
   "outputs": [],
   "source": [
    "logging.info(\"Benchmark Start\")"
   ],
   "metadata": {
    "collapsed": false,
    "pycharm": {
     "name": "#%%\n"
    }
   }
  },
  {
   "cell_type": "code",
   "execution_count": null,
   "outputs": [],
   "source": [
    "br = BinaryReader.BinaryReader()\n",
    "bag = br.create_test_dataset([InputList.diabetic_testing_files[0]])"
   ],
   "metadata": {
    "collapsed": false,
    "pycharm": {
     "name": "#%%\n",
     "is_executing": true
    }
   }
  },
  {
   "cell_type": "code",
   "execution_count": 4,
   "outputs": [],
   "source": [
    "def timeing(func):\n",
    "    def inner(*args, **kwargs):\n",
    "        start = time.time()\n",
    "        logging.info(f\"Starting with {func.__name__}\")\n",
    "        func(*args, **kwargs)\n",
    "        end = time.time()\n",
    "        logging.info(f\"Finished with {func.__name__} in {end - start}\")\n",
    "    return inner\n",
    "\n",
    "def instance_to_file(tensor, filename):\n",
    "    with open(filename, 'wb') as f:\n",
    "        np.save(f, tensor[0].numpy())\n",
    "\n",
    "def file_to_instance(file):\n",
    "    with open(file, 'rb') as f:\n",
    "        a = np.load(f)\n",
    "    return a, int(os.path.basename(file).decode('ascii')[0])\n",
    "\n",
    "def numpy_instance_generator(instance_file_list):\n",
    "    for file in instance_file_list:\n",
    "        yield file_to_instance(file)"
   ],
   "metadata": {
    "collapsed": false,
    "pycharm": {
     "name": "#%%\n"
    }
   }
  },
  {
   "cell_type": "code",
   "execution_count": null,
   "outputs": [],
   "source": [
    "def tfrecords_real_writer():\n",
    "    br = BinaryReader.BinaryReader()\n",
    "    for file in file_list:\n",
    "        bag = br.create_test_dataset([file])\n",
    "        i = 0\n",
    "        dirname = os.path.join(data_location, \"tfrecords\")\n",
    "        if not os.path.exists(dirname):\n",
    "            os.mkdir(dirname)\n",
    "        for instance in bag:\n",
    "            filename = os.path.join(dirname, f\"{os.path.basename(file[0])}_{i}\")\n",
    "            TFRecordsHandler.write_images_to_tfr_short(*instance, filename=filename)\n",
    "            i += 1"
   ],
   "metadata": {
    "collapsed": false,
    "pycharm": {
     "name": "#%%\n"
    }
   }
  },
  {
   "cell_type": "code",
   "execution_count": 24,
   "outputs": [
    {
     "data": {
      "text/plain": "('/mnt/p_Zeiss/Projects/UWF OCTA/Clinical data/MOON1/D39/links',\n 'raw_1536x2048x2045x2_31711.bin')"
     },
     "execution_count": 24,
     "metadata": {},
     "output_type": "execute_result"
    }
   ],
   "source": [],
   "metadata": {
    "collapsed": false,
    "pycharm": {
     "name": "#%%\n"
    }
   }
  },
  {
   "cell_type": "code",
   "execution_count": 50,
   "outputs": [],
   "source": [
    "@timeing\n",
    "def tfrecords_writer():\n",
    "    i = 0\n",
    "    dirname = os.path.join(data_location, \"tfrecords\")\n",
    "    if not os.path.exists(dirname):\n",
    "        os.mkdir(dirname)\n",
    "    for instance in bag:\n",
    "        filename = os.path.join(dirname, f\"file_{i}\")\n",
    "        TFRecordsHandler.write_images_to_tfr_short(*instance, filename=filename)\n",
    "        i += 1\n",
    "\n",
    "@timeing\n",
    "def numpy_writer():\n",
    "    i = 0\n",
    "    dirname = os.path.join(data_location, \"numpy\")\n",
    "    if not os.path.exists(dirname):\n",
    "        os.mkdir(dirname)\n",
    "    for instance in bag:\n",
    "        filename = os.path.join(dirname, f\"{instance[1]}_file_{i}.npy\")\n",
    "        instance_to_file(instance, filename)\n",
    "        i += 1\n",
    "\n",
    "def tfrecords_reader():\n",
    "    dir_location = os.path.join(data_location, \"tfrecords\")\n",
    "    list_of_files = os.listdir(dir_location)\n",
    "    list_of_file_paths = list(map(lambda x: os.path.join(dir_location, x), list_of_files))\n",
    "    dataset = tf.data.Dataset.from_tensor_slices(list_of_file_paths)\n",
    "    dataset = dataset.interleave(lambda x: tf.data.TFRecordDataset(x),\n",
    "                                 num_parallel_calls=tf.data.AUTOTUNE, cycle_length=4,\n",
    "                                 deterministic=False) \\\n",
    "                      .prefetch(tf.data.AUTOTUNE)\n",
    "\n",
    "    # pass every single feature through our mapping function\n",
    "    dataset = dataset.map(\n",
    "      TFRecordsHandler.parse_tfr_element\n",
    "    )\n",
    "    dataset.batch(4)\n",
    "    return dataset\n",
    "\n",
    "def numpy_reader():\n",
    "    dir_location = os.path.join(data_location, \"numpy\")\n",
    "    list_of_files = os.listdir(dir_location)\n",
    "    list_of_file_paths = list(map(lambda x: os.path.join(dir_location, x), list_of_files))\n",
    "    dataset = tf.data.Dataset.from_tensor_slices(list_of_file_paths) \\\n",
    "                .interleave(lambda x:\n",
    "        tf.data.Dataset.from_generator(numpy_instance_generator, args=[list_of_file_paths],\n",
    "                                             output_signature=(\n",
    "                                                tf.TensorSpec(\n",
    "                                                    shape=(1536, 102, 102, 1),\n",
    "                                                    dtype=np.dtype('u2')),\n",
    "                                                tf.TensorSpec(\n",
    "                                                    shape=(),\n",
    "                                                    dtype=np.dtype('u1')))\n",
    "                                             ),\n",
    "                            num_parallel_calls=tf.data.AUTOTUNE,\n",
    "                            deterministic=True)\\\n",
    "        .prefetch(tf.data.AUTOTUNE)\n",
    "    return dataset\n",
    "\n",
    "def numpy_reader2():\n",
    "    dir_location = os.path.join(data_location, \"numpy\")\n",
    "    list_of_files = os.listdir(dir_location)\n",
    "    list_of_file_paths = list(map(lambda x: os.path.join(dir_location, x), list_of_files))\n",
    "    dataset = tf.data.Dataset.from_generator(numpy_instance_generator, args=[list_of_file_paths],\n",
    "                                             output_signature=(\n",
    "                                                tf.TensorSpec(\n",
    "                                                    shape=(1536, 102, 102, 1),\n",
    "                                                    dtype=np.dtype('u2')),\n",
    "                                                tf.TensorSpec(\n",
    "                                                    shape=(),\n",
    "                                                    dtype=np.dtype('u1')))\n",
    "                                             )\n",
    "    return dataset.batch(4)\n",
    "\n",
    "\n",
    "def classy_reader():\n",
    "    return br.create_dataset([InputList.diabetic_testing_files[0]], True)\n",
    "\n",
    "@timeing\n",
    "def tfrecords_iterator(dataset):\n",
    "    for sample in dataset:\n",
    "        garbage = sample[0]\n",
    "    print(garbage)\n",
    "\n",
    "@timeing\n",
    "def numpy_iterator(dataset):\n",
    "    garbage = 0\n",
    "    for sample in dataset:\n",
    "        garbage += sample[1]\n",
    "    print(garbage)\n",
    "\n",
    "@timeing\n",
    "def classy_iterator(dataset):\n",
    "    garbage = 0\n",
    "    for sample in dataset:\n",
    "        garbage += sample[1]\n",
    "    print(garbage)"
   ],
   "metadata": {
    "collapsed": false,
    "pycharm": {
     "name": "#%%\n"
    }
   }
  },
  {
   "cell_type": "code",
   "execution_count": 18,
   "outputs": [],
   "source": [
    "tfrecords_writer()\n",
    "#numpy_writer()"
   ],
   "metadata": {
    "collapsed": false,
    "pycharm": {
     "name": "#%%\n"
    }
   }
  },
  {
   "cell_type": "code",
   "execution_count": 51,
   "outputs": [],
   "source": [
    "tfdataset = tfrecords_reader()"
   ],
   "metadata": {
    "collapsed": false,
    "pycharm": {
     "name": "#%%\n"
    }
   }
  },
  {
   "cell_type": "code",
   "execution_count": 41,
   "outputs": [],
   "source": [
    "numpy_dataset = numpy_reader2()"
   ],
   "metadata": {
    "collapsed": false,
    "pycharm": {
     "name": "#%%\n"
    }
   }
  },
  {
   "cell_type": "code",
   "execution_count": 48,
   "outputs": [
    {
     "name": "stdout",
     "output_type": "stream",
     "text": [
      "WARNING:tensorflow:AutoGraph could not transform <function BinaryReader.create_dataset.<locals>.<lambda> at 0x7f68f41aa820> and will run it as-is.\n",
      "Please report this to the TensorFlow team. When filing the bug, set the verbosity to 10 (on Linux, `export AUTOGRAPH_VERBOSITY=10`) and attach the full output.\n",
      "Cause: module 'gast' has no attribute 'Index'\n",
      "To silence this warning, decorate the function with @tf.autograph.experimental.do_not_convert\n",
      "WARNING: AutoGraph could not transform <function BinaryReader.create_dataset.<locals>.<lambda> at 0x7f68f41aa820> and will run it as-is.\n",
      "Please report this to the TensorFlow team. When filing the bug, set the verbosity to 10 (on Linux, `export AUTOGRAPH_VERBOSITY=10`) and attach the full output.\n",
      "Cause: module 'gast' has no attribute 'Index'\n",
      "To silence this warning, decorate the function with @tf.autograph.experimental.do_not_convert\n"
     ]
    }
   ],
   "source": [
    "classy_dataset = classy_reader()"
   ],
   "metadata": {
    "collapsed": false,
    "pycharm": {
     "name": "#%%\n"
    }
   }
  },
  {
   "cell_type": "code",
   "execution_count": 52,
   "outputs": [
    {
     "name": "stdout",
     "output_type": "stream",
     "text": [
      "tf.Tensor(\n",
      "[[[[34016]\n",
      "   [37664]\n",
      "   [34784]\n",
      "   ...\n",
      "   [32864]\n",
      "   [33056]\n",
      "   [31136]]\n",
      "\n",
      "  [[36032]\n",
      "   [34304]\n",
      "   [35712]\n",
      "   ...\n",
      "   [32896]\n",
      "   [34816]\n",
      "   [31488]]\n",
      "\n",
      "  [[34656]\n",
      "   [36160]\n",
      "   [36096]\n",
      "   ...\n",
      "   [30720]\n",
      "   [34912]\n",
      "   [28992]]\n",
      "\n",
      "  ...\n",
      "\n",
      "  [[34016]\n",
      "   [32512]\n",
      "   [35744]\n",
      "   ...\n",
      "   [31712]\n",
      "   [34400]\n",
      "   [32352]]\n",
      "\n",
      "  [[34784]\n",
      "   [34816]\n",
      "   [36864]\n",
      "   ...\n",
      "   [28832]\n",
      "   [33888]\n",
      "   [31168]]\n",
      "\n",
      "  [[33824]\n",
      "   [33568]\n",
      "   [32992]\n",
      "   ...\n",
      "   [30624]\n",
      "   [30176]\n",
      "   [32128]]]\n",
      "\n",
      "\n",
      " [[[34816]\n",
      "   [38048]\n",
      "   [35136]\n",
      "   ...\n",
      "   [35328]\n",
      "   [30784]\n",
      "   [29984]]\n",
      "\n",
      "  [[35872]\n",
      "   [35360]\n",
      "   [37504]\n",
      "   ...\n",
      "   [31904]\n",
      "   [33312]\n",
      "   [30848]]\n",
      "\n",
      "  [[34592]\n",
      "   [36768]\n",
      "   [34688]\n",
      "   ...\n",
      "   [30176]\n",
      "   [33952]\n",
      "   [30144]]\n",
      "\n",
      "  ...\n",
      "\n",
      "  [[35200]\n",
      "   [34592]\n",
      "   [37696]\n",
      "   ...\n",
      "   [29792]\n",
      "   [35232]\n",
      "   [31712]]\n",
      "\n",
      "  [[36608]\n",
      "   [35168]\n",
      "   [40160]\n",
      "   ...\n",
      "   [29952]\n",
      "   [36512]\n",
      "   [32512]]\n",
      "\n",
      "  [[33408]\n",
      "   [35200]\n",
      "   [35296]\n",
      "   ...\n",
      "   [30368]\n",
      "   [33504]\n",
      "   [34176]]]\n",
      "\n",
      "\n",
      " [[[34272]\n",
      "   [37824]\n",
      "   [32864]\n",
      "   ...\n",
      "   [36896]\n",
      "   [32672]\n",
      "   [29472]]\n",
      "\n",
      "  [[36672]\n",
      "   [36768]\n",
      "   [35456]\n",
      "   ...\n",
      "   [33344]\n",
      "   [33984]\n",
      "   [29920]]\n",
      "\n",
      "  [[36000]\n",
      "   [38752]\n",
      "   [33408]\n",
      "   ...\n",
      "   [31040]\n",
      "   [38368]\n",
      "   [32256]]\n",
      "\n",
      "  ...\n",
      "\n",
      "  [[38464]\n",
      "   [35040]\n",
      "   [34080]\n",
      "   ...\n",
      "   [34560]\n",
      "   [34848]\n",
      "   [31264]]\n",
      "\n",
      "  [[36992]\n",
      "   [37280]\n",
      "   [38048]\n",
      "   ...\n",
      "   [35776]\n",
      "   [34624]\n",
      "   [33728]]\n",
      "\n",
      "  [[36928]\n",
      "   [35040]\n",
      "   [37312]\n",
      "   ...\n",
      "   [30368]\n",
      "   [35680]\n",
      "   [34176]]]\n",
      "\n",
      "\n",
      " ...\n",
      "\n",
      "\n",
      " [[[31424]\n",
      "   [33792]\n",
      "   [36096]\n",
      "   ...\n",
      "   [34592]\n",
      "   [35968]\n",
      "   [31456]]\n",
      "\n",
      "  [[32768]\n",
      "   [33504]\n",
      "   [40480]\n",
      "   ...\n",
      "   [32928]\n",
      "   [35808]\n",
      "   [34784]]\n",
      "\n",
      "  [[32288]\n",
      "   [34688]\n",
      "   [31488]\n",
      "   ...\n",
      "   [32320]\n",
      "   [35968]\n",
      "   [36480]]\n",
      "\n",
      "  ...\n",
      "\n",
      "  [[32960]\n",
      "   [32864]\n",
      "   [34784]\n",
      "   ...\n",
      "   [31616]\n",
      "   [34112]\n",
      "   [32000]]\n",
      "\n",
      "  [[32512]\n",
      "   [32736]\n",
      "   [31360]\n",
      "   ...\n",
      "   [34976]\n",
      "   [32640]\n",
      "   [34624]]\n",
      "\n",
      "  [[33888]\n",
      "   [33728]\n",
      "   [29216]\n",
      "   ...\n",
      "   [33984]\n",
      "   [32672]\n",
      "   [33952]]]\n",
      "\n",
      "\n",
      " [[[31680]\n",
      "   [34624]\n",
      "   [32928]\n",
      "   ...\n",
      "   [34560]\n",
      "   [33600]\n",
      "   [34016]]\n",
      "\n",
      "  [[32672]\n",
      "   [32224]\n",
      "   [32992]\n",
      "   ...\n",
      "   [34880]\n",
      "   [34208]\n",
      "   [33408]]\n",
      "\n",
      "  [[35136]\n",
      "   [34048]\n",
      "   [29664]\n",
      "   ...\n",
      "   [33664]\n",
      "   [32448]\n",
      "   [33664]]\n",
      "\n",
      "  ...\n",
      "\n",
      "  [[34528]\n",
      "   [31776]\n",
      "   [28768]\n",
      "   ...\n",
      "   [34752]\n",
      "   [35872]\n",
      "   [29408]]\n",
      "\n",
      "  [[31904]\n",
      "   [33376]\n",
      "   [32256]\n",
      "   ...\n",
      "   [32320]\n",
      "   [34112]\n",
      "   [35360]]\n",
      "\n",
      "  [[33024]\n",
      "   [36640]\n",
      "   [32000]\n",
      "   ...\n",
      "   [33824]\n",
      "   [32576]\n",
      "   [33344]]]\n",
      "\n",
      "\n",
      " [[[33472]\n",
      "   [34432]\n",
      "   [33056]\n",
      "   ...\n",
      "   [33760]\n",
      "   [31840]\n",
      "   [33216]]\n",
      "\n",
      "  [[32128]\n",
      "   [34912]\n",
      "   [33888]\n",
      "   ...\n",
      "   [36896]\n",
      "   [31008]\n",
      "   [31968]]\n",
      "\n",
      "  [[34336]\n",
      "   [33952]\n",
      "   [33728]\n",
      "   ...\n",
      "   [34752]\n",
      "   [31328]\n",
      "   [34144]]\n",
      "\n",
      "  ...\n",
      "\n",
      "  [[33632]\n",
      "   [31968]\n",
      "   [32960]\n",
      "   ...\n",
      "   [33888]\n",
      "   [36160]\n",
      "   [30880]]\n",
      "\n",
      "  [[30528]\n",
      "   [31712]\n",
      "   [25984]\n",
      "   ...\n",
      "   [35680]\n",
      "   [35456]\n",
      "   [33856]]\n",
      "\n",
      "  [[31456]\n",
      "   [35680]\n",
      "   [28512]\n",
      "   ...\n",
      "   [34912]\n",
      "   [37280]\n",
      "   [30656]]]], shape=(1536, 102, 102, 1), dtype=uint16)\n"
     ]
    }
   ],
   "source": [
    "tfrecords_iterator(tfdataset)"
   ],
   "metadata": {
    "collapsed": false,
    "pycharm": {
     "name": "#%%\n"
    }
   }
  },
  {
   "cell_type": "code",
   "execution_count": 44,
   "outputs": [
    {
     "name": "stdout",
     "output_type": "stream",
     "text": [
      "tf.Tensor([97 99 98 97], shape=(4,), dtype=uint8)\n"
     ]
    }
   ],
   "source": [
    "numpy_iterator(numpy_dataset)"
   ],
   "metadata": {
    "collapsed": false,
    "pycharm": {
     "name": "#%%\n"
    }
   }
  },
  {
   "cell_type": "code",
   "execution_count": 49,
   "outputs": [
    {
     "name": "stdout",
     "output_type": "stream",
     "text": [
      "tf.Tensor(135, shape=(), dtype=uint8)\n"
     ]
    }
   ],
   "source": [
    "classy_iterator(classy_dataset)"
   ],
   "metadata": {
    "collapsed": false,
    "pycharm": {
     "name": "#%%\n"
    }
   }
  },
  {
   "cell_type": "code",
   "execution_count": null,
   "outputs": [],
   "source": [
    "parsed_dataset = tf.data.TFRecordDataset([\"images.tfrecords\"])"
   ],
   "metadata": {
    "collapsed": false,
    "pycharm": {
     "name": "#%%\n"
    }
   }
  },
  {
   "cell_type": "code",
   "execution_count": null,
   "outputs": [],
   "source": [
    "for parsed_record in parsed_dataset.take(10):\n",
    "  print(repr(parsed_record))"
   ],
   "metadata": {
    "collapsed": false,
    "pycharm": {
     "name": "#%%\n"
    }
   }
  },
  {
   "cell_type": "code",
   "execution_count": null,
   "outputs": [],
   "source": [
    "from TFRecordsHandler import get_dataset_small"
   ],
   "metadata": {
    "collapsed": false,
    "pycharm": {
     "name": "#%%\n"
    }
   }
  },
  {
   "cell_type": "code",
   "execution_count": null,
   "outputs": [],
   "source": [
    "instance_to_file(sample)"
   ],
   "metadata": {
    "collapsed": false,
    "pycharm": {
     "name": "#%%\n"
    }
   }
  },
  {
   "cell_type": "code",
   "execution_count": null,
   "outputs": [],
   "source": [
    "file_list = [\"0_file.npy\"]\n",
    "dataset = tf.data.Dataset.from_generator(numpy_instance_generator, args=[file_list],\n",
    "                                         output_signature=(\n",
    "                                            tf.TensorSpec(\n",
    "                                                shape=(1536, 102, 102, 1),\n",
    "                                                dtype=np.dtype('u2')),\n",
    "                                            tf.TensorSpec(\n",
    "                                                shape=(),\n",
    "                                                dtype=np.dtype('u1')))\n",
    "                                         )"
   ],
   "metadata": {
    "collapsed": false,
    "pycharm": {
     "name": "#%%\n"
    }
   }
  },
  {
   "cell_type": "code",
   "execution_count": null,
   "outputs": [],
   "source": [
    "dataset"
   ],
   "metadata": {
    "collapsed": false,
    "pycharm": {
     "name": "#%%\n"
    }
   }
  },
  {
   "cell_type": "code",
   "execution_count": null,
   "outputs": [],
   "source": [],
   "metadata": {
    "collapsed": false,
    "pycharm": {
     "name": "#%%\n"
    }
   }
  }
 ],
 "metadata": {
  "kernelspec": {
   "display_name": "Python 3",
   "language": "python",
   "name": "python3"
  },
  "language_info": {
   "codemirror_mode": {
    "name": "ipython",
    "version": 2
   },
   "file_extension": ".py",
   "mimetype": "text/x-python",
   "name": "python",
   "nbconvert_exporter": "python",
   "pygments_lexer": "ipython2",
   "version": "2.7.6"
  }
 },
 "nbformat": 4,
 "nbformat_minor": 0
}