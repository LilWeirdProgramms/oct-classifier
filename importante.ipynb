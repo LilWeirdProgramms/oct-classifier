{
 "cells": [
  {
   "cell_type": "markdown",
   "metadata": {
    "collapsed": true,
    "pycharm": {
     "name": "#%% md\n"
    }
   },
   "source": [
    "# Auge"
   ]
  },
  {
   "cell_type": "markdown",
   "source": [
    "Macula = Gelber Fleck = Part of Retina mit den meisten Zapfen -> Farbliches Sehen\n",
    "Papille = Blinder Fleck = Sehrnerv\n",
    "Neovascularization = Neue Bildung von Blutgefäßen / Adern; z.B. durch proliferative diabetic retinopathy\n",
    "Retina = Netzhaut = Verschiedene Schichten: Erst Nerven mit viel Blut (Z.B. Ganglien), dann Photorezeptoren, dann RPE\n",
    "RPE = Lichtfilter am Ende der Netzhaut\n"
   ],
   "metadata": {
    "collapsed": false,
    "pycharm": {
     "name": "#%% md\n"
    }
   }
  },
  {
   "cell_type": "markdown",
   "source": [
    "# OCT"
   ],
   "metadata": {
    "collapsed": false
   }
  },
  {
   "cell_type": "markdown",
   "source": [
    "B-scans = Ebene\n",
    "Fourier Domain Detection: Spectral Domain und Swept Source OCT\n",
    "Spectral = Infrared Diode und Spectrometer\n",
    "Swept Source = Laser and Photodiode detector -> Faster Scanning, higher wavelenth -> Better Penetration"
   ],
   "metadata": {
    "collapsed": false,
    "pycharm": {
     "name": "#%% md\n"
    }
   }
  },
  {
   "cell_type": "markdown",
   "source": [
    "# OCT Besprechung:"
   ],
   "metadata": {
    "collapsed": false,
    "pycharm": {
     "name": "#%% md\n"
    }
   }
  },
  {
   "cell_type": "markdown",
   "source": [
    "Time Domain: Amplitude des Reflektierten Lichts. Fokusierung durch Bewegen des Referenzarms\n",
    "Spectral: Recht breites Kohärentes Bild von Anfang an\n",
    "Swept Source: Bezieht sich auf das \"Sweepen\" der Wellenlänge des Lasers -> Simulation eines breitbandig kohärenten Lichts\n",
    "kohärent: Lichtstrahlen sind ordnetlich (gleiche Richtung)"
   ],
   "metadata": {
    "collapsed": false,
    "pycharm": {
     "name": "#%% md\n"
    }
   }
  },
  {
   "cell_type": "markdown",
   "source": [
    "# OCT Pipeline:"
   ],
   "metadata": {
    "collapsed": false,
    "pycharm": {
     "name": "#%% md\n"
    }
   }
  },
  {
   "cell_type": "markdown",
   "source": [
    "Re-linearisierung / bzw Re\n",
    "Denoising\n",
    "Taylor Correction for different speeds of light"
   ],
   "metadata": {
    "collapsed": false,
    "pycharm": {
     "name": "#%% md\n"
    }
   }
  },
  {
   "cell_type": "markdown",
   "source": [
    "# ML\n",
    "\n",
    "VAT = Virtual Adversarial Training = Regularization = Small input variations = Small output variations\n",
    "Is achieved by finding a small pertubation that creates a huge output impact and than than minimizing that\n",
    "This pertubation impact is meassured by KL Divergence"
   ],
   "metadata": {
    "collapsed": false,
    "pycharm": {
     "name": "#%% md\n"
    }
   }
  },
  {
   "cell_type": "markdown",
   "source": [],
   "metadata": {
    "collapsed": false
   }
  },
  {
   "cell_type": "markdown",
   "source": [
    "## Mysterios Data Loss\n",
    "25725763584 = Full Data Size\n",
    "a dim = 1536\n",
    "b dim = 2048\n",
    "c dim = 2045\n",
    "times took = 2\n",
    "\n",
    "-> One B-scan is missing!"
   ],
   "metadata": {
    "collapsed": false,
    "pycharm": {
     "name": "#%% md\n"
    }
   }
  },
  {
   "cell_type": "code",
   "source": [
    "total = 1536 * 2048 * 2045 * 2 * 2\n",
    "one_bscan = (1536 * 2048 * 2)"
   ],
   "metadata": {
    "collapsed": false,
    "pycharm": {
     "name": "#%%\n"
    }
   },
   "execution_count": 28,
   "outputs": []
  },
  {
   "cell_type": "code",
   "execution_count": 29,
   "outputs": [
    {
     "name": "stdout",
     "output_type": "stream",
     "text": [
      "0\n"
     ]
    }
   ],
   "source": [
    "diff = total - 25725763584\n",
    "print(diff-one_bscan)"
   ],
   "metadata": {
    "collapsed": false,
    "pycharm": {
     "name": "#%%\n"
    }
   }
  },
  {
   "cell_type": "markdown",
   "source": [
    "# Virtual adversarial Training\n",
    "-> Make small pertubation such that model output gets largest. Reduce this (VAT = ∆ KL (µ adv , x, θ))"
   ],
   "metadata": {
    "collapsed": false,
    "pycharm": {
     "name": "#%% md\n"
    }
   }
  },
  {
   "cell_type": "markdown",
   "source": [
    "# Open Questions\n",
    "\n",
    "Nehm ich 3D Würfel -> Mach es also Sinn ein A Scan zu \"zerschneiden\"? -> Ja ich muss den AScan zerschneiden. Sind A, B, C Scans äquidistant verteilt?"
   ],
   "metadata": {
    "collapsed": false,
    "pycharm": {
     "name": "#%% md\n"
    }
   }
  },
  {
   "cell_type": "markdown",
   "source": [
    "# Thomas Besprechung\n",
    "Initialisierung der Gewichte?"
   ],
   "metadata": {
    "collapsed": false,
    "pycharm": {
     "name": "#%% md\n"
    }
   }
  },
  {
   "cell_type": "markdown",
   "source": [
    "# Philipp Fragen\n",
    "- Performance Probleme von Python Generators -> würden sich erledigen wenn man TFRecord Data Files schreiben könnte -> Kann ich anscheinend\n",
    "- Ich nehm viele Aussschnitte aus krank und label alle krank (weak supervised learning), was ich will ist aber eher paar STELLEN als krank zu labeln und paar als gesund und den rest ungelabelt zu lassen (semi supervised)\n",
    "- Kernel SVM Ausprobieren\n",
    "- Äquidistanz der Datenpunkte? -> Äquidistant 16, 17 micro meter"
   ],
   "metadata": {
    "collapsed": false,
    "pycharm": {
     "name": "#%% md\n"
    }
   }
  },
  {
   "cell_type": "markdown",
   "source": [
    "# Multiple Instance Learning (MIL):\n",
    "\n",
    "The main goal of MIL is to learn a model that predicts a bag label, e.g., a medical diagnosis. An\n",
    "additional challenge is to discover key instances, i.e. the instances that trigger the bag label.\n"
   ],
   "metadata": {
    "collapsed": false,
    "pycharm": {
     "name": "#%% md\n"
    }
   }
  },
  {
   "cell_type": "markdown",
   "source": [
    "# My Personal Network:\n",
    "- Resnet\n",
    "- Erster Layer größerer Kernel\n",
    "- Evtl. keine Fully connected layer at the start\n",
    "- x = layers.BatchNormalization()(x)\n",
    "- Regularization Techniques like Dropout, L1...\n",
    "- tsne on Input\n",
    "\n",
    "\n",
    "- Asymmetrische Kernel mit viel in AScan Richtung und wenig in andere Richtung; Bsp Kernel Größe : (Interessante AScan Größe (z.B. 40), 3, 3)\n",
    "- Viel vom A Scan ist unwichtig -> lernbar -> Evtl. starker L1 Regularisierer?"
   ],
   "metadata": {
    "collapsed": false,
    "pycharm": {
     "name": "#%% md\n"
    }
   }
  },
  {
   "cell_type": "markdown",
   "source": [
    "balanced_ds = tf.data.Dataset.sample_from_datasets(\n",
    "    [negative_ds, positive_ds], [0.5, 0.5]).batch(10)"
   ],
   "metadata": {
    "collapsed": false,
    "pycharm": {
     "name": "#%% md\n"
    }
   }
  },
  {
   "cell_type": "markdown",
   "source": [
    "Performance erhöhen\n",
    "nvtop\n",
    "Testdaten"
   ],
   "metadata": {
    "collapsed": false,
    "pycharm": {
     "name": "#%% md\n"
    }
   }
  },
  {
   "cell_type": "markdown",
   "source": [
    "# Binary Crossentropie\n",
    "\n",
    "Loss von 0.2 bedeutet zum Beispiel 40 % nur sehr knapp richtig oder zum Beispiel 20 % recht eindeutig falsch"
   ],
   "metadata": {
    "collapsed": false,
    "pycharm": {
     "name": "#%% md\n"
    }
   }
  },
  {
   "cell_type": "markdown",
   "source": [
    "Können wir mal den anfänglichen Blödsinn von den Ascans entfernen [0:200]? und dann die bscans berechnen?"
   ],
   "metadata": {
    "collapsed": false,
    "pycharm": {
     "name": "#%% md\n"
    }
   }
  },
  {
   "cell_type": "markdown",
   "source": [
    "# Tensorboard:\n",
    "\n",
    "I can visualize multiple runs by just using the top folder"
   ],
   "metadata": {
    "collapsed": false,
    "pycharm": {
     "name": "#%% md\n"
    }
   }
  },
  {
   "cell_type": "markdown",
   "source": [
    "# Weitere Ideeen:\n",
    "\n",
    "- 3 Klassen, eine für Background\n",
    "- Erst High Pass Filter\n",
    "- Validierungsdaten nicht aus gleichen Daten wie Trainingsdaten"
   ],
   "metadata": {
    "collapsed": false,
    "pycharm": {
     "name": "#%% md\n"
    }
   }
  },
  {
   "cell_type": "markdown",
   "source": [
    "# First:\n",
    "\n",
    "-> First Layer 1D Convolution.\n",
    "- Stride = AScan Length, Kernel Size = Ascan Length, Output = 1\n",
    "- Three Layer: 1. Kernel = 100, Stride = 50 Output = 30\n",
    "2."
   ],
   "metadata": {
    "collapsed": false,
    "pycharm": {
     "name": "#%% md\n"
    }
   }
  },
  {
   "cell_type": "markdown",
   "source": [
    "B scans machen ein shift in bscna richtung... evtl. 3 mal 1d convolution; vll auch nicht wenn das garnichts macht\n",
    "\n",
    "3D MNIST Fourier Transform evtl reverse"
   ],
   "metadata": {
    "collapsed": false,
    "pycharm": {
     "name": "#%% md\n"
    }
   }
  },
  {
   "cell_type": "markdown",
   "source": [
    "First 1d convolution evtl. mit fourier coeffizienten vortrainieren initialisieren?"
   ],
   "metadata": {
    "collapsed": false,
    "pycharm": {
     "name": "#%% md\n"
    }
   }
  }
 ],
 "metadata": {
  "kernelspec": {
   "display_name": "Python 3",
   "language": "python",
   "name": "python3"
  },
  "language_info": {
   "codemirror_mode": {
    "name": "ipython",
    "version": 2
   },
   "file_extension": ".py",
   "mimetype": "text/x-python",
   "name": "python",
   "nbconvert_exporter": "python",
   "pygments_lexer": "ipython2",
   "version": "2.7.6"
  }
 },
 "nbformat": 4,
 "nbformat_minor": 0
}