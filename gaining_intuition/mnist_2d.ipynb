{
 "cells": [
  {
   "cell_type": "code",
   "execution_count": 41,
   "metadata": {
    "collapsed": true
   },
   "outputs": [
    {
     "name": "stdout",
     "output_type": "stream",
     "text": [
      "x_train shape: (60000, 28, 28, 1)\n",
      "60000 train samples\n",
      "10000 test samples\n"
     ]
    }
   ],
   "source": [
    "import numpy as np\n",
    "from tensorflow import keras\n",
    "from tensorflow.keras import layers\n",
    "\n",
    "# Model / data parameters\n",
    "num_classes = 10\n",
    "input_shape = (28, 28, 1)\n",
    "\n",
    "# Load the data and split it between train and test sets\n",
    "(x_train, y_train), (x_test, y_test) = keras.datasets.mnist.load_data()\n",
    "\n",
    "# Scale images to the [0, 1] range\n",
    "x_train = x_train.astype(\"float32\") / 255 - 0.5\n",
    "x_test = x_test.astype(\"float32\") / 255 - 0.5\n",
    "# Make sure images have shape (28, 28, 1)\n",
    "x_train = np.expand_dims(x_train, -1)\n",
    "x_test = np.expand_dims(x_test, -1)\n",
    "print(\"x_train shape:\", x_train.shape)\n",
    "print(x_train.shape[0], \"train samples\")\n",
    "print(x_test.shape[0], \"test samples\")\n",
    "\n",
    "\n",
    "# convert class vectors to binary class matrices\n",
    "y_train = keras.utils.to_categorical(y_train, num_classes)\n",
    "y_test = keras.utils.to_categorical(y_test, num_classes)"
   ]
  },
  {
   "cell_type": "code",
   "execution_count": 42,
   "outputs": [],
   "source": [
    "import numpy as np\n",
    "y_train_non_hot = np.argmax(y_train, axis=1)\n",
    "y_test_non_hot = np.argmax(y_test, axis=1)\n",
    "y_train2 = (y_train_non_hot == 5).astype(\"uint16\")\n",
    "y_test2 = (y_test_non_hot == 5).astype(\"uint16\")"
   ],
   "metadata": {
    "collapsed": false,
    "pycharm": {
     "name": "#%%\n"
    }
   }
  },
  {
   "cell_type": "code",
   "execution_count": 60,
   "outputs": [
    {
     "name": "stdout",
     "output_type": "stream",
     "text": [
      "Model: \"sequential_1\"\n",
      "_________________________________________________________________\n",
      " Layer (type)                Output Shape              Param #   \n",
      "=================================================================\n",
      " dropout_2 (Dropout)         (None, 28, 28, 1)         0         \n",
      "                                                                 \n",
      " conv2d_3 (Conv2D)           (None, 26, 26, 32)        320       \n",
      "                                                                 \n",
      " max_pooling2d_3 (MaxPooling  (None, 13, 13, 32)       0         \n",
      " 2D)                                                             \n",
      "                                                                 \n",
      " conv2d_4 (Conv2D)           (None, 11, 11, 64)        18496     \n",
      "                                                                 \n",
      " max_pooling2d_4 (MaxPooling  (None, 5, 5, 64)         0         \n",
      " 2D)                                                             \n",
      "                                                                 \n",
      " conv2d_5 (Conv2D)           (None, 3, 3, 64)          36928     \n",
      "                                                                 \n",
      " max_pooling2d_5 (MaxPooling  (None, 1, 1, 64)         0         \n",
      " 2D)                                                             \n",
      "                                                                 \n",
      " flatten_1 (Flatten)         (None, 64)                0         \n",
      "                                                                 \n",
      " dropout_3 (Dropout)         (None, 64)                0         \n",
      "                                                                 \n",
      " dense_1 (Dense)             (None, 1)                 65        \n",
      "                                                                 \n",
      "=================================================================\n",
      "Total params: 55,809\n",
      "Trainable params: 55,809\n",
      "Non-trainable params: 0\n",
      "_________________________________________________________________\n"
     ]
    }
   ],
   "source": [
    "init, binit = keras.initializers.HeNormal(), keras.initializers.HeNormal()\n",
    "regularizer = keras.regularizers.l2()\n",
    "model = keras.Sequential(\n",
    "    [\n",
    "        keras.Input(shape=input_shape),\n",
    "        layers.Dropout(0.05),\n",
    "        layers.Conv2D(32, kernel_size=(3, 3), activation=\"relu\",\n",
    "                                  kernel_initializer=init,\n",
    "                                  bias_initializer=binit,\n",
    "                                  kernel_regularizer=regularizer),\n",
    "        layers.MaxPooling2D(pool_size=(2, 2)),\n",
    "        layers.Conv2D(64, kernel_size=(3, 3), activation=\"relu\",\n",
    "                                  kernel_initializer=init,\n",
    "                                  bias_initializer=binit,\n",
    "                                  kernel_regularizer=regularizer),\n",
    "        layers.MaxPooling2D(pool_size=(2, 2)),\n",
    "        layers.Conv2D(64, kernel_size=(3, 3), activation=\"relu\",\n",
    "                                  kernel_initializer=init,\n",
    "                                  bias_initializer=binit,\n",
    "                                  kernel_regularizer=regularizer),\n",
    "        layers.MaxPooling2D(pool_size=(2, 2)),\n",
    "        layers.Flatten(),\n",
    "        layers.Dropout(0.5),\n",
    "        layers.Dense(1, activation=\"linear\"),\n",
    "    ]\n",
    ")\n",
    "\n",
    "model.summary()"
   ],
   "metadata": {
    "collapsed": false,
    "pycharm": {
     "name": "#%%\n"
    }
   }
  },
  {
   "cell_type": "code",
   "execution_count": 61,
   "outputs": [],
   "source": [
    "a = sum(y_train2)\n",
    "b = len(y_train2) - sum(y_train2)\n",
    "# Class 0 is by default twice as important as class 1 to favor precision over accuracy\n",
    "class_weights = {0: (1 / b) * (a + b) / 2, 1: (1 / a) * (a + b) / 2}"
   ],
   "metadata": {
    "collapsed": false,
    "pycharm": {
     "name": "#%%\n"
    }
   }
  },
  {
   "cell_type": "code",
   "execution_count": 42,
   "outputs": [
    {
     "data": {
      "text/plain": "{0: 0.549661957895894, 1: 5.534034311012728}"
     },
     "execution_count": 42,
     "metadata": {},
     "output_type": "execute_result"
    }
   ],
   "source": [
    "class_weights"
   ],
   "metadata": {
    "collapsed": false,
    "pycharm": {
     "name": "#%%\n"
    }
   }
  },
  {
   "cell_type": "code",
   "execution_count": 62,
   "outputs": [
    {
     "name": "stdout",
     "output_type": "stream",
     "text": [
      "Epoch 1/13\n",
      "422/422 [==============================] - 1s 2ms/step - loss: 1.4182 - accuracy: 0.9510 - val_loss: 0.7193 - val_accuracy: 0.9433\n",
      "Epoch 2/13\n",
      "422/422 [==============================] - 1s 2ms/step - loss: 0.4366 - accuracy: 0.9762 - val_loss: 0.2879 - val_accuracy: 0.9885\n",
      "Epoch 3/13\n",
      "422/422 [==============================] - 1s 3ms/step - loss: 0.2883 - accuracy: 0.9778 - val_loss: 0.2339 - val_accuracy: 0.9863\n",
      "Epoch 4/13\n",
      "422/422 [==============================] - 1s 3ms/step - loss: 0.2431 - accuracy: 0.9781 - val_loss: 0.1981 - val_accuracy: 0.9892\n",
      "Epoch 5/13\n",
      "422/422 [==============================] - 1s 3ms/step - loss: 0.2219 - accuracy: 0.9800 - val_loss: 0.1827 - val_accuracy: 0.9877\n",
      "Epoch 6/13\n",
      "422/422 [==============================] - 1s 2ms/step - loss: 0.2103 - accuracy: 0.9808 - val_loss: 0.1813 - val_accuracy: 0.9882\n",
      "Epoch 7/13\n",
      "422/422 [==============================] - 1s 2ms/step - loss: 0.2044 - accuracy: 0.9802 - val_loss: 0.1861 - val_accuracy: 0.9880\n",
      "Epoch 8/13\n",
      "422/422 [==============================] - 1s 2ms/step - loss: 0.1965 - accuracy: 0.9815 - val_loss: 0.1494 - val_accuracy: 0.9925\n",
      "Epoch 9/13\n",
      "422/422 [==============================] - 1s 2ms/step - loss: 0.1902 - accuracy: 0.9823 - val_loss: 0.1988 - val_accuracy: 0.9787\n",
      "Epoch 10/13\n",
      "422/422 [==============================] - 1s 3ms/step - loss: 0.1835 - accuracy: 0.9828 - val_loss: 0.2176 - val_accuracy: 0.9718\n",
      "Epoch 11/13\n",
      "422/422 [==============================] - 1s 2ms/step - loss: 0.1848 - accuracy: 0.9816 - val_loss: 0.1833 - val_accuracy: 0.9825\n",
      "Epoch 12/13\n",
      "422/422 [==============================] - 1s 2ms/step - loss: 0.1760 - accuracy: 0.9832 - val_loss: 0.1404 - val_accuracy: 0.9910\n",
      "Epoch 13/13\n",
      "422/422 [==============================] - 1s 2ms/step - loss: 0.1751 - accuracy: 0.9832 - val_loss: 0.1450 - val_accuracy: 0.9917\n"
     ]
    },
    {
     "data": {
      "text/plain": "<keras.callbacks.History at 0x7f73cc560fd0>"
     },
     "execution_count": 62,
     "metadata": {},
     "output_type": "execute_result"
    }
   ],
   "source": [
    "batch_size = 128\n",
    "epochs = 13\n",
    "\n",
    "model.compile(loss=keras.losses.BinaryCrossentropy(from_logits=True, label_smoothing=0.01), optimizer=\"adam\", metrics=[\"accuracy\"])\n",
    "\n",
    "model.fit(x_train, y_train2, batch_size=batch_size, epochs=epochs, validation_split=0.1, class_weight=class_weights)"
   ],
   "metadata": {
    "collapsed": false,
    "pycharm": {
     "name": "#%%\n"
    }
   }
  },
  {
   "cell_type": "code",
   "execution_count": 138,
   "outputs": [
    {
     "name": "stdout",
     "output_type": "stream",
     "text": [
      "313/313 [==============================] - 0s 929us/step - loss: 0.1474 - accuracy: 0.9901\n",
      "Test loss: 0.14735132455825806\n",
      "Test accuracy: 0.9901000261306763\n"
     ]
    }
   ],
   "source": [
    "score = model.evaluate(x_test, y_test2, verbose=1)\n",
    "print(\"Test loss:\", score[0])\n",
    "print(\"Test accuracy:\", score[1])"
   ],
   "metadata": {
    "collapsed": false,
    "pycharm": {
     "name": "#%%\n"
    }
   }
  },
  {
   "cell_type": "code",
   "execution_count": 45,
   "outputs": [],
   "source": [
    "def put_in_bags(org_labels):\n",
    "    bagsize = 5\n",
    "    labels = np.zeros(org_labels.shape)\n",
    "    for j in range(int(org_labels.size / bagsize)):\n",
    "        true_instances = org_labels[bagsize*j:bagsize*j+bagsize] == 1\n",
    "        labels[bagsize*j:bagsize*j+bagsize] = np.logical_or(true_instances, np.any(true_instances))\n",
    "    if org_labels.size % bagsize != 0:\n",
    "        true_instances = org_labels[bagsize*j:bagsize*j+bagsize] == 1\n",
    "        labels[-(org_labels.size % bagsize):] = np.logical_or(true_instances, np.any(true_instances))\n",
    "    return labels"
   ],
   "metadata": {
    "collapsed": false,
    "pycharm": {
     "name": "#%%\n"
    }
   }
  },
  {
   "cell_type": "code",
   "execution_count": 46,
   "outputs": [],
   "source": [
    "y_test3 = put_in_bags(y_test2)\n",
    "y_train3 = put_in_bags(y_train2)"
   ],
   "metadata": {
    "collapsed": false,
    "pycharm": {
     "name": "#%%\n"
    }
   }
  },
  {
   "cell_type": "code",
   "execution_count": 47,
   "outputs": [],
   "source": [
    "a = sum(y_train3)\n",
    "b = len(y_train3) - sum(y_train3)\n",
    "# Class 0 is by default twice as important as class 1 to favor precision over accuracy\n",
    "class_weights = {0: (1 / b) * (a + b) / 2, 1: (1 / a) * (a + b) / 2}"
   ],
   "metadata": {
    "collapsed": false,
    "pycharm": {
     "name": "#%%\n"
    }
   }
  },
  {
   "cell_type": "code",
   "execution_count": 48,
   "outputs": [
    {
     "name": "stdout",
     "output_type": "stream",
     "text": [
      "Epoch 1/20\n"
     ]
    },
    {
     "name": "stderr",
     "output_type": "stream",
     "text": [
      "2022-09-28 16:23:06.279030: I tensorflow/stream_executor/cuda/cuda_dnn.cc:366] Loaded cuDNN version 8201\n",
      "2022-09-28 16:23:06.996693: I tensorflow/core/platform/default/subprocess.cc:304] Start cannot spawn child process: No such file or directory\n",
      "2022-09-28 16:23:06.996952: I tensorflow/core/platform/default/subprocess.cc:304] Start cannot spawn child process: No such file or directory\n",
      "2022-09-28 16:23:06.996965: W tensorflow/stream_executor/gpu/asm_compiler.cc:80] Couldn't get ptxas version string: INTERNAL: Couldn't invoke ptxas --version\n",
      "2022-09-28 16:23:06.997198: I tensorflow/core/platform/default/subprocess.cc:304] Start cannot spawn child process: No such file or directory\n",
      "2022-09-28 16:23:06.997229: W tensorflow/stream_executor/gpu/redzone_allocator.cc:314] INTERNAL: Failed to launch ptxas\n",
      "Relying on driver to perform ptx compilation. \n",
      "Modify $PATH to customize ptxas location.\n",
      "This message will be only logged once.\n",
      "2022-09-28 16:23:07.605423: I tensorflow/stream_executor/cuda/cuda_blas.cc:1774] TensorFloat-32 will be used for the matrix multiplication. This will only be logged once.\n"
     ]
    },
    {
     "name": "stdout",
     "output_type": "stream",
     "text": [
      "422/422 [==============================] - 4s 2ms/step - loss: 1.5690 - accuracy: 0.6470 - val_loss: 0.8478 - val_accuracy: 0.6855\n",
      "Epoch 2/20\n",
      "422/422 [==============================] - 1s 2ms/step - loss: 0.7680 - accuracy: 0.6724 - val_loss: 0.7206 - val_accuracy: 0.6845\n",
      "Epoch 3/20\n",
      "422/422 [==============================] - 1s 2ms/step - loss: 0.7001 - accuracy: 0.6755 - val_loss: 0.6796 - val_accuracy: 0.6885\n",
      "Epoch 4/20\n",
      "422/422 [==============================] - 1s 2ms/step - loss: 0.6861 - accuracy: 0.6782 - val_loss: 0.6786 - val_accuracy: 0.6845\n",
      "Epoch 5/20\n",
      "422/422 [==============================] - 1s 2ms/step - loss: 0.6818 - accuracy: 0.6800 - val_loss: 0.6661 - val_accuracy: 0.6892\n",
      "Epoch 6/20\n",
      "422/422 [==============================] - 1s 2ms/step - loss: 0.6777 - accuracy: 0.6811 - val_loss: 0.6578 - val_accuracy: 0.6882\n",
      "Epoch 7/20\n",
      "422/422 [==============================] - 1s 2ms/step - loss: 0.6746 - accuracy: 0.6825 - val_loss: 0.6713 - val_accuracy: 0.6845\n",
      "Epoch 8/20\n",
      "422/422 [==============================] - 1s 2ms/step - loss: 0.6735 - accuracy: 0.6821 - val_loss: 0.6616 - val_accuracy: 0.6900\n",
      "Epoch 9/20\n",
      "422/422 [==============================] - 1s 2ms/step - loss: 0.6720 - accuracy: 0.6826 - val_loss: 0.6584 - val_accuracy: 0.6897\n",
      "Epoch 10/20\n",
      "422/422 [==============================] - 1s 2ms/step - loss: 0.6688 - accuracy: 0.6857 - val_loss: 0.6649 - val_accuracy: 0.6912\n",
      "Epoch 11/20\n",
      "422/422 [==============================] - 1s 2ms/step - loss: 0.6667 - accuracy: 0.6865 - val_loss: 0.6529 - val_accuracy: 0.6922\n",
      "Epoch 12/20\n",
      "422/422 [==============================] - 1s 2ms/step - loss: 0.6663 - accuracy: 0.6864 - val_loss: 0.6552 - val_accuracy: 0.6895\n",
      "Epoch 13/20\n",
      "422/422 [==============================] - 1s 2ms/step - loss: 0.6643 - accuracy: 0.6872 - val_loss: 0.6374 - val_accuracy: 0.6883\n",
      "Epoch 14/20\n",
      "422/422 [==============================] - 1s 2ms/step - loss: 0.6637 - accuracy: 0.6885 - val_loss: 0.6482 - val_accuracy: 0.6915\n",
      "Epoch 15/20\n",
      "422/422 [==============================] - 1s 2ms/step - loss: 0.6616 - accuracy: 0.6883 - val_loss: 0.6515 - val_accuracy: 0.6902\n",
      "Epoch 16/20\n",
      "422/422 [==============================] - 1s 2ms/step - loss: 0.6605 - accuracy: 0.6906 - val_loss: 0.6560 - val_accuracy: 0.6912\n",
      "Epoch 17/20\n",
      "422/422 [==============================] - 1s 2ms/step - loss: 0.6595 - accuracy: 0.6894 - val_loss: 0.6465 - val_accuracy: 0.6918\n",
      "Epoch 18/20\n",
      "422/422 [==============================] - 1s 2ms/step - loss: 0.6588 - accuracy: 0.6904 - val_loss: 0.6488 - val_accuracy: 0.6912\n",
      "Epoch 19/20\n",
      "422/422 [==============================] - 1s 2ms/step - loss: 0.6581 - accuracy: 0.6901 - val_loss: 0.6426 - val_accuracy: 0.6905\n",
      "Epoch 20/20\n",
      "422/422 [==============================] - 1s 2ms/step - loss: 0.6571 - accuracy: 0.6907 - val_loss: 0.6442 - val_accuracy: 0.6925\n"
     ]
    },
    {
     "data": {
      "text/plain": "<keras.callbacks.History at 0x7f73e65f51e0>"
     },
     "execution_count": 48,
     "metadata": {},
     "output_type": "execute_result"
    }
   ],
   "source": [
    "batch_size = 128\n",
    "epochs = 20\n",
    "\n",
    "model.compile(loss=keras.losses.BinaryCrossentropy(from_logits=True, label_smoothing=0.01), optimizer=\"adam\", metrics=[\"accuracy\"])\n",
    "\n",
    "model.fit(x_train, y_train3, batch_size=batch_size, epochs=epochs, validation_split=0.1, class_weight=class_weights)"
   ],
   "metadata": {
    "collapsed": false,
    "pycharm": {
     "name": "#%%\n"
    }
   }
  },
  {
   "cell_type": "code",
   "execution_count": 51,
   "outputs": [],
   "source": [
    "test_prediction_3 = model.predict(x_test)"
   ],
   "metadata": {
    "collapsed": false,
    "pycharm": {
     "name": "#%%\n"
    }
   }
  },
  {
   "cell_type": "code",
   "execution_count": null,
   "outputs": [],
   "source": [
    "import matplotlib\n",
    "import matplotlib.pyplot as plt\n",
    "\n",
    "norm= plt.Normalize(-2,2)\n",
    "cmap = matplotlib.colors.ListedColormap([\"palegreen\",\"green\",\"darkgreen\"])"
   ],
   "metadata": {
    "collapsed": false,
    "pycharm": {
     "name": "#%%\n"
    }
   }
  },
  {
   "cell_type": "code",
   "execution_count": 57,
   "outputs": [],
   "source": [
    "pallete = [\"#DDFFDD\", \"#BBFFBB\", \"#88FF88\", \"#55FF56\", \"00FF00\", \"FF5555\", \"00FF00\", \"00CC00\", \"006600\", \"003300\"]"
   ],
   "metadata": {
    "collapsed": false,
    "pycharm": {
     "name": "#%%\n"
    }
   }
  },
  {
   "cell_type": "code",
   "execution_count": 58,
   "outputs": [
    {
     "data": {
      "text/plain": "['#DDFFDD',\n '#BBFFBB',\n '#88FF88',\n '#55FF56',\n '00FF00',\n 'FF5555',\n '00FF00',\n '00CC00',\n '006600',\n '003300']"
     },
     "execution_count": 58,
     "metadata": {},
     "output_type": "execute_result"
    }
   ],
   "source": [
    "pallete"
   ],
   "metadata": {
    "collapsed": false,
    "pycharm": {
     "name": "#%%\n"
    }
   }
  },
  {
   "cell_type": "code",
   "execution_count": 67,
   "outputs": [
    {
     "ename": "ValueError",
     "evalue": "Could not generate a palette for <map object at 0x7f73cc5361d0>",
     "output_type": "error",
     "traceback": [
      "\u001B[0;31m---------------------------------------------------------------------------\u001B[0m",
      "\u001B[0;31mValueError\u001B[0m                                Traceback (most recent call last)",
      "File \u001B[0;32m~/miniconda3/envs/tf-test/lib/python3.10/site-packages/seaborn/palettes.py:222\u001B[0m, in \u001B[0;36mcolor_palette\u001B[0;34m(palette, n_colors, desat, as_cmap)\u001B[0m\n\u001B[1;32m    221\u001B[0m     palette \u001B[38;5;241m=\u001B[39m \u001B[38;5;28mmap\u001B[39m(mpl\u001B[38;5;241m.\u001B[39mcolors\u001B[38;5;241m.\u001B[39mcolorConverter\u001B[38;5;241m.\u001B[39mto_rgb, palette)\n\u001B[0;32m--> 222\u001B[0m     palette \u001B[38;5;241m=\u001B[39m \u001B[43m_ColorPalette\u001B[49m\u001B[43m(\u001B[49m\u001B[43mpalette\u001B[49m\u001B[43m)\u001B[49m\n\u001B[1;32m    223\u001B[0m \u001B[38;5;28;01mexcept\u001B[39;00m \u001B[38;5;167;01mValueError\u001B[39;00m:\n",
      "File \u001B[0;32m~/miniconda3/envs/tf-test/lib/python3.10/site-packages/matplotlib/colors.py:386\u001B[0m, in \u001B[0;36mto_rgb\u001B[0;34m(c)\u001B[0m\n\u001B[1;32m    385\u001B[0m \u001B[38;5;124;03m\"\"\"Convert *c* to an RGB color, silently dropping the alpha channel.\"\"\"\u001B[39;00m\n\u001B[0;32m--> 386\u001B[0m \u001B[38;5;28;01mreturn\u001B[39;00m \u001B[43mto_rgba\u001B[49m\u001B[43m(\u001B[49m\u001B[43mc\u001B[49m\u001B[43m)\u001B[49m[:\u001B[38;5;241m3\u001B[39m]\n",
      "File \u001B[0;32m~/miniconda3/envs/tf-test/lib/python3.10/site-packages/matplotlib/colors.py:187\u001B[0m, in \u001B[0;36mto_rgba\u001B[0;34m(c, alpha)\u001B[0m\n\u001B[1;32m    186\u001B[0m \u001B[38;5;28;01mif\u001B[39;00m rgba \u001B[38;5;129;01mis\u001B[39;00m \u001B[38;5;28;01mNone\u001B[39;00m:  \u001B[38;5;66;03m# Suppress exception chaining of cache lookup failure.\u001B[39;00m\n\u001B[0;32m--> 187\u001B[0m     rgba \u001B[38;5;241m=\u001B[39m \u001B[43m_to_rgba_no_colorcycle\u001B[49m\u001B[43m(\u001B[49m\u001B[43mc\u001B[49m\u001B[43m,\u001B[49m\u001B[43m \u001B[49m\u001B[43malpha\u001B[49m\u001B[43m)\u001B[49m\n\u001B[1;32m    188\u001B[0m     \u001B[38;5;28;01mtry\u001B[39;00m:\n",
      "File \u001B[0;32m~/miniconda3/envs/tf-test/lib/python3.10/site-packages/matplotlib/colors.py:258\u001B[0m, in \u001B[0;36m_to_rgba_no_colorcycle\u001B[0;34m(c, alpha)\u001B[0m\n\u001B[1;32m    257\u001B[0m \u001B[38;5;28;01mif\u001B[39;00m \u001B[38;5;129;01mnot\u001B[39;00m (\u001B[38;5;241m0\u001B[39m \u001B[38;5;241m<\u001B[39m\u001B[38;5;241m=\u001B[39m c \u001B[38;5;241m<\u001B[39m\u001B[38;5;241m=\u001B[39m \u001B[38;5;241m1\u001B[39m):\n\u001B[0;32m--> 258\u001B[0m     \u001B[38;5;28;01mraise\u001B[39;00m \u001B[38;5;167;01mValueError\u001B[39;00m(\n\u001B[1;32m    259\u001B[0m         \u001B[38;5;124mf\u001B[39m\u001B[38;5;124m\"\u001B[39m\u001B[38;5;124mInvalid string grayscale value \u001B[39m\u001B[38;5;132;01m{\u001B[39;00morig_c\u001B[38;5;132;01m!r}\u001B[39;00m\u001B[38;5;124m. \u001B[39m\u001B[38;5;124m\"\u001B[39m\n\u001B[1;32m    260\u001B[0m         \u001B[38;5;124mf\u001B[39m\u001B[38;5;124m\"\u001B[39m\u001B[38;5;124mValue must be within 0-1 range\u001B[39m\u001B[38;5;124m\"\u001B[39m)\n\u001B[1;32m    261\u001B[0m \u001B[38;5;28;01mreturn\u001B[39;00m c, c, c, alpha \u001B[38;5;28;01mif\u001B[39;00m alpha \u001B[38;5;129;01mis\u001B[39;00m \u001B[38;5;129;01mnot\u001B[39;00m \u001B[38;5;28;01mNone\u001B[39;00m \u001B[38;5;28;01melse\u001B[39;00m \u001B[38;5;241m1.\u001B[39m\n",
      "\u001B[0;31mValueError\u001B[0m: Invalid string grayscale value '255255255'. Value must be within 0-1 range",
      "\nDuring handling of the above exception, another exception occurred:\n",
      "\u001B[0;31mValueError\u001B[0m                                Traceback (most recent call last)",
      "Input \u001B[0;32mIn [67]\u001B[0m, in \u001B[0;36m<module>\u001B[0;34m\u001B[0m\n\u001B[1;32m      7\u001B[0m sns\u001B[38;5;241m.\u001B[39mset_theme(style\u001B[38;5;241m=\u001B[39m\u001B[38;5;124m\"\u001B[39m\u001B[38;5;124mwhitegrid\u001B[39m\u001B[38;5;124m\"\u001B[39m)\n\u001B[1;32m      8\u001B[0m fig \u001B[38;5;241m=\u001B[39m plt\u001B[38;5;241m.\u001B[39mfigure(figsize\u001B[38;5;241m=\u001B[39m(\u001B[38;5;241m5\u001B[39m, \u001B[38;5;241m5\u001B[39m))\n\u001B[0;32m----> 9\u001B[0m \u001B[43msns\u001B[49m\u001B[38;5;241;43m.\u001B[39;49m\u001B[43mboxplot\u001B[49m\u001B[43m(\u001B[49m\u001B[43mx\u001B[49m\u001B[38;5;241;43m=\u001B[39;49m\u001B[38;5;124;43m\"\u001B[39;49m\u001B[38;5;124;43mMNIST value\u001B[39;49m\u001B[38;5;124;43m\"\u001B[39;49m\u001B[43m,\u001B[49m\u001B[43m \u001B[49m\u001B[43my\u001B[49m\u001B[38;5;241;43m=\u001B[39;49m\u001B[38;5;124;43m\"\u001B[39;49m\u001B[38;5;124;43mPrediction\u001B[39;49m\u001B[38;5;124;43m\"\u001B[39;49m\u001B[43m,\u001B[49m\u001B[43m \u001B[49m\u001B[43mdata\u001B[49m\u001B[38;5;241;43m=\u001B[39;49m\u001B[43mdf\u001B[49m\u001B[43m,\u001B[49m\u001B[43m \u001B[49m\u001B[43mpalette\u001B[49m\u001B[38;5;241;43m=\u001B[39;49m\u001B[43m[\u001B[49m\u001B[38;5;124;43m\"\u001B[39;49m\u001B[38;5;124;43m#DDFFDD\u001B[39;49m\u001B[38;5;124;43m\"\u001B[39;49m\u001B[43m,\u001B[49m\u001B[43m \u001B[49m\u001B[38;5;124;43m\"\u001B[39;49m\u001B[38;5;124;43m#BBFFBB\u001B[39;49m\u001B[38;5;124;43m\"\u001B[39;49m\u001B[43m,\u001B[49m\u001B[43m \u001B[49m\u001B[38;5;124;43m\"\u001B[39;49m\u001B[38;5;124;43m#88FF88\u001B[39;49m\u001B[38;5;124;43m\"\u001B[39;49m\u001B[43m,\u001B[49m\n\u001B[1;32m     10\u001B[0m \u001B[43m                                                               \u001B[49m\u001B[38;5;124;43m\"\u001B[39;49m\u001B[38;5;124;43m255255255\u001B[39;49m\u001B[38;5;124;43m\"\u001B[39;49m\u001B[43m,\u001B[49m\u001B[43m \u001B[49m\u001B[38;5;124;43m\"\u001B[39;49m\u001B[38;5;124;43m#00FF00\u001B[39;49m\u001B[38;5;124;43m\"\u001B[39;49m\u001B[43m,\u001B[49m\n\u001B[1;32m     11\u001B[0m \u001B[43m                                                               \u001B[49m\u001B[38;5;124;43m\"\u001B[39;49m\u001B[38;5;124;43m#FF5555\u001B[39;49m\u001B[38;5;124;43m\"\u001B[39;49m\u001B[43m,\u001B[49m\u001B[43m \u001B[49m\u001B[38;5;124;43m\"\u001B[39;49m\u001B[38;5;124;43m#00FF00\u001B[39;49m\u001B[38;5;124;43m\"\u001B[39;49m\u001B[43m,\u001B[49m\u001B[43m \u001B[49m\u001B[38;5;124;43m\"\u001B[39;49m\u001B[38;5;124;43m#00CC00\u001B[39;49m\u001B[38;5;124;43m\"\u001B[39;49m\u001B[43m,\u001B[49m\u001B[43m \u001B[49m\u001B[38;5;124;43m\"\u001B[39;49m\u001B[38;5;124;43m#006600\u001B[39;49m\u001B[38;5;124;43m\"\u001B[39;49m\u001B[43m,\u001B[49m\u001B[43m \u001B[49m\u001B[38;5;124;43m\"\u001B[39;49m\u001B[38;5;124;43m#003300\u001B[39;49m\u001B[38;5;124;43m\"\u001B[39;49m\u001B[43m]\u001B[49m\u001B[43m)\u001B[49m\n\u001B[1;32m     12\u001B[0m \u001B[38;5;66;03m#plt.title(\"Label Noise Predictions Sorted by Underlying Label\")\u001B[39;00m\n\u001B[1;32m     13\u001B[0m plt\u001B[38;5;241m.\u001B[39mtight_layout()\n",
      "File \u001B[0;32m~/miniconda3/envs/tf-test/lib/python3.10/site-packages/seaborn/_decorators.py:46\u001B[0m, in \u001B[0;36m_deprecate_positional_args.<locals>.inner_f\u001B[0;34m(*args, **kwargs)\u001B[0m\n\u001B[1;32m     36\u001B[0m     warnings\u001B[38;5;241m.\u001B[39mwarn(\n\u001B[1;32m     37\u001B[0m         \u001B[38;5;124m\"\u001B[39m\u001B[38;5;124mPass the following variable\u001B[39m\u001B[38;5;132;01m{}\u001B[39;00m\u001B[38;5;124m as \u001B[39m\u001B[38;5;132;01m{}\u001B[39;00m\u001B[38;5;124mkeyword arg\u001B[39m\u001B[38;5;132;01m{}\u001B[39;00m\u001B[38;5;124m: \u001B[39m\u001B[38;5;132;01m{}\u001B[39;00m\u001B[38;5;124m. \u001B[39m\u001B[38;5;124m\"\u001B[39m\n\u001B[1;32m     38\u001B[0m         \u001B[38;5;124m\"\u001B[39m\u001B[38;5;124mFrom version 0.12, the only valid positional argument \u001B[39m\u001B[38;5;124m\"\u001B[39m\n\u001B[0;32m   (...)\u001B[0m\n\u001B[1;32m     43\u001B[0m         \u001B[38;5;167;01mFutureWarning\u001B[39;00m\n\u001B[1;32m     44\u001B[0m     )\n\u001B[1;32m     45\u001B[0m kwargs\u001B[38;5;241m.\u001B[39mupdate({k: arg \u001B[38;5;28;01mfor\u001B[39;00m k, arg \u001B[38;5;129;01min\u001B[39;00m \u001B[38;5;28mzip\u001B[39m(sig\u001B[38;5;241m.\u001B[39mparameters, args)})\n\u001B[0;32m---> 46\u001B[0m \u001B[38;5;28;01mreturn\u001B[39;00m \u001B[43mf\u001B[49m\u001B[43m(\u001B[49m\u001B[38;5;241;43m*\u001B[39;49m\u001B[38;5;241;43m*\u001B[39;49m\u001B[43mkwargs\u001B[49m\u001B[43m)\u001B[49m\n",
      "File \u001B[0;32m~/miniconda3/envs/tf-test/lib/python3.10/site-packages/seaborn/categorical.py:2243\u001B[0m, in \u001B[0;36mboxplot\u001B[0;34m(x, y, hue, data, order, hue_order, orient, color, palette, saturation, width, dodge, fliersize, linewidth, whis, ax, **kwargs)\u001B[0m\n\u001B[1;32m   2231\u001B[0m \u001B[38;5;129m@_deprecate_positional_args\u001B[39m\n\u001B[1;32m   2232\u001B[0m \u001B[38;5;28;01mdef\u001B[39;00m \u001B[38;5;21mboxplot\u001B[39m(\n\u001B[1;32m   2233\u001B[0m     \u001B[38;5;241m*\u001B[39m,\n\u001B[0;32m   (...)\u001B[0m\n\u001B[1;32m   2240\u001B[0m     \u001B[38;5;241m*\u001B[39m\u001B[38;5;241m*\u001B[39mkwargs\n\u001B[1;32m   2241\u001B[0m ):\n\u001B[0;32m-> 2243\u001B[0m     plotter \u001B[38;5;241m=\u001B[39m \u001B[43m_BoxPlotter\u001B[49m\u001B[43m(\u001B[49m\u001B[43mx\u001B[49m\u001B[43m,\u001B[49m\u001B[43m \u001B[49m\u001B[43my\u001B[49m\u001B[43m,\u001B[49m\u001B[43m \u001B[49m\u001B[43mhue\u001B[49m\u001B[43m,\u001B[49m\u001B[43m \u001B[49m\u001B[43mdata\u001B[49m\u001B[43m,\u001B[49m\u001B[43m \u001B[49m\u001B[43morder\u001B[49m\u001B[43m,\u001B[49m\u001B[43m \u001B[49m\u001B[43mhue_order\u001B[49m\u001B[43m,\u001B[49m\n\u001B[1;32m   2244\u001B[0m \u001B[43m                          \u001B[49m\u001B[43morient\u001B[49m\u001B[43m,\u001B[49m\u001B[43m \u001B[49m\u001B[43mcolor\u001B[49m\u001B[43m,\u001B[49m\u001B[43m \u001B[49m\u001B[43mpalette\u001B[49m\u001B[43m,\u001B[49m\u001B[43m \u001B[49m\u001B[43msaturation\u001B[49m\u001B[43m,\u001B[49m\n\u001B[1;32m   2245\u001B[0m \u001B[43m                          \u001B[49m\u001B[43mwidth\u001B[49m\u001B[43m,\u001B[49m\u001B[43m \u001B[49m\u001B[43mdodge\u001B[49m\u001B[43m,\u001B[49m\u001B[43m \u001B[49m\u001B[43mfliersize\u001B[49m\u001B[43m,\u001B[49m\u001B[43m \u001B[49m\u001B[43mlinewidth\u001B[49m\u001B[43m)\u001B[49m\n\u001B[1;32m   2247\u001B[0m     \u001B[38;5;28;01mif\u001B[39;00m ax \u001B[38;5;129;01mis\u001B[39;00m \u001B[38;5;28;01mNone\u001B[39;00m:\n\u001B[1;32m   2248\u001B[0m         ax \u001B[38;5;241m=\u001B[39m plt\u001B[38;5;241m.\u001B[39mgca()\n",
      "File \u001B[0;32m~/miniconda3/envs/tf-test/lib/python3.10/site-packages/seaborn/categorical.py:407\u001B[0m, in \u001B[0;36m_BoxPlotter.__init__\u001B[0;34m(self, x, y, hue, data, order, hue_order, orient, color, palette, saturation, width, dodge, fliersize, linewidth)\u001B[0m\n\u001B[1;32m    402\u001B[0m \u001B[38;5;28;01mdef\u001B[39;00m \u001B[38;5;21m__init__\u001B[39m(\u001B[38;5;28mself\u001B[39m, x, y, hue, data, order, hue_order,\n\u001B[1;32m    403\u001B[0m              orient, color, palette, saturation,\n\u001B[1;32m    404\u001B[0m              width, dodge, fliersize, linewidth):\n\u001B[1;32m    406\u001B[0m     \u001B[38;5;28mself\u001B[39m\u001B[38;5;241m.\u001B[39mestablish_variables(x, y, hue, data, orient, order, hue_order)\n\u001B[0;32m--> 407\u001B[0m     \u001B[38;5;28;43mself\u001B[39;49m\u001B[38;5;241;43m.\u001B[39;49m\u001B[43mestablish_colors\u001B[49m\u001B[43m(\u001B[49m\u001B[43mcolor\u001B[49m\u001B[43m,\u001B[49m\u001B[43m \u001B[49m\u001B[43mpalette\u001B[49m\u001B[43m,\u001B[49m\u001B[43m \u001B[49m\u001B[43msaturation\u001B[49m\u001B[43m)\u001B[49m\n\u001B[1;32m    409\u001B[0m     \u001B[38;5;28mself\u001B[39m\u001B[38;5;241m.\u001B[39mdodge \u001B[38;5;241m=\u001B[39m dodge\n\u001B[1;32m    410\u001B[0m     \u001B[38;5;28mself\u001B[39m\u001B[38;5;241m.\u001B[39mwidth \u001B[38;5;241m=\u001B[39m width\n",
      "File \u001B[0;32m~/miniconda3/envs/tf-test/lib/python3.10/site-packages/seaborn/categorical.py:308\u001B[0m, in \u001B[0;36m_CategoricalPlotter.establish_colors\u001B[0;34m(self, color, palette, saturation)\u001B[0m\n\u001B[1;32m    305\u001B[0m             levels \u001B[38;5;241m=\u001B[39m \u001B[38;5;28mself\u001B[39m\u001B[38;5;241m.\u001B[39mhue_names\n\u001B[1;32m    306\u001B[0m         palette \u001B[38;5;241m=\u001B[39m [palette[l] \u001B[38;5;28;01mfor\u001B[39;00m l \u001B[38;5;129;01min\u001B[39;00m levels]\n\u001B[0;32m--> 308\u001B[0m     colors \u001B[38;5;241m=\u001B[39m \u001B[43mcolor_palette\u001B[49m\u001B[43m(\u001B[49m\u001B[43mpalette\u001B[49m\u001B[43m,\u001B[49m\u001B[43m \u001B[49m\u001B[43mn_colors\u001B[49m\u001B[43m)\u001B[49m\n\u001B[1;32m    310\u001B[0m \u001B[38;5;66;03m# Desaturate a bit because these are patches\u001B[39;00m\n\u001B[1;32m    311\u001B[0m \u001B[38;5;28;01mif\u001B[39;00m saturation \u001B[38;5;241m<\u001B[39m \u001B[38;5;241m1\u001B[39m:\n",
      "File \u001B[0;32m~/miniconda3/envs/tf-test/lib/python3.10/site-packages/seaborn/palettes.py:224\u001B[0m, in \u001B[0;36mcolor_palette\u001B[0;34m(palette, n_colors, desat, as_cmap)\u001B[0m\n\u001B[1;32m    222\u001B[0m         palette \u001B[38;5;241m=\u001B[39m _ColorPalette(palette)\n\u001B[1;32m    223\u001B[0m     \u001B[38;5;28;01mexcept\u001B[39;00m \u001B[38;5;167;01mValueError\u001B[39;00m:\n\u001B[0;32m--> 224\u001B[0m         \u001B[38;5;28;01mraise\u001B[39;00m \u001B[38;5;167;01mValueError\u001B[39;00m(\u001B[38;5;124mf\u001B[39m\u001B[38;5;124m\"\u001B[39m\u001B[38;5;124mCould not generate a palette for \u001B[39m\u001B[38;5;132;01m{\u001B[39;00mpalette\u001B[38;5;132;01m}\u001B[39;00m\u001B[38;5;124m\"\u001B[39m)\n\u001B[1;32m    226\u001B[0m \u001B[38;5;28;01mreturn\u001B[39;00m palette\n",
      "\u001B[0;31mValueError\u001B[0m: Could not generate a palette for <map object at 0x7f73cc5361d0>"
     ]
    },
    {
     "data": {
      "text/plain": "<Figure size 360x360 with 0 Axes>"
     },
     "metadata": {},
     "output_type": "display_data"
    }
   ],
   "source": [
    "import pandas as pd\n",
    "import seaborn as sns\n",
    "import matplotlib.pyplot as plt\n",
    "\n",
    "df = pd.DataFrame(\n",
    "    {\"Prediction\": test_prediction_3.reshape(-1, ), \"MNIST value\": y_test_non_hot})\n",
    "sns.set_theme(style=\"whitegrid\")\n",
    "fig = plt.figure(figsize=(5, 5))\n",
    "sns.boxplot(x=\"MNIST value\", y=\"Prediction\", data=df, palette=[\"#DDFFDD\", \"#BBFFBB\", \"#88FF88\",\n",
    "                                                               \"#55FF56\", \"#00FF00\",\n",
    "                                                               \"#FF5555\", \"#00FF00\", \"#00CC00\", \"#006600\", \"#003300\"])\n",
    "#plt.title(\"Label Noise Predictions Sorted by Underlying Label\")\n",
    "plt.tight_layout()\n",
    "plt.savefig(\"results/mnist_label_noise.png\")\n",
    "plt.show()"
   ],
   "metadata": {
    "collapsed": false,
    "pycharm": {
     "name": "#%%\n"
    }
   }
  },
  {
   "cell_type": "code",
   "execution_count": 52,
   "outputs": [
    {
     "data": {
      "text/plain": "0.9515"
     },
     "execution_count": 52,
     "metadata": {},
     "output_type": "execute_result"
    }
   ],
   "source": [
    "m = keras.metrics.BinaryAccuracy(threshold=0.538)\n",
    "m.update_state(y_test2, test_prediction_3)\n",
    "m.result().numpy()"
   ],
   "metadata": {
    "collapsed": false,
    "pycharm": {
     "name": "#%%\n"
    }
   }
  },
  {
   "cell_type": "code",
   "execution_count": 53,
   "outputs": [
    {
     "data": {
      "text/plain": "0.9929931504556188"
     },
     "execution_count": 53,
     "metadata": {},
     "output_type": "execute_result"
    }
   ],
   "source": [
    "metrics.roc_auc_score(y_test2, test_prediction_3)"
   ],
   "metadata": {
    "collapsed": false,
    "pycharm": {
     "name": "#%%\n"
    }
   }
  },
  {
   "cell_type": "code",
   "execution_count": 14,
   "outputs": [
    {
     "name": "stdout",
     "output_type": "stream",
     "text": [
      "313/313 [==============================] - 0s 1ms/step - loss: 0.5773 - accuracy: 0.9809\n"
     ]
    },
    {
     "data": {
      "text/plain": "[0.5772793889045715, 0.98089998960495]"
     },
     "execution_count": 14,
     "metadata": {},
     "output_type": "execute_result"
    }
   ],
   "source": [
    "model.evaluate(x_test, y_test2)"
   ],
   "metadata": {
    "collapsed": false,
    "pycharm": {
     "name": "#%%\n"
    }
   }
  },
  {
   "cell_type": "code",
   "execution_count": null,
   "outputs": [],
   "source": [
    "model.evaluate(x_test, y_test3)"
   ],
   "metadata": {
    "collapsed": false,
    "pycharm": {
     "name": "#%%\n"
    }
   }
  },
  {
   "cell_type": "code",
   "execution_count": 51,
   "outputs": [
    {
     "data": {
      "text/plain": "0.53841823"
     },
     "execution_count": 51,
     "metadata": {},
     "output_type": "execute_result"
    }
   ],
   "source": [
    "from sklearn import metrics\n",
    "fpr, tpr, threshold = metrics.roc_curve(y_test2, test_prediction_3, pos_label=1)\n",
    "gmean = np.sqrt(tpr * (1 - fpr))\n",
    "index = np.argmax(gmean)\n",
    "best_threshold = threshold[index]\n",
    "best_threshold"
   ],
   "metadata": {
    "collapsed": false,
    "pycharm": {
     "name": "#%%\n"
    }
   }
  },
  {
   "cell_type": "code",
   "execution_count": 64,
   "outputs": [
    {
     "data": {
      "text/plain": "<Figure size 360x360 with 1 Axes>",
      "image/png": "[encoded data removed]"
     },
     "metadata": {},
     "output_type": "display_data"
    }
   ],
   "source": [
    "test_prediction = model.predict(x_test)\n",
    "df = pd.DataFrame(\n",
    "    {\"Prediction\": test_prediction.reshape(-1, ), \"MNIST value\": y_test_non_hot})\n",
    "sns.set_theme(style=\"whitegrid\")\n",
    "fig = plt.figure(figsize=(5, 5))\n",
    "sns.boxplot(x=\"MNIST value\", y=\"Prediction\", data=df, palette=[\"#DDFFDD\", \"#BBFFBB\", \"#88FF88\",\n",
    "                                                               \"#55FF56\", \"#00FF00\",\n",
    "                                                               \"#FF5555\", \"#00FF00\", \"#00CC00\", \"#009000\", \"#006000\"])\n",
    "#plt.title(\"Binary Predictions Sorted by Underlying Label\")\n",
    "plt.tight_layout()\n",
    "plt.savefig(\"results/mnist_normal.png\")\n",
    "plt.show()"
   ],
   "metadata": {
    "collapsed": false,
    "pycharm": {
     "name": "#%%\n"
    }
   }
  },
  {
   "cell_type": "code",
   "execution_count": 140,
   "outputs": [
    {
     "data": {
      "text/plain": "0.0660734"
     },
     "execution_count": 140,
     "metadata": {},
     "output_type": "execute_result"
    }
   ],
   "source": [
    "from sklearn import metrics\n",
    "fpr, tpr, threshold = metrics.roc_curve(y_test2, test_prediction, pos_label=1)\n",
    "gmean = np.sqrt(tpr * (1 - fpr))\n",
    "index = np.argmax(gmean)\n",
    "best_threshold = threshold[index]\n",
    "best_threshold"
   ],
   "metadata": {
    "collapsed": false,
    "pycharm": {
     "name": "#%%\n"
    }
   }
  },
  {
   "cell_type": "code",
   "execution_count": 141,
   "outputs": [
    {
     "data": {
      "text/plain": "0.9987642066994767"
     },
     "execution_count": 141,
     "metadata": {},
     "output_type": "execute_result"
    }
   ],
   "source": [
    "metrics.roc_auc_score(y_test2, test_prediction)"
   ],
   "metadata": {
    "collapsed": false,
    "pycharm": {
     "name": "#%%\n"
    }
   }
  },
  {
   "cell_type": "code",
   "execution_count": 98,
   "outputs": [
    {
     "data": {
      "text/plain": "[<matplotlib.lines.Line2D at 0x7f85d34c7790>]"
     },
     "execution_count": 98,
     "metadata": {},
     "output_type": "execute_result"
    },
    {
     "data": {
      "text/plain": "<Figure size 432x288 with 1 Axes>",
      "image/png": "[encoded data removed]"
     },
     "metadata": {},
     "output_type": "display_data"
    }
   ],
   "source": [
    "plt.plot(fpr, tpr)"
   ],
   "metadata": {
    "collapsed": false,
    "pycharm": {
     "name": "#%%\n"
    }
   }
  },
  {
   "cell_type": "code",
   "execution_count": 99,
   "outputs": [
    {
     "name": "stdout",
     "output_type": "stream",
     "text": [
      "313/313 [==============================] - 0s 873us/step - loss: 0.1506 - accuracy: 0.9887\n"
     ]
    },
    {
     "data": {
      "text/plain": "[0.15063835680484772, 0.9886999726295471]"
     },
     "execution_count": 99,
     "metadata": {},
     "output_type": "execute_result"
    }
   ],
   "source": [
    "model.evaluate(x_test, y_test2)"
   ],
   "metadata": {
    "collapsed": false,
    "pycharm": {
     "name": "#%%\n"
    }
   }
  },
  {
   "cell_type": "code",
   "execution_count": 29,
   "outputs": [
    {
     "name": "stdout",
     "output_type": "stream",
     "text": [
      "Label\n",
      "0.0\n",
      "Prediction\n",
      "[-0.27949557]\n",
      "Label\n",
      "0.0\n",
      "Prediction\n",
      "[-0.1971034]\n",
      "Label\n",
      "0.0\n",
      "Prediction\n",
      "[-0.2375522]\n",
      "Label\n",
      "0.0\n",
      "Prediction\n",
      "[-0.31759387]\n",
      "Label\n",
      "0.0\n",
      "Prediction\n",
      "[-0.2732393]\n",
      "Label\n",
      "1.0\n",
      "Prediction\n",
      "[1.0972093]\n",
      "Label\n",
      "1.0\n",
      "Prediction\n",
      "[-0.30765185]\n",
      "Label\n",
      "1.0\n",
      "Prediction\n",
      "[-0.39188415]\n",
      "Label\n",
      "1.0\n",
      "Prediction\n",
      "[-0.19702053]\n",
      "Label\n",
      "1.0\n",
      "Prediction\n",
      "[-0.20277828]\n",
      "Label\n",
      "1.0\n",
      "Prediction\n",
      "[-0.20655492]\n",
      "Label\n",
      "1.0\n",
      "Prediction\n",
      "[-0.06738292]\n",
      "Label\n",
      "1.0\n",
      "Prediction\n",
      "[-0.21075313]\n",
      "Label\n",
      "1.0\n",
      "Prediction\n",
      "[1.350722]\n",
      "Label\n",
      "1.0\n",
      "Prediction\n",
      "[-0.21068725]\n"
     ]
    },
    {
     "data": {
      "text/plain": "<Figure size 432x288 with 1 Axes>",
      "image/png": "[encoded data removed]"
     },
     "metadata": {},
     "output_type": "display_data"
    },
    {
     "data": {
      "text/plain": "<Figure size 432x288 with 1 Axes>",
      "image/png": "[encoded data removed]"
     },
     "metadata": {},
     "output_type": "display_data"
    },
    {
     "data": {
      "text/plain": "<Figure size 432x288 with 1 Axes>",
      "image/png": "[encoded data removed]"
     },
     "metadata": {},
     "output_type": "display_data"
    },
    {
     "data": {
      "text/plain": "<Figure size 432x288 with 1 Axes>",
      "image/png": "[encoded data removed]"
     },
     "metadata": {},
     "output_type": "display_data"
    },
    {
     "data": {
      "text/plain": "<Figure size 432x288 with 1 Axes>",
      "image/png": "[encoded data removed]"
     },
     "metadata": {},
     "output_type": "display_data"
    },
    {
     "data": {
      "text/plain": "<Figure size 432x288 with 1 Axes>",
      "image/png": "[encoded data removed]"
     },
     "metadata": {},
     "output_type": "display_data"
    },
    {
     "data": {
      "text/plain": "<Figure size 432x288 with 1 Axes>",
      "image/png": "[encoded data removed]"
     },
     "metadata": {},
     "output_type": "display_data"
    },
    {
     "data": {
      "text/plain": "<Figure size 432x288 with 1 Axes>",
      "image/png": "[encoded data removed]"
     },
     "metadata": {},
     "output_type": "display_data"
    },
    {
     "data": {
      "text/plain": "<Figure size 432x288 with 1 Axes>",
      "image/png": "[encoded data removed]"
     },
     "metadata": {},
     "output_type": "display_data"
    },
    {
     "data": {
      "text/plain": "<Figure size 432x288 with 1 Axes>",
      "image/png": "[encoded data removed]"
     },
     "metadata": {},
     "output_type": "display_data"
    },
    {
     "data": {
      "text/plain": "<Figure size 432x288 with 1 Axes>",
      "image/png": "[encoded data removed]"
     },
     "metadata": {},
     "output_type": "display_data"
    },
    {
     "data": {
      "text/plain": "<Figure size 432x288 with 1 Axes>",
      "image/png": "[encoded data removed]"
     },
     "metadata": {},
     "output_type": "display_data"
    },
    {
     "data": {
      "text/plain": "<Figure size 432x288 with 1 Axes>",
      "image/png": "[encoded data removed]"
     },
     "metadata": {},
     "output_type": "display_data"
    },
    {
     "data": {
      "text/plain": "<Figure size 432x288 with 1 Axes>",
      "image/png": "[encoded data removed]"
     },
     "metadata": {},
     "output_type": "display_data"
    },
    {
     "data": {
      "text/plain": "<Figure size 432x288 with 1 Axes>",
      "image/png": "[encoded data removed]"
     },
     "metadata": {},
     "output_type": "display_data"
    }
   ],
   "source": [
    "for mnist_number, label, prediction in zip(x_test[10:25], y_test3[10:25], test_prediction_3[10:25]):\n",
    "    plt.figure()\n",
    "    plt.axis(False)\n",
    "    plt.grid(False)\n",
    "    print(\"Label\")\n",
    "    print(label)\n",
    "    print(\"Prediction\")\n",
    "    print(prediction)\n",
    "    plt.imshow(mnist_number, cmap=\"gray\")"
   ],
   "metadata": {
    "collapsed": false,
    "pycharm": {
     "name": "#%%\n"
    }
   }
  },
  {
   "cell_type": "code",
   "execution_count": null,
   "outputs": [],
   "source": [],
   "metadata": {
    "collapsed": false,
    "pycharm": {
     "name": "#%%\n"
    }
   }
  }
 ],
 "metadata": {
  "kernelspec": {
   "display_name": "Python 3",
   "language": "python",
   "name": "python3"
  },
  "language_info": {
   "codemirror_mode": {
    "name": "ipython",
    "version": 2
   },
   "file_extension": ".py",
   "mimetype": "text/x-python",
   "name": "python",
   "nbconvert_exporter": "python",
   "pygments_lexer": "ipython2",
   "version": "2.7.6"
  }
 },
 "nbformat": 4,
 "nbformat_minor": 0
}