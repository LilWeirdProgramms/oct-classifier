{
 "cells": [
  {
   "cell_type": "code",
   "execution_count": null,
   "metadata": {
    "collapsed": true,
    "pycharm": {
     "is_executing": true
    }
   },
   "outputs": [
    {
     "name": "stderr",
     "output_type": "stream",
     "text": [
      "2022-06-20 14:02:43.534775: I tensorflow/core/profiler/lib/profiler_session.cc:110] Profiler session initializing.\n",
      "2022-06-20 14:02:43.534792: I tensorflow/core/profiler/lib/profiler_session.cc:125] Profiler session started.\n",
      "2022-06-20 14:02:43.591792: I tensorflow/core/profiler/internal/gpu/cupti_tracer.cc:1630] Profiler found 1 GPUs\n",
      "2022-06-20 14:02:43.592403: W tensorflow/stream_executor/platform/default/dso_loader.cc:64] Could not load dynamic library 'libcupti.so.11.2'; dlerror: libcupti.so.11.2: cannot open shared object file: No such file or directory\n",
      "2022-06-20 14:02:43.606298: I tensorflow/core/profiler/lib/profiler_session.cc:143] Profiler session tear down.\n",
      "2022-06-20 14:02:43.606424: I tensorflow/core/profiler/internal/gpu/cupti_tracer.cc:1764] CUPTI activity buffer flushed\n",
      "2022-06-20 14:02:43.606706: I tensorflow/core/profiler/lib/profiler_session.cc:110] Profiler session initializing.\n",
      "2022-06-20 14:02:43.606713: I tensorflow/core/profiler/lib/profiler_session.cc:125] Profiler session started.\n",
      "2022-06-20 14:02:43.608540: I tensorflow/core/profiler/lib/profiler_session.cc:143] Profiler session tear down.\n",
      "2022-06-20 14:02:43.608594: I tensorflow/core/profiler/internal/gpu/cupti_tracer.cc:1764] CUPTI activity buffer flushed\n",
      "2022-06-20 14:02:43.682073: I tensorflow/stream_executor/cuda/cuda_gpu_executor.cc:939] successful NUMA node read from SysFS had negative value (-1), but there must be at least one NUMA node, so returning NUMA node zero\n",
      "2022-06-20 14:02:43.733000: I tensorflow/stream_executor/cuda/cuda_gpu_executor.cc:939] successful NUMA node read from SysFS had negative value (-1), but there must be at least one NUMA node, so returning NUMA node zero\n",
      "2022-06-20 14:02:43.733126: I tensorflow/stream_executor/cuda/cuda_gpu_executor.cc:939] successful NUMA node read from SysFS had negative value (-1), but there must be at least one NUMA node, so returning NUMA node zero\n",
      "2022-06-20 14:02:43.734300: I tensorflow/core/platform/cpu_feature_guard.cc:151] This TensorFlow binary is optimized with oneAPI Deep Neural Network Library (oneDNN) to use the following CPU instructions in performance-critical operations:  SSE4.1 SSE4.2 AVX AVX2 FMA\n",
      "To enable them in other operations, rebuild TensorFlow with the appropriate compiler flags.\n",
      "2022-06-20 14:02:43.734868: I tensorflow/stream_executor/cuda/cuda_gpu_executor.cc:939] successful NUMA node read from SysFS had negative value (-1), but there must be at least one NUMA node, so returning NUMA node zero\n",
      "2022-06-20 14:02:43.734962: I tensorflow/stream_executor/cuda/cuda_gpu_executor.cc:939] successful NUMA node read from SysFS had negative value (-1), but there must be at least one NUMA node, so returning NUMA node zero\n",
      "2022-06-20 14:02:43.735041: I tensorflow/stream_executor/cuda/cuda_gpu_executor.cc:939] successful NUMA node read from SysFS had negative value (-1), but there must be at least one NUMA node, so returning NUMA node zero\n",
      "2022-06-20 14:02:44.345954: I tensorflow/stream_executor/cuda/cuda_gpu_executor.cc:939] successful NUMA node read from SysFS had negative value (-1), but there must be at least one NUMA node, so returning NUMA node zero\n",
      "2022-06-20 14:02:44.346077: I tensorflow/stream_executor/cuda/cuda_gpu_executor.cc:939] successful NUMA node read from SysFS had negative value (-1), but there must be at least one NUMA node, so returning NUMA node zero\n",
      "2022-06-20 14:02:44.346161: I tensorflow/stream_executor/cuda/cuda_gpu_executor.cc:939] successful NUMA node read from SysFS had negative value (-1), but there must be at least one NUMA node, so returning NUMA node zero\n",
      "2022-06-20 14:02:44.346398: I tensorflow/core/common_runtime/gpu/gpu_device.cc:1525] Created device /job:localhost/replica:0/task:0/device:GPU:0 with 8806 MB memory:  -> device: 0, name: NVIDIA GeForce RTX 3080 Ti, pci bus id: 0000:01:00.0, compute capability: 8.6\n",
      "2022-06-20 14:02:53.633018: W tensorflow/core/framework/cpu_allocator_impl.cc:82] Allocation of 3512732160 exceeds 10% of free system memory.\n",
      "2022-06-20 14:02:55.161801: W tensorflow/core/framework/cpu_allocator_impl.cc:82] Allocation of 3512732160 exceeds 10% of free system memory.\n",
      "2022-06-20 14:02:56.816304: W tensorflow/core/framework/cpu_allocator_impl.cc:82] Allocation of 3512732160 exceeds 10% of free system memory.\n"
     ]
    }
   ],
   "source": [
    "from hyperparameterStudy.image_dataset import ImageDataset\n",
    "from tensorflow.keras.applications import VGG16\n",
    "import tensorflow as tf\n",
    "import random\n",
    "import tensorflow.keras as k\n",
    "\n",
    "\n",
    "file_list = ImageDataset.load_file_list(\"train\")[-170:]\n",
    "dataset = ImageDataset(data_list=file_list, validation_split=True, mil=False, rgb=True)\n",
    "for elem in dataset.dataset_train.take(1):\n",
    "    print(elem[1])\n",
    "    print(elem[0].shape)\n",
    "# TODO: Memory Problem sind die 3 Channel\n",
    "\n",
    "# Taken From:\n",
    "# https://tvst.arvojournals.org/article.aspx?articleid=2770240\n",
    "\n"
   ]
  },
  {
   "cell_type": "code",
   "execution_count": null,
   "outputs": [],
   "source": [
    "def create_vgg_model(input_shape=(1444, 1448, 3), train_from_layer=14):\n",
    "    network_input = k.layers.Input(shape=input_shape)\n",
    "    model = VGG16(weights='imagenet', input_tensor=network_input, include_top=False)\n",
    "\n",
    "    feature_extraction_model = k.models.Model(inputs=model.input, outputs=model.layers[train_from_layer].output)\n",
    "    feature_extraction_model.trainable = True\n",
    "    classify_model = k.models.Model(inputs=model.layers[train_from_layer].output, outputs=model.output)\n",
    "\n",
    "    pooling_layer = k.layers.GlobalAveragePooling2D()\n",
    "    dropout_layer = k.layers.Dropout(0.1)\n",
    "    dense_layer1 = k.layers.Dense(64, activation=\"relu\")\n",
    "    dense_layer2 = k.layers.Dense(1, activation=\"linear\")\n",
    "    model = k.Sequential([feature_extraction_model, classify_model, pooling_layer, dropout_layer, dense_layer1,\n",
    "                          dense_layer2])\n",
    "    model.compile(optimizer=tf.keras.optimizers.Adam(learning_rate=1e-4),\n",
    "              loss=tf.keras.losses.BinaryCrossentropy(from_logits=True),\n",
    "              metrics=['accuracy'])\n",
    "    model.summary()\n",
    "    return model"
   ],
   "metadata": {
    "collapsed": false,
    "pycharm": {
     "name": "#%%\n"
    }
   }
  },
  {
   "cell_type": "code",
   "execution_count": 3,
   "outputs": [
    {
     "name": "stderr",
     "output_type": "stream",
     "text": [
      "2022-06-20 13:56:46.414198: I tensorflow/core/profiler/lib/profiler_session.cc:110] Profiler session initializing.\n",
      "2022-06-20 13:56:46.414216: I tensorflow/core/profiler/lib/profiler_session.cc:125] Profiler session started.\n",
      "2022-06-20 13:56:46.479401: I tensorflow/core/profiler/internal/gpu/cupti_tracer.cc:1630] Profiler found 1 GPUs\n",
      "2022-06-20 13:56:46.479649: W tensorflow/stream_executor/platform/default/dso_loader.cc:64] Could not load dynamic library 'libcupti.so.11.2'; dlerror: libcupti.so.11.2: cannot open shared object file: No such file or directory\n",
      "2022-06-20 13:56:46.488521: I tensorflow/core/profiler/lib/profiler_session.cc:143] Profiler session tear down.\n",
      "2022-06-20 13:56:46.488620: I tensorflow/core/profiler/internal/gpu/cupti_tracer.cc:1764] CUPTI activity buffer flushed\n",
      "2022-06-20 13:56:46.488875: I tensorflow/core/profiler/lib/profiler_session.cc:110] Profiler session initializing.\n",
      "2022-06-20 13:56:46.488882: I tensorflow/core/profiler/lib/profiler_session.cc:125] Profiler session started.\n",
      "2022-06-20 13:56:46.490636: I tensorflow/core/profiler/lib/profiler_session.cc:143] Profiler session tear down.\n",
      "2022-06-20 13:56:46.490685: I tensorflow/core/profiler/internal/gpu/cupti_tracer.cc:1764] CUPTI activity buffer flushed\n",
      "2022-06-20 13:56:46.491265: I tensorflow/core/profiler/lib/profiler_session.cc:110] Profiler session initializing.\n",
      "2022-06-20 13:56:46.491275: I tensorflow/core/profiler/lib/profiler_session.cc:125] Profiler session started.\n",
      "2022-06-20 13:56:46.492905: I tensorflow/core/profiler/lib/profiler_session.cc:143] Profiler session tear down.\n",
      "2022-06-20 13:56:46.492980: I tensorflow/core/profiler/internal/gpu/cupti_tracer.cc:1764] CUPTI activity buffer flushed\n",
      "2022-06-20 13:56:46.493093: I tensorflow/core/profiler/lib/profiler_session.cc:110] Profiler session initializing.\n",
      "2022-06-20 13:56:46.493100: I tensorflow/core/profiler/lib/profiler_session.cc:125] Profiler session started.\n",
      "2022-06-20 13:56:46.494645: I tensorflow/core/profiler/lib/profiler_session.cc:143] Profiler session tear down.\n",
      "2022-06-20 13:56:46.494693: I tensorflow/core/profiler/internal/gpu/cupti_tracer.cc:1764] CUPTI activity buffer flushed\n"
     ]
    },
    {
     "ename": "NameError",
     "evalue": "name 'k' is not defined",
     "output_type": "error",
     "traceback": [
      "\u001B[0;31m---------------------------------------------------------------------------\u001B[0m",
      "\u001B[0;31mNameError\u001B[0m                                 Traceback (most recent call last)",
      "Input \u001B[0;32mIn [3]\u001B[0m, in \u001B[0;36m<module>\u001B[0;34m\u001B[0m\n\u001B[1;32m      2\u001B[0m \u001B[38;5;28;01mimport\u001B[39;00m \u001B[38;5;21;01mimportlib\u001B[39;00m\n\u001B[1;32m      3\u001B[0m importlib\u001B[38;5;241m.\u001B[39mreload(Callbacks)\n\u001B[0;32m----> 5\u001B[0m vgg_model \u001B[38;5;241m=\u001B[39m \u001B[43mcreate_vgg_model\u001B[49m\u001B[43m(\u001B[49m\u001B[43m)\u001B[49m\n\u001B[1;32m      6\u001B[0m vgg_model\u001B[38;5;241m.\u001B[39mfit(dataset\u001B[38;5;241m.\u001B[39mdataset_train\u001B[38;5;241m.\u001B[39mbatch(\u001B[38;5;241m2\u001B[39m), validation_data\u001B[38;5;241m=\u001B[39mdataset\u001B[38;5;241m.\u001B[39mdataset_val\u001B[38;5;241m.\u001B[39mbatch(\u001B[38;5;241m1\u001B[39m), epochs\u001B[38;5;241m=\u001B[39m\u001B[38;5;241m15\u001B[39m, callbacks\u001B[38;5;241m=\u001B[39mCallbacks\u001B[38;5;241m.\u001B[39mvgg_callback(\u001B[38;5;124m\"\u001B[39m\u001B[38;5;124mvgg2layers\u001B[39m\u001B[38;5;124m\"\u001B[39m))\n",
      "Input \u001B[0;32mIn [2]\u001B[0m, in \u001B[0;36mcreate_vgg_model\u001B[0;34m(input_shape, train_from_layer)\u001B[0m\n\u001B[1;32m      1\u001B[0m \u001B[38;5;28;01mdef\u001B[39;00m \u001B[38;5;21mcreate_vgg_model\u001B[39m(input_shape\u001B[38;5;241m=\u001B[39m(\u001B[38;5;241m1444\u001B[39m, \u001B[38;5;241m1448\u001B[39m, \u001B[38;5;241m3\u001B[39m), train_from_layer\u001B[38;5;241m=\u001B[39m\u001B[38;5;241m14\u001B[39m):\n\u001B[0;32m----> 2\u001B[0m     network_input \u001B[38;5;241m=\u001B[39m \u001B[43mk\u001B[49m\u001B[38;5;241m.\u001B[39mlayers\u001B[38;5;241m.\u001B[39mInput(shape\u001B[38;5;241m=\u001B[39minput_shape)\n\u001B[1;32m      3\u001B[0m     model \u001B[38;5;241m=\u001B[39m VGG16(weights\u001B[38;5;241m=\u001B[39m\u001B[38;5;124m'\u001B[39m\u001B[38;5;124mimagenet\u001B[39m\u001B[38;5;124m'\u001B[39m, input_tensor\u001B[38;5;241m=\u001B[39mnetwork_input, include_top\u001B[38;5;241m=\u001B[39m\u001B[38;5;28;01mFalse\u001B[39;00m)\n\u001B[1;32m      5\u001B[0m     feature_extraction_model \u001B[38;5;241m=\u001B[39m k\u001B[38;5;241m.\u001B[39mmodels\u001B[38;5;241m.\u001B[39mModel(inputs\u001B[38;5;241m=\u001B[39mmodel\u001B[38;5;241m.\u001B[39minput, outputs\u001B[38;5;241m=\u001B[39mmodel\u001B[38;5;241m.\u001B[39mlayers[train_from_layer]\u001B[38;5;241m.\u001B[39moutput)\n",
      "\u001B[0;31mNameError\u001B[0m: name 'k' is not defined"
     ]
    }
   ],
   "source": [
    "import Callbacks\n",
    "import importlib\n",
    "import tensorflow.keras as k\n",
    "importlib.reload(Callbacks)\n",
    "\n",
    "vgg_model = create_vgg_model()\n",
    "vgg_model.fit(dataset.dataset_train.batch(2), validation_data=dataset.dataset_val.batch(1), epochs=15, callbacks=Callbacks.vgg_callback(\"vgg2layers\"))"
   ],
   "metadata": {
    "collapsed": false,
    "pycharm": {
     "name": "#%%\n"
    }
   }
  },
  {
   "cell_type": "code",
   "execution_count": 1,
   "outputs": [
    {
     "name": "stderr",
     "output_type": "stream",
     "text": [
      "2022-06-15 19:10:46.505724: I tensorflow/core/profiler/lib/profiler_session.cc:110] Profiler session initializing.\n",
      "2022-06-15 19:10:46.505740: I tensorflow/core/profiler/lib/profiler_session.cc:125] Profiler session started.\n",
      "2022-06-15 19:10:46.567646: I tensorflow/core/profiler/internal/gpu/cupti_tracer.cc:1630] Profiler found 1 GPUs\n",
      "2022-06-15 19:10:46.568251: W tensorflow/stream_executor/platform/default/dso_loader.cc:64] Could not load dynamic library 'libcupti.so.11.2'; dlerror: libcupti.so.11.2: cannot open shared object file: No such file or directory\n",
      "2022-06-15 19:10:46.582163: I tensorflow/core/profiler/lib/profiler_session.cc:143] Profiler session tear down.\n",
      "2022-06-15 19:10:46.582545: I tensorflow/core/profiler/internal/gpu/cupti_tracer.cc:1764] CUPTI activity buffer flushed\n",
      "2022-06-15 19:10:46.583406: I tensorflow/core/profiler/lib/profiler_session.cc:110] Profiler session initializing.\n",
      "2022-06-15 19:10:46.583446: I tensorflow/core/profiler/lib/profiler_session.cc:125] Profiler session started.\n",
      "2022-06-15 19:10:46.593979: I tensorflow/core/profiler/lib/profiler_session.cc:143] Profiler session tear down.\n",
      "2022-06-15 19:10:46.594196: I tensorflow/core/profiler/internal/gpu/cupti_tracer.cc:1764] CUPTI activity buffer flushed\n",
      "2022-06-15 19:10:46.700581: I tensorflow/stream_executor/cuda/cuda_gpu_executor.cc:939] successful NUMA node read from SysFS had negative value (-1), but there must be at least one NUMA node, so returning NUMA node zero\n",
      "2022-06-15 19:10:46.723701: I tensorflow/stream_executor/cuda/cuda_gpu_executor.cc:939] successful NUMA node read from SysFS had negative value (-1), but there must be at least one NUMA node, so returning NUMA node zero\n",
      "2022-06-15 19:10:46.723829: I tensorflow/stream_executor/cuda/cuda_gpu_executor.cc:939] successful NUMA node read from SysFS had negative value (-1), but there must be at least one NUMA node, so returning NUMA node zero\n",
      "2022-06-15 19:10:46.724322: I tensorflow/core/platform/cpu_feature_guard.cc:151] This TensorFlow binary is optimized with oneAPI Deep Neural Network Library (oneDNN) to use the following CPU instructions in performance-critical operations:  SSE4.1 SSE4.2 AVX AVX2 FMA\n",
      "To enable them in other operations, rebuild TensorFlow with the appropriate compiler flags.\n",
      "2022-06-15 19:10:46.724820: I tensorflow/stream_executor/cuda/cuda_gpu_executor.cc:939] successful NUMA node read from SysFS had negative value (-1), but there must be at least one NUMA node, so returning NUMA node zero\n",
      "2022-06-15 19:10:46.724919: I tensorflow/stream_executor/cuda/cuda_gpu_executor.cc:939] successful NUMA node read from SysFS had negative value (-1), but there must be at least one NUMA node, so returning NUMA node zero\n",
      "2022-06-15 19:10:46.725003: I tensorflow/stream_executor/cuda/cuda_gpu_executor.cc:939] successful NUMA node read from SysFS had negative value (-1), but there must be at least one NUMA node, so returning NUMA node zero\n",
      "2022-06-15 19:10:47.095805: I tensorflow/stream_executor/cuda/cuda_gpu_executor.cc:939] successful NUMA node read from SysFS had negative value (-1), but there must be at least one NUMA node, so returning NUMA node zero\n",
      "2022-06-15 19:10:47.095935: I tensorflow/stream_executor/cuda/cuda_gpu_executor.cc:939] successful NUMA node read from SysFS had negative value (-1), but there must be at least one NUMA node, so returning NUMA node zero\n",
      "2022-06-15 19:10:47.096024: I tensorflow/stream_executor/cuda/cuda_gpu_executor.cc:939] successful NUMA node read from SysFS had negative value (-1), but there must be at least one NUMA node, so returning NUMA node zero\n",
      "2022-06-15 19:10:47.096099: I tensorflow/core/common_runtime/gpu/gpu_device.cc:1525] Created device /job:localhost/replica:0/task:0/device:GPU:0 with 8849 MB memory:  -> device: 0, name: NVIDIA GeForce RTX 3080 Ti, pci bus id: 0000:01:00.0, compute capability: 8.6\n",
      "2022-06-15 19:10:50.700716: I tensorflow/stream_executor/cuda/cuda_dnn.cc:366] Loaded cuDNN version 8201\n",
      "2022-06-15 19:10:51.345312: I tensorflow/core/platform/default/subprocess.cc:304] Start cannot spawn child process: No such file or directory\n",
      "2022-06-15 19:10:51.345678: I tensorflow/core/platform/default/subprocess.cc:304] Start cannot spawn child process: No such file or directory\n",
      "2022-06-15 19:10:51.345688: W tensorflow/stream_executor/gpu/asm_compiler.cc:80] Couldn't get ptxas version string: INTERNAL: Couldn't invoke ptxas --version\n",
      "2022-06-15 19:10:51.345990: I tensorflow/core/platform/default/subprocess.cc:304] Start cannot spawn child process: No such file or directory\n",
      "2022-06-15 19:10:51.346059: W tensorflow/stream_executor/gpu/redzone_allocator.cc:314] INTERNAL: Failed to launch ptxas\n",
      "Relying on driver to perform ptx compilation. \n",
      "Modify $PATH to customize ptxas location.\n",
      "This message will be only logged once.\n"
     ]
    },
    {
     "name": "stdout",
     "output_type": "stream",
     "text": [
      " 5/28 [====>.........................] - ETA: 1s"
     ]
    },
    {
     "name": "stderr",
     "output_type": "stream",
     "text": [
      "2022-06-15 19:10:53.701125: I tensorflow/stream_executor/cuda/cuda_blas.cc:1774] TensorFloat-32 will be used for the matrix multiplication. This will only be logged once.\n"
     ]
    },
    {
     "name": "stdout",
     "output_type": "stream",
     "text": [
      "28/28 [==============================] - 6s 60ms/step\n"
     ]
    }
   ],
   "source": [
    "from hyperparameterStudy.hyper_postprocessing import HyperPostprocessor\n",
    "from hyperparameterStudy.image_dataset import ImageDataset\n",
    "\n",
    "file_list = ImageDataset.load_file_list(\"test\")\n",
    "dataset = ImageDataset(data_list=file_list, validation_split=False, mil=False, rgb=True)\n",
    "model_name = \"vgg2layers\"\n",
    "hp = HyperPostprocessor(model_name, dataset, file_list, results_folder=\"results/vgg\", history_folder=\"results\")\n",
    "hp.processing()"
   ],
   "metadata": {
    "collapsed": false,
    "pycharm": {
     "name": "#%%\n"
    }
   }
  },
  {
   "cell_type": "code",
   "execution_count": 3,
   "outputs": [],
   "source": [
    "import tensorflow.keras as k\n",
    "model = k.models.load_model(\"results/vgg/models/vgg2layers\")"
   ],
   "metadata": {
    "collapsed": false,
    "pycharm": {
     "name": "#%%\n"
    }
   }
  },
  {
   "cell_type": "code",
   "execution_count": 7,
   "outputs": [
    {
     "data": {
      "text/plain": "<keras.layers.convolutional.Conv2D at 0x7f76283f7700>"
     },
     "execution_count": 7,
     "metadata": {},
     "output_type": "execute_result"
    }
   ],
   "source": [
    "model.layers[1].layers[3]"
   ],
   "metadata": {
    "collapsed": false,
    "pycharm": {
     "name": "#%%\n"
    }
   }
  },
  {
   "cell_type": "code",
   "execution_count": null,
   "outputs": [],
   "source": [],
   "metadata": {
    "collapsed": false,
    "pycharm": {
     "name": "#%%\n"
    }
   }
  }
 ],
 "metadata": {
  "kernelspec": {
   "display_name": "Python 3",
   "language": "python",
   "name": "python3"
  },
  "language_info": {
   "codemirror_mode": {
    "name": "ipython",
    "version": 2
   },
   "file_extension": ".py",
   "mimetype": "text/x-python",
   "name": "python",
   "nbconvert_exporter": "python",
   "pygments_lexer": "ipython2",
   "version": "2.7.6"
  }
 },
 "nbformat": 4,
 "nbformat_minor": 0
}