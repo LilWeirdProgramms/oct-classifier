{
 "cells": [
  {
   "cell_type": "code",
   "execution_count": 4,
   "outputs": [
    {
     "name": "stdout",
     "output_type": "stream",
     "text": [
      "x_train shape: (60000, 28, 28, 1)\n",
      "60000 train samples\n",
      "10000 test samples\n",
      "Model: \"sequential_3\"\n",
      "_________________________________________________________________\n",
      " Layer (type)                Output Shape              Param #   \n",
      "=================================================================\n",
      " conv2d_6 (Conv2D)           (None, 26, 26, 32)        320       \n",
      "                                                                 \n",
      " max_pooling2d_6 (MaxPooling  (None, 13, 13, 32)       0         \n",
      " 2D)                                                             \n",
      "                                                                 \n",
      " conv2d_7 (Conv2D)           (None, 11, 11, 64)        18496     \n",
      "                                                                 \n",
      " max_pooling2d_7 (MaxPooling  (None, 5, 5, 64)         0         \n",
      " 2D)                                                             \n",
      "                                                                 \n",
      " flatten_3 (Flatten)         (None, 1600)              0         \n",
      "                                                                 \n",
      " dropout_3 (Dropout)         (None, 1600)              0         \n",
      "                                                                 \n",
      " dense_3 (Dense)             (None, 10)                16010     \n",
      "                                                                 \n",
      "=================================================================\n",
      "Total params: 34,826\n",
      "Trainable params: 34,826\n",
      "Non-trainable params: 0\n",
      "_________________________________________________________________\n",
      "Epoch 1/3\n",
      "422/422 [==============================] - 2s 3ms/step - loss: 0.3712 - accuracy: 0.8874 - hans: 0.9480 - recall_4: 0.8376 - val_loss: 0.0808 - val_accuracy: 0.9787 - val_hans: 0.9839 - val_recall_4: 0.9750\n",
      "Epoch 2/3\n",
      "422/422 [==============================] - 1s 2ms/step - loss: 0.1110 - accuracy: 0.9661 - hans: 0.9718 - recall_4: 0.9611 - val_loss: 0.0590 - val_accuracy: 0.9840 - val_hans: 0.9869 - val_recall_4: 0.9820\n",
      "Epoch 3/3\n",
      "422/422 [==============================] - 1s 2ms/step - loss: 0.0843 - accuracy: 0.9745 - hans: 0.9784 - recall_4: 0.9710 - val_loss: 0.0482 - val_accuracy: 0.9868 - val_hans: 0.9895 - val_recall_4: 0.9855\n",
      "Epoch 1/3\n",
      "422/422 [==============================] - 1s 2ms/step - loss: 0.0683 - accuracy: 0.9790 - hans: 0.9821 - recall_5: 0.9765 - val_loss: 0.0440 - val_accuracy: 0.9885 - val_hans: 0.9903 - val_recall_5: 0.9868\n",
      "Epoch 2/3\n",
      "422/422 [==============================] - 1s 2ms/step - loss: 0.0655 - accuracy: 0.9800 - hans: 0.9831 - recall_5: 0.9776 - val_loss: 0.0439 - val_accuracy: 0.9885 - val_hans: 0.9900 - val_recall_5: 0.9870\n",
      "Epoch 3/3\n",
      "422/422 [==============================] - 1s 2ms/step - loss: 0.0654 - accuracy: 0.9806 - hans: 0.9829 - recall_5: 0.9779 - val_loss: 0.0431 - val_accuracy: 0.9890 - val_hans: 0.9903 - val_recall_5: 0.9878\n"
     ]
    },
    {
     "data": {
      "text/plain": "<keras.callbacks.History at 0x7fdca05d52a0>"
     },
     "execution_count": 4,
     "metadata": {},
     "output_type": "execute_result"
    }
   ],
   "source": [
    "import numpy as np\n",
    "from tensorflow import keras\n",
    "from tensorflow.keras import layers\n",
    "\n",
    "# Model / data parameters\n",
    "num_classes = 10\n",
    "input_shape = (28, 28, 1)\n",
    "\n",
    "# Load the data and split it between train and test sets\n",
    "(x_train, y_train), (x_test, y_test) = keras.datasets.mnist.load_data()\n",
    "\n",
    "# Scale images to the [0, 1] range\n",
    "x_train = x_train.astype(\"float32\") / 255\n",
    "x_test = x_test.astype(\"float32\") / 255\n",
    "# Make sure images have shape (28, 28, 1)\n",
    "x_train = np.expand_dims(x_train, -1)\n",
    "x_test = np.expand_dims(x_test, -1)\n",
    "print(\"x_train shape:\", x_train.shape)\n",
    "print(x_train.shape[0], \"train samples\")\n",
    "print(x_test.shape[0], \"test samples\")\n",
    "\n",
    "\n",
    "# convert class vectors to binary class matrices\n",
    "y_train = keras.utils.to_categorical(y_train, num_classes)\n",
    "y_test = keras.utils.to_categorical(y_test, num_classes)\n",
    "\n",
    "model = keras.Sequential(\n",
    "    [\n",
    "        keras.Input(shape=input_shape),\n",
    "        layers.Conv2D(32, kernel_size=(3, 3), activation=\"relu\"),\n",
    "        layers.MaxPooling2D(pool_size=(2, 2)),\n",
    "        layers.Conv2D(64, kernel_size=(3, 3), activation=\"relu\"),\n",
    "        layers.MaxPooling2D(pool_size=(2, 2)),\n",
    "        layers.Flatten(),\n",
    "        layers.Dropout(0.5),\n",
    "        layers.Dense(num_classes, activation=\"softmax\"),\n",
    "    ]\n",
    ")\n",
    "\n",
    "model.summary()\n",
    "\n",
    "batch_size = 128\n",
    "epochs = 3\n",
    "\n",
    "model.compile(loss=\"categorical_crossentropy\", optimizer=\"adam\", metrics=[\"accuracy\", keras.metrics.Precision(name=\"hans\"),\n",
    "                                    keras.metrics.Recall()])\n",
    "\n",
    "model.fit(x_train, y_train, batch_size=batch_size, epochs=epochs, validation_split=0.1)\n",
    "\n",
    "model.compile(loss=\"categorical_crossentropy\", optimizer=\"SGD\", metrics=[\"accuracy\", keras.metrics.Precision(name=\"hans\"),\n",
    "                                    keras.metrics.Recall()])\n",
    "model.fit(x_train, y_train, batch_size=batch_size, epochs=epochs, validation_split=0.1)\n"
   ],
   "metadata": {
    "collapsed": false,
    "pycharm": {
     "name": "#%%\n"
    }
   }
  },
  {
   "cell_type": "code",
   "execution_count": 3,
   "outputs": [
    {
     "name": "stdout",
     "output_type": "stream",
     "text": [
      "Num GPUs Available:  1\n"
     ]
    }
   ],
   "source": [
    "print(\"Num GPUs Available: \", len(tf.config.list_physical_devices('GPU')))"
   ],
   "metadata": {
    "collapsed": false,
    "pycharm": {
     "name": "#%%\n"
    }
   }
  },
  {
   "cell_type": "code",
   "execution_count": 70,
   "outputs": [
    {
     "data": {
      "text/plain": "0"
     },
     "execution_count": 70,
     "metadata": {},
     "output_type": "execute_result"
    }
   ],
   "source": [
    "wert_der_abhaengig_von_der_position_ist = [3, 2, 1, 0, 1, 2, 3] #-> Sample 1, Sample 2\n",
    "iterator = wert_der_abhaengig_von_der_position_ist.__iter__()\n",
    "iterator.__next__()\n",
    "iterator.__next__()\n",
    "iterator.__next__()\n",
    "iterator.__next__()"
   ],
   "metadata": {
    "collapsed": false,
    "pycharm": {
     "name": "#%%\n"
    }
   }
  },
  {
   "cell_type": "code",
   "execution_count": 58,
   "outputs": [],
   "source": [
    "import numpy as np\n",
    "import tensorflow as tf\n",
    "from tensorflow import keras\n",
    "from tensorflow.keras import layers\n",
    "\n",
    "(x_train, y_train), (x_test, y_test) = keras.datasets.mnist.load_data()\n",
    "\n",
    "# Preprocess the data (these are NumPy arrays)\n",
    "x_train = x_train.reshape(60000, 784).astype(\"float32\") / 255\n",
    "x_test = x_test.reshape(10000, 784).astype(\"float32\") / 255\n",
    "\n",
    "y_train = y_train.astype(\"float32\")\n",
    "y_test = y_test.astype(\"float32\")\n",
    "\n",
    "# Only take one and zeros\n",
    "x_val = x_train[-10000:]\n",
    "y_val = y_train[-10000:]\n",
    "x_train = x_train[:-10000]\n",
    "y_train = y_train[:-10000]"
   ],
   "metadata": {
    "collapsed": false,
    "pycharm": {
     "name": "#%%\n"
    }
   }
  },
  {
   "cell_type": "code",
   "execution_count": 60,
   "outputs": [
    {
     "data": {
      "text/plain": "(55000,)"
     },
     "execution_count": 60,
     "metadata": {},
     "output_type": "execute_result"
    }
   ],
   "source": [
    "import models\n",
    "model = models.classiRaw3D(training_dataset.element_spec[0].shape, None, reconstruction=False)"
   ],
   "metadata": {
    "collapsed": false,
    "pycharm": {
     "name": "#%%\n"
    }
   }
  },
  {
   "cell_type": "code",
   "execution_count": 23,
   "outputs": [
    {
     "name": "stdout",
     "output_type": "stream",
     "text": [
      "Total Size: 12853456896\n",
      "Last Element Begin: 12680491008\n",
      "Differenz: 3144192\n",
      "Should be: 1 bscan vor Ende: 3144192\n"
     ]
    }
   ],
   "source": [
    "total_size = 1536 * 2047 * 2044 * 2\n",
    "print(\"Total Size: \" + str(total_size))\n",
    "\n",
    "last_element_begin = (88 * 23 + 2 * 72 * 28 * 2047) * 1536\n",
    "print(\"Last Element Begin: \" + str(last_element_begin))\n",
    "\n",
    "last_bscan_last_element = 2 * 1536 * 2047 * 27 + last_element_begin + 1536 * 23\n",
    "print(\"Differenz: \" + str(total_size - last_bscan_last_element))\n",
    "print(\"Should be: 1 bscan vor Ende: 3144192\")"
   ],
   "metadata": {
    "collapsed": false,
    "pycharm": {
     "name": "#%%\n"
    }
   }
  },
  {
   "cell_type": "code",
   "execution_count": 6,
   "outputs": [
    {
     "name": "stdout",
     "output_type": "stream",
     "text": [
      "WARNING:tensorflow:AutoGraph could not transform <function BinaryReader.create_dataset.<locals>.<lambda> at 0x7fb775de6e50> and will run it as-is.\n",
      "Please report this to the TensorFlow team. When filing the bug, set the verbosity to 10 (on Linux, `export AUTOGRAPH_VERBOSITY=10`) and attach the full output.\n",
      "Cause: module 'gast' has no attribute 'Index'\n",
      "To silence this warning, decorate the function with @tf.autograph.experimental.do_not_convert\n",
      "WARNING: AutoGraph could not transform <function BinaryReader.create_dataset.<locals>.<lambda> at 0x7fb775de6e50> and will run it as-is.\n",
      "Please report this to the TensorFlow team. When filing the bug, set the verbosity to 10 (on Linux, `export AUTOGRAPH_VERBOSITY=10`) and attach the full output.\n",
      "Cause: module 'gast' has no attribute 'Index'\n",
      "To silence this warning, decorate the function with @tf.autograph.experimental.do_not_convert\n",
      "(<tf.Tensor: shape=(3072, 102, 102, 1), dtype=uint16, numpy=\n",
      "array([[[[   32],\n",
      "         [   96],\n",
      "         [   96],\n",
      "         ...,\n",
      "         [   32],\n",
      "         [65408],\n",
      "         [   64]],\n",
      "\n",
      "        [[65440],\n",
      "         [65472],\n",
      "         [    0],\n",
      "         ...,\n",
      "         [   96],\n",
      "         [65472],\n",
      "         [65472]],\n",
      "\n",
      "        [[65440],\n",
      "         [65408],\n",
      "         [65440],\n",
      "         ...,\n",
      "         [65504],\n",
      "         [65408],\n",
      "         [65472]],\n",
      "\n",
      "        ...,\n",
      "\n",
      "        [[    0],\n",
      "         [   32],\n",
      "         [65440],\n",
      "         ...,\n",
      "         [65408],\n",
      "         [65472],\n",
      "         [   64]],\n",
      "\n",
      "        [[65408],\n",
      "         [   32],\n",
      "         [   96],\n",
      "         ...,\n",
      "         [65440],\n",
      "         [   32],\n",
      "         [65504]],\n",
      "\n",
      "        [[65408],\n",
      "         [65472],\n",
      "         [    0],\n",
      "         ...,\n",
      "         [65408],\n",
      "         [   96],\n",
      "         [65440]]],\n",
      "\n",
      "\n",
      "       [[[65408],\n",
      "         [65412],\n",
      "         [  122],\n",
      "         ...,\n",
      "         [65419],\n",
      "         [  127],\n",
      "         [65411]],\n",
      "\n",
      "        [[65419],\n",
      "         [65411],\n",
      "         [65408],\n",
      "         ...,\n",
      "         [65412],\n",
      "         [65413],\n",
      "         [65411]],\n",
      "\n",
      "        [[  118],\n",
      "         [65411],\n",
      "         [  118],\n",
      "         ...,\n",
      "         [  126],\n",
      "         [65409],\n",
      "         [65411]],\n",
      "\n",
      "        ...,\n",
      "\n",
      "        [[  126],\n",
      "         [65413],\n",
      "         [65409],\n",
      "         ...,\n",
      "         [65409],\n",
      "         [  116],\n",
      "         [  123]],\n",
      "\n",
      "        [[65409],\n",
      "         [65417],\n",
      "         [  123],\n",
      "         ...,\n",
      "         [65410],\n",
      "         [  114],\n",
      "         [65413]],\n",
      "\n",
      "        [[65416],\n",
      "         [65421],\n",
      "         [65413],\n",
      "         ...,\n",
      "         [65413],\n",
      "         [  118],\n",
      "         [65423]]],\n",
      "\n",
      "\n",
      "       [[[    0],\n",
      "         [   32],\n",
      "         [65440],\n",
      "         ...,\n",
      "         [65472],\n",
      "         [    0],\n",
      "         [65472]],\n",
      "\n",
      "        [[    0],\n",
      "         [   32],\n",
      "         [   32],\n",
      "         ...,\n",
      "         [65504],\n",
      "         [65440],\n",
      "         [   32]],\n",
      "\n",
      "        [[65504],\n",
      "         [   96],\n",
      "         [   32],\n",
      "         ...,\n",
      "         [   96],\n",
      "         [    0],\n",
      "         [    0]],\n",
      "\n",
      "        ...,\n",
      "\n",
      "        [[65504],\n",
      "         [65440],\n",
      "         [   96],\n",
      "         ...,\n",
      "         [65440],\n",
      "         [65408],\n",
      "         [    0]],\n",
      "\n",
      "        [[65504],\n",
      "         [65440],\n",
      "         [65440],\n",
      "         ...,\n",
      "         [65408],\n",
      "         [65408],\n",
      "         [   64]],\n",
      "\n",
      "        [[   64],\n",
      "         [65408],\n",
      "         [   64],\n",
      "         ...,\n",
      "         [65440],\n",
      "         [65440],\n",
      "         [   96]]],\n",
      "\n",
      "\n",
      "       ...,\n",
      "\n",
      "\n",
      "       [[[65417],\n",
      "         [65414],\n",
      "         [65420],\n",
      "         ...,\n",
      "         [65410],\n",
      "         [  127],\n",
      "         [65414]],\n",
      "\n",
      "        [[65411],\n",
      "         [65414],\n",
      "         [65412],\n",
      "         ...,\n",
      "         [65419],\n",
      "         [65414],\n",
      "         [65414]],\n",
      "\n",
      "        [[  124],\n",
      "         [65409],\n",
      "         [  127],\n",
      "         ...,\n",
      "         [  124],\n",
      "         [65408],\n",
      "         [65408]],\n",
      "\n",
      "        ...,\n",
      "\n",
      "        [[65420],\n",
      "         [  120],\n",
      "         [  115],\n",
      "         ...,\n",
      "         [65415],\n",
      "         [65410],\n",
      "         [  125]],\n",
      "\n",
      "        [[65413],\n",
      "         [  119],\n",
      "         [  114],\n",
      "         ...,\n",
      "         [65411],\n",
      "         [65421],\n",
      "         [65408]],\n",
      "\n",
      "        [[65417],\n",
      "         [  125],\n",
      "         [  116],\n",
      "         ...,\n",
      "         [  126],\n",
      "         [65408],\n",
      "         [65416]]],\n",
      "\n",
      "\n",
      "       [[[   96],\n",
      "         [65408],\n",
      "         [   96],\n",
      "         ...,\n",
      "         [65472],\n",
      "         [65472],\n",
      "         [   32]],\n",
      "\n",
      "        [[65472],\n",
      "         [65440],\n",
      "         [65408],\n",
      "         ...,\n",
      "         [   32],\n",
      "         [65408],\n",
      "         [   96]],\n",
      "\n",
      "        [[   32],\n",
      "         [65440],\n",
      "         [65408],\n",
      "         ...,\n",
      "         [    0],\n",
      "         [65408],\n",
      "         [65440]],\n",
      "\n",
      "        ...,\n",
      "\n",
      "        [[65440],\n",
      "         [    0],\n",
      "         [65472],\n",
      "         ...,\n",
      "         [   64],\n",
      "         [65440],\n",
      "         [    0]],\n",
      "\n",
      "        [[65408],\n",
      "         [   32],\n",
      "         [    0],\n",
      "         ...,\n",
      "         [   96],\n",
      "         [65440],\n",
      "         [   32]],\n",
      "\n",
      "        [[65504],\n",
      "         [   64],\n",
      "         [65440],\n",
      "         ...,\n",
      "         [   64],\n",
      "         [65408],\n",
      "         [65440]]],\n",
      "\n",
      "\n",
      "       [[[65414],\n",
      "         [65412],\n",
      "         [65413],\n",
      "         ...,\n",
      "         [  125],\n",
      "         [65411],\n",
      "         [65412]],\n",
      "\n",
      "        [[  124],\n",
      "         [65413],\n",
      "         [65408],\n",
      "         ...,\n",
      "         [65415],\n",
      "         [65426],\n",
      "         [65422]],\n",
      "\n",
      "        [[65410],\n",
      "         [  126],\n",
      "         [65411],\n",
      "         ...,\n",
      "         [  125],\n",
      "         [65409],\n",
      "         [65414]],\n",
      "\n",
      "        ...,\n",
      "\n",
      "        [[65413],\n",
      "         [  119],\n",
      "         [65408],\n",
      "         ...,\n",
      "         [65417],\n",
      "         [65418],\n",
      "         [65421]],\n",
      "\n",
      "        [[65416],\n",
      "         [  121],\n",
      "         [65410],\n",
      "         ...,\n",
      "         [65418],\n",
      "         [  123],\n",
      "         [  125]],\n",
      "\n",
      "        [[65416],\n",
      "         [  119],\n",
      "         [  122],\n",
      "         ...,\n",
      "         [65415],\n",
      "         [  119],\n",
      "         [65417]]]], dtype=uint16)>, <tf.Tensor: shape=(), dtype=uint8, numpy=0>)\n"
     ]
    }
   ],
   "source": [
    "import BinaryReader\n",
    "import InputList\n",
    "from importlib import reload\n",
    "import numpy as np\n",
    "reload(BinaryReader)\n",
    "\n",
    "br = BinaryReader.BinaryReader(output_data_type=np.dtype(\"b\"))\n",
    "bag = br.create_test_dataset([InputList.diabetic_testing_files[0]])\n",
    "for instance in bag.take(1):\n",
    "    print(instance)"
   ],
   "metadata": {
    "collapsed": false,
    "pycharm": {
     "name": "#%%\n"
    }
   }
  },
  {
   "cell_type": "code",
   "execution_count": null,
   "outputs": [],
   "source": [],
   "metadata": {
    "collapsed": false,
    "pycharm": {
     "name": "#%%\n"
    }
   }
  },
  {
   "cell_type": "code",
   "execution_count": 43,
   "outputs": [
    {
     "name": "stdout",
     "output_type": "stream",
     "text": [
      "Execution time: 6.725447240984067\n",
      "Execution time: 19.533383095054887\n"
     ]
    }
   ],
   "source": [
    "import InputList\n",
    "import BinaryReader\n",
    "import time\n",
    "import tensorflow as tf\n",
    "\n",
    "def benchmark(benchmark_dataset, num_epochs=2):\n",
    "    start_time = time.perf_counter()\n",
    "    for epoch_num in range(num_epochs):\n",
    "        for sample in benchmark_dataset:\n",
    "            pass\n",
    "            # Performing a training step\n",
    "            #time.sleep(0.01)\n",
    "\n",
    "    print(\"Execution time:\", time.perf_counter() - start_time)\n",
    "\n",
    "reader = BinaryReader.BinaryReader()\n",
    "ds = reader.create_test_dataset(InputList.diabetic_training_files[0:2]).batch(10).take(50)\n",
    "\n",
    "# THIS IS ONLY GOOD WITH GPU\n",
    "optimized_ds = tf.data.Dataset.range(2)\\\n",
    "    .interleave(lambda _: ds,\n",
    "                num_parallel_calls=tf.data.AUTOTUNE)\\\n",
    "    .prefetch(\n",
    "        tf.data.AUTOTUNE\n",
    "    )\n",
    "\n",
    "benchmark(ds)\n",
    "benchmark(optimized_ds)"
   ],
   "metadata": {
    "collapsed": false,
    "pycharm": {
     "name": "#%%\n"
    }
   }
  },
  {
   "cell_type": "code",
   "execution_count": 15,
   "outputs": [],
   "source": [
    "import numpy as np\n",
    "a = np.array([[1,2,0], [1,0,0], [0,1,0]])"
   ],
   "metadata": {
    "collapsed": false,
    "pycharm": {
     "name": "#%%\n"
    }
   }
  },
  {
   "cell_type": "code",
   "execution_count": 23,
   "outputs": [
    {
     "data": {
      "text/plain": "array([[1, 0],\n       [1, 0],\n       [0, 0]])"
     },
     "execution_count": 23,
     "metadata": {},
     "output_type": "execute_result"
    }
   ],
   "source": [
    "b = ((a == 0) | (a == 1)).all(axis=0)\n",
    "a[:, b]"
   ],
   "metadata": {
    "collapsed": false,
    "pycharm": {
     "name": "#%%\n"
    }
   }
  },
  {
   "cell_type": "code",
   "execution_count": 25,
   "outputs": [
    {
     "data": {
      "text/plain": "array([ True, False,  True])"
     },
     "execution_count": 25,
     "metadata": {},
     "output_type": "execute_result"
    }
   ],
   "source": [
    "b"
   ],
   "metadata": {
    "collapsed": false,
    "pycharm": {
     "name": "#%%\n"
    }
   }
  },
  {
   "cell_type": "code",
   "execution_count": null,
   "outputs": [],
   "source": [
    "import matplotlib.pyplot as plt\n",
    "\n",
    "plt.imshow(elem[0][0,:].numpy().reshape(28, 28), cmap=\"Greys\")"
   ],
   "metadata": {
    "collapsed": false,
    "pycharm": {
     "name": "#%%\n"
    }
   }
  },
  {
   "cell_type": "code",
   "execution_count": null,
   "outputs": [],
   "source": [
    "def print_bag():\n",
    "    model.evaluate(x_test, y_test)"
   ],
   "metadata": {
    "collapsed": false,
    "pycharm": {
     "name": "#%%\n"
    }
   }
  },
  {
   "cell_type": "code",
   "execution_count": null,
   "outputs": [],
   "source": [
    "tensorboard_callback = tf.keras.callbacks.TensorBoard(log_dir=\"./logs\")\n",
    "model.fit(x_train, y_train, epochs=3, callbacks=[tensorboard_callback])"
   ],
   "metadata": {
    "collapsed": false,
    "pycharm": {
     "name": "#%%\n"
    }
   }
  },
  {
   "cell_type": "code",
   "execution_count": null,
   "outputs": [],
   "source": [
    "class LossAndErrorPrintingCallback(keras.callbacks.Callback):\n",
    "\n",
    "    def on_train_begin(self, logs=None):\n",
    "        plt.figure()\n",
    "        self.loss_history = []\n",
    "\n",
    "    def on_train_batch_end(self, batch, logs=None):\n",
    "    #     print(\n",
    "    #         \"Up to batch {}, the average loss is {:7.2f}.\".format(batch, logs[\"loss\"])\n",
    "    #     )\n",
    "        self.loss_history.append(logs[\"loss\"])\n",
    "        plt.plot(self.loss_history)\n",
    "\n",
    "    def on_test_batch_end(self, batch, logs=None):\n",
    "        print(\n",
    "            \"Up to batch {}, the average loss is {:7.2f}.\".format(batch, logs[\"loss\"])\n",
    "        )"
   ],
   "metadata": {
    "collapsed": false,
    "pycharm": {
     "name": "#%%\n"
    }
   }
  },
  {
   "cell_type": "markdown",
   "source": [],
   "metadata": {
    "collapsed": false
   }
  },
  {
   "cell_type": "code",
   "execution_count": 26,
   "outputs": [
    {
     "data": {
      "text/plain": "2"
     },
     "execution_count": 26,
     "metadata": {},
     "output_type": "execute_result"
    }
   ],
   "source": [
    "import numpy as np\n",
    "a = [1, 2, 3, 3, 3]\n",
    "np.argmax(a)"
   ],
   "metadata": {
    "collapsed": false,
    "pycharm": {
     "name": "#%%\n"
    }
   }
  },
  {
   "cell_type": "code",
   "execution_count": null,
   "outputs": [],
   "source": [
    "from IPython.display import clear_output\n",
    "\n",
    "class CustomCallback(keras.callbacks.Callback):\n",
    "\n",
    "    def on_train_begin(self, logs={}):\n",
    "        self.x = []\n",
    "        self.loss = []\n",
    "        self.val_loss = []\n",
    "\n",
    "\n",
    "    def on_test_batch_begin(self, epoch, logs={}):\n",
    "        pass\n",
    "\n",
    "    def on_epoch_end(self, epoch, logs={}):\n",
    "        self.x.append(epoch)\n",
    "        self.loss.append(logs[\"loss\"])\n",
    "\n",
    "        clear_output(wait=True)\n",
    "        tf.print(logs)\n",
    "        self.val_loss.append(logs[\"val_loss\"])\n",
    "        plt.figure(figsize=(10, 8))\n",
    "        ax1 = plt.subplot2grid((1,1), (0,0), colspan=1, rowspan=1)\n",
    "        ax1.plot(self.x, self.loss, lw=4, label=\"Training\")\n",
    "        ax1.plot(self.x, self.val_loss, lw=4, label=\"Validation\")\n",
    "        ax1.legend(fontsize=16)\n",
    "        ax1.set_xlabel(\"Epoche\", fontsize=16)\n",
    "        ax1.set_ylabel(\"Loss\", fontsize=16)\n",
    "\n",
    "        plt.tight_layout()\n",
    "        plt.show()\n",
    "\n",
    "\n",
    "custom_callback = CustomCallback()"
   ],
   "metadata": {
    "collapsed": false,
    "pycharm": {
     "name": "#%%\n"
    }
   }
  },
  {
   "cell_type": "code",
   "execution_count": null,
   "outputs": [],
   "source": [
    "model.fit(x_train, y_train, validation_split=0.1 ,epochs=3, callbacks=[custom_callback], steps_per_epoch=100)"
   ],
   "metadata": {
    "collapsed": false,
    "pycharm": {
     "name": "#%%\n"
    }
   }
  },
  {
   "cell_type": "code",
   "execution_count": null,
   "outputs": [],
   "source": [
    "dataset = tf.data.Dataset.from_tensor_slices((x_train, y_train))"
   ],
   "metadata": {
    "collapsed": false,
    "pycharm": {
     "name": "#%%\n"
    }
   }
  },
  {
   "cell_type": "code",
   "execution_count": null,
   "outputs": [],
   "source": [
    "for i in a.take(1):\n",
    "    print(i)"
   ],
   "metadata": {
    "collapsed": false,
    "pycharm": {
     "name": "#%%\n"
    }
   }
  },
  {
   "cell_type": "code",
   "execution_count": null,
   "outputs": [],
   "source": [
    "a = dataset.map(lambda pic, label: {\"digits\": pic, \"label\": label, \"thingy\": 1})"
   ],
   "metadata": {
    "collapsed": false,
    "pycharm": {
     "name": "#%%\n"
    }
   }
  },
  {
   "cell_type": "code",
   "execution_count": null,
   "outputs": [],
   "source": [
    "for i in a.take(1):\n",
    "    print(a[\"label\"])"
   ],
   "metadata": {
    "collapsed": false,
    "pycharm": {
     "name": "#%%\n"
    }
   }
  },
  {
   "cell_type": "code",
   "execution_count": null,
   "outputs": [],
   "source": [
    "model.fit(a)"
   ],
   "metadata": {
    "collapsed": false,
    "pycharm": {
     "name": "#%%\n"
    }
   }
  },
  {
   "cell_type": "code",
   "execution_count": null,
   "outputs": [],
   "source": [
    "from PIL import Image\n",
    "from PIL import ImageDraw\n",
    "from PIL import ImageFont"
   ],
   "metadata": {
    "collapsed": false,
    "pycharm": {
     "name": "#%%\n"
    }
   }
  },
  {
   "cell_type": "code",
   "execution_count": null,
   "outputs": [],
   "source": [
    "background = Image.open(\"test_image.png\")"
   ],
   "metadata": {
    "collapsed": false,
    "pycharm": {
     "name": "#%%\n"
    }
   }
  },
  {
   "cell_type": "code",
   "execution_count": null,
   "outputs": [],
   "source": [
    "background.convert(\"RGB\")"
   ],
   "metadata": {
    "collapsed": false,
    "pycharm": {
     "name": "#%%\n"
    }
   }
  },
  {
   "cell_type": "code",
   "execution_count": null,
   "outputs": [],
   "source": [
    "x_spacing = 23\n",
    "y_spacing = 28"
   ],
   "metadata": {
    "collapsed": false,
    "pycharm": {
     "name": "#%%\n"
    }
   }
  },
  {
   "cell_type": "code",
   "execution_count": null,
   "outputs": [],
   "source": [
    "import numpy as np\n",
    "\n",
    "im = np.zeros((225,225,3), dtype=np.uint8)\n",
    "# Draw grid\n",
    "im[:, y_spacing:-1:y_spacing] = [255,0,0]    # red horizontal lines\n",
    "im[x_spacing:-1:x_spacing, :] = [255,0,0]    # blue vertical lines\n",
    "new_ima = Image.fromarray(im).convert(\"RGB\")"
   ],
   "metadata": {
    "collapsed": false,
    "pycharm": {
     "name": "#%%\n"
    }
   }
  },
  {
   "cell_type": "code",
   "execution_count": null,
   "outputs": [],
   "source": [
    "new_img = Image.blend(background.convert(\"RGB\"), new_ima, 0.5)"
   ],
   "metadata": {
    "collapsed": false,
    "pycharm": {
     "name": "#%%\n"
    }
   }
  },
  {
   "cell_type": "code",
   "execution_count": null,
   "outputs": [],
   "source": [
    "new_img.show()"
   ],
   "metadata": {
    "collapsed": false,
    "pycharm": {
     "name": "#%%\n"
    }
   }
  },
  {
   "cell_type": "code",
   "execution_count": null,
   "outputs": [],
   "source": [
    "new_img = Image.blend(background.convert(\"RGB\"), new_ima, 0.5)\n",
    "ImageDraw.Draw(new_img).text(\n",
    "    (0 * y_spacing + 2, 0 * x_spacing),  # Coordinates\n",
    "    '1',\n",
    "    (255, 0,0) # Color\n",
    ")\n",
    "new_img.save(\"saved_test.png\")"
   ],
   "metadata": {
    "collapsed": false,
    "pycharm": {
     "name": "#%%\n"
    }
   }
  },
  {
   "cell_type": "code",
   "execution_count": null,
   "outputs": [],
   "source": [
    "loss_wert = 0.8\n",
    "if loss_wert > 0.5:\n",
    "    color = (255,0,0)\n",
    "\n",
    "font = ImageFont.load_default()"
   ],
   "metadata": {
    "collapsed": false,
    "pycharm": {
     "name": "#%%\n"
    }
   }
  },
  {
   "cell_type": "code",
   "execution_count": null,
   "outputs": [],
   "source": [
    "font"
   ],
   "metadata": {
    "collapsed": false,
    "pycharm": {
     "name": "#%%\n"
    }
   }
  },
  {
   "cell_type": "code",
   "execution_count": null,
   "outputs": [],
   "source": [
    "font = ImageFont.truetype(\"/root/pyscripts/arial.ttf\", 12)"
   ],
   "metadata": {
    "collapsed": false,
    "pycharm": {
     "name": "#%%\n"
    }
   }
  },
  {
   "cell_type": "code",
   "execution_count": 13,
   "outputs": [
    {
     "data": {
      "text/plain": "<module 'InputList' from '/home/julius/dataspellprojects/oct-classifier/InputList.py'>"
     },
     "execution_count": 13,
     "metadata": {},
     "output_type": "execute_result"
    }
   ],
   "source": [
    "import InputList\n",
    "import importlib\n",
    "importlib.reload(InputList)"
   ],
   "metadata": {
    "collapsed": false,
    "pycharm": {
     "name": "#%%\n"
    }
   }
  },
  {
   "cell_type": "code",
   "execution_count": 8,
   "outputs": [],
   "source": [
    "import random\n",
    "import numpy as np\n",
    "import os"
   ],
   "metadata": {
    "collapsed": false,
    "pycharm": {
     "name": "#%%\n"
    }
   }
  },
  {
   "cell_type": "code",
   "execution_count": 421,
   "outputs": [],
   "source": [
    "itemsize = 2\n",
    "b_size = 2048\n",
    "c_size = 2044\n",
    "a_size = 1536\n",
    "\n",
    "ascan_from_file = 100  # 100 = 0.0023 % of A-Scans"
   ],
   "metadata": {
    "collapsed": false,
    "pycharm": {
     "name": "#%%\n"
    }
   }
  },
  {
   "cell_type": "code",
   "execution_count": 420,
   "outputs": [],
   "source": [
    "all_ascans = np.zeros((ascan_from_file * len(InputList.healthy_training_files), a_size))"
   ],
   "metadata": {
    "collapsed": false,
    "pycharm": {
     "name": "#%%\n"
    }
   }
  },
  {
   "cell_type": "code",
   "execution_count": 427,
   "outputs": [],
   "source": [
    "all_ascans = []\n",
    "for file, label in InputList.healthy_training_files:\n",
    "    with open(file, \"rb\") as f:\n",
    "        for repetition in range(ascan_from_file):\n",
    "            ascan_from_index = random.randint(0, 2 * b_size * c_size)\n",
    "            #ascan_from_index = 2 * b_size * c_size - 1\n",
    "            index_in_file = itemsize * ascan_from_index * a_size\n",
    "            f.seek(index_in_file, os.SEEK_SET)\n",
    "            read_from_file = np.fromfile(f, dtype=np.dtype('<u2'), count=a_size)\n",
    "            all_ascans.append(read_from_file)"
   ],
   "metadata": {
    "collapsed": false,
    "pycharm": {
     "name": "#%%\n"
    }
   }
  },
  {
   "cell_type": "code",
   "execution_count": 440,
   "outputs": [],
   "source": [
    "all_ascans = np.zeros((ascan_from_file * len(InputList.healthy_training_files) + 1, a_size))\n",
    "i = 0\n",
    "for file, label in InputList.healthy_training_files:\n",
    "    with open(file, \"rb\") as f:\n",
    "        for repetition in range(ascan_from_file):\n",
    "            ascan_from_index = random.randint(0, 2 * b_size * c_size / 4)\n",
    "            #ascan_from_index = 2 * b_size * c_size - 1\n",
    "            index_in_file = itemsize * ascan_from_index * a_size * 4\n",
    "            f.seek(index_in_file, os.SEEK_SET)\n",
    "            read_from_file = np.fromfile(f, dtype=np.dtype('<u2'), count=a_size)\n",
    "            all_ascans[i] = read_from_file\n",
    "            i += 1"
   ],
   "metadata": {
    "collapsed": false,
    "pycharm": {
     "name": "#%%\n"
    }
   }
  },
  {
   "cell_type": "code",
   "execution_count": 441,
   "outputs": [],
   "source": [
    "with open(file, \"rb\") as f:\n",
    "    ascan_from_index = 2 * b_size * c_size - 1\n",
    "    index_in_file = itemsize * ascan_from_index * a_size\n",
    "    f.seek(index_in_file, os.SEEK_SET)\n",
    "    read_from_file = np.fromfile(f, dtype=np.dtype('<u2'), count=a_size)\n",
    "    all_ascans[-1] = read_from_file"
   ],
   "metadata": {
    "collapsed": false,
    "pycharm": {
     "name": "#%%\n"
    }
   }
  },
  {
   "cell_type": "code",
   "execution_count": 247,
   "outputs": [],
   "source": [
    "from sklearn.decomposition import PCA\n",
    "from sklearn.preprocessing import StandardScaler\n",
    "import numpy.fft as fft"
   ],
   "metadata": {
    "collapsed": false,
    "pycharm": {
     "name": "#%%\n"
    }
   }
  },
  {
   "cell_type": "code",
   "execution_count": 490,
   "outputs": [
    {
     "data": {
      "text/plain": "[<matplotlib.lines.Line2D at 0x7fa3167f5630>]"
     },
     "execution_count": 490,
     "metadata": {},
     "output_type": "execute_result"
    },
    {
     "data": {
      "text/plain": "<Figure size 432x288 with 1 Axes>",
      "image/png": "[encoded data removed]"
     },
     "metadata": {
      "needs_background": "light"
     },
     "output_type": "display_data"
    }
   ],
   "source": [
    "plt.plot(all_ascans[2])"
   ],
   "metadata": {
    "collapsed": false,
    "pycharm": {
     "name": "#%%\n"
    }
   }
  },
  {
   "cell_type": "code",
   "execution_count": 491,
   "outputs": [
    {
     "name": "stderr",
     "output_type": "stream",
     "text": [
      "/home/julius/miniconda3/envs/tf-test/lib/python3.10/site-packages/matplotlib/cbook/__init__.py:1298: ComplexWarning: Casting complex values to real discards the imaginary part\n",
      "  return np.asarray(x, float)\n"
     ]
    },
    {
     "data": {
      "text/plain": "[<matplotlib.lines.Line2D at 0x7fa316656290>]"
     },
     "execution_count": 491,
     "metadata": {},
     "output_type": "execute_result"
    },
    {
     "data": {
      "text/plain": "<Figure size 432x288 with 1 Axes>",
      "image/png": "[encoded data removed]"
     },
     "metadata": {
      "needs_background": "light"
     },
     "output_type": "display_data"
    }
   ],
   "source": [
    "plt.plot(fft.fft(all_ascans[2])[1:])"
   ],
   "metadata": {
    "collapsed": false,
    "pycharm": {
     "name": "#%%\n"
    }
   }
  },
  {
   "cell_type": "code",
   "execution_count": 516,
   "outputs": [],
   "source": [
    "a = np.zeros((400, ))\n",
    "a[:200] = all_ascans[2][600:800]"
   ],
   "metadata": {
    "collapsed": false,
    "pycharm": {
     "name": "#%%\n"
    }
   }
  },
  {
   "cell_type": "code",
   "execution_count": 517,
   "outputs": [
    {
     "data": {
      "text/plain": "[<matplotlib.lines.Line2D at 0x7fa315f364a0>]"
     },
     "execution_count": 517,
     "metadata": {},
     "output_type": "execute_result"
    },
    {
     "data": {
      "text/plain": "<Figure size 432x288 with 1 Axes>",
      "image/png": "[encoded data removed]"
     },
     "metadata": {
      "needs_background": "light"
     },
     "output_type": "display_data"
    }
   ],
   "source": [
    "plt.plot(a)"
   ],
   "metadata": {
    "collapsed": false,
    "pycharm": {
     "name": "#%%\n"
    }
   }
  },
  {
   "cell_type": "code",
   "execution_count": 522,
   "outputs": [
    {
     "name": "stderr",
     "output_type": "stream",
     "text": [
      "/home/julius/miniconda3/envs/tf-test/lib/python3.10/site-packages/matplotlib/cbook/__init__.py:1298: ComplexWarning: Casting complex values to real discards the imaginary part\n",
      "  return np.asarray(x, float)\n"
     ]
    },
    {
     "data": {
      "text/plain": "[<matplotlib.lines.Line2D at 0x7fa315b74c10>]"
     },
     "execution_count": 522,
     "metadata": {},
     "output_type": "execute_result"
    },
    {
     "data": {
      "text/plain": "<Figure size 432x288 with 1 Axes>",
      "image/png": "[encoded data removed]"
     },
     "metadata": {
      "needs_background": "light"
     },
     "output_type": "display_data"
    }
   ],
   "source": [
    "b = all_ascans[2][600:1400]\n",
    "plt.plot(fft.fft(b)[1:200])"
   ],
   "metadata": {
    "collapsed": false,
    "pycharm": {
     "name": "#%%\n"
    }
   }
  },
  {
   "cell_type": "code",
   "execution_count": 523,
   "outputs": [],
   "source": [
    "import PreprocessRawData\n",
    "file_list, _ = PreprocessRawData.PreprocessRawData.get_test_train_file_lists()"
   ],
   "metadata": {
    "collapsed": false,
    "pycharm": {
     "name": "#%%\n"
    }
   }
  },
  {
   "cell_type": "code",
   "execution_count": 524,
   "outputs": [
    {
     "data": {
      "text/plain": "285"
     },
     "execution_count": 524,
     "metadata": {},
     "output_type": "execute_result"
    }
   ],
   "source": [
    "len(file_list)"
   ],
   "metadata": {
    "collapsed": false,
    "pycharm": {
     "name": "#%%\n"
    }
   }
  },
  {
   "cell_type": "code",
   "execution_count": 526,
   "outputs": [
    {
     "data": {
      "text/plain": "9500.0"
     },
     "execution_count": 526,
     "metadata": {},
     "output_type": "execute_result"
    }
   ],
   "source": [
    "28500/3"
   ],
   "metadata": {
    "collapsed": false,
    "pycharm": {
     "name": "#%%\n"
    }
   }
  },
  {
   "cell_type": "code",
   "execution_count": 525,
   "outputs": [
    {
     "data": {
      "text/plain": "26400"
     },
     "execution_count": 525,
     "metadata": {},
     "output_type": "execute_result"
    }
   ],
   "source": [
    "8800*3"
   ],
   "metadata": {
    "collapsed": false,
    "pycharm": {
     "name": "#%%\n"
    }
   }
  },
  {
   "cell_type": "code",
   "execution_count": 519,
   "outputs": [
    {
     "name": "stderr",
     "output_type": "stream",
     "text": [
      "/home/julius/miniconda3/envs/tf-test/lib/python3.10/site-packages/matplotlib/cbook/__init__.py:1298: ComplexWarning: Casting complex values to real discards the imaginary part\n",
      "  return np.asarray(x, float)\n"
     ]
    },
    {
     "data": {
      "text/plain": "[<matplotlib.lines.Line2D at 0x7fa315e0be50>]"
     },
     "execution_count": 519,
     "metadata": {},
     "output_type": "execute_result"
    },
    {
     "data": {
      "text/plain": "<Figure size 432x288 with 1 Axes>",
      "image/png": "[encoded data removed]"
     },
     "metadata": {
      "needs_background": "light"
     },
     "output_type": "display_data"
    }
   ],
   "source": [
    "plt.plot(fft.fft(a)[1:200])"
   ],
   "metadata": {
    "collapsed": false,
    "pycharm": {
     "name": "#%%\n"
    }
   }
  },
  {
   "cell_type": "code",
   "execution_count": 509,
   "outputs": [],
   "source": [],
   "metadata": {
    "collapsed": false,
    "pycharm": {
     "name": "#%%\n"
    }
   }
  },
  {
   "cell_type": "code",
   "execution_count": null,
   "outputs": [],
   "source": [],
   "metadata": {
    "collapsed": false,
    "pycharm": {
     "name": "#%%\n"
    }
   }
  },
  {
   "cell_type": "code",
   "execution_count": 442,
   "outputs": [
    {
     "data": {
      "text/plain": "(801, 1000)"
     },
     "execution_count": 442,
     "metadata": {},
     "output_type": "execute_result"
    }
   ],
   "source": [
    "#all_ascans = np.array(all_ascans)\n",
    "all_ascans_crop = all_ascans[:, 400:1401]\n",
    "all_ascans_transformed = np.abs(fft.ifft(all_ascans_crop))[:, 1:]\n",
    "all_ascans_transformed.shape"
   ],
   "metadata": {
    "collapsed": false,
    "pycharm": {
     "name": "#%%\n"
    }
   }
  },
  {
   "cell_type": "code",
   "execution_count": 428,
   "outputs": [
    {
     "data": {
      "text/plain": "2093056.0"
     },
     "execution_count": 428,
     "metadata": {},
     "output_type": "execute_result"
    }
   ],
   "source": [
    "2 * b_size * c_size / 4"
   ],
   "metadata": {
    "collapsed": false,
    "pycharm": {
     "name": "#%%\n"
    }
   }
  },
  {
   "cell_type": "code",
   "execution_count": 466,
   "outputs": [],
   "source": [
    "pca = PCA(n_components=51)\n",
    "pca.fit(all_ascans_transformed[::10])\n",
    "reshaped_instance_reduced = pca.transform(all_ascans_transformed)\n",
    "reduced_ascans = pca.inverse_transform(reshaped_instance_reduced)"
   ],
   "metadata": {
    "collapsed": false,
    "pycharm": {
     "name": "#%%\n"
    }
   }
  },
  {
   "cell_type": "code",
   "execution_count": 477,
   "outputs": [],
   "source": [
    "reshaped_instance_reduced_2 = (reshaped_instance_reduced - reshaped_instance_reduced[::100].mean()) / reshaped_instance_reduced[::100].std()"
   ],
   "metadata": {
    "collapsed": false,
    "pycharm": {
     "name": "#%%\n"
    }
   }
  },
  {
   "cell_type": "code",
   "execution_count": 484,
   "outputs": [
    {
     "data": {
      "text/plain": "[1, 4]"
     },
     "execution_count": 484,
     "metadata": {},
     "output_type": "execute_result"
    }
   ],
   "source": [
    "list(range(0, 5, 3))"
   ],
   "metadata": {
    "collapsed": false,
    "pycharm": {
     "name": "#%%\n"
    }
   }
  },
  {
   "cell_type": "code",
   "execution_count": 478,
   "outputs": [
    {
     "data": {
      "text/plain": "[<matplotlib.lines.Line2D at 0x7fa316a06320>]"
     },
     "execution_count": 478,
     "metadata": {},
     "output_type": "execute_result"
    },
    {
     "data": {
      "text/plain": "<Figure size 432x288 with 1 Axes>",
      "image/png": "[encoded data removed]"
     },
     "metadata": {
      "needs_background": "light"
     },
     "output_type": "display_data"
    }
   ],
   "source": [
    "i1 = random.randint(0, 801)\n",
    "plt.plot(reshaped_instance_reduced_2[i1])\n",
    "i2 = random.randint(0, 801)\n",
    "#plt.plot(reshaped_instance_reduced_2[i2])\n",
    "plt.plot(reshaped_instance_reduced_2[-1])"
   ],
   "metadata": {
    "collapsed": false,
    "pycharm": {
     "name": "#%%\n"
    }
   }
  },
  {
   "cell_type": "code",
   "execution_count": 479,
   "outputs": [
    {
     "data": {
      "text/plain": "[<matplotlib.lines.Line2D at 0x7fa31687dc30>]"
     },
     "execution_count": 479,
     "metadata": {},
     "output_type": "execute_result"
    },
    {
     "data": {
      "text/plain": "<Figure size 432x288 with 1 Axes>",
      "image/png": "[encoded data removed]"
     },
     "metadata": {
      "needs_background": "light"
     },
     "output_type": "display_data"
    }
   ],
   "source": [
    "plt.plot(reshaped_instance_reduced[i1])\n",
    "#plt.plot(reshaped_instance_reduced[i2])\n",
    "plt.plot(reshaped_instance_reduced[-1])"
   ],
   "metadata": {
    "collapsed": false,
    "pycharm": {
     "name": "#%%\n"
    }
   }
  },
  {
   "cell_type": "code",
   "execution_count": 480,
   "outputs": [
    {
     "data": {
      "text/plain": "[<matplotlib.lines.Line2D at 0x7fa3168e4af0>]"
     },
     "execution_count": 480,
     "metadata": {},
     "output_type": "execute_result"
    },
    {
     "data": {
      "text/plain": "<Figure size 432x288 with 1 Axes>",
      "image/png": "[encoded data removed]"
     },
     "metadata": {
      "needs_background": "light"
     },
     "output_type": "display_data"
    }
   ],
   "source": [
    "plt.plot(reduced_ascans[i1])\n",
    "plt.plot(reduced_ascans[i2])\n",
    "plt.plot(reduced_ascans[-1])"
   ],
   "metadata": {
    "collapsed": false,
    "pycharm": {
     "name": "#%%\n"
    }
   }
  },
  {
   "cell_type": "code",
   "execution_count": 439,
   "outputs": [
    {
     "data": {
      "text/plain": "[<matplotlib.lines.Line2D at 0x7fa3174ab160>]"
     },
     "execution_count": 439,
     "metadata": {},
     "output_type": "execute_result"
    },
    {
     "data": {
      "text/plain": "<Figure size 432x288 with 1 Axes>",
      "image/png": "[encoded data removed]"
     },
     "metadata": {
      "needs_background": "light"
     },
     "output_type": "display_data"
    }
   ],
   "source": [
    "plt.plot(reduced_ascans_2[i1])\n",
    "plt.plot(reduced_ascans_2[i2])\n",
    "plt.plot(reduced_ascans_2[i3])\n",
    "plt.plot(reduced_ascans_2[-1])\n",
    "plt.plot(reduced_ascans_2[-2])"
   ],
   "metadata": {
    "collapsed": false,
    "pycharm": {
     "name": "#%%\n"
    }
   }
  },
  {
   "cell_type": "code",
   "execution_count": 413,
   "outputs": [
    {
     "data": {
      "text/plain": "[<matplotlib.lines.Line2D at 0x7fa1fc4b9750>]"
     },
     "execution_count": 413,
     "metadata": {},
     "output_type": "execute_result"
    },
    {
     "data": {
      "text/plain": "<Figure size 432x288 with 1 Axes>",
      "image/png": "[encoded data removed]"
     },
     "metadata": {
      "needs_background": "light"
     },
     "output_type": "display_data"
    }
   ],
   "source": [
    "plt.plot(reduced_ascans_3[i3])\n",
    "plt.plot(reduced_ascans_2[i3])"
   ],
   "metadata": {
    "collapsed": false,
    "pycharm": {
     "name": "#%%\n"
    }
   }
  },
  {
   "cell_type": "code",
   "execution_count": 415,
   "outputs": [
    {
     "data": {
      "text/plain": "[<matplotlib.lines.Line2D at 0x7fa1fc391cc0>]"
     },
     "execution_count": 415,
     "metadata": {},
     "output_type": "execute_result"
    },
    {
     "data": {
      "text/plain": "<Figure size 432x288 with 1 Axes>",
      "image/png": "[encoded data removed]"
     },
     "metadata": {
      "needs_background": "light"
     },
     "output_type": "display_data"
    }
   ],
   "source": [
    "plt.plot(all_ascans_transformed_2[i1][1:])\n",
    "plt.plot(all_ascans_transformed_2[i2][1:])\n",
    "plt.plot(all_ascans_transformed_2[i3][1:])\n",
    "plt.plot(all_ascans_transformed_2[-1][1:])\n",
    "plt.plot(all_ascans_transformed_2[-2][1:])"
   ],
   "metadata": {
    "collapsed": false,
    "pycharm": {
     "name": "#%%\n"
    }
   }
  },
  {
   "cell_type": "code",
   "execution_count": 353,
   "outputs": [
    {
     "data": {
      "text/plain": "[<matplotlib.lines.Line2D at 0x7fa380d52fe0>]"
     },
     "execution_count": 353,
     "metadata": {},
     "output_type": "execute_result"
    },
    {
     "data": {
      "text/plain": "<Figure size 432x288 with 1 Axes>",
      "image/png": "[encoded data removed]"
     },
     "metadata": {
      "needs_background": "light"
     },
     "output_type": "display_data"
    }
   ],
   "source": [
    "plt.plot(all_ascans_transformed_2[i1][1:])\n",
    "plt.plot(all_ascans_transformed_2[i2][1:])\n",
    "plt.plot(all_ascans_transformed_2[i3][1:])\n",
    "plt.plot(all_ascans_transformed_2[-1][1:])\n",
    "plt.plot(all_ascans_transformed_2[-2][1:])"
   ],
   "metadata": {
    "collapsed": false,
    "pycharm": {
     "name": "#%%\n"
    }
   }
  },
  {
   "cell_type": "code",
   "execution_count": null,
   "outputs": [],
   "source": [],
   "metadata": {
    "collapsed": false,
    "pycharm": {
     "name": "#%%\n"
    }
   }
  }
 ],
 "metadata": {
  "kernelspec": {
   "display_name": "Python 3",
   "language": "python",
   "name": "python3"
  },
  "language_info": {
   "codemirror_mode": {
    "name": "ipython",
    "version": 2
   },
   "file_extension": ".py",
   "mimetype": "text/x-python",
   "name": "python",
   "nbconvert_exporter": "python",
   "pygments_lexer": "ipython2",
   "version": "2.7.6"
  }
 },
 "nbformat": 4,
 "nbformat_minor": 0
}