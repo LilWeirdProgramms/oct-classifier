{
 "cells": [
  {
   "cell_type": "code",
   "execution_count": null,
   "metadata": {
    "collapsed": true
   },
   "outputs": [],
   "source": [
    "import mnist3d\n",
    "import numpy as np\n",
    "import tensorflow.keras as k\n",
    "from Postprocessor import Postprocessing\n",
    "import os\n",
    "import tensorflow as tf\n",
    "\n",
    "with tf.device(\"cpu:0\"):\n",
    "    name = \"mconv1d_i_c_nb\"\n",
    "    mnist_data = mnist3d.MNISTDataHandler(frequency=False)\n",
    "    train_dataset, val_dataset, test_dataset = mnist_data.create_dataset()\n",
    "    set_to_eval = test_dataset\n",
    "    model = k.models.load_model(f'savedModels/mnist_bkp')\n",
    "    model_output = model.predict(\n",
    "        set_to_eval.batch(1),\n",
    "        verbose=1,\n",
    "        use_multiprocessing=True\n",
    "    )\n",
    "    labels = []\n",
    "    for ground_truth, predicted, gt2 in zip(set_to_eval, model_output, mnist_data.y_test_org):\n",
    "        print(f\"Predicted: {predicted}, Ground Truth: {ground_truth[1]}, Truly: {gt2}\")\n",
    "        labels.append(ground_truth[1].numpy())\n",
    "    #pp = Postprocessing(model_output, mnist_data.y_test_org)\n",
    "    pp = Postprocessing(model_output, mnist_data.y_test_org)\n",
    "    pp.binary_confusion_matrix(threshold=0, name=os.path.join(\"/home/julius/Documents/masterarbeit/arbeit_figures/confusion_fourier\", name))\n",
    "    print(np.max(model_output))\n",
    "    print(np.mean(model_output))\n",
    "    print(np.mean(model_output[np.array(labels) == 1]))\n",
    "    print(np.mean(model_output[np.array(labels) == 0]))"
   ]
  },
  {
   "cell_type": "code",
   "execution_count": null,
   "outputs": [],
   "source": [
    "import seaborn as sns\n",
    "sns.displot(model_output, bins=10, kde=True)"
   ],
   "metadata": {
    "collapsed": false,
    "pycharm": {
     "name": "#%%\n"
    }
   }
  },
  {
   "cell_type": "code",
   "execution_count": null,
   "outputs": [],
   "source": [
    "import pandas as pd\n",
    "df = pd.DataFrame({\"x\":model_output.reshape(100, ), \"color\":mnist_data.y_test_org, \"y\":np.random.randint(0, 10, (100,))})"
   ],
   "metadata": {
    "collapsed": false,
    "pycharm": {
     "name": "#%%\n"
    }
   }
  },
  {
   "cell_type": "code",
   "execution_count": null,
   "outputs": [],
   "source": [
    "import matplotlib.pyplot as plt"
   ],
   "metadata": {
    "collapsed": false,
    "pycharm": {
     "name": "#%%\n"
    }
   }
  },
  {
   "cell_type": "markdown",
   "source": [],
   "metadata": {
    "collapsed": false
   }
  },
  {
   "cell_type": "code",
   "execution_count": null,
   "outputs": [],
   "source": [
    "#sns.set(rc={'figure.figsize':(11.7,8.27)})\n",
    "sns.set_theme(style=\"whitegrid\")\n",
    "ax = sns.boxplot(x=\"color\", y=\"x\", data=df)"
   ],
   "metadata": {
    "collapsed": false,
    "pycharm": {
     "name": "#%%\n"
    }
   }
  },
  {
   "cell_type": "code",
   "execution_count": null,
   "outputs": [],
   "source": [],
   "metadata": {
    "collapsed": false,
    "pycharm": {
     "name": "#%%\n"
    }
   }
  },
  {
   "cell_type": "code",
   "execution_count": null,
   "outputs": [],
   "source": [
    "sns.set_theme(style=\"whitegrid\")\n",
    "ax = sns.boxplot(x=\"color\", y=\"x\", data=df)"
   ],
   "metadata": {
    "collapsed": false,
    "pycharm": {
     "name": "#%%\n"
    }
   }
  },
  {
   "cell_type": "code",
   "execution_count": null,
   "outputs": [],
   "source": [
    "df[df[\"color\"] == 4][\"x\"].argmin()"
   ],
   "metadata": {
    "collapsed": false,
    "pycharm": {
     "name": "#%%\n"
    }
   }
  },
  {
   "cell_type": "code",
   "execution_count": null,
   "outputs": [],
   "source": [
    "df[df[\"color\"] == 3][\"x\"]"
   ],
   "metadata": {
    "collapsed": false,
    "pycharm": {
     "name": "#%%\n"
    }
   }
  },
  {
   "cell_type": "code",
   "execution_count": null,
   "outputs": [],
   "source": [
    "a = test_dataset.skip(87).take(1)"
   ],
   "metadata": {
    "collapsed": false,
    "pycharm": {
     "name": "#%%\n"
    }
   }
  },
  {
   "cell_type": "code",
   "execution_count": null,
   "outputs": [],
   "source": [
    "for elem in a:\n",
    "    print(elem[1])\n",
    "    mnist_data.plot_3dnumber(elem[0].numpy())"
   ],
   "metadata": {
    "collapsed": false,
    "pycharm": {
     "name": "#%%\n"
    }
   }
  },
  {
   "cell_type": "code",
   "execution_count": null,
   "outputs": [],
   "source": [
    "import tensorflow.keras as k\n",
    "\n",
    "inp = elem[0].numpy()\n",
    "import matplotlib.pyplot as plt\n",
    "plt.imshow(inp[:, :, 10, 0])"
   ],
   "metadata": {
    "collapsed": false,
    "pycharm": {
     "name": "#%%\n"
    }
   }
  },
  {
   "cell_type": "code",
   "execution_count": null,
   "outputs": [],
   "source": [
    "import matplotlib.pyplot as plt\n",
    "plt.imshow(out.numpy()[:, :, 5, 0])"
   ],
   "metadata": {
    "collapsed": false,
    "pycharm": {
     "name": "#%%\n"
    }
   }
  },
  {
   "cell_type": "code",
   "execution_count": null,
   "outputs": [],
   "source": [
    "from sklearn.pipeline import make_pipeline\n",
    "from sklearn.preprocessing import StandardScaler\n",
    "\n",
    "X = model.predict(\n",
    "    train_dataset.batch(1),\n",
    "    verbose=1,\n",
    "    use_multiprocessing=True\n",
    ")\n",
    "y = []\n",
    "for elem, label in train_dataset:\n",
    "    y.append(label.numpy())\n",
    "\n",
    "from sklearn.svm import SVC\n",
    "clf = make_pipeline(StandardScaler(), SVC(gamma='auto'))\n",
    "clf.fit(X, y)"
   ],
   "metadata": {
    "collapsed": false,
    "pycharm": {
     "name": "#%%\n"
    }
   }
  },
  {
   "cell_type": "code",
   "execution_count": null,
   "outputs": [],
   "source": [
    "np.array(list(zip(clf.predict(model_output), model_output)))"
   ],
   "metadata": {
    "collapsed": false,
    "pycharm": {
     "name": "#%%\n"
    }
   }
  },
  {
   "cell_type": "code",
   "execution_count": null,
   "outputs": [],
   "source": [
    "X"
   ],
   "metadata": {
    "collapsed": false,
    "pycharm": {
     "name": "#%%\n"
    }
   }
  },
  {
   "cell_type": "code",
   "execution_count": null,
   "outputs": [],
   "source": [
    "model_output"
   ],
   "metadata": {
    "collapsed": false,
    "pycharm": {
     "name": "#%%\n"
    }
   }
  },
  {
   "cell_type": "code",
   "execution_count": null,
   "outputs": [],
   "source": [],
   "metadata": {
    "collapsed": false,
    "pycharm": {
     "name": "#%%\n"
    }
   }
  }
 ],
 "metadata": {
  "kernelspec": {
   "display_name": "Python 3",
   "language": "python",
   "name": "python3"
  },
  "language_info": {
   "codemirror_mode": {
    "name": "ipython",
    "version": 2
   },
   "file_extension": ".py",
   "mimetype": "text/x-python",
   "name": "python",
   "nbconvert_exporter": "python",
   "pygments_lexer": "ipython2",
   "version": "2.7.6"
  }
 },
 "nbformat": 4,
 "nbformat_minor": 0
}