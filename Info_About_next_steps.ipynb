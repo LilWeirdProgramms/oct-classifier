{
 "cells": [
  {
   "cell_type": "markdown",
   "metadata": {
    "collapsed": true,
    "pycharm": {
     "name": "#%% md\n"
    }
   },
   "source": [
    "# TFRecords:\n",
    "\n",
    "https://www.tensorflow.org/api_docs/python/tf/data/Dataset#interleave\n",
    "\n",
    "filenames = [\"/var/data/file1.txt\", \"/var/data/file2.txt\",\n",
    "             \"/var/data/file3.txt\", \"/var/data/file4.txt\"]\n",
    "dataset = tf.data.Dataset.from_tensor_slices(filenames)\n",
    "dataset = dataset.interleave(lambda x: tf.data.TFRecordDataset(x),\n",
    "    cycle_length=4, num_parallel_calls=tf.data.AUTOTUNE,\n",
    "    deterministic=False)\n",
    "\n",
    "\n",
    "--> Parallel read of TFRecords"
   ]
  },
  {
   "cell_type": "markdown",
   "source": [
    "# Different Loss Function for different samples\n",
    "\n",
    "wert_der_abhaengig_von_der_position_ist = [3, 2, 1, 0, 1, 2, 3] #-> Sample 1, Sample 2\n",
    "iterator = wert_der_abhaengig_von_der_position_ist.__iter__()\n",
    "def custom_loss(y_true, y_pred):\n",
    "    return y_true - y_pred - iterator.__next__()"
   ],
   "metadata": {
    "collapsed": false,
    "pycharm": {
     "name": "#%% md\n"
    }
   }
  },
  {
   "cell_type": "markdown",
   "source": [
    "# Test-Daten: Fourier transformed mnist 3D Daten?"
   ],
   "metadata": {
    "collapsed": false,
    "pycharm": {
     "name": "#%% md\n"
    }
   }
  },
  {
   "cell_type": "code",
   "execution_count": null,
   "outputs": [],
   "source": [],
   "metadata": {
    "collapsed": false,
    "pycharm": {
     "name": "#%%\n"
    }
   }
  }
 ],
 "metadata": {
  "kernelspec": {
   "display_name": "Python 3",
   "language": "python",
   "name": "python3"
  },
  "language_info": {
   "codemirror_mode": {
    "name": "ipython",
    "version": 2
   },
   "file_extension": ".py",
   "mimetype": "text/x-python",
   "name": "python",
   "nbconvert_exporter": "python",
   "pygments_lexer": "ipython2",
   "version": "2.7.6"
  }
 },
 "nbformat": 4,
 "nbformat_minor": 0
}